{
 "cells": [
  {
   "cell_type": "code",
   "execution_count": 1,
   "metadata": {
    "scrolled": true
   },
   "outputs": [
    {
     "name": "stdout",
     "output_type": "stream",
     "text": [
      "Pixiedust database opened successfully\n"
     ]
    },
    {
     "data": {
      "text/html": [
       "\n",
       "        <div style=\"margin:10px\">\n",
       "            <a href=\"https://github.com/ibm-watson-data-lab/pixiedust\" target=\"_new\">\n",
       "                <img src=\"https://github.com/ibm-watson-data-lab/pixiedust/raw/master/docs/_static/pd_icon32.png\" style=\"float:left;margin-right:10px\"/>\n",
       "            </a>\n",
       "            <span>Pixiedust version 1.1.15</span>\n",
       "        </div>\n",
       "        "
      ],
      "text/plain": [
       "<IPython.core.display.HTML object>"
      ]
     },
     "metadata": {},
     "output_type": "display_data"
    }
   ],
   "source": [
    "%load_ext autoreload\n",
    "%autoreload 2\n",
    "import numpy as np\n",
    "import matplotlib.pyplot as plt\n",
    "import nnde\n",
    "from mpl_toolkits.mplot3d import Axes3D\n",
    "np.seterr(all='raise')\n",
    "import pixiedust"
   ]
  },
  {
   "cell_type": "code",
   "execution_count": 2,
   "metadata": {
    "collapsed": true
   },
   "outputs": [],
   "source": [
    "n_samples = 10\n",
    "X_p = np.linspace(0, 1, n_samples)\n",
    "Y_p = np.linspace(0, 1, n_samples)\n",
    "X_p, Y_p = np.meshgrid(X_p, Y_p)\n",
    "X_p = X_p.flatten()\n",
    "Y_p = Y_p.flatten()\n",
    "samples = np.array([X_p, Y_p]).T"
   ]
  },
  {
   "cell_type": "markdown",
   "metadata": {},
   "source": [
    "## Example B\n",
    "\n",
    "$$\\Delta\\Psi(x, y)=\\sin(\\pi x)\\left(2-\\pi^2y^2\\right)$$\n",
    "\n",
    "With boundary conditions $\\Psi(0,y)=0$, $\\Psi(1, y)=0$, $\\Psi(x, 0)=0$, and $\\Psi(x, 1)=0$.\n",
    "\n",
    "The trial solution for this case is $\\Psi(x, y)=A(x, y) + B(x, y)N(x, y)$ with $B(x)=x(1-x)y(1-y)$ and $A(x, y)= 0.$"
   ]
  },
  {
   "cell_type": "code",
   "execution_count": 3,
   "metadata": {
    "collapsed": true
   },
   "outputs": [],
   "source": [
    "def example7_boundary_value(point):\n",
    "  x = point[0]\n",
    "  y = point[1]\n",
    "  return 2 * y * np.sin(np.pi * x)"
   ]
  },
  {
   "cell_type": "code",
   "execution_count": 4,
   "metadata": {
    "collapsed": true
   },
   "outputs": [],
   "source": [
    "def example7_boundary_vanishing(point):\n",
    "  x = point[0]\n",
    "  y = point[1]\n",
    "  return x * (1 - x) * y"
   ]
  },
  {
   "cell_type": "markdown",
   "metadata": {},
   "source": [
    "### Defining the loss function for a single point and a whole set\n",
    "\n",
    "The loss function is based on the formula:\n",
    "$$Loss(N)=\\sum_i \\left(\\Delta\\Psi(x_i, N(x_i))-\\sin(\\pi x)\\left(2-\\pi^2y^2\\right) \\right)^2$$\n",
    "And the Laplace operator term acting on the trial solution becomes:\n",
    "$$\\Delta\\Psi(x_i, N(x_i))=\\Delta A(x,y) + \\Delta \\left(x(1-x)y\\left[N(x, y) - N(x, 1) - \\frac{\\partial N}{\\partial y}(x, 1)\\right]\\right)$$\n",
    "$$=2\\pi^2y\\sin(\\pi x) +2x(1-x)\\frac{\\partial N}{\\partial y}(x, y) +x(1-x)y\\frac{\\partial^2 N}{\\partial y^2}(x, y)- 2y \\left[N(x, y) - N(x, 1) - \\frac{\\partial N}{\\partial y}(x, 1)\\right] + 2y(1-2x) \\left[\\frac{\\partial N}{\\partial x}(x, y) - \\frac{\\partial N}{\\partial x}(x, 1) - \\frac{\\partial^2 N}{\\partial x\\partial y}(x, 1)\\right] +x(1-x)y\\left[\\frac{\\partial^2 N}{\\partial x^2}(x, y) - \\frac{\\partial^2 N}{\\partial x^2}(x, 1) - \\frac{\\partial^3 N}{\\partial x^2\\partial y}(x, 1)\\right]$$"
   ]
  },
  {
   "cell_type": "code",
   "execution_count": 5,
   "metadata": {
    "collapsed": true
   },
   "outputs": [],
   "source": [
    "gamma = 0.02\n",
    "def example7_loss_function_single_point(self, point, non_squared=False, *kwargs):\n",
    "  x = point[0][0] if isinstance(point[0], np.ndarray) else point[0]\n",
    "  y = point[1][0] if isinstance(point[1], np.ndarray) else point[0]\n",
    "  \n",
    "  N = self.forward_pass(point, 0)\n",
    "  dN = self.forward_pass(point, 1)\n",
    "  d2N = self.forward_pass(point, 2)\n",
    "  \n",
    "  N1 = self.forward_pass(np.array([x, 1]), 0)\n",
    "  dN1 = self.forward_pass(np.array([x, 1]), 1)\n",
    "  d2N1 = self.forward_pass(np.array([x, 1]), 2)\n",
    "  d3N1 = self.forward_pass(np.array([x, 1]), 3)\n",
    "  \n",
    "  dxdyN1 = self.forward_pass_arbitrary_derivative(np.array([x, 1]), np.array([1, 1]))\n",
    "  dx2dyN1 = self.forward_pass_arbitrary_derivative(np.array([x, 1]), np.array([2, 1]))\n",
    "  \n",
    "  loss = ( -2*np.pi**2*y*np.sin(np.pi*x) + 2*x*(1-x)*dN[0, 1] + y*x*(1-x)*d2N[0, 1]\n",
    "          - 2*y*(N[0]-N1[0]-dN1[0, 1]) + 2*y*(1-2*x)*(dN[0, 0]-dN1[0, 0]-dxdyN1)\n",
    "          + y*x*(1-x)*(d2N[0, 0]-d2N1[0, 0]-dx2dyN1) - np.sin(np.pi*x) * (2 - np.pi**2 * y**2)\n",
    "    )\n",
    "  if non_squared:\n",
    "    return loss[0,0]\n",
    "  else:\n",
    "    loss = loss ** 2\n",
    "    loss += gamma * ((self.hidden_layer.bias ** 2).sum()\n",
    "             + (self.hidden_layer.weights ** 2).sum() + (self.visible_layer.weights ** 2).sum())\n",
    "    return loss[0, 0]"
   ]
  },
  {
   "cell_type": "code",
   "execution_count": 6,
   "metadata": {
    "collapsed": true
   },
   "outputs": [],
   "source": [
    "def example7_loss_function(self, samples, *kwargs):\n",
    "  loss = 0\n",
    "  for i in range(samples.shape[0]):\n",
    "    loss += self.loss_function_single_point(self, samples[i])\n",
    "  return loss/samples.shape[0]"
   ]
  },
  {
   "cell_type": "markdown",
   "metadata": {},
   "source": [
    "### Defining the update rules\n",
    "\n",
    "The following functions represent $\\frac{\\partial Loss}{\\partial \\vec{b}}$, $\\frac{\\partial Loss}{\\partial H}$, and $\\frac{\\partial Loss}{\\partial V}$"
   ]
  },
  {
   "cell_type": "code",
   "execution_count": 7,
   "metadata": {
    "collapsed": true
   },
   "outputs": [],
   "source": [
    "def example7_bias_change(self, point, label, *kwargs):\n",
    "  x = point[0][0] if isinstance(point[0], np.ndarray) else point[0]\n",
    "  y = point[1][0] if isinstance(point[1], np.ndarray) else point[0]\n",
    "  db = np.zeros((self.hidden_dim, 1)).astype(dtype=\"float64\")\n",
    "  loss_sqrt = self.loss_function_single_point(self, point, non_squared=True)\n",
    "  \n",
    "  db_N = self.network_derivative_bias(point, 0)\n",
    "  db_DN = self.network_derivative_bias(point, 1)\n",
    "  db_D2N = self.network_derivative_bias(point, 2)\n",
    " \n",
    "  db_N1 = self.network_derivative_bias(np.array([x, 1]), 0)\n",
    "  db_DN1 = self.network_derivative_bias(np.array([x, 1]), 1)\n",
    "  db_D2N1 = self.network_derivative_bias(np.array([x, 1]), 2)\n",
    "  db_D3N1 = self.network_derivative_bias(np.array([x, 1]), 3)\n",
    "  \n",
    "  db_dxdyN1 = self.arbitrary_network_derivative_bias(np.array([x, 1]), np.array([1, 1]))\n",
    "  db_dx2dyN1 = self.arbitrary_network_derivative_bias(np.array([x, 1]), np.array([2, 1]))\n",
    "  \n",
    "  for m in range(self.hidden_dim):\n",
    "    db[m] += 2 * loss_sqrt * ( 2*x*(1-x)*db_DN[0, 1, m] + y*x*(1-x)*db_D2N[0, 1, m]\n",
    "          - 2*y*(db_N[0, 0, m]-db_N1[0, 0, m]-db_DN1[0, 1, m]) + 2*y*(1-2*x)*(db_DN[0, 0, m]-db_DN1[0, 0, m]-db_dxdyN1[0, m])\n",
    "          + y*x*(1-x)*(db_D2N[0, 0, m]-db_D2N1[0, 0, m]-db_dx2dyN1[0, m])\n",
    "      ) + 2 * gamma * self.hidden_layer.bias[m]\n",
    "  return db"
   ]
  },
  {
   "cell_type": "code",
   "execution_count": 8,
   "metadata": {
    "collapsed": true
   },
   "outputs": [],
   "source": [
    "def example7_hidden_weights_change(self, point, *kwargs):\n",
    "  x = point[0][0] if isinstance(point[0], np.ndarray) else point[0]\n",
    "  y = point[1][0] if isinstance(point[1], np.ndarray) else point[0]\n",
    "  dH = np.zeros((self.hidden_dim, self.input_dim)).astype(dtype=\"float64\")\n",
    "  loss_sqrt = self.loss_function_single_point(self, point, non_squared=True)\n",
    "  \n",
    "  dH_N = self.network_derivative_hidden_weights(point, 0)\n",
    "  dH_DN = self.network_derivative_hidden_weights(point, 1)\n",
    "  dH_D2N = self.network_derivative_hidden_weights(point, 2)\n",
    " \n",
    "  dH_N1 = self.network_derivative_hidden_weights(np.array([x, 1]), 0)\n",
    "  dH_DN1 = self.network_derivative_hidden_weights(np.array([x, 1]), 1)\n",
    "  dH_D2N1 = self.network_derivative_hidden_weights(np.array([x, 1]), 2)\n",
    "  dH_D3N1 = self.network_derivative_hidden_weights(np.array([x, 1]), 3)\n",
    "  \n",
    "  dH_dxdyN1 = self.arbitrary_network_derivative_hidden_weights(np.array([x, 1]), np.array([1, 1]))\n",
    "  dH_dx2dyN1 = self.arbitrary_network_derivative_hidden_weights(np.array([x, 1]), np.array([2, 1]))\n",
    "  \n",
    "  for m in range(self.hidden_dim):\n",
    "    for p in range(self.input_dim):\n",
    "      dH[m, p] += 2 * loss_sqrt * (2*x*(1-x)*dH_DN[0, 1, m, p] + y*x*(1-x)*dH_D2N[0, 1, m, p]\n",
    "          - 2*y*(dH_N[0, 0, m, p]-dH_N1[0, 0, m, p]-dH_DN1[0, 1, m, p])\n",
    "          + 2*y*(1-2*x)*(dH_DN[0, 0, m, p]-dH_DN1[0, 0, m, p]-dH_dxdyN1[0, m, p])\n",
    "          + y*x*(1-x)*(dH_D2N[0, 0, m, p]-dH_D2N1[0, 0, m, p]-dH_dx2dyN1[0, m, p])\n",
    "      ) + 2 * gamma * self.hidden_layer.weights[m, p]\n",
    "#   print(point)\n",
    "  print(np.sign(dH).sum())\n",
    "  return dH"
   ]
  },
  {
   "cell_type": "code",
   "execution_count": 9,
   "metadata": {
    "collapsed": true
   },
   "outputs": [],
   "source": [
    "def example7_visible_weights_change(self, point, *kwargs):\n",
    "  x = point[0][0] if isinstance(point[0], np.ndarray) else point[0]\n",
    "  y = point[1][0] if isinstance(point[1], np.ndarray) else point[0]\n",
    "  dV = np.zeros((self.visible_dim, self.hidden_dim)).astype(dtype=\"float64\")\n",
    "  loss_sqrt = self.loss_function_single_point(self, point, non_squared=True)\n",
    "  \n",
    "  dV_N = self.network_derivative_visible_weights(point, 0)\n",
    "  dV_DN = self.network_derivative_visible_weights(point, 1)\n",
    "  dV_D2N = self.network_derivative_visible_weights(point, 2)\n",
    "  \n",
    "  dV_N1 = self.network_derivative_visible_weights(np.array([x, 1]), 0)\n",
    "  dV_DN1 = self.network_derivative_visible_weights(np.array([x, 1]), 1)\n",
    "  dV_D2N1 = self.network_derivative_visible_weights(np.array([x, 1]), 2)\n",
    "  dV_D3N1 = self.network_derivative_visible_weights(np.array([x, 1]), 3)\n",
    "  \n",
    "  dV_dxdyN1 = self.arbitrary_network_derivative_visible_weights(np.array([x, 1]), np.array([1, 1]))\n",
    "  dV_dx2dyN1 = self.arbitrary_network_derivative_visible_weights(np.array([x, 1]), np.array([2, 1]))\n",
    "\n",
    "  for m in range(self.visible_dim):\n",
    "    for p in range(self.hidden_dim):\n",
    "      dV[m, p] += 2 * loss_sqrt * (2*x*(1-x)*dV_DN[0, 1, m, p] + y*x*(1-x)*dV_D2N[0, 1, m, p]\n",
    "          - 2*y*(dV_N[0, 0, m, p]-dV_N1[0, 0, m, p]-dV_DN1[0, 1, m, p])\n",
    "          + 2*y*(1-2*x)*(dV_DN[0, 0, m, p]-dV_DN1[0, 0, m, p]-dV_dxdyN1[0, m, p])\n",
    "          + y*x*(1-x)*(dV_D2N[0, 0, m, p]-dV_D2N1[0, 0, m, p]-dV_dx2dyN1[0, m, p])  \n",
    "      ) + 2 * gamma * self.visible_layer.weights[m, p]\n",
    "  return dV"
   ]
  },
  {
   "cell_type": "markdown",
   "metadata": {},
   "source": [
    "### Defining the trial solution with an apropiate network"
   ]
  },
  {
   "cell_type": "code",
   "execution_count": 10,
   "metadata": {
    "collapsed": true
   },
   "outputs": [],
   "source": [
    "example7_trial_solution = nnde.TrialSolution(loss_function=example7_loss_function,\n",
    "                                        loss_function_single_point=example7_loss_function_single_point,\n",
    "                                        bias_change=example7_bias_change,\n",
    "                                        hidden_weights_change=example7_hidden_weights_change,\n",
    "                                        visible_weights_change=example7_visible_weights_change,\n",
    "                                        boundary_condition_value_function=example7_boundary_value,\n",
    "                                        boundary_vanishing_function=example7_boundary_vanishing,\n",
    "                                        input_dim=2, hidden_dim=10, output_dim=1, learning_rate=0.01, momentum=0)"
   ]
  },
  {
   "cell_type": "markdown",
   "metadata": {},
   "source": [
    "### Training for 5000 epochs"
   ]
  },
  {
   "cell_type": "code",
   "execution_count": 11,
   "metadata": {
    "pixiedust": {
     "displayParams": {}
    },
    "scrolled": true
   },
   "outputs": [
    {
     "name": "stdout",
     "output_type": "stream",
     "text": [
      "-4.0\n",
      "-2.0\n",
      "4.0\n",
      "4.0\n",
      "-2.0\n",
      "8.0\n",
      "8.0\n",
      "-2.0\n",
      "-4.0\n",
      "-2.0\n",
      "-4.0\n",
      "8.0\n",
      "-2.0\n",
      "-2.0\n",
      "-8.0\n",
      "-8.0\n",
      "10.0\n",
      "-6.0\n",
      "4.0\n",
      "-10.0\n",
      "-10.0\n",
      "-6.0\n",
      "6.0\n",
      "-4.0\n",
      "6.0\n",
      "4.0\n",
      "6.0\n",
      "-4.0\n",
      "-4.0\n",
      "-6.0\n",
      "-12.0\n",
      "8.0\n",
      "-8.0\n",
      "6.0\n",
      "6.0\n",
      "-6.0\n",
      "2.0\n",
      "-8.0\n",
      "6.0\n",
      "8.0\n",
      "-4.0\n",
      "-6.0\n",
      "-4.0\n",
      "-6.0\n",
      "-4.0\n",
      "-2.0\n",
      "-14.0\n",
      "-6.0\n",
      "-6.0\n",
      "-6.0\n",
      "-8.0\n",
      "-10.0\n",
      "6.0\n",
      "4.0\n",
      "0.0\n",
      "6.0\n",
      "-8.0\n",
      "-4.0\n",
      "4.0\n",
      "-4.0\n",
      "4.0\n",
      "6.0\n",
      "2.0\n",
      "-8.0\n",
      "-6.0\n",
      "-10.0\n",
      "-4.0\n",
      "-8.0\n",
      "4.0\n",
      "-6.0\n",
      "-6.0\n",
      "-4.0\n",
      "4.0\n"
     ]
    },
    {
     "ename": "FloatingPointError",
     "evalue": "overflow encountered in exp",
     "output_type": "error",
     "traceback": [
      "\u001b[0;31m---------------------------------------------------------------------------\u001b[0m",
      "\u001b[0;31mFloatingPointError\u001b[0m                        Traceback (most recent call last)",
      "\u001b[0;32m<ipython-input-11-bb310fc4b3e3>\u001b[0m in \u001b[0;36m<module>\u001b[0;34m()\u001b[0m\n\u001b[1;32m      1\u001b[0m \u001b[0;31m# %%pixie_debugger\u001b[0m\u001b[0;34m\u001b[0m\u001b[0;34m\u001b[0m\u001b[0m\n\u001b[0;32m----> 2\u001b[0;31m \u001b[0mexample7_trial_solution\u001b[0m\u001b[0;34m.\u001b[0m\u001b[0mtrain\u001b[0m\u001b[0;34m(\u001b[0m\u001b[0msamples\u001b[0m\u001b[0;34m,\u001b[0m \u001b[0;36m50\u001b[0m\u001b[0;34m)\u001b[0m\u001b[0;34m\u001b[0m\u001b[0m\n\u001b[0m",
      "\u001b[0;32m~/Documents/GitHub/NNDE/trialsolution.py\u001b[0m in \u001b[0;36mtrain\u001b[0;34m(self, samples, epochs)\u001b[0m\n\u001b[1;32m     75\u001b[0m         \u001b[0;36m2.\u001b[0m \u001b[0mepochs\u001b[0m \u001b[0;34m-\u001b[0m \u001b[0mpositive\u001b[0m \u001b[0minteger\u001b[0m \u001b[0;34m(\u001b[0m\u001b[0msecured\u001b[0m \u001b[0;32min\u001b[0m \u001b[0mthe\u001b[0m \u001b[0mShallowNetwork\u001b[0m \u001b[0;32mclass\u001b[0m \u001b[0mtraining\u001b[0m \u001b[0mmethod\u001b[0m\u001b[0;34m)\u001b[0m\u001b[0;34m,\u001b[0m \u001b[0mnumber\u001b[0m \u001b[0mof\u001b[0m \u001b[0mtraining\u001b[0m \u001b[0mepochs\u001b[0m\u001b[0;34m.\u001b[0m\u001b[0;34m\u001b[0m\u001b[0m\n\u001b[1;32m     76\u001b[0m         '''\n\u001b[0;32m---> 77\u001b[0;31m         \u001b[0mself\u001b[0m\u001b[0;34m.\u001b[0m\u001b[0mnetwork\u001b[0m\u001b[0;34m.\u001b[0m\u001b[0mtrain\u001b[0m\u001b[0;34m(\u001b[0m\u001b[0msamples\u001b[0m\u001b[0;34m=\u001b[0m\u001b[0msamples\u001b[0m\u001b[0;34m,\u001b[0m \u001b[0mepochs\u001b[0m\u001b[0;34m=\u001b[0m\u001b[0mepochs\u001b[0m\u001b[0;34m,\u001b[0m \u001b[0mlabels\u001b[0m\u001b[0;34m=\u001b[0m\u001b[0;32mNone\u001b[0m\u001b[0;34m)\u001b[0m\u001b[0;34m\u001b[0m\u001b[0m\n\u001b[0m",
      "\u001b[0;32m~/Documents/GitHub/NNDE/shallownetwork.py\u001b[0m in \u001b[0;36mtrain\u001b[0;34m(self, samples, epochs, labels, verbose)\u001b[0m\n\u001b[1;32m    482\u001b[0m             \u001b[0;32mfor\u001b[0m \u001b[0mi\u001b[0m \u001b[0;32min\u001b[0m \u001b[0mrange\u001b[0m\u001b[0;34m(\u001b[0m\u001b[0mepochs\u001b[0m\u001b[0;34m)\u001b[0m\u001b[0;34m:\u001b[0m\u001b[0;34m\u001b[0m\u001b[0m\n\u001b[1;32m    483\u001b[0m                 \u001b[0;32mif\u001b[0m \u001b[0mlabels\u001b[0m \u001b[0;32mis\u001b[0m \u001b[0;32mNone\u001b[0m\u001b[0;34m:\u001b[0m\u001b[0;34m\u001b[0m\u001b[0m\n\u001b[0;32m--> 484\u001b[0;31m                     \u001b[0mself\u001b[0m\u001b[0;34m.\u001b[0m\u001b[0msingle_epoch_training\u001b[0m\u001b[0;34m(\u001b[0m\u001b[0mX\u001b[0m\u001b[0;34m=\u001b[0m\u001b[0msamples\u001b[0m\u001b[0;34m)\u001b[0m\u001b[0;34m\u001b[0m\u001b[0m\n\u001b[0m\u001b[1;32m    485\u001b[0m                 \u001b[0;32melse\u001b[0m\u001b[0;34m:\u001b[0m\u001b[0;34m\u001b[0m\u001b[0m\n\u001b[1;32m    486\u001b[0m                     \u001b[0mself\u001b[0m\u001b[0;34m.\u001b[0m\u001b[0msingle_epoch_training\u001b[0m\u001b[0;34m(\u001b[0m\u001b[0mX\u001b[0m\u001b[0;34m=\u001b[0m\u001b[0msamples\u001b[0m\u001b[0;34m,\u001b[0m \u001b[0mlabels\u001b[0m\u001b[0;34m=\u001b[0m\u001b[0mlabels\u001b[0m\u001b[0;34m)\u001b[0m\u001b[0;34m\u001b[0m\u001b[0m\n",
      "\u001b[0;32m~/Documents/GitHub/NNDE/shallownetwork.py\u001b[0m in \u001b[0;36msingle_epoch_training\u001b[0;34m(self, X, labels)\u001b[0m\n\u001b[1;32m    422\u001b[0m             \u001b[0;31m# --------------------------------------------------------------------------------\u001b[0m\u001b[0;34m\u001b[0m\u001b[0;34m\u001b[0m\u001b[0m\n\u001b[1;32m    423\u001b[0m             \u001b[0;31m# Bias change for given point\u001b[0m\u001b[0;34m\u001b[0m\u001b[0;34m\u001b[0m\u001b[0m\n\u001b[0;32m--> 424\u001b[0;31m             \u001b[0mcurr_bias_change\u001b[0m \u001b[0;34m=\u001b[0m \u001b[0mself\u001b[0m\u001b[0;34m.\u001b[0m\u001b[0mbias_change\u001b[0m\u001b[0;34m(\u001b[0m\u001b[0mself\u001b[0m\u001b[0;34m,\u001b[0m \u001b[0mpoint\u001b[0m\u001b[0;34m,\u001b[0m \u001b[0mlabel\u001b[0m\u001b[0;34m)\u001b[0m\u001b[0;34m\u001b[0m\u001b[0m\n\u001b[0m\u001b[1;32m    425\u001b[0m             \u001b[0;31m# --------------------------------------------------------------------------------\u001b[0m\u001b[0;34m\u001b[0m\u001b[0;34m\u001b[0m\u001b[0m\n\u001b[1;32m    426\u001b[0m             \u001b[0;31m# Hidden weights change for the given point\u001b[0m\u001b[0;34m\u001b[0m\u001b[0;34m\u001b[0m\u001b[0m\n",
      "\u001b[0;32m<ipython-input-7-186cb7692bb9>\u001b[0m in \u001b[0;36mexample7_bias_change\u001b[0;34m(self, point, label, *kwargs)\u001b[0m\n\u001b[1;32m      3\u001b[0m   \u001b[0my\u001b[0m \u001b[0;34m=\u001b[0m \u001b[0mpoint\u001b[0m\u001b[0;34m[\u001b[0m\u001b[0;36m1\u001b[0m\u001b[0;34m]\u001b[0m\u001b[0;34m[\u001b[0m\u001b[0;36m0\u001b[0m\u001b[0;34m]\u001b[0m \u001b[0;32mif\u001b[0m \u001b[0misinstance\u001b[0m\u001b[0;34m(\u001b[0m\u001b[0mpoint\u001b[0m\u001b[0;34m[\u001b[0m\u001b[0;36m1\u001b[0m\u001b[0;34m]\u001b[0m\u001b[0;34m,\u001b[0m \u001b[0mnp\u001b[0m\u001b[0;34m.\u001b[0m\u001b[0mndarray\u001b[0m\u001b[0;34m)\u001b[0m \u001b[0;32melse\u001b[0m \u001b[0mpoint\u001b[0m\u001b[0;34m[\u001b[0m\u001b[0;36m0\u001b[0m\u001b[0;34m]\u001b[0m\u001b[0;34m\u001b[0m\u001b[0m\n\u001b[1;32m      4\u001b[0m   \u001b[0mdb\u001b[0m \u001b[0;34m=\u001b[0m \u001b[0mnp\u001b[0m\u001b[0;34m.\u001b[0m\u001b[0mzeros\u001b[0m\u001b[0;34m(\u001b[0m\u001b[0;34m(\u001b[0m\u001b[0mself\u001b[0m\u001b[0;34m.\u001b[0m\u001b[0mhidden_dim\u001b[0m\u001b[0;34m,\u001b[0m \u001b[0;36m1\u001b[0m\u001b[0;34m)\u001b[0m\u001b[0;34m)\u001b[0m\u001b[0;34m.\u001b[0m\u001b[0mastype\u001b[0m\u001b[0;34m(\u001b[0m\u001b[0mdtype\u001b[0m\u001b[0;34m=\u001b[0m\u001b[0;34m\"float64\"\u001b[0m\u001b[0;34m)\u001b[0m\u001b[0;34m\u001b[0m\u001b[0m\n\u001b[0;32m----> 5\u001b[0;31m   \u001b[0mloss_sqrt\u001b[0m \u001b[0;34m=\u001b[0m \u001b[0mself\u001b[0m\u001b[0;34m.\u001b[0m\u001b[0mloss_function_single_point\u001b[0m\u001b[0;34m(\u001b[0m\u001b[0mself\u001b[0m\u001b[0;34m,\u001b[0m \u001b[0mpoint\u001b[0m\u001b[0;34m,\u001b[0m \u001b[0mnon_squared\u001b[0m\u001b[0;34m=\u001b[0m\u001b[0;32mTrue\u001b[0m\u001b[0;34m)\u001b[0m\u001b[0;34m\u001b[0m\u001b[0m\n\u001b[0m\u001b[1;32m      6\u001b[0m \u001b[0;34m\u001b[0m\u001b[0m\n\u001b[1;32m      7\u001b[0m   \u001b[0mdb_N\u001b[0m \u001b[0;34m=\u001b[0m \u001b[0mself\u001b[0m\u001b[0;34m.\u001b[0m\u001b[0mnetwork_derivative_bias\u001b[0m\u001b[0;34m(\u001b[0m\u001b[0mpoint\u001b[0m\u001b[0;34m,\u001b[0m \u001b[0;36m0\u001b[0m\u001b[0;34m)\u001b[0m\u001b[0;34m\u001b[0m\u001b[0m\n",
      "\u001b[0;32m<ipython-input-5-78ac095e4f07>\u001b[0m in \u001b[0;36mexample7_loss_function_single_point\u001b[0;34m(self, point, non_squared, *kwargs)\u001b[0m\n\u001b[1;32m      4\u001b[0m   \u001b[0my\u001b[0m \u001b[0;34m=\u001b[0m \u001b[0mpoint\u001b[0m\u001b[0;34m[\u001b[0m\u001b[0;36m1\u001b[0m\u001b[0;34m]\u001b[0m\u001b[0;34m[\u001b[0m\u001b[0;36m0\u001b[0m\u001b[0;34m]\u001b[0m \u001b[0;32mif\u001b[0m \u001b[0misinstance\u001b[0m\u001b[0;34m(\u001b[0m\u001b[0mpoint\u001b[0m\u001b[0;34m[\u001b[0m\u001b[0;36m1\u001b[0m\u001b[0;34m]\u001b[0m\u001b[0;34m,\u001b[0m \u001b[0mnp\u001b[0m\u001b[0;34m.\u001b[0m\u001b[0mndarray\u001b[0m\u001b[0;34m)\u001b[0m \u001b[0;32melse\u001b[0m \u001b[0mpoint\u001b[0m\u001b[0;34m[\u001b[0m\u001b[0;36m0\u001b[0m\u001b[0;34m]\u001b[0m\u001b[0;34m\u001b[0m\u001b[0m\n\u001b[1;32m      5\u001b[0m \u001b[0;34m\u001b[0m\u001b[0m\n\u001b[0;32m----> 6\u001b[0;31m   \u001b[0mN\u001b[0m \u001b[0;34m=\u001b[0m \u001b[0mself\u001b[0m\u001b[0;34m.\u001b[0m\u001b[0mforward_pass\u001b[0m\u001b[0;34m(\u001b[0m\u001b[0mpoint\u001b[0m\u001b[0;34m,\u001b[0m \u001b[0;36m0\u001b[0m\u001b[0;34m)\u001b[0m\u001b[0;34m\u001b[0m\u001b[0m\n\u001b[0m\u001b[1;32m      7\u001b[0m   \u001b[0mdN\u001b[0m \u001b[0;34m=\u001b[0m \u001b[0mself\u001b[0m\u001b[0;34m.\u001b[0m\u001b[0mforward_pass\u001b[0m\u001b[0;34m(\u001b[0m\u001b[0mpoint\u001b[0m\u001b[0;34m,\u001b[0m \u001b[0;36m1\u001b[0m\u001b[0;34m)\u001b[0m\u001b[0;34m\u001b[0m\u001b[0m\n\u001b[1;32m      8\u001b[0m   \u001b[0md2N\u001b[0m \u001b[0;34m=\u001b[0m \u001b[0mself\u001b[0m\u001b[0;34m.\u001b[0m\u001b[0mforward_pass\u001b[0m\u001b[0;34m(\u001b[0m\u001b[0mpoint\u001b[0m\u001b[0;34m,\u001b[0m \u001b[0;36m2\u001b[0m\u001b[0;34m)\u001b[0m\u001b[0;34m\u001b[0m\u001b[0m\n",
      "\u001b[0;32m~/Documents/GitHub/NNDE/shallownetwork.py\u001b[0m in \u001b[0;36mforward_pass\u001b[0;34m(self, x, n)\u001b[0m\n\u001b[1;32m    126\u001b[0m             \u001b[0minput_result\u001b[0m \u001b[0;34m=\u001b[0m \u001b[0mx\u001b[0m  \u001b[0;31m# self.input_layer.forward_pass(x)\u001b[0m\u001b[0;34m\u001b[0m\u001b[0m\n\u001b[1;32m    127\u001b[0m             \u001b[0;32mif\u001b[0m \u001b[0mn\u001b[0m \u001b[0;34m==\u001b[0m \u001b[0;36m0\u001b[0m\u001b[0;34m:\u001b[0m\u001b[0;34m\u001b[0m\u001b[0m\n\u001b[0;32m--> 128\u001b[0;31m                 \u001b[0mhidden_result\u001b[0m \u001b[0;34m=\u001b[0m \u001b[0mself\u001b[0m\u001b[0;34m.\u001b[0m\u001b[0mhidden_layer\u001b[0m\u001b[0;34m.\u001b[0m\u001b[0mforward_pass\u001b[0m\u001b[0;34m(\u001b[0m\u001b[0minput_result\u001b[0m\u001b[0;34m)\u001b[0m\u001b[0;34m\u001b[0m\u001b[0m\n\u001b[0m\u001b[1;32m    129\u001b[0m                 \u001b[0;32mreturn\u001b[0m \u001b[0mself\u001b[0m\u001b[0;34m.\u001b[0m\u001b[0mvisible_layer\u001b[0m\u001b[0;34m.\u001b[0m\u001b[0mforward_pass\u001b[0m\u001b[0;34m(\u001b[0m\u001b[0mhidden_result\u001b[0m\u001b[0;34m)\u001b[0m\u001b[0;34m\u001b[0m\u001b[0m\n\u001b[1;32m    130\u001b[0m             \u001b[0;32melse\u001b[0m\u001b[0;34m:\u001b[0m\u001b[0;34m\u001b[0m\u001b[0m\n",
      "\u001b[0;32m~/Documents/GitHub/NNDE/denselayer.py\u001b[0m in \u001b[0;36mforward_pass\u001b[0;34m(self, x)\u001b[0m\n\u001b[1;32m     85\u001b[0m         \u001b[0;34m@\u001b[0m\u001b[0mreturns\u001b[0m\u001b[0;34m:\u001b[0m \u001b[0mnumpy\u001b[0m \u001b[0marray\u001b[0m\u001b[0;34m,\u001b[0m\u001b[0;34m\u001b[0m\u001b[0m\n\u001b[1;32m     86\u001b[0m         '''\n\u001b[0;32m---> 87\u001b[0;31m         \u001b[0;32mreturn\u001b[0m \u001b[0mself\u001b[0m\u001b[0;34m.\u001b[0m\u001b[0mactivation_function\u001b[0m\u001b[0;34m(\u001b[0m\u001b[0mself\u001b[0m\u001b[0;34m.\u001b[0m\u001b[0mlinear_response\u001b[0m\u001b[0;34m(\u001b[0m\u001b[0mx\u001b[0m\u001b[0;34m)\u001b[0m\u001b[0;34m,\u001b[0m \u001b[0;36m0\u001b[0m\u001b[0;34m)\u001b[0m\u001b[0;34m\u001b[0m\u001b[0m\n\u001b[0m\u001b[1;32m     88\u001b[0m \u001b[0;34m\u001b[0m\u001b[0m\n\u001b[1;32m     89\u001b[0m     \u001b[0;32mdef\u001b[0m \u001b[0mlinear_response\u001b[0m\u001b[0;34m(\u001b[0m\u001b[0mself\u001b[0m\u001b[0;34m,\u001b[0m \u001b[0mx\u001b[0m\u001b[0;34m)\u001b[0m\u001b[0;34m:\u001b[0m\u001b[0;34m\u001b[0m\u001b[0m\n",
      "\u001b[0;32m~/Documents/GitHub/NNDE/utilities.py\u001b[0m in \u001b[0;36msigmoid\u001b[0;34m(x, n)\u001b[0m\n\u001b[1;32m     18\u001b[0m     \u001b[0;34m@\u001b[0m\u001b[0mreturns\u001b[0m\u001b[0;34m:\u001b[0m \u001b[0mfloat\u001b[0m\u001b[0;34m\u001b[0m\u001b[0m\n\u001b[1;32m     19\u001b[0m     '''\n\u001b[0;32m---> 20\u001b[0;31m     \u001b[0mtemp_sig\u001b[0m \u001b[0;34m=\u001b[0m \u001b[0mnp\u001b[0m\u001b[0;34m.\u001b[0m\u001b[0mexp\u001b[0m\u001b[0;34m(\u001b[0m\u001b[0;34m-\u001b[0m\u001b[0mx\u001b[0m\u001b[0;34m,\u001b[0m \u001b[0mdtype\u001b[0m\u001b[0;34m=\u001b[0m\u001b[0;34m\"float128\"\u001b[0m\u001b[0;34m)\u001b[0m\u001b[0;34m\u001b[0m\u001b[0m\n\u001b[0m\u001b[1;32m     21\u001b[0m     \u001b[0mtemp_sig\u001b[0m \u001b[0;34m=\u001b[0m \u001b[0;36m1\u001b[0m \u001b[0;34m/\u001b[0m \u001b[0;34m(\u001b[0m\u001b[0mtemp_sig\u001b[0m \u001b[0;34m+\u001b[0m \u001b[0;36m1\u001b[0m\u001b[0;34m)\u001b[0m\u001b[0;34m\u001b[0m\u001b[0m\n\u001b[1;32m     22\u001b[0m     \u001b[0;32mif\u001b[0m \u001b[0mn\u001b[0m \u001b[0;34m==\u001b[0m \u001b[0;36m0\u001b[0m\u001b[0;34m:\u001b[0m\u001b[0;34m\u001b[0m\u001b[0m\n",
      "\u001b[0;31mFloatingPointError\u001b[0m: overflow encountered in exp"
     ]
    }
   ],
   "source": [
    "# %%pixie_debugger\n",
    "example7_trial_solution.train(samples, 50)"
   ]
  },
  {
   "cell_type": "markdown",
   "metadata": {},
   "source": [
    "### Plotting the results \n",
    "\n",
    "The numerical solution (training set - red, valdiaiton set - green) along with the analytical solution (blue)."
   ]
  },
  {
   "cell_type": "code",
   "execution_count": null,
   "metadata": {
    "collapsed": true,
    "scrolled": true
   },
   "outputs": [],
   "source": [
    "fig = plt.figure()\n",
    "ax = fig.add_subplot(111, projection='3d')\n",
    "new_shape = int(np.sqrt(samples.shape[0]))\n",
    "Ze7sol = np.array([example7_trial_solution.predict(samples[i]) for i in range(samples.shape[0])]).reshape((samples.shape[0],))\n",
    "ax.plot_surface(X=samples[:,0].reshape((new_shape, new_shape)), Y=samples[:,1].reshape((new_shape, new_shape)), Z=Ze7sol.reshape((new_shape, new_shape)), label='Numerical - Training')\n",
    "# ax.scatter3D(xs=samples[:,0], ys=samples[:,1], zs=Ze7sol, label='Numerical - Training')\n",
    "# plt.legend()\n",
    "plt.show()"
   ]
  },
  {
   "cell_type": "code",
   "execution_count": null,
   "metadata": {
    "collapsed": true
   },
   "outputs": [],
   "source": [
    "fig = plt.figure()\n",
    "ax = fig.add_subplot(111, projection='3d')\n",
    "Ze7anal = samples[:,1]**2 * np.sin(np.pi*samples[:, 0])\n",
    "Ze7diff = Ze7sol - Ze7anal\n",
    "ax.plot_surface(X=samples[:,0].reshape((new_shape, new_shape)), Y=samples[:,1].reshape((new_shape, new_shape)), Z=Ze7anal.reshape((new_shape, new_shape)), label='Analytic')\n",
    "# plt.legend()\n",
    "plt.show()"
   ]
  },
  {
   "cell_type": "code",
   "execution_count": null,
   "metadata": {
    "collapsed": true
   },
   "outputs": [],
   "source": []
  }
 ],
 "metadata": {
  "kernelspec": {
   "display_name": "Python 3",
   "language": "python",
   "name": "python3"
  },
  "language_info": {
   "codemirror_mode": {
    "name": "ipython",
    "version": 3
   },
   "file_extension": ".py",
   "mimetype": "text/x-python",
   "name": "python",
   "nbconvert_exporter": "python",
   "pygments_lexer": "ipython3",
   "version": "3.6.2"
  }
 },
 "nbformat": 4,
 "nbformat_minor": 2
}
