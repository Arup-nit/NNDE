{
 "cells": [
  {
   "cell_type": "code",
   "execution_count": 1,
   "metadata": {},
   "outputs": [
    {
     "name": "stdout",
     "output_type": "stream",
     "text": [
      "Pixiedust database opened successfully\n"
     ]
    },
    {
     "data": {
      "text/html": [
       "\n",
       "        <div style=\"margin:10px\">\n",
       "            <a href=\"https://github.com/ibm-watson-data-lab/pixiedust\" target=\"_new\">\n",
       "                <img src=\"https://github.com/ibm-watson-data-lab/pixiedust/raw/master/docs/_static/pd_icon32.png\" style=\"float:left;margin-right:10px\"/>\n",
       "            </a>\n",
       "            <span>Pixiedust version 1.1.15</span>\n",
       "        </div>\n",
       "        "
      ],
      "text/plain": [
       "<IPython.core.display.HTML object>"
      ]
     },
     "metadata": {},
     "output_type": "display_data"
    }
   ],
   "source": [
    "%load_ext autoreload\n",
    "%autoreload 2\n",
    "import numpy as np\n",
    "import matplotlib.pyplot as plt\n",
    "import nnde\n",
    "from mpl_toolkits.mplot3d import Axes3D\n",
    "np.seterr(all='raise')\n",
    "import pixiedust"
   ]
  },
  {
   "cell_type": "code",
   "execution_count": 2,
   "metadata": {},
   "outputs": [],
   "source": [
    "n_samples = 25\n",
    "X_p = np.linspace(0, 1, n_samples)\n",
    "Y_p = np.linspace(0, 1, n_samples)\n",
    "X_p, Y_p = np.meshgrid(X_p, Y_p)\n",
    "X_p = X_p.flatten()\n",
    "Y_p = Y_p.flatten()\n",
    "samples = np.array([X_p, Y_p]).T"
   ]
  },
  {
   "cell_type": "markdown",
   "metadata": {},
   "source": [
    "## Example A: 1d string with fixed ends\n",
    "\n",
    "$$\\frac{\\partial^2 u}{\\partial t^2}=c^2\\frac{\\partial^2 u}{\\partial x^2}$$\n",
    "\n",
    "With boundary conditions $u(0,t)=0$, $u(1, t)=0$, $u(x, 0)=\\sin(\\pi x)$, and $\\frac{\\partial u}{\\partial t}(x, 0)=0$.\n",
    "\n",
    "The trial solution for this case is $u(x, y)=A(x, y) + B(x, y)(N(x, y)-N(x,0)-\\frac{\\partial N}{\\partial t}(x, 0))$ with $B(x)=x(1-x)t$ and $$A(x, y)=\\sin(\\pi x).$$"
   ]
  },
  {
   "cell_type": "code",
   "execution_count": 3,
   "metadata": {
    "collapsed": true
   },
   "outputs": [],
   "source": [
    "c = 0.4"
   ]
  },
  {
   "cell_type": "code",
   "execution_count": 4,
   "metadata": {
    "collapsed": true
   },
   "outputs": [],
   "source": [
    "def exampleA_boundary_value(point):\n",
    "  return np.sin(np.pi * point[0])"
   ]
  },
  {
   "cell_type": "code",
   "execution_count": 5,
   "metadata": {
    "collapsed": true
   },
   "outputs": [],
   "source": [
    "def exampleA_boundary_vanishing(point):\n",
    "  x = point[0]\n",
    "  t = point[1]\n",
    "  return x * (1 - x) * t"
   ]
  },
  {
   "cell_type": "markdown",
   "metadata": {},
   "source": [
    "### Defining the loss function for a single point and a whole set\n",
    "\n",
    "The loss function is based on the formula:\n",
    "$$Loss(N)=\\sum_i \\left(\\frac{\\partial^2 u}{\\partial t^2}-c^2\\frac{\\partial^2 u}{\\partial x^2}\\right)^2$$\n",
    "And the Laplace operator term acting on the trial solution becomes:\n",
    "$$\\frac{\\partial^2 u}{\\partial t^2}-c^2\\frac{\\partial^2 u}{\\partial x^2}=\\frac{\\partial^2 A(x,y)}{\\partial t^2} -c^2 \\frac{\\partial^2 A(x,y)}{\\partial x^2}  + \\left(\\frac{\\partial^2}{\\partial t^2}-c^2 \\frac{\\partial^2}{\\partial x^2}\\right)(x(1-x)t\\left[N(x,t)-N(x,1)-\\dot{N}(x,1)\\right])$$\n",
    "$$=c^2\\pi^2\\sin(\\pi x) + 2x(1-x)\\dot{N}(x,t) + x(1-x)t\\ddot{N}(x,t) +2c^2t\\left[N(x,t)-N(x,1)-\\dot{N}(x,1)\\right]$$\n",
    "$$-2c^2(1-2x)t\\left[N'(x,t)-N'(x,1)-\\dot{N}'(x,1)\\right]  -c^2x(1-x)t\\left[N''(x,t)-N''(x,1)-\\dot{N}''(x,1)\\right]$$"
   ]
  },
  {
   "cell_type": "code",
   "execution_count": 6,
   "metadata": {
    "collapsed": true
   },
   "outputs": [],
   "source": [
    "def exampleA_loss_function_single_point(self, point, non_squared=False, *kwargs):\n",
    "  x = point[0][0] if isinstance(point[0], np.ndarray) else point[0]\n",
    "  t = point[1][0] if isinstance(point[1], np.ndarray) else point[0]\n",
    "  \n",
    "  N = self.forward_pass(point, 0)\n",
    "  dN = self.forward_pass(point, 1)\n",
    "  d2N = self.forward_pass(point, 2)\n",
    "  \n",
    "  N1 = self.forward_pass(np.array([x, 1]), 0)\n",
    "  dN1 = self.forward_pass(np.array([x, 1]), 1)\n",
    "  d2N1 = self.forward_pass(np.array([x, 1]), 2)\n",
    "  \n",
    "  dxdtN1 = self.forward_pass_arbitrary_derivative(np.array([x, 1]), np.array([1, 1]))\n",
    "  dx2dtN1 = self.forward_pass_arbitrary_derivative(np.array([x, 1]), np.array([2, 1]))\n",
    "  \n",
    "  loss = ( c**2*np.pi**2 *np.sin(np.pi * x) +2*x*(1-x)*dN[0, 1] + x*(1-x)*t*d2N[0, 1] +2*c**2*t*(N[0]-N1[0]-dN1[0, 1])\n",
    "          -2*c**2*t*(1-2*x)*(dN[0, 0] - dN1[0, 0] - dxdtN1[0]) -c**2*x*(1-x)*t*(d2N[0, 0] - d2N1[0, 0] - dx2dtN1[0])\n",
    "    )\n",
    "  if not non_squared:\n",
    "    loss = loss ** 2\n",
    "  return loss[0]"
   ]
  },
  {
   "cell_type": "code",
   "execution_count": 7,
   "metadata": {
    "collapsed": true
   },
   "outputs": [],
   "source": [
    "def exampleA_loss_function(self, samples, *kwargs):\n",
    "  loss = 0\n",
    "  for i in range(samples.shape[0]):\n",
    "    loss += self.loss_function_single_point(self, samples[i])\n",
    "  return loss/samples.shape[0]"
   ]
  },
  {
   "cell_type": "markdown",
   "metadata": {},
   "source": [
    "### Defining the update rules\n",
    "\n",
    "The following functions represent $\\frac{\\partial Loss}{\\partial \\vec{b}}$, $\\frac{\\partial Loss}{\\partial H}$, and $\\frac{\\partial Loss}{\\partial V}$"
   ]
  },
  {
   "cell_type": "code",
   "execution_count": 8,
   "metadata": {
    "collapsed": true
   },
   "outputs": [],
   "source": [
    "def exampleA_bias_change(self, point, label, *kwargs):\n",
    "  x = point[0][0] if isinstance(point[0], np.ndarray) else point[0]\n",
    "  t = point[1][0] if isinstance(point[1], np.ndarray) else point[0]\n",
    "  \n",
    "  db_N = self.network_derivative_bias(point, 0)\n",
    "  db_DN = self.network_derivative_bias(point, 1)\n",
    "  db_D2N = self.network_derivative_bias(point, 2)\n",
    "  \n",
    "  db_N1 = self.network_derivative_bias(np.array([x, 1]), 0)\n",
    "  db_DN1 = self.network_derivative_bias(np.array([x, 1]), 1)\n",
    "  db_D2N1 = self.network_derivative_bias(np.array([x, 1]), 2)\n",
    "  \n",
    "  db_dxdtN1 = self.arbitrary_network_derivative_bias(np.array([x, 1]), np.array([1, 1]))\n",
    "  db_dx2dtN1 = self.arbitrary_network_derivative_bias(np.array([x, 1]), np.array([2, 1]))\n",
    "\n",
    "  db = np.zeros((self.hidden_dim, 1)).astype(dtype=\"float64\")\n",
    "  loss_sqrt = self.loss_function_single_point(self, point, non_squared=True)\n",
    "  \n",
    "  for m in range(self.hidden_dim):\n",
    "    db[m] += 2 * loss_sqrt * ( \n",
    "      2*x*(1-x)*db_DN[0, 1, m] + x*(1-x)*t*db_D2N[0, 1, m] +2*c**2*t*(db_N[0, 0, m]-db_N1[0, 0, m]-db_DN1[0, 1, m])\n",
    "          -2*c**2*t*(1-2*x)*(db_DN[0, 0, m] - db_DN1[0, 0, m] - db_dxdtN1[0, m]) -c**2*x*(1-x)*t*(db_D2N[0, 0, m]\n",
    "          - db_D2N1[0, 0, m] - db_dx2dtN1[0, m])\n",
    "      )\n",
    "  return db"
   ]
  },
  {
   "cell_type": "code",
   "execution_count": 9,
   "metadata": {
    "collapsed": true
   },
   "outputs": [],
   "source": [
    "def exampleA_hidden_weights_change(self, point, *kwargs):\n",
    "  x = point[0][0] if isinstance(point[0], np.ndarray) else point[0]\n",
    "  t = point[1][0] if isinstance(point[1], np.ndarray) else point[0]\n",
    "  \n",
    "  dH_N = self.network_derivative_hidden_weights(point, 0)\n",
    "  dH_DN = self.network_derivative_hidden_weights(point, 1)\n",
    "  dH_D2N = self.network_derivative_hidden_weights(point, 2)\n",
    "  \n",
    "  dH_N1 = self.network_derivative_hidden_weights(np.array([x, 1]), 0)\n",
    "  dH_DN1 = self.network_derivative_hidden_weights(np.array([x, 1]), 1)\n",
    "  dH_D2N1 = self.network_derivative_hidden_weights(np.array([x, 1]), 2)\n",
    "  \n",
    "  dH_dxdtN1 = self.arbitrary_network_derivative_hidden_weights(np.array([x, 1]), np.array([1, 1]))\n",
    "  dH_dx2dtN1 = self.arbitrary_network_derivative_hidden_weights(np.array([x, 1]), np.array([2, 1]))\n",
    "\n",
    "  dH = np.zeros((self.hidden_dim, self.input_dim)).astype(dtype=\"float64\")\n",
    "  loss_sqrt = self.loss_function_single_point(self, point, non_squared=True)\n",
    "  for m in range(self.hidden_dim):\n",
    "    for p in range(self.input_dim):\n",
    "      dH[m, p] += 2 * loss_sqrt * ( \n",
    "      2*x*(1-x)*dH_DN[0, 1, m, p] + x*(1-x)*t*dH_D2N[0, 1, m, p] +2*c**2*t*(dH_N[0, 0, m, p]-dH_N1[0, 0, m, p]-dH_DN1[0, 1, m, p])\n",
    "          -2*c**2*t*(1-2*x)*(dH_DN[0, 0, m, p] - dH_DN1[0, 0, m, p] - dH_dxdtN1[0, m, p]) -c**2*x*(1-x)*t*(dH_D2N[0, 0, m, p]\n",
    "          - dH_D2N1[0, 0, m, p] - dH_dx2dtN1[0, m, p])\n",
    "      )\n",
    "  return dH"
   ]
  },
  {
   "cell_type": "code",
   "execution_count": 10,
   "metadata": {
    "collapsed": true
   },
   "outputs": [],
   "source": [
    "def exampleA_visible_weights_change(self, point, *kwargs):\n",
    "  x = point[0][0] if isinstance(point[0], np.ndarray) else point[0]\n",
    "  t = point[1][0] if isinstance(point[1], np.ndarray) else point[0]\n",
    "  \n",
    "  dV_N = self.network_derivative_visible_weights(point, 0)\n",
    "  dV_DN = self.network_derivative_visible_weights(point, 1)\n",
    "  dV_D2N = self.network_derivative_visible_weights(point, 2)\n",
    "  \n",
    "  dV_N1 = self.network_derivative_visible_weights(np.array([x, 1]), 0)\n",
    "  dV_DN1 = self.network_derivative_visible_weights(np.array([x, 1]), 1)\n",
    "  dV_D2N1 = self.network_derivative_visible_weights(np.array([x, 1]), 2)\n",
    "  \n",
    "  dV_dxdtN1 = self.arbitrary_network_derivative_visible_weights(np.array([x, 1]), np.array([1, 1]))\n",
    "  dV_dx2dtN1 = self.arbitrary_network_derivative_visible_weights(np.array([x, 1]), np.array([2, 1]))\n",
    "\n",
    "  dV = np.zeros((self.visible_dim, self.hidden_dim)).astype(dtype=\"float64\")\n",
    "  loss_sqrt = self.loss_function_single_point(self, point, non_squared=True)\n",
    "  for m in range(self.visible_dim):\n",
    "    for p in range(self.hidden_dim):\n",
    "      dV[m, p] += 2 * loss_sqrt * ( \n",
    "      2*x*(1-x)*dV_DN[0, 1, m, p] + x*(1-x)*t*dV_D2N[0, 1, m, p] +2*c**2*t*(dV_N[0, 0, m, p]-dV_N1[0, 0, m, p]-dV_DN1[0, 1, m, p])\n",
    "          -2*c**2*t*(1-2*x)*(dV_DN[0, 0, m, p] - dV_DN1[0, 0, m, p] - dV_dxdtN1[0, m, p]) -c**2*x*(1-x)*t*(dV_D2N[0, 0, m, p]\n",
    "          - dV_D2N1[0, 0, m, p] - dV_dx2dtN1[0, m, p])\n",
    "      )\n",
    "  return dV"
   ]
  },
  {
   "cell_type": "markdown",
   "metadata": {},
   "source": [
    "### Defining the trial solution with an apropiate network"
   ]
  },
  {
   "cell_type": "code",
   "execution_count": 11,
   "metadata": {
    "collapsed": true
   },
   "outputs": [],
   "source": [
    "exampleA_trial_solution = nnde.TrialSolution(loss_function=exampleA_loss_function,\n",
    "                                        loss_function_single_point=exampleA_loss_function_single_point,\n",
    "                                        bias_change=exampleA_bias_change,\n",
    "                                        hidden_weights_change=exampleA_hidden_weights_change,\n",
    "                                        visible_weights_change=exampleA_visible_weights_change,\n",
    "                                        boundary_condition_value_function=exampleA_boundary_value,\n",
    "                                        boundary_vanishing_function=exampleA_boundary_vanishing,\n",
    "                                        input_dim=2, hidden_dim=15, output_dim=1, learning_rate=0.1, momentum=0)"
   ]
  },
  {
   "cell_type": "markdown",
   "metadata": {},
   "source": [
    "### Training for 5000 epochs"
   ]
  },
  {
   "cell_type": "code",
   "execution_count": 12,
   "metadata": {
    "scrolled": true
   },
   "outputs": [
    {
     "name": "stdout",
     "output_type": "stream",
     "text": [
      "Epoch: 1 Loss function: 0.6084830937051119\n",
      "Epoch: 2 Loss function: 0.511679401126992\n",
      "Epoch: 3 Loss function: 0.5946291363839404\n",
      "Epoch: 4 Loss function: 0.6371576371330473\n",
      "Epoch: 5 Loss function: 0.620967995074913\n",
      "Epoch: 6 Loss function: 0.7464019266240205\n",
      "Epoch: 7 Loss function: 0.7772244585236886\n",
      "Epoch: 8 Loss function: 0.7439014592167954\n",
      "Epoch: 9 Loss function: 0.7701922494837127\n",
      "Epoch: 10 Loss function: 0.842548380478363\n",
      "Epoch: 11 Loss function: 0.8253414569891715\n",
      "Epoch: 12 Loss function: 0.832206889012415\n",
      "Epoch: 13 Loss function: 0.8240893942575491\n",
      "Epoch: 14 Loss function: 0.8335044057742248\n",
      "Epoch: 15 Loss function: 0.835386454649468\n",
      "Epoch: 16 Loss function: 0.8414571033554411\n",
      "Epoch: 17 Loss function: 0.8566312363286346\n",
      "Epoch: 18 Loss function: 0.8435827869630538\n",
      "Epoch: 19 Loss function: 0.8421037202128349\n",
      "Epoch: 20 Loss function: 0.8408419298423985\n",
      "Epoch: 21 Loss function: 0.8544631523562695\n",
      "Epoch: 22 Loss function: 0.8369570544218989\n",
      "Epoch: 23 Loss function: 0.8541093221982531\n",
      "Epoch: 24 Loss function: 0.8473128362852941\n",
      "Epoch: 25 Loss function: 0.8421058699799547\n",
      "Epoch: 26 Loss function: 0.8429542700584715\n",
      "Epoch: 27 Loss function: 0.8557446030025656\n",
      "Epoch: 28 Loss function: 0.8498869191736741\n",
      "Epoch: 29 Loss function: 0.8340994980395817\n",
      "Epoch: 30 Loss function: 0.8621310368219137\n",
      "Epoch: 31 Loss function: 0.8598880103513198\n",
      "Epoch: 32 Loss function: 0.8669898114982315\n",
      "Epoch: 33 Loss function: 0.8515707979304361\n",
      "Epoch: 34 Loss function: 0.8617067157408422\n",
      "Epoch: 35 Loss function: 0.8651075004629578\n",
      "Epoch: 36 Loss function: 0.8710191906302875\n",
      "Epoch: 37 Loss function: 0.8630490929607343\n",
      "Epoch: 38 Loss function: 0.8658270421569284\n",
      "Epoch: 39 Loss function: 0.8674066042535015\n",
      "Epoch: 40 Loss function: 0.8633598062858365\n",
      "Epoch: 41 Loss function: 0.8649003975217094\n",
      "Epoch: 42 Loss function: 0.8538096046790493\n",
      "Epoch: 43 Loss function: 0.858054135839118\n",
      "Epoch: 44 Loss function: 0.8704869918233523\n",
      "Epoch: 45 Loss function: 0.8777088235027309\n",
      "Epoch: 46 Loss function: 0.8792621164696209\n",
      "Epoch: 47 Loss function: 0.865816346215577\n",
      "Epoch: 48 Loss function: 0.8615832445328977\n",
      "Epoch: 49 Loss function: 0.8648475909942556\n",
      "Epoch: 50 Loss function: 0.8500124557108432\n",
      "Epoch: 51 Loss function: 0.8515326053831115\n",
      "Epoch: 52 Loss function: 0.8453124608835457\n",
      "Epoch: 53 Loss function: 0.8252403437536071\n",
      "Epoch: 54 Loss function: 0.8266166359848309\n",
      "Epoch: 55 Loss function: 0.8192534890076658\n",
      "Epoch: 56 Loss function: 0.8110566738725585\n",
      "Epoch: 57 Loss function: 0.8225149800350494\n",
      "Epoch: 58 Loss function: 0.8184619362709586\n",
      "Epoch: 59 Loss function: 0.8143617872863628\n",
      "Epoch: 60 Loss function: 0.8090185401465863\n",
      "Epoch: 61 Loss function: 0.8088214884944722\n",
      "Epoch: 62 Loss function: 0.8097021273406149\n",
      "Epoch: 63 Loss function: 0.8073457247133354\n",
      "Epoch: 64 Loss function: 0.7921232941885007\n",
      "Epoch: 65 Loss function: 0.7923957048590768\n",
      "Epoch: 66 Loss function: 0.7710689480790568\n",
      "Epoch: 67 Loss function: 0.7536221197760802\n",
      "Epoch: 68 Loss function: 0.7497032592890336\n",
      "Epoch: 69 Loss function: 0.740105379327609\n",
      "Epoch: 70 Loss function: 0.7526791388210932\n",
      "Epoch: 71 Loss function: 0.766583855717057\n",
      "Epoch: 72 Loss function: 0.7697481730840973\n",
      "Epoch: 73 Loss function: 0.7806835147122565\n",
      "Epoch: 74 Loss function: 0.7915105442976452\n",
      "Epoch: 75 Loss function: 0.7893385089643454\n",
      "Epoch: 76 Loss function: 0.7883892661112051\n",
      "Epoch: 77 Loss function: 0.7911785378080972\n",
      "Epoch: 78 Loss function: 0.7829815223253326\n",
      "Epoch: 79 Loss function: 0.7918577655226018\n",
      "Epoch: 80 Loss function: 0.7917605109691307\n",
      "Epoch: 81 Loss function: 0.8004411095464389\n",
      "Epoch: 82 Loss function: 0.7803701261779271\n",
      "Epoch: 83 Loss function: 0.7869649514959124\n",
      "Epoch: 84 Loss function: 0.7871390730646732\n",
      "Epoch: 85 Loss function: 0.7884424963667299\n",
      "Epoch: 86 Loss function: 0.7940829807412447\n",
      "Epoch: 87 Loss function: 0.7929310570658882\n",
      "Epoch: 88 Loss function: 0.7868606013099075\n",
      "Epoch: 89 Loss function: 0.794615935542\n",
      "Epoch: 90 Loss function: 0.8025887703160661\n",
      "Epoch: 91 Loss function: 0.7957685425219326\n",
      "Epoch: 92 Loss function: 0.7972449978115373\n",
      "Epoch: 93 Loss function: 0.7942693506788834\n",
      "Epoch: 94 Loss function: 0.8095763589486918\n",
      "Epoch: 95 Loss function: 0.7978258447134142\n",
      "Epoch: 96 Loss function: 0.8068390858819429\n",
      "Epoch: 97 Loss function: 0.8057882379236834\n",
      "Epoch: 98 Loss function: 0.7982667167112009\n",
      "Epoch: 99 Loss function: 0.7970828750519933\n",
      "Epoch: 100 Loss function: 0.8042825160986968\n"
     ]
    }
   ],
   "source": [
    "exampleA_trial_solution.train(samples, int(100))"
   ]
  },
  {
   "cell_type": "markdown",
   "metadata": {},
   "source": [
    "### Plotting the results \n",
    "\n",
    "The numerical solution (training set - red, valdiaiton set - green) along with the analytical solution (blue)."
   ]
  },
  {
   "cell_type": "code",
   "execution_count": 13,
   "metadata": {
    "scrolled": true
   },
   "outputs": [
    {
     "data": {
      "image/png": "[encoded data removed]",
      "text/plain": [
       "<matplotlib.figure.Figure at 0x7fab1a90e048>"
      ]
     },
     "metadata": {},
     "output_type": "display_data"
    }
   ],
   "source": [
    "fig = plt.figure()\n",
    "ax = fig.add_subplot(111, projection='3d')\n",
    "new_shape = int(np.sqrt(samples.shape[0]))\n",
    "ZeAsol = np.array([exampleA_trial_solution.predict(samples[i]) for i in range(samples.shape[0])]).reshape((samples.shape[0],))\n",
    "ax.plot_surface(X=samples[:,0].reshape((new_shape, new_shape)), Y=samples[:,1].reshape((new_shape, new_shape)), Z=ZeAsol.reshape((new_shape, new_shape)), label='Numerical - Training')\n",
    "# ax.scatter3D(xs=samples[:,0], ys=samples[:,1], zs=ZeAsol, label='Numerical - Training')\n",
    "# plt.legend()\n",
    "plt.show()"
   ]
  },
  {
   "cell_type": "code",
   "execution_count": 14,
   "metadata": {
    "collapsed": true
   },
   "outputs": [],
   "source": [
    "ZeAdiff = ZeAsol.reshape((new_shape, new_shape))"
   ]
  },
  {
   "cell_type": "code",
   "execution_count": 15,
   "metadata": {},
   "outputs": [
    {
     "data": {
      "text/plain": [
       "array([ 0.0, -0.14097606, -0.27459516, -0.40242016, -0.52391775,\n",
       "       -0.63664453, -0.73657398, -0.81829454, -0.87546566, -0.90210276,\n",
       "       -0.89498544, -0.85619281, -0.79401253, -0.72069233, -0.64797577,\n",
       "       -0.58318682, -0.52806216, -0.48003912, -0.43446415, -0.38638036,\n",
       "       -0.33156555, -0.26693685, -0.19059662, -0.1016531,  0.0], dtype=float128)"
      ]
     },
     "execution_count": 15,
     "metadata": {},
     "output_type": "execute_result"
    }
   ],
   "source": [
    "ZeAdiff[0, :] - ZeAdiff[-1, :]"
   ]
  },
  {
   "cell_type": "code",
   "execution_count": null,
   "metadata": {
    "collapsed": true
   },
   "outputs": [],
   "source": []
  }
 ],
 "metadata": {
  "kernelspec": {
   "display_name": "Python 3",
   "language": "python",
   "name": "python3"
  },
  "language_info": {
   "codemirror_mode": {
    "name": "ipython",
    "version": 3
   },
   "file_extension": ".py",
   "mimetype": "text/x-python",
   "name": "python",
   "nbconvert_exporter": "python",
   "pygments_lexer": "ipython3",
   "version": "3.6.2"
  }
 },
 "nbformat": 4,
 "nbformat_minor": 2
}
