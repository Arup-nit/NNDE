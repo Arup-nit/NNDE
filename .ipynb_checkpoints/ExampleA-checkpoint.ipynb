{
 "cells": [
  {
   "cell_type": "code",
   "execution_count": 1,
   "metadata": {},
   "outputs": [
    {
     "name": "stdout",
     "output_type": "stream",
     "text": [
      "Pixiedust database opened successfully\n"
     ]
    },
    {
     "data": {
      "text/html": [
       "\n",
       "        <div style=\"margin:10px\">\n",
       "            <a href=\"https://github.com/ibm-watson-data-lab/pixiedust\" target=\"_new\">\n",
       "                <img src=\"https://github.com/ibm-watson-data-lab/pixiedust/raw/master/docs/_static/pd_icon32.png\" style=\"float:left;margin-right:10px\"/>\n",
       "            </a>\n",
       "            <span>Pixiedust version 1.1.15</span>\n",
       "        </div>\n",
       "        "
      ],
      "text/plain": [
       "<IPython.core.display.HTML object>"
      ]
     },
     "metadata": {},
     "output_type": "display_data"
    }
   ],
   "source": [
    "%load_ext autoreload\n",
    "%autoreload 2\n",
    "import numpy as np\n",
    "import matplotlib.pyplot as plt\n",
    "import nnde\n",
    "from mpl_toolkits.mplot3d import Axes3D\n",
    "np.seterr(all='raise')\n",
    "import pixiedust"
   ]
  },
  {
   "cell_type": "code",
   "execution_count": 2,
   "metadata": {
    "collapsed": true
   },
   "outputs": [],
   "source": [
    "n_samples = 10\n",
    "X_p = np.linspace(0, 1, n_samples)\n",
    "Y_p = np.linspace(0, 1, n_samples)\n",
    "X_p, Y_p = np.meshgrid(X_p, Y_p)\n",
    "X_p = X_p.flatten()\n",
    "Y_p = Y_p.flatten()\n",
    "samples = np.array([X_p, Y_p]).T"
   ]
  },
  {
   "cell_type": "markdown",
   "metadata": {},
   "source": [
    "## Example A: 1d string with fixed ends\n",
    "\n",
    "$$\\frac{\\partial^2 u}{\\partial t^2}=c^2\\frac{\\partial^2 u}{\\partial x^2}$$\n",
    "\n",
    "With boundary conditions $u(0,t)=0$, $u(1, t)=0$, $u(x, 0)=\\sin(\\pi x)$, and $\\frac{\\partial u}{\\partial t}(x, 0)=0$.\n",
    "\n",
    "The trial solution for this case is $u(x, y)=A(x, y) + B(x, y)(N(x, y)-N(x,0)-\\frac{\\partial N}{\\partial t}(x, 0))$ with $B(x)=x(1-x)t$ and $$A(x, y)=\\sin(\\pi x).$$"
   ]
  },
  {
   "cell_type": "code",
   "execution_count": 3,
   "metadata": {
    "collapsed": true
   },
   "outputs": [],
   "source": [
    "c = 2"
   ]
  },
  {
   "cell_type": "code",
   "execution_count": 4,
   "metadata": {
    "collapsed": true
   },
   "outputs": [],
   "source": [
    "def exampleA_boundary_value(point):\n",
    "  return np.sin(np.pi * point[0])"
   ]
  },
  {
   "cell_type": "code",
   "execution_count": 5,
   "metadata": {
    "collapsed": true
   },
   "outputs": [],
   "source": [
    "def exampleA_boundary_vanishing(point):\n",
    "  x = point[0]\n",
    "  t = point[1]\n",
    "  return x * (1 - x) * t"
   ]
  },
  {
   "cell_type": "markdown",
   "metadata": {},
   "source": [
    "### Defining the loss function for a single point and a whole set\n",
    "\n",
    "The loss function is based on the formula:\n",
    "$$Loss(N)=\\sum_i \\left(\\frac{\\partial^2 u}{\\partial t^2}-c^2\\frac{\\partial^2 u}{\\partial x^2}\\right)^2$$\n",
    "And the Laplace operator term acting on the trial solution becomes:\n",
    "$$\\frac{\\partial^2 u}{\\partial t^2}-c^2\\frac{\\partial^2 u}{\\partial x^2}=\\frac{\\partial^2 A(x,y)}{\\partial t^2} -c^2 \\frac{\\partial^2 A(x,y)}{\\partial x^2}  + \\left(\\frac{\\partial^2}{\\partial t^2}-c^2 \\frac{\\partial^2}{\\partial x^2}\\right)(x(1-x)t\\left[N(x,t)-N(x,1)-\\dot{N}(x,1)\\right])$$\n",
    "$$=c^2\\pi^2\\sin(\\pi x) + 2x(1-x)\\dot{N}(x,t) + x(1-x)t\\ddot{N}(x,t) +2c^2t\\left[N(x,t)-N(x,1)-\\dot{N}(x,1)\\right]$$\n",
    "$$-2c^2(1-2x)t\\left[N'(x,t)-N'(x,1)-\\dot{N}'(x,1)\\right]  -c^2x(1-x)t\\left[N''(x,t)-N''(x,1)-\\dot{N}''(x,1)\\right]$$"
   ]
  },
  {
   "cell_type": "code",
   "execution_count": 6,
   "metadata": {
    "collapsed": true
   },
   "outputs": [],
   "source": [
    "def exampleA_loss_function_single_point(self, point, non_squared=False, *kwargs):\n",
    "  x = point[0][0] if isinstance(point[0], np.ndarray) else point[0]\n",
    "  t = point[1][0] if isinstance(point[1], np.ndarray) else point[0]\n",
    "  \n",
    "  N = self.forward_pass(point, 0)\n",
    "  dN = self.forward_pass(point, 1)\n",
    "  d2N = self.forward_pass(point, 2)\n",
    "  \n",
    "  N1 = self.forward_pass(np.array([x, 1]), 0)\n",
    "  dN1 = self.forward_pass(np.array([x, 1]), 1)\n",
    "  d2N1 = self.forward_pass(np.array([x, 1]), 2)\n",
    "  \n",
    "  dxdtN1 = self.forward_pass_arbitrary_derivative(np.array([x, 1]), np.array([1, 1]))\n",
    "  dx2dtN1 = self.forward_pass_arbitrary_derivative(np.array([x, 1]), np.array([2, 1]))\n",
    "  \n",
    "  loss = ( c**2*np.pi**2 *np.sin(np.pi * x) +2*x*(1-x)*dN[0, 1] + x*(1-x)*t*d2N[0, 1] +2*c**2*t*(N[0]-N1[0]-dN1[0, 1])\n",
    "          -2*c**2*t*(1-2*x)*(dN[0, 0] - dN1[0, 0] - dxdtN1[0]) -c**2*x*(1-x)*t*(d2N[0, 0] - d2N1[0, 0] - dx2dtN1[0])\n",
    "    )\n",
    "  if not non_squared:\n",
    "    loss = loss ** 2\n",
    "  return loss[0]"
   ]
  },
  {
   "cell_type": "code",
   "execution_count": 7,
   "metadata": {
    "collapsed": true
   },
   "outputs": [],
   "source": [
    "def exampleA_loss_function(self, samples, *kwargs):\n",
    "  loss = 0\n",
    "  for i in range(samples.shape[0]):\n",
    "    loss += self.loss_function_single_point(self, samples[i])\n",
    "  return loss/samples.shape[0]"
   ]
  },
  {
   "cell_type": "markdown",
   "metadata": {},
   "source": [
    "### Defining the update rules\n",
    "\n",
    "The following functions represent $\\frac{\\partial Loss}{\\partial \\vec{b}}$, $\\frac{\\partial Loss}{\\partial H}$, and $\\frac{\\partial Loss}{\\partial V}$"
   ]
  },
  {
   "cell_type": "code",
   "execution_count": 8,
   "metadata": {
    "collapsed": true
   },
   "outputs": [],
   "source": [
    "def exampleA_bias_change(self, point, label, *kwargs):\n",
    "  x = point[0][0] if isinstance(point[0], np.ndarray) else point[0]\n",
    "  t = point[1][0] if isinstance(point[1], np.ndarray) else point[0]\n",
    "  \n",
    "  db_N = self.network_derivative_bias(point, 0)\n",
    "  db_DN = self.network_derivative_bias(point, 1)\n",
    "  db_D2N = self.network_derivative_bias(point, 2)\n",
    "  \n",
    "  db_N1 = self.network_derivative_bias(np.array([x, 1]), 0)\n",
    "  db_DN1 = self.network_derivative_bias(np.array([x, 1]), 1)\n",
    "  db_D2N1 = self.network_derivative_bias(np.array([x, 1]), 2)\n",
    "  \n",
    "  db_dxdtN1 = self.arbitrary_network_derivative_bias(np.array([x, 1]), np.array([1, 1]))\n",
    "  db_dx2dtN1 = self.arbitrary_network_derivative_bias(np.array([x, 1]), np.array([2, 1]))\n",
    "\n",
    "  db = np.zeros((self.hidden_dim, 1)).astype(dtype=\"float64\")\n",
    "  loss_sqrt = self.loss_function_single_point(self, point, non_squared=True)\n",
    "  \n",
    "  for m in range(self.hidden_dim):\n",
    "    db[m] += 2 * loss_sqrt * ( \n",
    "      2*x*(1-x)*db_DN[0, 1, m] + x*(1-x)*t*db_D2N[0, 1, m] +2*c**2*t*(db_N[0, 0, m]-db_N1[0, 0, m]-db_DN1[0, 1, m])\n",
    "          -2*c**2*t*(1-2*x)*(db_DN[0, 0, m] - db_DN1[0, 0, m] - db_dxdtN1[0, m]) -c**2*x*(1-x)*t*(db_D2N[0, 0, m]\n",
    "          - db_D2N1[0, 0, m] - db_dx2dtN1[0, m])\n",
    "      )\n",
    "  return db"
   ]
  },
  {
   "cell_type": "code",
   "execution_count": 9,
   "metadata": {
    "collapsed": true
   },
   "outputs": [],
   "source": [
    "def exampleA_hidden_weights_change(self, point, *kwargs):\n",
    "  x = point[0][0] if isinstance(point[0], np.ndarray) else point[0]\n",
    "  t = point[1][0] if isinstance(point[1], np.ndarray) else point[0]\n",
    "  \n",
    "  dH_N = self.network_derivative_hidden_weights(point, 0)\n",
    "  dH_DN = self.network_derivative_hidden_weights(point, 1)\n",
    "  dH_D2N = self.network_derivative_hidden_weights(point, 2)\n",
    "  \n",
    "  dH_N1 = self.network_derivative_hidden_weights(np.array([x, 1]), 0)\n",
    "  dH_DN1 = self.network_derivative_hidden_weights(np.array([x, 1]), 1)\n",
    "  dH_D2N1 = self.network_derivative_hidden_weights(np.array([x, 1]), 2)\n",
    "  \n",
    "  dH_dxdtN1 = self.arbitrary_network_derivative_hidden_weights(np.array([x, 1]), np.array([1, 1]))\n",
    "  dH_dx2dtN1 = self.arbitrary_network_derivative_hidden_weights(np.array([x, 1]), np.array([2, 1]))\n",
    "\n",
    "  dH = np.zeros((self.hidden_dim, self.input_dim)).astype(dtype=\"float64\")\n",
    "  loss_sqrt = self.loss_function_single_point(self, point, non_squared=True)\n",
    "  for m in range(self.hidden_dim):\n",
    "    for p in range(self.input_dim):\n",
    "      dH[m, p] += 2 * loss_sqrt * ( \n",
    "      2*x*(1-x)*dH_DN[0, 1, m, p] + x*(1-x)*t*dH_D2N[0, 1, m, p] +2*c**2*t*(dH_N[0, 0, m, p]-dH_N1[0, 0, m, p]-dH_DN1[0, 1, m, p])\n",
    "          -2*c**2*t*(1-2*x)*(dH_DN[0, 0, m, p] - dH_DN1[0, 0, m, p] - dH_dxdtN1[0, m, p]) -c**2*x*(1-x)*t*(dH_D2N[0, 0, m, p]\n",
    "          - dH_D2N1[0, 0, m, p] - dH_dx2dtN1[0, m, p])\n",
    "      )\n",
    "  return dH"
   ]
  },
  {
   "cell_type": "code",
   "execution_count": 10,
   "metadata": {
    "collapsed": true
   },
   "outputs": [],
   "source": [
    "def exampleA_visible_weights_change(self, point, *kwargs):\n",
    "  x = point[0][0] if isinstance(point[0], np.ndarray) else point[0]\n",
    "  t = point[1][0] if isinstance(point[1], np.ndarray) else point[0]\n",
    "  \n",
    "  dV_N = self.network_derivative_visible_weights(point, 0)\n",
    "  dV_DN = self.network_derivative_visible_weights(point, 1)\n",
    "  dV_D2N = self.network_derivative_visible_weights(point, 2)\n",
    "  \n",
    "  dV_N1 = self.network_derivative_visible_weights(np.array([x, 1]), 0)\n",
    "  dV_DN1 = self.network_derivative_visible_weights(np.array([x, 1]), 1)\n",
    "  dV_D2N1 = self.network_derivative_visible_weights(np.array([x, 1]), 2)\n",
    "  \n",
    "  dV_dxdtN1 = self.arbitrary_network_derivative_visible_weights(np.array([x, 1]), np.array([1, 1]))\n",
    "  dV_dx2dtN1 = self.arbitrary_network_derivative_visible_weights(np.array([x, 1]), np.array([2, 1]))\n",
    "\n",
    "  dV = np.zeros((self.visible_dim, self.hidden_dim)).astype(dtype=\"float64\")\n",
    "  loss_sqrt = self.loss_function_single_point(self, point, non_squared=True)\n",
    "  for m in range(self.visible_dim):\n",
    "    for p in range(self.hidden_dim):\n",
    "      dV[m, p] += 2 * loss_sqrt * ( \n",
    "      2*x*(1-x)*dV_DN[0, 1, m, p] + x*(1-x)*t*dV_D2N[0, 1, m, p] +2*c**2*t*(dV_N[0, 0, m, p]-dV_N1[0, 0, m, p]-dV_DN1[0, 1, m, p])\n",
    "          -2*c**2*t*(1-2*x)*(dV_DN[0, 0, m, p] - dV_DN1[0, 0, m, p] - dV_dxdtN1[0, m, p]) -c**2*x*(1-x)*t*(dV_D2N[0, 0, m, p]\n",
    "          - dV_D2N1[0, 0, m, p] - dV_dx2dtN1[0, m, p])\n",
    "      )\n",
    "  return dV"
   ]
  },
  {
   "cell_type": "markdown",
   "metadata": {},
   "source": [
    "### Defining the trial solution with an apropiate network"
   ]
  },
  {
   "cell_type": "code",
   "execution_count": 17,
   "metadata": {
    "collapsed": true
   },
   "outputs": [],
   "source": [
    "exampleA_trial_solution = nnde.TrialSolution(loss_function=exampleA_loss_function,\n",
    "                                        loss_function_single_point=exampleA_loss_function_single_point,\n",
    "                                        bias_change=exampleA_bias_change,\n",
    "                                        hidden_weights_change=exampleA_hidden_weights_change,\n",
    "                                        visible_weights_change=exampleA_visible_weights_change,\n",
    "                                        boundary_condition_value_function=exampleA_boundary_value,\n",
    "                                        boundary_vanishing_function=exampleA_boundary_vanishing,\n",
    "                                        input_dim=2, hidden_dim=10, output_dim=1, learning_rate=0.001, momentum=0)"
   ]
  },
  {
   "cell_type": "markdown",
   "metadata": {},
   "source": [
    "### Training for 5000 epochs"
   ]
  },
  {
   "cell_type": "code",
   "execution_count": 18,
   "metadata": {},
   "outputs": [
    {
     "name": "stdout",
     "output_type": "stream",
     "text": [
      "Epoch: 1 Loss function: 422.98143377138126\n",
      "Epoch: 2 Loss function: 116.93269987581633\n",
      "Epoch: 3 Loss function: 131.53871855304445\n",
      "Epoch: 4 Loss function: 130.41986572599097\n",
      "Epoch: 5 Loss function: 74.58063252161432\n",
      "Epoch: 6 Loss function: 80.38336267459793\n",
      "Epoch: 7 Loss function: 102.6922810007657\n",
      "Epoch: 8 Loss function: 125.80804046240212\n",
      "Epoch: 9 Loss function: 141.41506381128477\n",
      "Epoch: 10 Loss function: 77.51455953111365\n",
      "Epoch: 11 Loss function: 71.15487932075466\n",
      "Epoch: 12 Loss function: 145.00287759901175\n",
      "Epoch: 13 Loss function: 210.38934828782646\n",
      "Epoch: 14 Loss function: 84.72818825075414\n",
      "Epoch: 15 Loss function: 128.74947234333004\n",
      "Epoch: 16 Loss function: 191.62241574884095\n",
      "Epoch: 17 Loss function: 138.30218178177896\n",
      "Epoch: 18 Loss function: 112.34622359055678\n",
      "Epoch: 19 Loss function: 113.89145415467063\n",
      "Epoch: 20 Loss function: 171.9181041153122\n",
      "Epoch: 21 Loss function: 180.38887428490656\n",
      "Epoch: 22 Loss function: 189.24580022214388\n",
      "Epoch: 23 Loss function: 239.2886573312507\n",
      "Epoch: 24 Loss function: 209.96379179885074\n",
      "Epoch: 25 Loss function: 247.64302537865083\n",
      "Epoch: 26 Loss function: 122.53252811685803\n",
      "Epoch: 27 Loss function: 95.89401203116603\n",
      "Epoch: 28 Loss function: 206.31781201114993\n",
      "Epoch: 29 Loss function: 80.41951209039537\n",
      "Epoch: 30 Loss function: 275.18871743079535\n",
      "Epoch: 31 Loss function: 280.5403188397593\n",
      "Epoch: 32 Loss function: 99.79780989789018\n",
      "Epoch: 33 Loss function: 119.78292556116476\n",
      "Epoch: 34 Loss function: 146.11717013214374\n",
      "Epoch: 35 Loss function: 288.3834947027368\n",
      "Epoch: 36 Loss function: 84.29933685573985\n",
      "Epoch: 37 Loss function: 93.31459167296539\n",
      "Epoch: 38 Loss function: 106.75740792463698\n",
      "Epoch: 39 Loss function: 104.54561136748441\n",
      "Epoch: 40 Loss function: 77.99300585800071\n",
      "Epoch: 41 Loss function: 107.30075447420874\n",
      "Epoch: 42 Loss function: 84.3970568706157\n",
      "Epoch: 43 Loss function: 116.58070309961629\n",
      "Epoch: 44 Loss function: 85.65262337201112\n",
      "Epoch: 45 Loss function: 95.78101822890547\n",
      "Epoch: 46 Loss function: 200.745872070237\n",
      "Epoch: 47 Loss function: 171.57169979502194\n",
      "Epoch: 48 Loss function: 98.897129023343\n",
      "Epoch: 49 Loss function: 124.16235524648856\n",
      "Epoch: 50 Loss function: 253.14303560904628\n",
      "Epoch: 51 Loss function: 79.21874675281218\n",
      "Epoch: 52 Loss function: 137.8336628941038\n",
      "Epoch: 53 Loss function: 78.69866769947166\n",
      "Epoch: 54 Loss function: 189.43208823757234\n",
      "Epoch: 55 Loss function: 131.40928947992234\n",
      "Epoch: 56 Loss function: 109.42216594125021\n",
      "Epoch: 57 Loss function: 84.75247715643364\n",
      "Epoch: 58 Loss function: 121.16201197813177\n",
      "Epoch: 59 Loss function: 111.71604104095913\n",
      "Epoch: 60 Loss function: 136.68026033885602\n",
      "Epoch: 61 Loss function: 82.12713008545579\n",
      "Epoch: 62 Loss function: 84.55930008658223\n",
      "Epoch: 63 Loss function: 98.79286676775878\n",
      "Epoch: 64 Loss function: 83.24450232726237\n",
      "Epoch: 65 Loss function: 179.59287500028861\n",
      "Epoch: 66 Loss function: 92.2381000034604\n",
      "Epoch: 67 Loss function: 78.11445736296201\n",
      "Epoch: 68 Loss function: 112.50502383047223\n",
      "Epoch: 69 Loss function: 133.01006795428054\n",
      "Epoch: 70 Loss function: 99.46124394782599\n",
      "Epoch: 71 Loss function: 73.54720198126236\n",
      "Epoch: 72 Loss function: 130.99792104056172\n",
      "Epoch: 73 Loss function: 77.92151664722849\n",
      "Epoch: 74 Loss function: 75.59913834360385\n",
      "Epoch: 75 Loss function: 101.44250649949467\n",
      "Epoch: 76 Loss function: 88.33690099864017\n",
      "Epoch: 77 Loss function: 109.5376045496856\n",
      "Epoch: 78 Loss function: 112.38443672644226\n",
      "Epoch: 79 Loss function: 119.87654226355305\n",
      "Epoch: 80 Loss function: 113.04788191855945\n",
      "Epoch: 81 Loss function: 94.54249322777623\n",
      "Epoch: 82 Loss function: 131.8309541672533\n",
      "Epoch: 83 Loss function: 97.95619011287474\n",
      "Epoch: 84 Loss function: 101.38346808935692\n",
      "Epoch: 85 Loss function: 96.92567987405852\n",
      "Epoch: 86 Loss function: 80.71127893052653\n",
      "Epoch: 87 Loss function: 124.73064401224093\n",
      "Epoch: 88 Loss function: 112.58765363749724\n",
      "Epoch: 89 Loss function: 78.64988531614202\n",
      "Epoch: 90 Loss function: 80.13550188460871\n",
      "Epoch: 91 Loss function: 112.40882603681735\n",
      "Epoch: 92 Loss function: 76.33189880522094\n",
      "Epoch: 93 Loss function: 86.71523425291568\n",
      "Epoch: 94 Loss function: 96.29519343262506\n",
      "Epoch: 95 Loss function: 97.39465496929539\n",
      "Epoch: 96 Loss function: 123.28937827049783\n",
      "Epoch: 97 Loss function: 81.21729945606943\n",
      "Epoch: 98 Loss function: 92.77602631916446\n",
      "Epoch: 99 Loss function: 104.34461228697681\n",
      "Epoch: 100 Loss function: 79.92306281578242\n",
      "Epoch: 101 Loss function: 76.12558790979892\n",
      "Epoch: 102 Loss function: 75.50546367300325\n",
      "Epoch: 103 Loss function: 109.43562445665837\n",
      "Epoch: 104 Loss function: 170.5208967136361\n",
      "Epoch: 105 Loss function: 85.04016959000087\n",
      "Epoch: 106 Loss function: 156.59628268926264\n",
      "Epoch: 107 Loss function: 96.3821088450665\n",
      "Epoch: 108 Loss function: 158.4944462903722\n",
      "Epoch: 109 Loss function: 83.86109282982655\n",
      "Epoch: 110 Loss function: 93.84463836738581\n",
      "Epoch: 111 Loss function: 97.6691445064053\n",
      "Epoch: 112 Loss function: 105.58151720120671\n",
      "Epoch: 113 Loss function: 72.82521622309885\n",
      "Epoch: 114 Loss function: 73.4547592710552\n",
      "Epoch: 115 Loss function: 84.36311845529346\n",
      "Epoch: 116 Loss function: 133.58034320340815\n",
      "Epoch: 117 Loss function: 104.0378421059125\n",
      "Epoch: 118 Loss function: 95.47307798257822\n",
      "Epoch: 119 Loss function: 85.31416282494473\n",
      "Epoch: 120 Loss function: 112.76418173680855\n",
      "Epoch: 121 Loss function: 98.29460318117647\n",
      "Epoch: 122 Loss function: 74.03885918805497\n",
      "Epoch: 123 Loss function: 88.31244087297527\n",
      "Epoch: 124 Loss function: 96.3510259492265\n",
      "Epoch: 125 Loss function: 92.659250760013\n",
      "Epoch: 126 Loss function: 75.2567892553672\n",
      "Epoch: 127 Loss function: 109.9524443852242\n",
      "Epoch: 128 Loss function: 163.98272569488617\n",
      "Epoch: 129 Loss function: 145.11140929970418\n",
      "Epoch: 130 Loss function: 95.6787316687128\n",
      "Epoch: 131 Loss function: 94.40078269702481\n",
      "Epoch: 132 Loss function: 117.87732054845493\n",
      "Epoch: 133 Loss function: 93.00894506854117\n",
      "Epoch: 134 Loss function: 127.43083167348283\n",
      "Epoch: 135 Loss function: 136.51876839248962\n",
      "Epoch: 136 Loss function: 139.7121603613876\n",
      "Epoch: 137 Loss function: 74.00771314520316\n",
      "Epoch: 138 Loss function: 87.17241037995302\n",
      "Epoch: 139 Loss function: 94.15286239586477\n",
      "Epoch: 140 Loss function: 104.65128434864842\n",
      "Epoch: 141 Loss function: 104.25133599594925\n",
      "Epoch: 142 Loss function: 116.7852065516538\n",
      "Epoch: 143 Loss function: 167.84434185230558\n",
      "Epoch: 144 Loss function: 161.13118978146443\n",
      "Epoch: 145 Loss function: 138.01858741775848\n",
      "Epoch: 146 Loss function: 172.91334477972308\n",
      "Epoch: 147 Loss function: 80.36657419130003\n",
      "Epoch: 148 Loss function: 99.99752513858351\n",
      "Epoch: 149 Loss function: 108.78740964909971\n",
      "Epoch: 150 Loss function: 86.10932263358151\n",
      "Epoch: 151 Loss function: 121.77069136925267\n",
      "Epoch: 152 Loss function: 140.85330550486688\n",
      "Epoch: 153 Loss function: 115.46085275232944\n",
      "Epoch: 154 Loss function: 144.43489361178922\n",
      "Epoch: 155 Loss function: 95.36246940055291\n",
      "Epoch: 156 Loss function: 107.47218217625354\n",
      "Epoch: 157 Loss function: 98.38019643634719\n",
      "Epoch: 158 Loss function: 87.4787543812035\n",
      "Epoch: 159 Loss function: 121.81910330793775\n",
      "Epoch: 160 Loss function: 102.27771109045952\n",
      "Epoch: 161 Loss function: 85.13432290823187\n",
      "Epoch: 162 Loss function: 123.13030908269158\n",
      "Epoch: 163 Loss function: 128.93238654743408\n",
      "Epoch: 164 Loss function: 119.87543230775748\n",
      "Epoch: 165 Loss function: 87.01253408687138\n",
      "Epoch: 166 Loss function: 76.64377633562215\n",
      "Epoch: 167 Loss function: 99.06972590230883\n",
      "Epoch: 168 Loss function: 110.69071161619196\n",
      "Epoch: 169 Loss function: 93.38925206697434\n",
      "Epoch: 170 Loss function: 152.02749597820957\n",
      "Epoch: 171 Loss function: 114.9364444163658\n",
      "Epoch: 172 Loss function: 122.56619868580825\n",
      "Epoch: 173 Loss function: 118.00492027440795\n",
      "Epoch: 174 Loss function: 252.9486267269956\n",
      "Epoch: 175 Loss function: 117.01604279569372\n",
      "Epoch: 176 Loss function: 318.98891063775267\n",
      "Epoch: 177 Loss function: 147.23596289538725\n",
      "Epoch: 178 Loss function: 139.40841612352602\n",
      "Epoch: 179 Loss function: 162.03562912117678\n",
      "Epoch: 180 Loss function: 171.74530152397352\n",
      "Epoch: 181 Loss function: 198.38173882792833\n",
      "Epoch: 182 Loss function: 155.5862777313741\n",
      "Epoch: 183 Loss function: 150.6255625845213\n",
      "Epoch: 184 Loss function: 176.94777911633793\n",
      "Epoch: 185 Loss function: 183.721043601694\n",
      "Epoch: 186 Loss function: 171.54294815581463\n",
      "Epoch: 187 Loss function: 198.5809831597071\n"
     ]
    },
    {
     "name": "stdout",
     "output_type": "stream",
     "text": [
      "Epoch: 188 Loss function: 182.8547043426638\n",
      "Epoch: 189 Loss function: 254.53838943504326\n",
      "Epoch: 190 Loss function: 247.82868983658528\n",
      "Epoch: 191 Loss function: 174.66298682409194\n",
      "Epoch: 192 Loss function: 175.1558746541333\n",
      "Epoch: 193 Loss function: 197.84160352558013\n",
      "Epoch: 194 Loss function: 218.58886832813172\n",
      "Epoch: 195 Loss function: 226.2225095351522\n",
      "Epoch: 196 Loss function: 170.13377914521797\n",
      "Epoch: 197 Loss function: 222.85553094781835\n",
      "Epoch: 198 Loss function: 207.0735311812862\n",
      "Epoch: 199 Loss function: 280.6569980106754\n",
      "Epoch: 200 Loss function: 267.2677510625175\n",
      "Epoch: 201 Loss function: 200.42465407169806\n",
      "Epoch: 202 Loss function: 207.45148976643154\n",
      "Epoch: 203 Loss function: 195.72052088199538\n",
      "Epoch: 204 Loss function: 182.31349455490187\n",
      "Epoch: 205 Loss function: 253.5814096748085\n",
      "Epoch: 206 Loss function: 196.37682207505046\n",
      "Epoch: 207 Loss function: 218.00719417686514\n",
      "Epoch: 208 Loss function: 280.7807390344178\n",
      "Epoch: 209 Loss function: 196.43070296397258\n",
      "Epoch: 210 Loss function: 246.0176673170337\n",
      "Epoch: 211 Loss function: 270.014502607193\n",
      "Epoch: 212 Loss function: 252.19554601946038\n",
      "Epoch: 213 Loss function: 271.97322793881443\n",
      "Epoch: 214 Loss function: 229.7298306732166\n",
      "Epoch: 215 Loss function: 206.91018492517597\n",
      "Epoch: 216 Loss function: 199.9959005205581\n",
      "Epoch: 217 Loss function: 239.65339747523933\n",
      "Epoch: 218 Loss function: 248.7743948196723\n",
      "Epoch: 219 Loss function: 343.3384603724241\n",
      "Epoch: 220 Loss function: 260.0459320087015\n",
      "Epoch: 221 Loss function: 282.3500838774998\n",
      "Epoch: 222 Loss function: 237.85055109688417\n",
      "Epoch: 223 Loss function: 308.4563659621436\n",
      "Epoch: 224 Loss function: 254.98155083600048\n",
      "Epoch: 225 Loss function: 310.9113419787515\n",
      "Epoch: 226 Loss function: 231.69576852509712\n",
      "Epoch: 227 Loss function: 335.7311275090325\n",
      "Epoch: 228 Loss function: 231.59921077325114\n",
      "Epoch: 229 Loss function: 280.020933198061\n",
      "Epoch: 230 Loss function: 288.2924115530857\n",
      "Epoch: 231 Loss function: 333.18286355331463\n",
      "Epoch: 232 Loss function: 279.74757975782893\n",
      "Epoch: 233 Loss function: 236.96813313254736\n",
      "Epoch: 234 Loss function: 304.5269351195757\n",
      "Epoch: 235 Loss function: 268.9953105088903\n",
      "Epoch: 236 Loss function: 251.4990086251782\n",
      "Epoch: 237 Loss function: 211.54219929028775\n",
      "Epoch: 238 Loss function: 426.9173352423651\n",
      "Epoch: 239 Loss function: 255.66338116872296\n",
      "Epoch: 240 Loss function: 347.5644158540087\n",
      "Epoch: 241 Loss function: 272.7458819538288\n",
      "Epoch: 242 Loss function: 197.34857755945532\n",
      "Epoch: 243 Loss function: 277.58429407584936\n",
      "Epoch: 244 Loss function: 257.6812485912903\n",
      "Epoch: 245 Loss function: 282.8243593409438\n",
      "Epoch: 246 Loss function: 309.25641793804647\n",
      "Epoch: 247 Loss function: 192.98205372489963\n",
      "Epoch: 248 Loss function: 301.6725325375177\n",
      "Epoch: 249 Loss function: 238.58094777010575\n",
      "Epoch: 250 Loss function: 237.37293211641853\n",
      "Epoch: 251 Loss function: 253.38229635589005\n",
      "Epoch: 252 Loss function: 223.5258254801599\n",
      "Epoch: 253 Loss function: 287.7892553969943\n",
      "Epoch: 254 Loss function: 269.9122313996213\n",
      "Epoch: 255 Loss function: 251.9726943033814\n",
      "Epoch: 256 Loss function: 306.6450557532492\n",
      "Epoch: 257 Loss function: 276.47553161067634\n",
      "Epoch: 258 Loss function: 257.24047683290985\n",
      "Epoch: 259 Loss function: 320.334119789984\n",
      "Epoch: 260 Loss function: 261.1585848380956\n",
      "Epoch: 261 Loss function: 229.4535625048898\n",
      "Epoch: 262 Loss function: 269.57812444667434\n",
      "Epoch: 263 Loss function: 309.6135883163539\n",
      "Epoch: 264 Loss function: 289.71465495577695\n",
      "Epoch: 265 Loss function: 272.45682251144524\n",
      "Epoch: 266 Loss function: 235.03306318607252\n",
      "Epoch: 267 Loss function: 374.1902419775355\n",
      "Epoch: 268 Loss function: 230.47939137944797\n",
      "Epoch: 269 Loss function: 260.5666746488971\n",
      "Epoch: 270 Loss function: 266.48219679145296\n",
      "Epoch: 271 Loss function: 234.37373451847068\n",
      "Epoch: 272 Loss function: 263.6220514258745\n",
      "Epoch: 273 Loss function: 252.7256975579824\n",
      "Epoch: 274 Loss function: 274.2632617917785\n",
      "Epoch: 275 Loss function: 291.16095911120954\n",
      "Epoch: 276 Loss function: 260.99036752774106\n",
      "Epoch: 277 Loss function: 225.59644133003653\n",
      "Epoch: 278 Loss function: 261.2599186059406\n",
      "Epoch: 279 Loss function: 309.8636189289202\n"
     ]
    },
    {
     "ename": "KeyboardInterrupt",
     "evalue": "",
     "output_type": "error",
     "traceback": [
      "\u001b[0;31m---------------------------------------------------------------------------\u001b[0m",
      "\u001b[0;31mKeyboardInterrupt\u001b[0m                         Traceback (most recent call last)",
      "\u001b[0;32m<ipython-input-18-23c859377ce3>\u001b[0m in \u001b[0;36m<module>\u001b[0;34m()\u001b[0m\n\u001b[0;32m----> 1\u001b[0;31m \u001b[0mexampleA_trial_solution\u001b[0m\u001b[0;34m.\u001b[0m\u001b[0mtrain\u001b[0m\u001b[0;34m(\u001b[0m\u001b[0msamples\u001b[0m\u001b[0;34m,\u001b[0m \u001b[0mint\u001b[0m\u001b[0;34m(\u001b[0m\u001b[0;36m1000\u001b[0m\u001b[0;34m)\u001b[0m\u001b[0;34m)\u001b[0m\u001b[0;34m\u001b[0m\u001b[0m\n\u001b[0m",
      "\u001b[0;32m~/Documents/GitHub/NNDE/trialsolution.py\u001b[0m in \u001b[0;36mtrain\u001b[0;34m(self, samples, epochs)\u001b[0m\n\u001b[1;32m     75\u001b[0m         \u001b[0;36m2.\u001b[0m \u001b[0mepochs\u001b[0m \u001b[0;34m-\u001b[0m \u001b[0mpositive\u001b[0m \u001b[0minteger\u001b[0m \u001b[0;34m(\u001b[0m\u001b[0msecured\u001b[0m \u001b[0;32min\u001b[0m \u001b[0mthe\u001b[0m \u001b[0mShallowNetwork\u001b[0m \u001b[0;32mclass\u001b[0m \u001b[0mtraining\u001b[0m \u001b[0mmethod\u001b[0m\u001b[0;34m)\u001b[0m\u001b[0;34m,\u001b[0m \u001b[0mnumber\u001b[0m \u001b[0mof\u001b[0m \u001b[0mtraining\u001b[0m \u001b[0mepochs\u001b[0m\u001b[0;34m.\u001b[0m\u001b[0;34m\u001b[0m\u001b[0m\n\u001b[1;32m     76\u001b[0m         '''\n\u001b[0;32m---> 77\u001b[0;31m         \u001b[0mself\u001b[0m\u001b[0;34m.\u001b[0m\u001b[0mnetwork\u001b[0m\u001b[0;34m.\u001b[0m\u001b[0mtrain\u001b[0m\u001b[0;34m(\u001b[0m\u001b[0msamples\u001b[0m\u001b[0;34m=\u001b[0m\u001b[0msamples\u001b[0m\u001b[0;34m,\u001b[0m \u001b[0mepochs\u001b[0m\u001b[0;34m=\u001b[0m\u001b[0mepochs\u001b[0m\u001b[0;34m,\u001b[0m \u001b[0mlabels\u001b[0m\u001b[0;34m=\u001b[0m\u001b[0;32mNone\u001b[0m\u001b[0;34m)\u001b[0m\u001b[0;34m\u001b[0m\u001b[0m\n\u001b[0m",
      "\u001b[0;32m~/Documents/GitHub/NNDE/shallownetwork.py\u001b[0m in \u001b[0;36mtrain\u001b[0;34m(self, samples, epochs, labels, verbose)\u001b[0m\n\u001b[1;32m    482\u001b[0m             \u001b[0;32mfor\u001b[0m \u001b[0mi\u001b[0m \u001b[0;32min\u001b[0m \u001b[0mrange\u001b[0m\u001b[0;34m(\u001b[0m\u001b[0mepochs\u001b[0m\u001b[0;34m)\u001b[0m\u001b[0;34m:\u001b[0m\u001b[0;34m\u001b[0m\u001b[0m\n\u001b[1;32m    483\u001b[0m                 \u001b[0;32mif\u001b[0m \u001b[0mlabels\u001b[0m \u001b[0;32mis\u001b[0m \u001b[0;32mNone\u001b[0m\u001b[0;34m:\u001b[0m\u001b[0;34m\u001b[0m\u001b[0m\n\u001b[0;32m--> 484\u001b[0;31m                     \u001b[0mself\u001b[0m\u001b[0;34m.\u001b[0m\u001b[0msingle_epoch_training\u001b[0m\u001b[0;34m(\u001b[0m\u001b[0mX\u001b[0m\u001b[0;34m=\u001b[0m\u001b[0msamples\u001b[0m\u001b[0;34m)\u001b[0m\u001b[0;34m\u001b[0m\u001b[0m\n\u001b[0m\u001b[1;32m    485\u001b[0m                 \u001b[0;32melse\u001b[0m\u001b[0;34m:\u001b[0m\u001b[0;34m\u001b[0m\u001b[0m\n\u001b[1;32m    486\u001b[0m                     \u001b[0mself\u001b[0m\u001b[0;34m.\u001b[0m\u001b[0msingle_epoch_training\u001b[0m\u001b[0;34m(\u001b[0m\u001b[0mX\u001b[0m\u001b[0;34m=\u001b[0m\u001b[0msamples\u001b[0m\u001b[0;34m,\u001b[0m \u001b[0mlabels\u001b[0m\u001b[0;34m=\u001b[0m\u001b[0mlabels\u001b[0m\u001b[0;34m)\u001b[0m\u001b[0;34m\u001b[0m\u001b[0m\n",
      "\u001b[0;32m~/Documents/GitHub/NNDE/shallownetwork.py\u001b[0m in \u001b[0;36msingle_epoch_training\u001b[0;34m(self, X, labels)\u001b[0m\n\u001b[1;32m    426\u001b[0m             \u001b[0;31m# Hidden weights change for the given point\u001b[0m\u001b[0;34m\u001b[0m\u001b[0;34m\u001b[0m\u001b[0m\n\u001b[1;32m    427\u001b[0m             curr_hidden_weights_change = self.hidden_weights_change(self,\n\u001b[0;32m--> 428\u001b[0;31m                                                                     point, label)\n\u001b[0m\u001b[1;32m    429\u001b[0m             \u001b[0;31m# --------------------------------------------------------------------------------\u001b[0m\u001b[0;34m\u001b[0m\u001b[0;34m\u001b[0m\u001b[0m\n\u001b[1;32m    430\u001b[0m             \u001b[0;31m# Visible weights change for the given point\u001b[0m\u001b[0;34m\u001b[0m\u001b[0;34m\u001b[0m\u001b[0m\n",
      "\u001b[0;32m<ipython-input-9-cad9c1ee9c41>\u001b[0m in \u001b[0;36mexampleA_hidden_weights_change\u001b[0;34m(self, point, *kwargs)\u001b[0m\n\u001b[1;32m      7\u001b[0m   \u001b[0mdH_D2N\u001b[0m \u001b[0;34m=\u001b[0m \u001b[0mself\u001b[0m\u001b[0;34m.\u001b[0m\u001b[0mnetwork_derivative_hidden_weights\u001b[0m\u001b[0;34m(\u001b[0m\u001b[0mpoint\u001b[0m\u001b[0;34m,\u001b[0m \u001b[0;36m2\u001b[0m\u001b[0;34m)\u001b[0m\u001b[0;34m\u001b[0m\u001b[0m\n\u001b[1;32m      8\u001b[0m \u001b[0;34m\u001b[0m\u001b[0m\n\u001b[0;32m----> 9\u001b[0;31m   \u001b[0mdH_N1\u001b[0m \u001b[0;34m=\u001b[0m \u001b[0mself\u001b[0m\u001b[0;34m.\u001b[0m\u001b[0mnetwork_derivative_hidden_weights\u001b[0m\u001b[0;34m(\u001b[0m\u001b[0mnp\u001b[0m\u001b[0;34m.\u001b[0m\u001b[0marray\u001b[0m\u001b[0;34m(\u001b[0m\u001b[0;34m[\u001b[0m\u001b[0mx\u001b[0m\u001b[0;34m,\u001b[0m \u001b[0;36m1\u001b[0m\u001b[0;34m]\u001b[0m\u001b[0;34m)\u001b[0m\u001b[0;34m,\u001b[0m \u001b[0;36m0\u001b[0m\u001b[0;34m)\u001b[0m\u001b[0;34m\u001b[0m\u001b[0m\n\u001b[0m\u001b[1;32m     10\u001b[0m   \u001b[0mdH_DN1\u001b[0m \u001b[0;34m=\u001b[0m \u001b[0mself\u001b[0m\u001b[0;34m.\u001b[0m\u001b[0mnetwork_derivative_hidden_weights\u001b[0m\u001b[0;34m(\u001b[0m\u001b[0mnp\u001b[0m\u001b[0;34m.\u001b[0m\u001b[0marray\u001b[0m\u001b[0;34m(\u001b[0m\u001b[0;34m[\u001b[0m\u001b[0mx\u001b[0m\u001b[0;34m,\u001b[0m \u001b[0;36m1\u001b[0m\u001b[0;34m]\u001b[0m\u001b[0;34m)\u001b[0m\u001b[0;34m,\u001b[0m \u001b[0;36m1\u001b[0m\u001b[0;34m)\u001b[0m\u001b[0;34m\u001b[0m\u001b[0m\n\u001b[1;32m     11\u001b[0m   \u001b[0mdH_D2N1\u001b[0m \u001b[0;34m=\u001b[0m \u001b[0mself\u001b[0m\u001b[0;34m.\u001b[0m\u001b[0mnetwork_derivative_hidden_weights\u001b[0m\u001b[0;34m(\u001b[0m\u001b[0mnp\u001b[0m\u001b[0;34m.\u001b[0m\u001b[0marray\u001b[0m\u001b[0;34m(\u001b[0m\u001b[0;34m[\u001b[0m\u001b[0mx\u001b[0m\u001b[0;34m,\u001b[0m \u001b[0;36m1\u001b[0m\u001b[0;34m]\u001b[0m\u001b[0;34m)\u001b[0m\u001b[0;34m,\u001b[0m \u001b[0;36m2\u001b[0m\u001b[0;34m)\u001b[0m\u001b[0;34m\u001b[0m\u001b[0m\n",
      "\u001b[0;32m~/Documents/GitHub/NNDE/shallownetwork.py\u001b[0m in \u001b[0;36mnetwork_derivative_hidden_weights\u001b[0;34m(self, point, n)\u001b[0m\n\u001b[1;32m    340\u001b[0m                                                   \u001b[0;34m*\u001b[0m \u001b[0mn\u001b[0m\u001b[0;34m\u001b[0m\u001b[0m\n\u001b[1;32m    341\u001b[0m                                                   \u001b[0;34m*\u001b[0m \u001b[0mhidden_activation_deriv_n\u001b[0m\u001b[0;34m[\u001b[0m\u001b[0mm\u001b[0m\u001b[0;34m]\u001b[0m\u001b[0;34m\u001b[0m\u001b[0m\n\u001b[0;32m--> 342\u001b[0;31m                                                   \u001b[0;34m*\u001b[0m \u001b[0mkronecker_delta\u001b[0m\u001b[0;34m(\u001b[0m\u001b[0mi\u001b[0m\u001b[0;34m,\u001b[0m \u001b[0mp\u001b[0m\u001b[0;34m)\u001b[0m\u001b[0;34m\u001b[0m\u001b[0m\n\u001b[0m\u001b[1;32m    343\u001b[0m                                                   )\n\u001b[1;32m    344\u001b[0m             \u001b[0;32mreturn\u001b[0m \u001b[0mdH_DnN\u001b[0m\u001b[0;34m\u001b[0m\u001b[0m\n",
      "\u001b[0;31mKeyboardInterrupt\u001b[0m: "
     ]
    }
   ],
   "source": [
    "exampleA_trial_solution.train(samples, int(1000))"
   ]
  },
  {
   "cell_type": "markdown",
   "metadata": {},
   "source": [
    "### Plotting the results \n",
    "\n",
    "The numerical solution (training set - red, valdiaiton set - green) along with the analytical solution (blue)."
   ]
  },
  {
   "cell_type": "code",
   "execution_count": 19,
   "metadata": {
    "scrolled": true
   },
   "outputs": [
    {
     "data": {
      "image/png": "[encoded data removed]",
      "text/plain": [
       "<matplotlib.figure.Figure at 0x7fc0e565fe80>"
      ]
     },
     "metadata": {},
     "output_type": "display_data"
    }
   ],
   "source": [
    "fig = plt.figure()\n",
    "ax = fig.add_subplot(111, projection='3d')\n",
    "new_shape = int(np.sqrt(samples.shape[0]))\n",
    "ZeAsol = np.array([exampleA_trial_solution.predict(samples[i]) for i in range(samples.shape[0])]).reshape((samples.shape[0],))\n",
    "ax.plot_surface(X=samples[:,0].reshape((new_shape, new_shape)), Y=samples[:,1].reshape((new_shape, new_shape)), Z=ZeAsol.reshape((new_shape, new_shape)), label='Numerical - Training')\n",
    "# ax.scatter3D(xs=samples[:,0], ys=samples[:,1], zs=ZeAsol, label='Numerical - Training')\n",
    "# plt.legend()\n",
    "plt.show()"
   ]
  },
  {
   "cell_type": "code",
   "execution_count": null,
   "metadata": {},
   "outputs": [],
   "source": [
    "fig = plt.figure()\n",
    "ax = fig.add_subplot(111, projection='3d')\n",
    "ZeAanal = (samples[:,0] + samples[:,1]**3) * np.exp(-samples[:, 0])\n",
    "ZeAdiff = ZeAsol - ZeAanal\n",
    "ax.plot_surface(X=samples[:,0].reshape((new_shape, new_shape)), Y=samples[:,1].reshape((new_shape, new_shape)), Z=ZeAanal.reshape((new_shape, new_shape)), label='Analytic')\n",
    "# plt.legend()\n",
    "plt.show()"
   ]
  },
  {
   "cell_type": "code",
   "execution_count": null,
   "metadata": {},
   "outputs": [],
   "source": [
    "ZeAdiff.max()"
   ]
  },
  {
   "cell_type": "code",
   "execution_count": null,
   "metadata": {
    "collapsed": true
   },
   "outputs": [],
   "source": []
  }
 ],
 "metadata": {
  "kernelspec": {
   "display_name": "Python 3",
   "language": "python",
   "name": "python3"
  },
  "language_info": {
   "codemirror_mode": {
    "name": "ipython",
    "version": 3
   },
   "file_extension": ".py",
   "mimetype": "text/x-python",
   "name": "python",
   "nbconvert_exporter": "python",
   "pygments_lexer": "ipython3",
   "version": "3.6.2"
  }
 },
 "nbformat": 4,
 "nbformat_minor": 2
}
