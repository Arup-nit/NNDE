{
 "cells": [
  {
   "cell_type": "code",
   "execution_count": 1,
   "metadata": {},
   "outputs": [
    {
     "name": "stdout",
     "output_type": "stream",
     "text": [
      "Pixiedust database opened successfully\n"
     ]
    },
    {
     "data": {
      "text/html": [
       "\n",
       "        <div style=\"margin:10px\">\n",
       "            <a href=\"https://github.com/ibm-watson-data-lab/pixiedust\" target=\"_new\">\n",
       "                <img src=\"https://github.com/ibm-watson-data-lab/pixiedust/raw/master/docs/_static/pd_icon32.png\" style=\"float:left;margin-right:10px\"/>\n",
       "            </a>\n",
       "            <span>Pixiedust version 1.1.15</span>\n",
       "        </div>\n",
       "        "
      ],
      "text/plain": [
       "<IPython.core.display.HTML object>"
      ]
     },
     "metadata": {},
     "output_type": "display_data"
    }
   ],
   "source": [
    "%load_ext autoreload\n",
    "%autoreload 2\n",
    "import numpy as np\n",
    "import matplotlib.pyplot as plt\n",
    "import nnde\n",
    "from mpl_toolkits.mplot3d import Axes3D\n",
    "np.seterr(all='raise')\n",
    "import pixiedust"
   ]
  },
  {
   "cell_type": "markdown",
   "metadata": {},
   "source": [
    "# Solving ODEs"
   ]
  },
  {
   "cell_type": "markdown",
   "metadata": {},
   "source": [
    "## Example 1\n",
    "\n",
    "$\\frac{d}{dx}\\Psi+(x+\\frac{1+3x^2}{1+x+x^3})\\Psi=x^3+2x+x^2\\frac{1+3x^2}{1+x+x^3}$\n",
    "\n",
    "With boundary initial condition $\\Psi(0)=1$ and domain $x\\in[0,1]$"
   ]
  },
  {
   "cell_type": "code",
   "execution_count": 2,
   "metadata": {
    "collapsed": true
   },
   "outputs": [],
   "source": [
    "Xe1 = np.arange(0,1,0.1) + 1e-6\n",
    "Xe1 = Xe1.reshape((Xe1.shape[0],1,1))"
   ]
  },
  {
   "cell_type": "markdown",
   "metadata": {},
   "source": [
    "The trial solution for this case is $\\Psi(x)=1 + x N(x)$.\n",
    "The first function below is the function $A(x)=1$\n",
    "and the second function is the function $B(x)=x$."
   ]
  },
  {
   "cell_type": "code",
   "execution_count": 3,
   "metadata": {
    "collapsed": true
   },
   "outputs": [],
   "source": [
    "def example1_initial_value(point):\n",
    "  return 1"
   ]
  },
  {
   "cell_type": "code",
   "execution_count": 4,
   "metadata": {
    "collapsed": true
   },
   "outputs": [],
   "source": [
    "def example1_boundary_vanishing(point):\n",
    "  return point"
   ]
  },
  {
   "cell_type": "markdown",
   "metadata": {},
   "source": [
    "### Defining the loss function for a single point and a whole set\n",
    "\n",
    "The loss function is based on the formula:\n",
    "$$Loss(N)=\\sum_i \\left(L\\Psi(x_i, N(x_i))-f(x_i,\\Psi(x_i, N(x_i))) \\right)^2$$\n",
    "Where N(x) is the neural network and L is some differential operator."
   ]
  },
  {
   "cell_type": "code",
   "execution_count": 5,
   "metadata": {
    "collapsed": true
   },
   "outputs": [],
   "source": [
    "def example1_loss_function_single_point(self, point, non_squared=False, *kwargs):\n",
    "  N = self.forward_pass(point, 0)\n",
    "  dN = self.forward_pass(point, 1)\n",
    "  loss = (\n",
    "      point * dN + N + (point + (1 + 3 * point ** 2)/(1 + point + point ** 3)) * (1 + point * N) \n",
    "      - point ** 3 - 2 * point - point ** 2 *(1 + 3 * point ** 2)/(1 + point + point ** 3)\n",
    "    )\n",
    "  if not non_squared:\n",
    "    loss = loss ** 2\n",
    "  return loss[0,0]"
   ]
  },
  {
   "cell_type": "code",
   "execution_count": 6,
   "metadata": {
    "collapsed": true
   },
   "outputs": [],
   "source": [
    "def example1_loss_function(self, samples, *kwargs):\n",
    "  loss = 0\n",
    "  for i in range(samples.shape[0]):\n",
    "    loss += self.loss_function_single_point(self, samples[i])\n",
    "  return loss/samples.shape[0]"
   ]
  },
  {
   "cell_type": "markdown",
   "metadata": {},
   "source": [
    "### Defining the update rules\n",
    "\n",
    "The following functions represent $\\frac{\\partial Loss}{\\partial \\vec{b}}$, $\\frac{\\partial Loss}{\\partial H}$, and $\\frac{\\partial Loss}{\\partial V}$"
   ]
  },
  {
   "cell_type": "code",
   "execution_count": 7,
   "metadata": {
    "collapsed": true
   },
   "outputs": [],
   "source": [
    "def example1_bias_change(self, point, label, *kwargs):\n",
    "  db = np.zeros((self.hidden_dim, 1)).astype(dtype=\"float64\")\n",
    "  loss_sqrt = self.loss_function_single_point(self, point, non_squared=True)\n",
    "  db_N = self.network_derivative_bias(point, 0)\n",
    "  db_DN = self.network_derivative_bias(point, 1)\n",
    "  point = point.reshape((1,))\n",
    "  for m in range(self.hidden_dim):\n",
    "    db[m] += 2 * loss_sqrt * (\n",
    "      point * db_DN[0, 0, m] + db_N[0, 0, m] + (point + (1 + 3 * point ** 2)/(1 + point + point ** 3)) * point * db_N[0, 0, m])\n",
    "  return db"
   ]
  },
  {
   "cell_type": "code",
   "execution_count": 8,
   "metadata": {
    "collapsed": true
   },
   "outputs": [],
   "source": [
    "def example1_hidden_weights_change(self, point, *kwargs):\n",
    "  dH = np.zeros((self.hidden_dim, self.input_dim)).astype(dtype=\"float64\")\n",
    "  loss_sqrt = self.loss_function_single_point(self, point, non_squared=True)\n",
    "  dH_N = self.network_derivative_hidden_weights(point, 0)\n",
    "  dH_DN = self.network_derivative_hidden_weights(point, 1)\n",
    "  for m in range(self.hidden_dim):\n",
    "    for p in range(self.input_dim):\n",
    "      dH[m, p] += 2 * loss_sqrt * (\n",
    "        point * dH_DN[0, 0, m, p] + dH_N[0, 0, m, p] + (point + (1 + 3 * point ** 2)/(1 + point + point ** 3)) * point * dH_N[0, 0, m, p])\n",
    "  return dH"
   ]
  },
  {
   "cell_type": "code",
   "execution_count": 9,
   "metadata": {
    "collapsed": true
   },
   "outputs": [],
   "source": [
    "def example1_visible_weights_change(self, point, *kwargs):\n",
    "  dV = np.zeros((self.visible_dim, self.hidden_dim)).astype(dtype=\"float64\")\n",
    "  loss_sqrt = self.loss_function_single_point(self, point, non_squared=True)\n",
    "  dV_N = self.network_derivative_visible_weights(point, 0)\n",
    "  dV_DN = self.network_derivative_visible_weights(point, 1)\n",
    "  for m in range(self.visible_dim):\n",
    "    for p in range(self.hidden_dim):\n",
    "      dV[m, p] += 2 * loss_sqrt * (\n",
    "        point * dV_DN[0, 0, m, p] + dV_N[0, 0, m, p] + (point + (1 + 3 * point ** 2)/(1 + point + point ** 3)) * point * dV_N[0, 0, m, p])\n",
    "  return dV"
   ]
  },
  {
   "cell_type": "markdown",
   "metadata": {},
   "source": [
    "### Defining the trial solution with an apropiate network"
   ]
  },
  {
   "cell_type": "code",
   "execution_count": 10,
   "metadata": {
    "collapsed": true
   },
   "outputs": [],
   "source": [
    "example1_trial_solution = nnde.TrialSolution(loss_function=example1_loss_function,\n",
    "                                        loss_function_single_point=example1_loss_function_single_point,\n",
    "                                        bias_change=example1_bias_change,\n",
    "                                        hidden_weights_change=example1_hidden_weights_change,\n",
    "                                        visible_weights_change=example1_visible_weights_change,\n",
    "                                        boundary_condition_value_function=example1_initial_value,\n",
    "                                        boundary_vanishing_function=example1_boundary_vanishing,\n",
    "                                        input_dim=1, hidden_dim=10, output_dim=1, learning_rate=1e-1, momentum=1e-1)"
   ]
  },
  {
   "cell_type": "markdown",
   "metadata": {},
   "source": [
    "### Training"
   ]
  },
  {
   "cell_type": "code",
   "execution_count": 11,
   "metadata": {},
   "outputs": [
    {
     "name": "stdout",
     "output_type": "stream",
     "text": [
      "Epoch: 1 Loss function: 8.197887913724518\n",
      "Epoch: 2 Loss function: 1.1460515718355655\n",
      "Epoch: 3 Loss function: 0.7221887638126617\n",
      "Epoch: 4 Loss function: 0.5738534962399705\n",
      "Epoch: 5 Loss function: 0.4973431900519184\n",
      "Epoch: 6 Loss function: 0.45130179634271667\n",
      "Epoch: 7 Loss function: 0.42026557467596515\n",
      "Epoch: 8 Loss function: 0.39579525608825683\n",
      "Epoch: 9 Loss function: 0.3754726100687232\n",
      "Epoch: 10 Loss function: 0.3579722467848832\n",
      "Epoch: 11 Loss function: 0.3414075105722797\n",
      "Epoch: 12 Loss function: 0.3256570903324295\n",
      "Epoch: 13 Loss function: 0.31069565536046295\n",
      "Epoch: 14 Loss function: 0.2950279148832206\n",
      "Epoch: 15 Loss function: 0.2799368790818043\n",
      "Epoch: 16 Loss function: 0.265928765812644\n",
      "Epoch: 17 Loss function: 0.2518603202052419\n",
      "Epoch: 18 Loss function: 0.23864666346561766\n",
      "Epoch: 19 Loss function: 0.22729121547553766\n",
      "Epoch: 20 Loss function: 0.21751179162042014\n",
      "Epoch: 21 Loss function: 0.20841506279802957\n",
      "Epoch: 22 Loss function: 0.20066106629651942\n",
      "Epoch: 23 Loss function: 0.1936748486693457\n",
      "Epoch: 24 Loss function: 0.1875817914620874\n",
      "Epoch: 25 Loss function: 0.1821522686949913\n",
      "Epoch: 26 Loss function: 0.17726147570840878\n",
      "Epoch: 27 Loss function: 0.1724702193232768\n",
      "Epoch: 28 Loss function: 0.16817021908432433\n",
      "Epoch: 29 Loss function: 0.16434879819153714\n",
      "Epoch: 30 Loss function: 0.16077494464822353\n",
      "Epoch: 31 Loss function: 0.1573878565874787\n",
      "Epoch: 32 Loss function: 0.15417693464154436\n",
      "Epoch: 33 Loss function: 0.1513086689049745\n",
      "Epoch: 34 Loss function: 0.1485614057684687\n",
      "Epoch: 35 Loss function: 0.14608475848345606\n",
      "Epoch: 36 Loss function: 0.1437219550250916\n",
      "Epoch: 37 Loss function: 0.1415128465860974\n",
      "Epoch: 38 Loss function: 0.13941913874592407\n",
      "Epoch: 39 Loss function: 0.13749566078906628\n",
      "Epoch: 40 Loss function: 0.13563391289025495\n",
      "Epoch: 41 Loss function: 0.1339512002828038\n",
      "Epoch: 42 Loss function: 0.13229755399049276\n",
      "Epoch: 43 Loss function: 0.13075960606670503\n",
      "Epoch: 44 Loss function: 0.1293848785810868\n",
      "Epoch: 45 Loss function: 0.12801845561879086\n",
      "Epoch: 46 Loss function: 0.12675535388139184\n",
      "Epoch: 47 Loss function: 0.12552938636076458\n",
      "Epoch: 48 Loss function: 0.12430727857987339\n",
      "Epoch: 49 Loss function: 0.12318607379566533\n",
      "Epoch: 50 Loss function: 0.1221293398752209\n",
      "Epoch: 51 Loss function: 0.1211277601401109\n",
      "Epoch: 52 Loss function: 0.12014269006717035\n",
      "Epoch: 53 Loss function: 0.11920672230909721\n",
      "Epoch: 54 Loss function: 0.11832848041346974\n",
      "Epoch: 55 Loss function: 0.11748285644541488\n",
      "Epoch: 56 Loss function: 0.11668846928920767\n",
      "Epoch: 57 Loss function: 0.11589083328692872\n",
      "Epoch: 58 Loss function: 0.11515741276662574\n",
      "Epoch: 59 Loss function: 0.1144305118592241\n",
      "Epoch: 60 Loss function: 0.11375858486512753\n",
      "Epoch: 61 Loss function: 0.11308909386122039\n",
      "Epoch: 62 Loss function: 0.11246400729375614\n",
      "Epoch: 63 Loss function: 0.11183206452041787\n",
      "Epoch: 64 Loss function: 0.11125068566447018\n",
      "Epoch: 65 Loss function: 0.11066325519140746\n",
      "Epoch: 66 Loss function: 0.1100984337277762\n",
      "Epoch: 67 Loss function: 0.10952562369826098\n",
      "Epoch: 68 Loss function: 0.10899641349601358\n",
      "Epoch: 69 Loss function: 0.1084552424114264\n",
      "Epoch: 70 Loss function: 0.10796244515817068\n",
      "Epoch: 71 Loss function: 0.1074602549204244\n",
      "Epoch: 72 Loss function: 0.10698203733701972\n",
      "Epoch: 73 Loss function: 0.10651412729882333\n",
      "Epoch: 74 Loss function: 0.106067420930623\n",
      "Epoch: 75 Loss function: 0.10564901858552042\n",
      "Epoch: 76 Loss function: 0.10521612933043928\n",
      "Epoch: 77 Loss function: 0.10479897327717488\n",
      "Epoch: 78 Loss function: 0.10440622271979885\n",
      "Epoch: 79 Loss function: 0.10401264091988806\n",
      "Epoch: 80 Loss function: 0.10362330869568982\n",
      "Epoch: 81 Loss function: 0.10323615075600613\n",
      "Epoch: 82 Loss function: 0.10287597753993367\n",
      "Epoch: 83 Loss function: 0.10251819343973197\n",
      "Epoch: 84 Loss function: 0.10217360563037317\n",
      "Epoch: 85 Loss function: 0.10183796005632735\n",
      "Epoch: 86 Loss function: 0.10150007803972051\n",
      "Epoch: 87 Loss function: 0.10116781172899239\n",
      "Epoch: 88 Loss function: 0.1008364251002571\n",
      "Epoch: 89 Loss function: 0.10052255001696414\n",
      "Epoch: 90 Loss function: 0.10021519774752027\n",
      "Epoch: 91 Loss function: 0.0999082134330445\n",
      "Epoch: 92 Loss function: 0.09961816489881686\n",
      "Epoch: 93 Loss function: 0.09931515569269213\n",
      "Epoch: 94 Loss function: 0.09902060667752956\n",
      "Epoch: 95 Loss function: 0.09871560166782722\n",
      "Epoch: 96 Loss function: 0.0984202234012622\n",
      "Epoch: 97 Loss function: 0.09813579089591434\n",
      "Epoch: 98 Loss function: 0.09787459063145748\n",
      "Epoch: 99 Loss function: 0.09759005070386362\n",
      "Epoch: 100 Loss function: 0.09732532115383985\n"
     ]
    }
   ],
   "source": [
    "example1_trial_solution.train(Xe1, 100)"
   ]
  },
  {
   "cell_type": "markdown",
   "metadata": {},
   "source": [
    "### Plotting the results \n",
    "\n",
    "The numerical solution (training set - red, valdiaiton set - green) along with the analytical solution (blue)."
   ]
  },
  {
   "cell_type": "code",
   "execution_count": 12,
   "metadata": {},
   "outputs": [
    {
     "data": {
      "image/png": "[encoded data removed]",
      "text/plain": [
       "<matplotlib.figure.Figure at 0x7faed57eb9e8>"
      ]
     },
     "metadata": {},
     "output_type": "display_data"
    }
   ],
   "source": [
    "Xe1plot = np.arange(0,1.5, 0.01)\n",
    "Xe1plot = Xe1plot.reshape((Xe1plot.shape[0], 1, 1))\n",
    "Ye1 = np.array([example1_trial_solution.predict(Xe1plot[i]) for i in range(Xe1plot.shape[0])]).reshape((Xe1plot.shape[0],))\n",
    "Xe1plot = Xe1plot.reshape((Xe1plot.shape[0],))\n",
    "plt.scatter(Xe1plot, Ye1, c='g', label='Numerical - validation', marker='x', s=1)\n",
    "Ye12 = np.array([np.exp(-0.5*Xe1plot[i]**2)/(1+Xe1plot[i]+Xe1plot[i]**3) + Xe1plot[i]**2 for i in range(Xe1plot.shape[0])])\n",
    "plt.plot(Xe1plot, Ye12, c='b', label='Analytic')\n",
    "Ye1sol = np.array([example1_trial_solution.predict(Xe1[i]) for i in range(Xe1.shape[0])]).reshape((Xe1.shape[0],))\n",
    "plt.scatter(Xe1.reshape((Xe1.shape[0],)), Ye1sol, c='r', label='Numerical - Training', marker='+', s=30)\n",
    "plt.legend()\n",
    "plt.show()"
   ]
  },
  {
   "cell_type": "markdown",
   "metadata": {},
   "source": [
    "## Example 2\n",
    "\n",
    "$\\frac{d}{dx}\\Psi+\\frac{1}{5}\\Psi=\\exp(-\\frac{x}{5})\\cos(x)$\n",
    "\n",
    "With boundary initial condition $\\Psi(0)=0$ and domain $x\\in[0,2]$"
   ]
  },
  {
   "cell_type": "code",
   "execution_count": 13,
   "metadata": {
    "collapsed": true
   },
   "outputs": [],
   "source": [
    "Xe2 = np.arange(0,2,0.2) + 1e-6\n",
    "Xe2 = Xe2.reshape((Xe2.shape[0],1,1))"
   ]
  },
  {
   "cell_type": "markdown",
   "metadata": {},
   "source": [
    "The trial solution for this case is $\\Psi(x)=x N(x)$.\n",
    "The first function below is the function $A(x)=0$\n",
    "and the second function is the function $B(x)=x$."
   ]
  },
  {
   "cell_type": "code",
   "execution_count": 14,
   "metadata": {
    "collapsed": true
   },
   "outputs": [],
   "source": [
    "def example2_initial_value(point):\n",
    "  return 0"
   ]
  },
  {
   "cell_type": "code",
   "execution_count": 15,
   "metadata": {
    "collapsed": true
   },
   "outputs": [],
   "source": [
    "def example2_boundary_vanishing(point):\n",
    "  return point"
   ]
  },
  {
   "cell_type": "markdown",
   "metadata": {},
   "source": [
    "### Defining the loss function for a single point and a whole set\n",
    "\n",
    "The loss function is based on the formula:\n",
    "$$Loss(N)=\\sum_i \\left(L\\Psi(x_i, N(x_i))-f(x_i,\\Psi(x_i, N(x_i))) \\right)^2$$\n",
    "Where N(x) is the neural network and L is some differential operator."
   ]
  },
  {
   "cell_type": "code",
   "execution_count": 16,
   "metadata": {
    "collapsed": true
   },
   "outputs": [],
   "source": [
    "def example2_loss_function_single_point(self, point, non_squared=False, *kwargs):\n",
    "  N = self.forward_pass(point, 0)\n",
    "  dN = self.forward_pass(point, 1)\n",
    "  loss = (\n",
    "      point * dN + N + 0.2 * point * N - np.exp(-0.2*point)*np.cos(point)\n",
    "    )\n",
    "  if not non_squared:\n",
    "    loss = loss ** 2\n",
    "  return loss[0,0]"
   ]
  },
  {
   "cell_type": "code",
   "execution_count": 17,
   "metadata": {
    "collapsed": true
   },
   "outputs": [],
   "source": [
    "def example2_loss_function(self, samples, *kwargs):\n",
    "  loss = 0\n",
    "  for i in range(samples.shape[0]):\n",
    "    loss += self.loss_function_single_point(self, samples[i])\n",
    "  return loss/samples.shape[0]"
   ]
  },
  {
   "cell_type": "markdown",
   "metadata": {},
   "source": [
    "### Defining the update rules\n",
    "\n",
    "The following functions represent $\\frac{\\partial Loss}{\\partial \\vec{b}}$, $\\frac{\\partial Loss}{\\partial H}$, and $\\frac{\\partial Loss}{\\partial V}$"
   ]
  },
  {
   "cell_type": "code",
   "execution_count": 18,
   "metadata": {
    "collapsed": true
   },
   "outputs": [],
   "source": [
    "def example2_bias_change(self, point, label, *kwargs):\n",
    "  db = np.zeros((self.hidden_dim, 1)).astype(dtype=\"float64\")\n",
    "  loss_sqrt = self.loss_function_single_point(self, point, non_squared=True)\n",
    "  db_N = self.network_derivative_bias(point, 0)\n",
    "  db_DN = self.network_derivative_bias(point, 1)\n",
    "  point = point.reshape((1,))\n",
    "  for m in range(self.hidden_dim):\n",
    "    db[m] += 2 * loss_sqrt * ( point * db_DN[0, 0, m] + db_N[0, 0, m] + 0.2 * point * db_N[0, 0, m])\n",
    "  return db"
   ]
  },
  {
   "cell_type": "code",
   "execution_count": 19,
   "metadata": {
    "collapsed": true
   },
   "outputs": [],
   "source": [
    "def example2_hidden_weights_change(self, point, *kwargs):\n",
    "  dH = np.zeros((self.hidden_dim, self.input_dim)).astype(dtype=\"float64\")\n",
    "  loss_sqrt = self.loss_function_single_point(self, point, non_squared=True)\n",
    "  dH_N = self.network_derivative_hidden_weights(point, 0)\n",
    "  dH_DN = self.network_derivative_hidden_weights(point, 1)\n",
    "  for m in range(self.hidden_dim):\n",
    "    for p in range(self.input_dim):\n",
    "      dH[m, p] += 2 * loss_sqrt * ( point * dH_DN[0, 0, m, p] + dH_N[0, 0, m, p] + 0.2 * point * dH_N[0, 0, m, p])\n",
    "  return dH"
   ]
  },
  {
   "cell_type": "code",
   "execution_count": 20,
   "metadata": {
    "collapsed": true
   },
   "outputs": [],
   "source": [
    "def example2_visible_weights_change(self, point, *kwargs):\n",
    "  dV = np.zeros((self.visible_dim, self.hidden_dim)).astype(dtype=\"float64\")\n",
    "  loss_sqrt = self.loss_function_single_point(self, point, non_squared=True)\n",
    "  dV_N = self.network_derivative_visible_weights(point, 0)\n",
    "  dV_DN = self.network_derivative_visible_weights(point, 1)\n",
    "  for m in range(self.visible_dim):\n",
    "    for p in range(self.hidden_dim):\n",
    "      dV[m, p] += 2 * loss_sqrt * (point * dV_DN[0, 0, m, p] + dV_N[0, 0, m, p] + 0.2 * point * dV_N[0, 0, m, p])\n",
    "  return dV"
   ]
  },
  {
   "cell_type": "markdown",
   "metadata": {},
   "source": [
    "### Defining the trial solution with an apropiate network"
   ]
  },
  {
   "cell_type": "code",
   "execution_count": 21,
   "metadata": {
    "collapsed": true
   },
   "outputs": [],
   "source": [
    "example2_trial_solution = nnde.TrialSolution(loss_function=example2_loss_function,\n",
    "                                        loss_function_single_point=example2_loss_function_single_point,\n",
    "                                        bias_change=example2_bias_change,\n",
    "                                        hidden_weights_change=example2_hidden_weights_change,\n",
    "                                        visible_weights_change=example2_visible_weights_change,\n",
    "                                        boundary_condition_value_function=example2_initial_value,\n",
    "                                        boundary_vanishing_function=example2_boundary_vanishing,\n",
    "                                        input_dim=1, hidden_dim=10, output_dim=1, learning_rate=1e-1, momentum=1e-1)"
   ]
  },
  {
   "cell_type": "markdown",
   "metadata": {},
   "source": [
    "### Training"
   ]
  },
  {
   "cell_type": "code",
   "execution_count": 22,
   "metadata": {},
   "outputs": [
    {
     "name": "stdout",
     "output_type": "stream",
     "text": [
      "Epoch: 1 Loss function: 0.09878618294734955\n",
      "Epoch: 2 Loss function: 0.033519191469976756\n",
      "Epoch: 3 Loss function: 0.014331704813076307\n",
      "Epoch: 4 Loss function: 0.005945769493414348\n",
      "Epoch: 5 Loss function: 0.0028787795100903004\n",
      "Epoch: 6 Loss function: 0.0019629434729199215\n",
      "Epoch: 7 Loss function: 0.00309617791193949\n",
      "Epoch: 8 Loss function: 0.0015072899551728735\n",
      "Epoch: 9 Loss function: 0.0016782752630100032\n",
      "Epoch: 10 Loss function: 0.0016299644092348797\n",
      "Epoch: 11 Loss function: 0.0022902188243355158\n",
      "Epoch: 12 Loss function: 0.0022800449938937418\n",
      "Epoch: 13 Loss function: 0.0017576518724682722\n",
      "Epoch: 14 Loss function: 0.0012536702220684384\n",
      "Epoch: 15 Loss function: 0.0013127387967209866\n",
      "Epoch: 16 Loss function: 0.0014216209365943838\n",
      "Epoch: 17 Loss function: 0.001259975751462654\n",
      "Epoch: 18 Loss function: 0.0013843951991158844\n",
      "Epoch: 19 Loss function: 0.0012297800175653775\n",
      "Epoch: 20 Loss function: 0.0010865640311434894\n",
      "Epoch: 21 Loss function: 0.0010740827076553485\n",
      "Epoch: 22 Loss function: 0.0019418351362575537\n",
      "Epoch: 23 Loss function: 0.0010346828249275745\n",
      "Epoch: 24 Loss function: 0.0011890338248207093\n",
      "Epoch: 25 Loss function: 0.0010970033656161023\n",
      "Epoch: 26 Loss function: 0.0011222791062400661\n",
      "Epoch: 27 Loss function: 0.0010628219046563813\n",
      "Epoch: 28 Loss function: 0.0009595092144935221\n",
      "Epoch: 29 Loss function: 0.0009581229529178913\n",
      "Epoch: 30 Loss function: 0.000931395501057995\n",
      "Epoch: 31 Loss function: 0.0009390262015021914\n",
      "Epoch: 32 Loss function: 0.0009151882696815753\n",
      "Epoch: 33 Loss function: 0.0009013309208181224\n",
      "Epoch: 34 Loss function: 0.0008865234359856785\n",
      "Epoch: 35 Loss function: 0.0009393808801215719\n",
      "Epoch: 36 Loss function: 0.0009586964301172592\n",
      "Epoch: 37 Loss function: 0.0008593733586820967\n",
      "Epoch: 38 Loss function: 0.0008575572433497984\n",
      "Epoch: 39 Loss function: 0.0008548387948538746\n",
      "Epoch: 40 Loss function: 0.0008446034446811449\n",
      "Epoch: 41 Loss function: 0.0008695354870259519\n",
      "Epoch: 42 Loss function: 0.0008211221511276019\n",
      "Epoch: 43 Loss function: 0.000819647654285248\n",
      "Epoch: 44 Loss function: 0.0008178877842587825\n",
      "Epoch: 45 Loss function: 0.0008014353052467484\n",
      "Epoch: 46 Loss function: 0.0008037744669751997\n",
      "Epoch: 47 Loss function: 0.0007950780674829556\n",
      "Epoch: 48 Loss function: 0.0007911906859140615\n",
      "Epoch: 49 Loss function: 0.000785198007558506\n",
      "Epoch: 50 Loss function: 0.0007724321798083294\n",
      "Epoch: 51 Loss function: 0.0007706062537827995\n",
      "Epoch: 52 Loss function: 0.0007635655910695227\n",
      "Epoch: 53 Loss function: 0.0007655169368579254\n",
      "Epoch: 54 Loss function: 0.0007667852237235848\n",
      "Epoch: 55 Loss function: 0.0007749478471860628\n",
      "Epoch: 56 Loss function: 0.0007587418662387098\n",
      "Epoch: 57 Loss function: 0.0007401181431772203\n",
      "Epoch: 58 Loss function: 0.000735656128403266\n",
      "Epoch: 59 Loss function: 0.0007315163936456317\n",
      "Epoch: 60 Loss function: 0.0007270381980173524\n",
      "Epoch: 61 Loss function: 0.0007234910332171937\n",
      "Epoch: 62 Loss function: 0.0007196987735337119\n",
      "Epoch: 63 Loss function: 0.0007153319713458336\n",
      "Epoch: 64 Loss function: 0.0007173877213935679\n",
      "Epoch: 65 Loss function: 0.0007085933756854806\n",
      "Epoch: 66 Loss function: 0.0007048877563793196\n",
      "Epoch: 67 Loss function: 0.0007059167841509673\n",
      "Epoch: 68 Loss function: 0.0007015323596563352\n",
      "Epoch: 69 Loss function: 0.000695097710179802\n",
      "Epoch: 70 Loss function: 0.000692806048691616\n",
      "Epoch: 71 Loss function: 0.0006896069518615518\n",
      "Epoch: 72 Loss function: 0.0006877240812686631\n",
      "Epoch: 73 Loss function: 0.0006824121340298783\n",
      "Epoch: 74 Loss function: 0.0006815226662850067\n",
      "Epoch: 75 Loss function: 0.0006776299697961725\n",
      "Epoch: 76 Loss function: 0.0006787304338444305\n",
      "Epoch: 77 Loss function: 0.0006726028632729145\n",
      "Epoch: 78 Loss function: 0.0006784343588343856\n",
      "Epoch: 79 Loss function: 0.0006699981786181731\n",
      "Epoch: 80 Loss function: 0.0006625223230220872\n",
      "Epoch: 81 Loss function: 0.0006635388414210553\n",
      "Epoch: 82 Loss function: 0.0006571897814234911\n",
      "Epoch: 83 Loss function: 0.0006547981294911659\n",
      "Epoch: 84 Loss function: 0.0006517789103344534\n",
      "Epoch: 85 Loss function: 0.0006489603818980596\n",
      "Epoch: 86 Loss function: 0.0006464340088452519\n",
      "Epoch: 87 Loss function: 0.0006463130735949496\n",
      "Epoch: 88 Loss function: 0.0006415730498934467\n",
      "Epoch: 89 Loss function: 0.0006410507316090772\n",
      "Epoch: 90 Loss function: 0.000638827572995553\n",
      "Epoch: 91 Loss function: 0.0006349823431864083\n",
      "Epoch: 92 Loss function: 0.0006345946133157009\n",
      "Epoch: 93 Loss function: 0.0006294627434936588\n",
      "Epoch: 94 Loss function: 0.0006274362345519706\n",
      "Epoch: 95 Loss function: 0.0006247726303995248\n",
      "Epoch: 96 Loss function: 0.0006221096321283841\n",
      "Epoch: 97 Loss function: 0.0006201099942911108\n",
      "Epoch: 98 Loss function: 0.0006185230570615497\n",
      "Epoch: 99 Loss function: 0.0006152786122976885\n",
      "Epoch: 100 Loss function: 0.0006129500064883151\n"
     ]
    }
   ],
   "source": [
    "example2_trial_solution.train(Xe2, 100)"
   ]
  },
  {
   "cell_type": "markdown",
   "metadata": {},
   "source": [
    "### Plotting the results \n",
    "\n",
    "The numerical solution (training set - red, valdiaiton set - green) along with the analytical solution (blue)."
   ]
  },
  {
   "cell_type": "code",
   "execution_count": 23,
   "metadata": {},
   "outputs": [
    {
     "data": {
      "image/png": "[encoded data removed]",
      "text/plain": [
       "<matplotlib.figure.Figure at 0x7faed57f0be0>"
      ]
     },
     "metadata": {},
     "output_type": "display_data"
    }
   ],
   "source": [
    "Ye2sol = np.array([example2_trial_solution.predict(Xe2[i]) for i in range(Xe2.shape[0])]).reshape((Xe2.shape[0],))\n",
    "plt.scatter(Xe2.reshape((Xe2.shape[0],)), Ye2sol, c='r', label='Numerical - Training', marker='+', s=30)\n",
    "Xe2plot = np.arange(0,2.5, 0.01)\n",
    "Xe2plot = Xe2plot.reshape((Xe2plot.shape[0], 1, 1))\n",
    "Ye2 = np.array([example2_trial_solution.predict(Xe2plot[i]) for i in range(Xe2plot.shape[0])]).reshape((Xe2plot.shape[0],))\n",
    "Xe2plot = Xe2plot.reshape((Xe2plot.shape[0],))\n",
    "Ye22 = np.array([np.exp(-0.2*Xe2plot[i]) * np.sin(Xe2plot[i]) for i in range(Xe2plot.shape[0])])\n",
    "plt.scatter(Xe2plot, Ye2, c='g', label='Numerical- Validation', marker='x', s=1)\n",
    "plt.plot(Xe2plot, Ye22, c='b', label='Analytic')\n",
    "plt.legend()\n",
    "plt.show()"
   ]
  },
  {
   "cell_type": "markdown",
   "metadata": {},
   "source": [
    "## Example 3\n",
    "\n",
    "$\\frac{d^2}{dx^2}\\Psi+\\frac{1}{5}\\frac{d}{dx}\\Psi+\\Psi=-\\frac{1}{5}\\exp(-\\frac{x}{5})\\cos(x)$\n",
    "\n",
    "With boundary initial condition $\\Psi(0)=0$, $\\frac{d}{dx}\\Psi(0)=1$ and domain $x\\in[0,2]$"
   ]
  },
  {
   "cell_type": "code",
   "execution_count": 24,
   "metadata": {
    "collapsed": true
   },
   "outputs": [],
   "source": [
    "Xe3 = np.arange(0,2,0.2) + 1e-6\n",
    "Xe3 = Xe3.reshape((Xe3.shape[0],1,1))"
   ]
  },
  {
   "cell_type": "markdown",
   "metadata": {},
   "source": [
    "The trial solution for this case is $\\Psi(x)=x + x^2N(x)$.\n",
    "The first function below is the function $A(x)=x$\n",
    "and the second function is the function $B(x)=x^2$."
   ]
  },
  {
   "cell_type": "code",
   "execution_count": 25,
   "metadata": {
    "collapsed": true
   },
   "outputs": [],
   "source": [
    "def example3_initial_value(point):\n",
    "  return point"
   ]
  },
  {
   "cell_type": "code",
   "execution_count": 26,
   "metadata": {
    "collapsed": true
   },
   "outputs": [],
   "source": [
    "def example3_boundary_vanishing(point):\n",
    "  return point ** 2"
   ]
  },
  {
   "cell_type": "markdown",
   "metadata": {},
   "source": [
    "### Defining the loss function for a single point and a whole set\n",
    "\n",
    "The loss function is based on the formula:\n",
    "$$Loss(N)=\\sum_i \\left(L\\Psi(x_i, N(x_i))-f(x_i,\\Psi(x_i, N(x_i))) \\right)^2$$\n",
    "Where N(x) is the neural network and L is some differential operator."
   ]
  },
  {
   "cell_type": "code",
   "execution_count": 27,
   "metadata": {
    "collapsed": true
   },
   "outputs": [],
   "source": [
    "def example3_loss_function_single_point(self, point, non_squared=False, *kwargs):\n",
    "  N = self.forward_pass(point, 0)\n",
    "  dN = self.forward_pass(point, 1)\n",
    "  d2N = self.forward_pass(point, 2)\n",
    "  loss = ( 2 * N + 4 * point * dN + point ** 2 * d2N + 0.2 * (1 + 2 * point * N + point ** 2 * dN)\n",
    "     + point + point ** 2 * N + 0.2 * np.exp(-0.2*point)*np.cos(point)\n",
    "    )\n",
    "  if not non_squared:\n",
    "    loss = loss ** 2\n",
    "  return loss[0,0]"
   ]
  },
  {
   "cell_type": "code",
   "execution_count": 28,
   "metadata": {
    "collapsed": true
   },
   "outputs": [],
   "source": [
    "def example3_loss_function(self, samples, *kwargs):\n",
    "  loss = 0\n",
    "  for i in range(samples.shape[0]):\n",
    "    loss += self.loss_function_single_point(self, samples[i])\n",
    "  return loss/samples.shape[0]"
   ]
  },
  {
   "cell_type": "markdown",
   "metadata": {},
   "source": [
    "### Defining the update rules\n",
    "\n",
    "The following functions represent $\\frac{\\partial Loss}{\\partial \\vec{b}}$, $\\frac{\\partial Loss}{\\partial H}$, and $\\frac{\\partial Loss}{\\partial V}$"
   ]
  },
  {
   "cell_type": "code",
   "execution_count": 29,
   "metadata": {
    "collapsed": true
   },
   "outputs": [],
   "source": [
    "def example3_bias_change(self, point, label, *kwargs):\n",
    "  db = np.zeros((self.hidden_dim, 1)).astype(dtype=\"float64\")\n",
    "  loss_sqrt = self.loss_function_single_point(self, point, non_squared=True)\n",
    "  db_N = self.network_derivative_bias(point, 0)\n",
    "  db_DN = self.network_derivative_bias(point, 1)\n",
    "  db_D2N = self.network_derivative_bias(point, 2)\n",
    "  point = point.reshape((1,))\n",
    "  for m in range(self.hidden_dim):\n",
    "    db[m] += 2 * loss_sqrt * ( 2 * db_N[0, 0, m] + 4 * point * db_DN[0, 0, m] + point ** 2 * db_D2N[0, 0, m]\n",
    "                              + 0.2 * (2 * point * db_N[0, 0, m] + point ** 2 * db_DN[0, 0, m])\n",
    "                              + point ** 2 * db_N[0, 0, m] \n",
    "      )\n",
    "  return db"
   ]
  },
  {
   "cell_type": "code",
   "execution_count": 30,
   "metadata": {
    "collapsed": true
   },
   "outputs": [],
   "source": [
    "def example3_hidden_weights_change(self, point, *kwargs):\n",
    "  dH = np.zeros((self.hidden_dim, self.input_dim)).astype(dtype=\"float64\")\n",
    "  loss_sqrt = self.loss_function_single_point(self, point, non_squared=True)\n",
    "  dH_N = self.network_derivative_hidden_weights(point, 0)\n",
    "  dH_DN = self.network_derivative_hidden_weights(point, 1)\n",
    "  dH_D2N = self.network_derivative_hidden_weights(point, 2)\n",
    "  for m in range(self.hidden_dim):\n",
    "    for p in range(self.input_dim):\n",
    "      dH[m, p] += 2 * loss_sqrt * (2 * dH_N[0, 0, m, p] + 4 * point * dH_DN[0, 0, m, p] + point ** 2 * dH_D2N[0, 0, m, p]\n",
    "                              + 0.2 * (2 * point * dH_N[0, 0, m, p] + point ** 2 * dH_DN[0, 0, m, p])\n",
    "                              + point ** 2 * dH_N[0, 0, m, p]\n",
    "      )\n",
    "  return dH"
   ]
  },
  {
   "cell_type": "code",
   "execution_count": 31,
   "metadata": {
    "collapsed": true
   },
   "outputs": [],
   "source": [
    "def example3_visible_weights_change(self, point, *kwargs):\n",
    "  dV = np.zeros((self.visible_dim, self.hidden_dim)).astype(dtype=\"float64\")\n",
    "  loss_sqrt = self.loss_function_single_point(self, point, non_squared=True)\n",
    "  dV_N = self.network_derivative_visible_weights(point, 0)\n",
    "  dV_DN = self.network_derivative_visible_weights(point, 1)\n",
    "  dV_D2N = self.network_derivative_visible_weights(point, 2)\n",
    "  for m in range(self.visible_dim):\n",
    "    for p in range(self.hidden_dim):\n",
    "      dV[m, p] += 2 * loss_sqrt * (2 * dV_N[0, 0, m, p] + 4 * point * dV_DN[0, 0, m, p] + point ** 2 * dV_D2N[0, 0, m, p]\n",
    "                              + 0.2 * (2 * point * dV_N[0, 0, m, p] + point ** 2 * dV_DN[0, 0, m, p])\n",
    "                              + point ** 2 * dV_N[0, 0, m, p]   \n",
    "      )\n",
    "  return dV"
   ]
  },
  {
   "cell_type": "markdown",
   "metadata": {},
   "source": [
    "### Defining the trial solution with an apropiate network"
   ]
  },
  {
   "cell_type": "code",
   "execution_count": 32,
   "metadata": {
    "collapsed": true
   },
   "outputs": [],
   "source": [
    "example3_trial_solution = nnde.TrialSolution(loss_function=example3_loss_function,\n",
    "                                        loss_function_single_point=example3_loss_function_single_point,\n",
    "                                        bias_change=example3_bias_change,\n",
    "                                        hidden_weights_change=example3_hidden_weights_change,\n",
    "                                        visible_weights_change=example3_visible_weights_change,\n",
    "                                        boundary_condition_value_function=example3_initial_value,\n",
    "                                        boundary_vanishing_function=example3_boundary_vanishing,\n",
    "                                        input_dim=1, hidden_dim=10, output_dim=1, learning_rate=1e-1, momentum=1e-1)"
   ]
  },
  {
   "cell_type": "markdown",
   "metadata": {},
   "source": [
    "### Training"
   ]
  },
  {
   "cell_type": "code",
   "execution_count": 33,
   "metadata": {
    "scrolled": true
   },
   "outputs": [
    {
     "ename": "FloatingPointError",
     "evalue": "underflow encountered in exp",
     "output_type": "error",
     "traceback": [
      "\u001b[0;31m---------------------------------------------------------------------------\u001b[0m",
      "\u001b[0;31mFloatingPointError\u001b[0m                        Traceback (most recent call last)",
      "\u001b[0;32m<ipython-input-33-9e1298a9e1d2>\u001b[0m in \u001b[0;36m<module>\u001b[0;34m()\u001b[0m\n\u001b[0;32m----> 1\u001b[0;31m \u001b[0mexample3_trial_solution\u001b[0m\u001b[0;34m.\u001b[0m\u001b[0mtrain\u001b[0m\u001b[0;34m(\u001b[0m\u001b[0mXe3\u001b[0m\u001b[0;34m,\u001b[0m \u001b[0;36m100\u001b[0m\u001b[0;34m)\u001b[0m\u001b[0;34m\u001b[0m\u001b[0m\n\u001b[0m",
      "\u001b[0;32m~/Documents/GitHub/NNDE/trialsolution.py\u001b[0m in \u001b[0;36mtrain\u001b[0;34m(self, samples, epochs)\u001b[0m\n\u001b[1;32m     75\u001b[0m         \u001b[0;36m2.\u001b[0m \u001b[0mepochs\u001b[0m \u001b[0;34m-\u001b[0m \u001b[0mpositive\u001b[0m \u001b[0minteger\u001b[0m \u001b[0;34m(\u001b[0m\u001b[0msecured\u001b[0m \u001b[0;32min\u001b[0m \u001b[0mthe\u001b[0m \u001b[0mShallowNetwork\u001b[0m \u001b[0;32mclass\u001b[0m \u001b[0mtraining\u001b[0m \u001b[0mmethod\u001b[0m\u001b[0;34m)\u001b[0m\u001b[0;34m,\u001b[0m \u001b[0mnumber\u001b[0m \u001b[0mof\u001b[0m \u001b[0mtraining\u001b[0m \u001b[0mepochs\u001b[0m\u001b[0;34m.\u001b[0m\u001b[0;34m\u001b[0m\u001b[0m\n\u001b[1;32m     76\u001b[0m         '''\n\u001b[0;32m---> 77\u001b[0;31m         \u001b[0mself\u001b[0m\u001b[0;34m.\u001b[0m\u001b[0mnetwork\u001b[0m\u001b[0;34m.\u001b[0m\u001b[0mtrain\u001b[0m\u001b[0;34m(\u001b[0m\u001b[0msamples\u001b[0m\u001b[0;34m=\u001b[0m\u001b[0msamples\u001b[0m\u001b[0;34m,\u001b[0m \u001b[0mepochs\u001b[0m\u001b[0;34m=\u001b[0m\u001b[0mepochs\u001b[0m\u001b[0;34m,\u001b[0m \u001b[0mlabels\u001b[0m\u001b[0;34m=\u001b[0m\u001b[0;32mNone\u001b[0m\u001b[0;34m)\u001b[0m\u001b[0;34m\u001b[0m\u001b[0m\n\u001b[0m",
      "\u001b[0;32m~/Documents/GitHub/NNDE/shallownetwork.py\u001b[0m in \u001b[0;36mtrain\u001b[0;34m(self, samples, epochs, labels, verbose)\u001b[0m\n\u001b[1;32m    482\u001b[0m             \u001b[0;32mfor\u001b[0m \u001b[0mi\u001b[0m \u001b[0;32min\u001b[0m \u001b[0mrange\u001b[0m\u001b[0;34m(\u001b[0m\u001b[0mepochs\u001b[0m\u001b[0;34m)\u001b[0m\u001b[0;34m:\u001b[0m\u001b[0;34m\u001b[0m\u001b[0m\n\u001b[1;32m    483\u001b[0m                 \u001b[0;32mif\u001b[0m \u001b[0mlabels\u001b[0m \u001b[0;32mis\u001b[0m \u001b[0;32mNone\u001b[0m\u001b[0;34m:\u001b[0m\u001b[0;34m\u001b[0m\u001b[0m\n\u001b[0;32m--> 484\u001b[0;31m                     \u001b[0mself\u001b[0m\u001b[0;34m.\u001b[0m\u001b[0msingle_epoch_training\u001b[0m\u001b[0;34m(\u001b[0m\u001b[0mX\u001b[0m\u001b[0;34m=\u001b[0m\u001b[0msamples\u001b[0m\u001b[0;34m)\u001b[0m\u001b[0;34m\u001b[0m\u001b[0m\n\u001b[0m\u001b[1;32m    485\u001b[0m                 \u001b[0;32melse\u001b[0m\u001b[0;34m:\u001b[0m\u001b[0;34m\u001b[0m\u001b[0m\n\u001b[1;32m    486\u001b[0m                     \u001b[0mself\u001b[0m\u001b[0;34m.\u001b[0m\u001b[0msingle_epoch_training\u001b[0m\u001b[0;34m(\u001b[0m\u001b[0mX\u001b[0m\u001b[0;34m=\u001b[0m\u001b[0msamples\u001b[0m\u001b[0;34m,\u001b[0m \u001b[0mlabels\u001b[0m\u001b[0;34m=\u001b[0m\u001b[0mlabels\u001b[0m\u001b[0;34m)\u001b[0m\u001b[0;34m\u001b[0m\u001b[0m\n",
      "\u001b[0;32m~/Documents/GitHub/NNDE/shallownetwork.py\u001b[0m in \u001b[0;36msingle_epoch_training\u001b[0;34m(self, X, labels)\u001b[0m\n\u001b[1;32m    422\u001b[0m             \u001b[0;31m# --------------------------------------------------------------------------------\u001b[0m\u001b[0;34m\u001b[0m\u001b[0;34m\u001b[0m\u001b[0m\n\u001b[1;32m    423\u001b[0m             \u001b[0;31m# Bias change for given point\u001b[0m\u001b[0;34m\u001b[0m\u001b[0;34m\u001b[0m\u001b[0m\n\u001b[0;32m--> 424\u001b[0;31m             \u001b[0mcurr_bias_change\u001b[0m \u001b[0;34m=\u001b[0m \u001b[0mself\u001b[0m\u001b[0;34m.\u001b[0m\u001b[0mbias_change\u001b[0m\u001b[0;34m(\u001b[0m\u001b[0mself\u001b[0m\u001b[0;34m,\u001b[0m \u001b[0mpoint\u001b[0m\u001b[0;34m,\u001b[0m \u001b[0mlabel\u001b[0m\u001b[0;34m)\u001b[0m\u001b[0;34m\u001b[0m\u001b[0m\n\u001b[0m\u001b[1;32m    425\u001b[0m             \u001b[0;31m# --------------------------------------------------------------------------------\u001b[0m\u001b[0;34m\u001b[0m\u001b[0;34m\u001b[0m\u001b[0m\n\u001b[1;32m    426\u001b[0m             \u001b[0;31m# Hidden weights change for the given point\u001b[0m\u001b[0;34m\u001b[0m\u001b[0;34m\u001b[0m\u001b[0m\n",
      "\u001b[0;32m<ipython-input-29-34b9e49caf4c>\u001b[0m in \u001b[0;36mexample3_bias_change\u001b[0;34m(self, point, label, *kwargs)\u001b[0m\n\u001b[1;32m      1\u001b[0m \u001b[0;32mdef\u001b[0m \u001b[0mexample3_bias_change\u001b[0m\u001b[0;34m(\u001b[0m\u001b[0mself\u001b[0m\u001b[0;34m,\u001b[0m \u001b[0mpoint\u001b[0m\u001b[0;34m,\u001b[0m \u001b[0mlabel\u001b[0m\u001b[0;34m,\u001b[0m \u001b[0;34m*\u001b[0m\u001b[0mkwargs\u001b[0m\u001b[0;34m)\u001b[0m\u001b[0;34m:\u001b[0m\u001b[0;34m\u001b[0m\u001b[0m\n\u001b[1;32m      2\u001b[0m   \u001b[0mdb\u001b[0m \u001b[0;34m=\u001b[0m \u001b[0mnp\u001b[0m\u001b[0;34m.\u001b[0m\u001b[0mzeros\u001b[0m\u001b[0;34m(\u001b[0m\u001b[0;34m(\u001b[0m\u001b[0mself\u001b[0m\u001b[0;34m.\u001b[0m\u001b[0mhidden_dim\u001b[0m\u001b[0;34m,\u001b[0m \u001b[0;36m1\u001b[0m\u001b[0;34m)\u001b[0m\u001b[0;34m)\u001b[0m\u001b[0;34m.\u001b[0m\u001b[0mastype\u001b[0m\u001b[0;34m(\u001b[0m\u001b[0mdtype\u001b[0m\u001b[0;34m=\u001b[0m\u001b[0;34m\"float64\"\u001b[0m\u001b[0;34m)\u001b[0m\u001b[0;34m\u001b[0m\u001b[0m\n\u001b[0;32m----> 3\u001b[0;31m   \u001b[0mloss_sqrt\u001b[0m \u001b[0;34m=\u001b[0m \u001b[0mself\u001b[0m\u001b[0;34m.\u001b[0m\u001b[0mloss_function_single_point\u001b[0m\u001b[0;34m(\u001b[0m\u001b[0mself\u001b[0m\u001b[0;34m,\u001b[0m \u001b[0mpoint\u001b[0m\u001b[0;34m,\u001b[0m \u001b[0mnon_squared\u001b[0m\u001b[0;34m=\u001b[0m\u001b[0;32mTrue\u001b[0m\u001b[0;34m)\u001b[0m\u001b[0;34m\u001b[0m\u001b[0m\n\u001b[0m\u001b[1;32m      4\u001b[0m   \u001b[0mdb_N\u001b[0m \u001b[0;34m=\u001b[0m \u001b[0mself\u001b[0m\u001b[0;34m.\u001b[0m\u001b[0mnetwork_derivative_bias\u001b[0m\u001b[0;34m(\u001b[0m\u001b[0mpoint\u001b[0m\u001b[0;34m,\u001b[0m \u001b[0;36m0\u001b[0m\u001b[0;34m)\u001b[0m\u001b[0;34m\u001b[0m\u001b[0m\n\u001b[1;32m      5\u001b[0m   \u001b[0mdb_DN\u001b[0m \u001b[0;34m=\u001b[0m \u001b[0mself\u001b[0m\u001b[0;34m.\u001b[0m\u001b[0mnetwork_derivative_bias\u001b[0m\u001b[0;34m(\u001b[0m\u001b[0mpoint\u001b[0m\u001b[0;34m,\u001b[0m \u001b[0;36m1\u001b[0m\u001b[0;34m)\u001b[0m\u001b[0;34m\u001b[0m\u001b[0m\n",
      "\u001b[0;32m<ipython-input-27-cf417cadacf9>\u001b[0m in \u001b[0;36mexample3_loss_function_single_point\u001b[0;34m(self, point, non_squared, *kwargs)\u001b[0m\n\u001b[1;32m      1\u001b[0m \u001b[0;32mdef\u001b[0m \u001b[0mexample3_loss_function_single_point\u001b[0m\u001b[0;34m(\u001b[0m\u001b[0mself\u001b[0m\u001b[0;34m,\u001b[0m \u001b[0mpoint\u001b[0m\u001b[0;34m,\u001b[0m \u001b[0mnon_squared\u001b[0m\u001b[0;34m=\u001b[0m\u001b[0;32mFalse\u001b[0m\u001b[0;34m,\u001b[0m \u001b[0;34m*\u001b[0m\u001b[0mkwargs\u001b[0m\u001b[0;34m)\u001b[0m\u001b[0;34m:\u001b[0m\u001b[0;34m\u001b[0m\u001b[0m\n\u001b[0;32m----> 2\u001b[0;31m   \u001b[0mN\u001b[0m \u001b[0;34m=\u001b[0m \u001b[0mself\u001b[0m\u001b[0;34m.\u001b[0m\u001b[0mforward_pass\u001b[0m\u001b[0;34m(\u001b[0m\u001b[0mpoint\u001b[0m\u001b[0;34m,\u001b[0m \u001b[0;36m0\u001b[0m\u001b[0;34m)\u001b[0m\u001b[0;34m\u001b[0m\u001b[0m\n\u001b[0m\u001b[1;32m      3\u001b[0m   \u001b[0mdN\u001b[0m \u001b[0;34m=\u001b[0m \u001b[0mself\u001b[0m\u001b[0;34m.\u001b[0m\u001b[0mforward_pass\u001b[0m\u001b[0;34m(\u001b[0m\u001b[0mpoint\u001b[0m\u001b[0;34m,\u001b[0m \u001b[0;36m1\u001b[0m\u001b[0;34m)\u001b[0m\u001b[0;34m\u001b[0m\u001b[0m\n\u001b[1;32m      4\u001b[0m   \u001b[0md2N\u001b[0m \u001b[0;34m=\u001b[0m \u001b[0mself\u001b[0m\u001b[0;34m.\u001b[0m\u001b[0mforward_pass\u001b[0m\u001b[0;34m(\u001b[0m\u001b[0mpoint\u001b[0m\u001b[0;34m,\u001b[0m \u001b[0;36m2\u001b[0m\u001b[0;34m)\u001b[0m\u001b[0;34m\u001b[0m\u001b[0m\n\u001b[1;32m      5\u001b[0m   loss = ( 2 * N + 4 * point * dN + point ** 2 * d2N + 0.2 * (1 + 2 * point * N + point ** 2 * dN)\n",
      "\u001b[0;32m~/Documents/GitHub/NNDE/shallownetwork.py\u001b[0m in \u001b[0;36mforward_pass\u001b[0;34m(self, x, n)\u001b[0m\n\u001b[1;32m    126\u001b[0m             \u001b[0minput_result\u001b[0m \u001b[0;34m=\u001b[0m \u001b[0mx\u001b[0m  \u001b[0;31m# self.input_layer.forward_pass(x)\u001b[0m\u001b[0;34m\u001b[0m\u001b[0m\n\u001b[1;32m    127\u001b[0m             \u001b[0;32mif\u001b[0m \u001b[0mn\u001b[0m \u001b[0;34m==\u001b[0m \u001b[0;36m0\u001b[0m\u001b[0;34m:\u001b[0m\u001b[0;34m\u001b[0m\u001b[0m\n\u001b[0;32m--> 128\u001b[0;31m                 \u001b[0mhidden_result\u001b[0m \u001b[0;34m=\u001b[0m \u001b[0mself\u001b[0m\u001b[0;34m.\u001b[0m\u001b[0mhidden_layer\u001b[0m\u001b[0;34m.\u001b[0m\u001b[0mforward_pass\u001b[0m\u001b[0;34m(\u001b[0m\u001b[0minput_result\u001b[0m\u001b[0;34m)\u001b[0m\u001b[0;34m\u001b[0m\u001b[0m\n\u001b[0m\u001b[1;32m    129\u001b[0m                 \u001b[0;32mreturn\u001b[0m \u001b[0mself\u001b[0m\u001b[0;34m.\u001b[0m\u001b[0mvisible_layer\u001b[0m\u001b[0;34m.\u001b[0m\u001b[0mforward_pass\u001b[0m\u001b[0;34m(\u001b[0m\u001b[0mhidden_result\u001b[0m\u001b[0;34m)\u001b[0m\u001b[0;34m\u001b[0m\u001b[0m\n\u001b[1;32m    130\u001b[0m             \u001b[0;32melse\u001b[0m\u001b[0;34m:\u001b[0m\u001b[0;34m\u001b[0m\u001b[0m\n",
      "\u001b[0;32m~/Documents/GitHub/NNDE/denselayer.py\u001b[0m in \u001b[0;36mforward_pass\u001b[0;34m(self, x)\u001b[0m\n\u001b[1;32m     85\u001b[0m         \u001b[0;34m@\u001b[0m\u001b[0mreturns\u001b[0m\u001b[0;34m:\u001b[0m \u001b[0mnumpy\u001b[0m \u001b[0marray\u001b[0m\u001b[0;34m,\u001b[0m\u001b[0;34m\u001b[0m\u001b[0m\n\u001b[1;32m     86\u001b[0m         '''\n\u001b[0;32m---> 87\u001b[0;31m         \u001b[0;32mreturn\u001b[0m \u001b[0mself\u001b[0m\u001b[0;34m.\u001b[0m\u001b[0mactivation_function\u001b[0m\u001b[0;34m(\u001b[0m\u001b[0mself\u001b[0m\u001b[0;34m.\u001b[0m\u001b[0mlinear_response\u001b[0m\u001b[0;34m(\u001b[0m\u001b[0mx\u001b[0m\u001b[0;34m)\u001b[0m\u001b[0;34m,\u001b[0m \u001b[0;36m0\u001b[0m\u001b[0;34m)\u001b[0m\u001b[0;34m\u001b[0m\u001b[0m\n\u001b[0m\u001b[1;32m     88\u001b[0m \u001b[0;34m\u001b[0m\u001b[0m\n\u001b[1;32m     89\u001b[0m     \u001b[0;32mdef\u001b[0m \u001b[0mlinear_response\u001b[0m\u001b[0;34m(\u001b[0m\u001b[0mself\u001b[0m\u001b[0;34m,\u001b[0m \u001b[0mx\u001b[0m\u001b[0;34m)\u001b[0m\u001b[0;34m:\u001b[0m\u001b[0;34m\u001b[0m\u001b[0m\n",
      "\u001b[0;32m~/Documents/GitHub/NNDE/utilities.py\u001b[0m in \u001b[0;36msigmoid\u001b[0;34m(x, n)\u001b[0m\n\u001b[1;32m     19\u001b[0m     '''\n\u001b[1;32m     20\u001b[0m     \u001b[0mx\u001b[0m \u001b[0;34m=\u001b[0m \u001b[0mx\u001b[0m\u001b[0;34m.\u001b[0m\u001b[0mastype\u001b[0m\u001b[0;34m(\u001b[0m\u001b[0;34m'float128'\u001b[0m\u001b[0;34m)\u001b[0m\u001b[0;34m\u001b[0m\u001b[0m\n\u001b[0;32m---> 21\u001b[0;31m     \u001b[0mtemp_sig\u001b[0m \u001b[0;34m=\u001b[0m \u001b[0mnp\u001b[0m\u001b[0;34m.\u001b[0m\u001b[0mexp\u001b[0m\u001b[0;34m(\u001b[0m\u001b[0;34m-\u001b[0m\u001b[0mnp\u001b[0m\u001b[0;34m.\u001b[0m\u001b[0mround\u001b[0m\u001b[0;34m(\u001b[0m\u001b[0mx\u001b[0m\u001b[0;34m,\u001b[0m\u001b[0;36m5\u001b[0m\u001b[0;34m)\u001b[0m\u001b[0;34m,\u001b[0m \u001b[0mdtype\u001b[0m\u001b[0;34m=\u001b[0m\u001b[0;34m\"float128\"\u001b[0m\u001b[0;34m)\u001b[0m\u001b[0;34m\u001b[0m\u001b[0m\n\u001b[0m\u001b[1;32m     22\u001b[0m     \u001b[0mtemp_sig\u001b[0m \u001b[0;34m=\u001b[0m \u001b[0;36m1\u001b[0m \u001b[0;34m/\u001b[0m \u001b[0;34m(\u001b[0m\u001b[0mtemp_sig\u001b[0m \u001b[0;34m+\u001b[0m \u001b[0;36m1\u001b[0m\u001b[0;34m)\u001b[0m\u001b[0;34m\u001b[0m\u001b[0m\n\u001b[1;32m     23\u001b[0m     \u001b[0;32mif\u001b[0m \u001b[0mn\u001b[0m \u001b[0;34m==\u001b[0m \u001b[0;36m0\u001b[0m\u001b[0;34m:\u001b[0m\u001b[0;34m\u001b[0m\u001b[0m\n",
      "\u001b[0;31mFloatingPointError\u001b[0m: underflow encountered in exp"
     ]
    }
   ],
   "source": [
    "example3_trial_solution.train(Xe3, 100)"
   ]
  },
  {
   "cell_type": "markdown",
   "metadata": {},
   "source": [
    "### Plotting the results \n",
    "\n",
    "The numerical solution (training set - red, valdiaiton set - green) along with the analytical solution (blue)."
   ]
  },
  {
   "cell_type": "code",
   "execution_count": null,
   "metadata": {
    "scrolled": true
   },
   "outputs": [],
   "source": [
    "Ye3sol = np.array([example3_trial_solution.predict(Xe3[i]) for i in range(Xe3.shape[0])]).reshape((Xe3.shape[0],))\n",
    "plt.scatter(Xe3.reshape((Xe3.shape[0],)), Ye3sol, c='r', label='Numerical - Training', marker='+', s=30)\n",
    "Xe3plot = np.arange(0,2.5, 0.01)\n",
    "Xe3plot = Xe3plot.reshape((Xe3plot.shape[0], 1, 1))\n",
    "Ye3 = np.array([example3_trial_solution.predict(Xe3plot[i]) for i in range(Xe3plot.shape[0])]).reshape((Xe3plot.shape[0],))\n",
    "Xe3plot = Xe3plot.reshape((Xe3plot.shape[0],))\n",
    "Ye33 = np.array([np.exp(-0.2*Xe3plot[i]) * np.sin(Xe3plot[i]) for i in range(Xe3plot.shape[0])])\n",
    "plt.scatter(Xe3plot, Ye3, c='g', label='Numerical- Validation', marker='x', s=1)\n",
    "plt.plot(Xe3plot, Ye33, c='b', label='Analytic')\n",
    "plt.legend()\n",
    "plt.show()"
   ]
  },
  {
   "cell_type": "code",
   "execution_count": null,
   "metadata": {},
   "outputs": [],
   "source": [
    "print(example3_trial_solution.network.hidden_layer.bias.min())\n",
    "print(example3_trial_solution.network.hidden_layer.bias.max())\n",
    "print(example3_trial_solution.network.hidden_layer.weights.min())\n",
    "print(example3_trial_solution.network.hidden_layer.weights.max())\n",
    "print(example3_trial_solution.network.visible_layer.weights.min())\n",
    "print(example3_trial_solution.network.visible_layer.weights.max())"
   ]
  },
  {
   "cell_type": "code",
   "execution_count": null,
   "metadata": {
    "collapsed": true
   },
   "outputs": [],
   "source": []
  }
 ],
 "metadata": {
  "kernelspec": {
   "display_name": "Python 3",
   "language": "python",
   "name": "python3"
  },
  "language_info": {
   "codemirror_mode": {
    "name": "ipython",
    "version": 3
   },
   "file_extension": ".py",
   "mimetype": "text/x-python",
   "name": "python",
   "nbconvert_exporter": "python",
   "pygments_lexer": "ipython3",
   "version": "3.6.2"
  }
 },
 "nbformat": 4,
 "nbformat_minor": 2
}
