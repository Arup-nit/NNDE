{
 "cells": [
  {
   "cell_type": "code",
   "execution_count": 1,
   "metadata": {
    "collapsed": true
   },
   "outputs": [],
   "source": [
    "import numpy as np\n",
    "import matplotlib.pyplot as plt\n",
    "import ShallowNetwork"
   ]
  },
  {
   "cell_type": "markdown",
   "metadata": {},
   "source": [
    "# Test for RMSE\n",
    "\n",
    "Let's test if the written shallow network class works for a simple case of fitting it to the cosine function with the RMSE loss function."
   ]
  },
  {
   "cell_type": "code",
   "execution_count": 2,
   "metadata": {
    "collapsed": true
   },
   "outputs": [],
   "source": [
    "X = np.arange(0, 2 * np.pi, 0.03)\n",
    "X = X.reshape((X.shape[0], 1, 1))\n",
    "Y = np.sin(X)"
   ]
  },
  {
   "cell_type": "markdown",
   "metadata": {},
   "source": [
    "## Definining loss functions"
   ]
  },
  {
   "cell_type": "code",
   "execution_count": 3,
   "metadata": {
    "collapsed": true
   },
   "outputs": [],
   "source": [
    "def loss_function_single_point(self, point, ground_truth):\n",
    "        N = self.forward_pass(point, 0)\n",
    "        loss = np.sqrt(((N - ground_truth) ** 2).sum())\n",
    "        return loss"
   ]
  },
  {
   "cell_type": "code",
   "execution_count": 4,
   "metadata": {
    "collapsed": true
   },
   "outputs": [],
   "source": [
    "def loss_function_all(self, samples, labels):\n",
    "        loss = 0\n",
    "        n_inv = len(samples) ** -1\n",
    "        for i in range(samples.shape[0]):\n",
    "            loss += self.loss_function_single_point(self, samples[i], labels[i]) ** 2\n",
    "        loss *= n_inv\n",
    "        loss = np.sqrt(loss)\n",
    "        return loss"
   ]
  },
  {
   "cell_type": "markdown",
   "metadata": {},
   "source": [
    "## Defining the update rules"
   ]
  },
  {
   "cell_type": "code",
   "execution_count": 5,
   "metadata": {
    "collapsed": true
   },
   "outputs": [],
   "source": [
    "def bias_change_point(self, point, label):\n",
    "  db = np.zeros((self.hidden_dim, 1)).astype(dtype=\"float64\")\n",
    "  change = self.forward_pass(point, 0) - label\n",
    "  loss = self.loss_function_single_point(self, point, label)\n",
    "  db_N = self.network_derivative_bias(point, 0)\n",
    "  for m in range(self.hidden_dim):\n",
    "    for j in range(self.visible_dim):\n",
    "      db[m] += change[j] * db_N[j, 0, m]\n",
    "  db /= loss\n",
    "  return db"
   ]
  },
  {
   "cell_type": "code",
   "execution_count": 6,
   "metadata": {
    "collapsed": true
   },
   "outputs": [],
   "source": [
    "def hidden_weights_change_point(self, point, label):\n",
    "  dH = np.zeros((self.hidden_dim, self.input_dim)).astype(dtype=\"float64\")\n",
    "  change = self.forward_pass(point, 0) - label\n",
    "  loss = self.loss_function_single_point(self, point, label)\n",
    "  dH_N = self.network_derivative_hidden_weights(point, 0)\n",
    "  for m in range(self.hidden_dim):\n",
    "    for p in range(self.input_dim):\n",
    "      for j in range(self.visible_dim):\n",
    "        dH[m, p] += change[j] * dH_N[j, 0, m, p]\n",
    "  dH /= loss\n",
    "  return dH"
   ]
  },
  {
   "cell_type": "code",
   "execution_count": 7,
   "metadata": {
    "collapsed": true
   },
   "outputs": [],
   "source": [
    "def visible_weights_change_point(self, point, label):\n",
    "  dV = np.zeros((self.visible_dim, self.hidden_dim)).astype(dtype=\"float64\")\n",
    "  change = self.forward_pass(point, 0) - label\n",
    "  loss = self.loss_function_single_point(self, point, label)\n",
    "  dV_N = self.network_derivative_visible_weights(point, 0)\n",
    "  for m in range(self.visible_dim):\n",
    "    for p in range(self.hidden_dim):\n",
    "      for j in range(self.visible_dim):\n",
    "        dV[m, p] += change[j] * dV_N[j, 0, m, p]\n",
    "  dV /= loss\n",
    "  return dV"
   ]
  },
  {
   "cell_type": "markdown",
   "metadata": {},
   "source": [
    "## Defining the netowork for the task"
   ]
  },
  {
   "cell_type": "code",
   "execution_count": 8,
   "metadata": {
    "collapsed": true
   },
   "outputs": [],
   "source": [
    "network = ShallowNetwork.ShallowNetwork(loss_function=loss_function_all,\n",
    "                                        loss_function_single_point=loss_function_single_point,\n",
    "                                       bias_change=bias_change_point,\n",
    "                                       hidden_weights_change=hidden_weights_change_point,\n",
    "                                       visible_weights_change=visible_weights_change_point,\n",
    "                                       hidden_dim=50, unsupervised=False, momentum=0, learning_rate=0.1)"
   ]
  },
  {
   "cell_type": "code",
   "execution_count": 9,
   "metadata": {},
   "outputs": [
    {
     "name": "stdout",
     "output_type": "stream",
     "text": [
      "Epoch: 1 Loss function: 1.7886305557606883\n",
      "Epoch: 2 Loss function: 0.5744654691113517\n",
      "Epoch: 3 Loss function: 0.332274252575229\n",
      "Epoch: 4 Loss function: 0.9650008848031821\n",
      "Epoch: 5 Loss function: 0.8786338638292005\n",
      "Epoch: 6 Loss function: 0.4037528784519482\n",
      "Epoch: 7 Loss function: 0.6067834002539966\n",
      "Epoch: 8 Loss function: 0.5168317829076982\n",
      "Epoch: 9 Loss function: 0.7144177535701184\n",
      "Epoch: 10 Loss function: 0.3854016409827349\n"
     ]
    }
   ],
   "source": [
    "network.train(samples=X, labels=Y, epochs=10)"
   ]
  },
  {
   "cell_type": "code",
   "execution_count": 10,
   "metadata": {},
   "outputs": [
    {
     "data": {
      "image/png": "[encoded data removed]",
      "text/plain": [
       "<matplotlib.figure.Figure at 0x7efc740cd9e8>"
      ]
     },
     "metadata": {},
     "output_type": "display_data"
    }
   ],
   "source": [
    "Y2 = np.array([network.forward_pass(X[i], 0) for i in range(X.shape[0])])\n",
    "Xp = X.reshape((X.shape[0],))\n",
    "Yp = Y.reshape((Y.shape[0],))\n",
    "plt.plot(Xp, Yp, label='Ground truth')\n",
    "plt.scatter(Xp, Y2, label='Predictions')\n",
    "plt.legend()\n",
    "plt.show() "
   ]
  },
  {
   "cell_type": "markdown",
   "metadata": {},
   "source": [
    "## Trial Solution class"
   ]
  },
  {
   "cell_type": "code",
   "execution_count": 11,
   "metadata": {},
   "outputs": [],
   "source": [
    "class Trial_Solution:\n",
    "  def __init__(self, loss_function, loss_function_single_point,\n",
    "               bias_change, hidden_weights_change, visible_weights_change,\n",
    "               boundary_condition_value_function, boundary_vanishing_function,\n",
    "               input_dim=1, hidden_dim=1, output_dim=1, momentum=0, learning_rate=0.1):\n",
    "    # Dimensions of the Shallow Network\n",
    "    self.input_dim = input_dim\n",
    "    self.hidden_dim = hidden_dim\n",
    "    self.output_dim = output_dim\n",
    "    \n",
    "    # Defining all of the three parts of the trial solution f(X)=A(X)+B(X)N(X)\n",
    "    # A(X) is a function fullfiling the boundary or initial conditions\n",
    "    self.boundary_condition_value_function = boundary_condition_value_function\n",
    "    # B(X) is a function vanishing on the boundary or in the initial moment\n",
    "    self.boundary_vanishing_function = boundary_vanishing_function\n",
    "    # N(X) is the Shallow Network\n",
    "    self.network = ShallowNetwork.ShallowNetwork(\n",
    "      input_dim=self.input_dim, hidden_dim=self.hidden_dim, visible_dim=self.output_dim,\n",
    "      momentum=momentum, learning_rate=learning_rate, loss_function=loss_function,\n",
    "      loss_function_single_point=loss_function_single_point, bias_change=bias_change,\n",
    "      hidden_weights_change=hidden_weights_change, visible_weights_change=visible_weights_change,\n",
    "      unsupervised=True)\n",
    "\n",
    "  def predict(self, X):\n",
    "    return self.boundary_condition_value_function(X)\n",
    "    + self.boundary_vanishing_function * self.network.forward_pass(X, 0)\n",
    "    \n",
    "  def train(self, samples, epochs):\n",
    "    self.network.train(samples=samples, epochs=epochs, labels=None)"
   ]
  },
  {
   "cell_type": "markdown",
   "metadata": {},
   "source": [
    "## Example 1\n",
    "\n",
    "$\\frac{d}{dx}\\Psi+(x+\\frac{1+3x^2}{1+x+x^3})\\Psi=x^3+2x+x^2\\frac{1+3x^2}{1+x+x^3}$\n",
    "\n",
    "With boundary initial condition $\\Psi(0)=1$ and domain $x\\in[0,1]$"
   ]
  },
  {
   "cell_type": "code",
   "execution_count": 31,
   "metadata": {
    "collapsed": true
   },
   "outputs": [],
   "source": [
    "Xe1 = np.arange(0,1,0.1).reshape((10,1)) + 1e-6"
   ]
  },
  {
   "cell_type": "code",
   "execution_count": 34,
   "metadata": {},
   "outputs": [
    {
     "data": {
      "text/plain": [
       "array([[  1.00000000e-06],\n",
       "       [  1.00001000e-01],\n",
       "       [  2.00001000e-01],\n",
       "       [  3.00001000e-01],\n",
       "       [  4.00001000e-01],\n",
       "       [  5.00001000e-01],\n",
       "       [  6.00001000e-01],\n",
       "       [  7.00001000e-01],\n",
       "       [  8.00001000e-01],\n",
       "       [  9.00001000e-01]])"
      ]
     },
     "execution_count": 34,
     "metadata": {},
     "output_type": "execute_result"
    }
   ],
   "source": [
    "Xe1"
   ]
  },
  {
   "cell_type": "code",
   "execution_count": 13,
   "metadata": {},
   "outputs": [],
   "source": [
    "def example1_initial_value(point):\n",
    "  return 1"
   ]
  },
  {
   "cell_type": "code",
   "execution_count": 14,
   "metadata": {
    "collapsed": true
   },
   "outputs": [],
   "source": [
    "def example1_boundary_vanishing(point):\n",
    "  return point"
   ]
  },
  {
   "cell_type": "code",
   "execution_count": 56,
   "metadata": {
    "collapsed": true
   },
   "outputs": [],
   "source": [
    "def example1_loss_function_single_point(self, point, non_squared=False, *kwargs):\n",
    "  N = self.forward_pass(point, 0)\n",
    "  dN = self.forward_pass(point, 1)\n",
    "  loss = (\n",
    "      point * dN + N + (point + (1 + 3 * point ** 2)/(1 + point + point ** 3)) * (1 + point * N) \n",
    "      - point ** 3 - 2 * point - (1 + 3 * point ** 2)/(1 + point + point ** 3)\n",
    "    )\n",
    "  if not non_squared:\n",
    "    loss = loss ** 2\n",
    "  return loss[0,0]"
   ]
  },
  {
   "cell_type": "code",
   "execution_count": 57,
   "metadata": {
    "collapsed": true
   },
   "outputs": [],
   "source": [
    "def example1_loss_function(self, samples, *kwargs):\n",
    "  loss = 0\n",
    "  for i in range(samples.shape[0]):\n",
    "    loss += self.loss_function_single_point(self, samples[i])\n",
    "  return loss/samples.shape[0]"
   ]
  },
  {
   "cell_type": "code",
   "execution_count": 71,
   "metadata": {},
   "outputs": [],
   "source": [
    "def example1_bias_change(self, point, label, *kwargs):\n",
    "  db = np.zeros((self.hidden_dim, 1)).astype(dtype=\"float64\")\n",
    "  loss_sqrt = self.loss_function_single_point(self, point, non_squared=True)\n",
    "  db_N = self.network_derivative_bias(point, 0)\n",
    "  db_DN = self.network_derivative_bias(point, 1)\n",
    "  point = point.reshape((1,))\n",
    "  for m in range(self.hidden_dim):\n",
    "    db[m] += 2 * loss_sqrt * (\n",
    "      point * db_DN[0, 0, m] + db_N[0, 0, m] + (point + (1 + 3 * point ** 2)/(1 + point + point ** 3)) * point * db_N[0, 0, m])\n",
    "  return db"
   ]
  },
  {
   "cell_type": "code",
   "execution_count": 76,
   "metadata": {
    "collapsed": true
   },
   "outputs": [],
   "source": [
    "def example1_hidden_weights_change(self, point, *kwargs):\n",
    "  dH = np.zeros((self.hidden_dim, self.input_dim)).astype(dtype=\"float64\")\n",
    "  loss_sqrt = self.loss_function_single_point(self, point, non_squared=True)\n",
    "  dH_N = self.network_derivative_hidden_weights(point, 0)\n",
    "  dH_DN = self.network_derivative_hidden_weights(point, 1)\n",
    "  for m in range(self.hidden_dim):\n",
    "    for p in range(self.input_dim):\n",
    "      dH[m, p] += 2 * loss_sqrt * (\n",
    "        point * dH_DN[0, 0, m, p] + dH_N[0, 0, m, p] + (point + (1 + 3 * point ** 2)/(1 + point + point ** 3)) * point * dH_N[0, 0, m, p])\n",
    "  return dH"
   ]
  },
  {
   "cell_type": "code",
   "execution_count": 77,
   "metadata": {
    "collapsed": true
   },
   "outputs": [],
   "source": [
    "def example1_visible_weights_change(self, point, *kwargs):\n",
    "  dV = np.zeros((self.visible_dim, self.hidden_dim)).astype(dtype=\"float64\")\n",
    "  loss_sqrt = self.loss_function_single_point(self, point, non_squared=True)\n",
    "  dV_N = self.network_derivative_visible_weights(point, 0)\n",
    "  dV_DN = self.network_derivative_visible_weights(point, 1)\n",
    "  for m in range(self.visible_dim):\n",
    "    for p in range(self.hidden_dim):\n",
    "      dV[m, p] += 2 * loss_sqrt * (\n",
    "        point * dV_DN[0, 0, m, p] + dV_N[0, 0, m, p] + (point + (1 + 3 * point ** 2)/(1 + point + point ** 3)) * point * dV_N[0, 0, m, p])\n",
    "  return dV"
   ]
  },
  {
   "cell_type": "code",
   "execution_count": 95,
   "metadata": {},
   "outputs": [],
   "source": [
    "example1_trial_solution = Trial_Solution(loss_function=example1_loss_function,\n",
    "                                        loss_function_single_point=example1_loss_function_single_point,\n",
    "                                        bias_change=example1_bias_change,\n",
    "                                        hidden_weights_change=example1_hidden_weights_change,\n",
    "                                        visible_weights_change=example1_visible_weights_change,\n",
    "                                        boundary_condition_value_function=example1_initial_value,\n",
    "                                        boundary_vanishing_function=example1_boundary_vanishing,\n",
    "                                        input_dim=1, hidden_dim=10, output_dim=1)"
   ]
  },
  {
   "cell_type": "code",
   "execution_count": 96,
   "metadata": {},
   "outputs": [
    {
     "name": "stdout",
     "output_type": "stream",
     "text": [
      "Epoch: 1 Loss function: 0.0008360554456967965\n",
      "Epoch: 2 Loss function: 0.0018978668658467027\n",
      "Epoch: 3 Loss function: 0.0007627108648668408\n",
      "Epoch: 4 Loss function: 0.0008149188069434862\n",
      "Epoch: 5 Loss function: 0.0013055627030457016\n"
     ]
    }
   ],
   "source": [
    "example1_trial_solution.train(Xe1, 5)"
   ]
  },
  {
   "cell_type": "code",
   "execution_count": 97,
   "metadata": {},
   "outputs": [
    {
     "data": {
      "image/png": "[encoded data removed]",
      "text/plain": [
       "<matplotlib.figure.Figure at 0x7efc68374128>"
      ]
     },
     "metadata": {},
     "output_type": "display_data"
    }
   ],
   "source": [
    "Xe1plot = np.arange(0,1.2, 0.01)\n",
    "Ye1 = np.array([example1_trial_solution.predict(Xe1plot[i]) for i in range(Xe1plot.shape[0])])\n",
    "plt.scatter(Xe1plot, Ye1)\n",
    "plt.show()"
   ]
  },
  {
   "cell_type": "code",
   "execution_count": null,
   "metadata": {
    "collapsed": true
   },
   "outputs": [],
   "source": []
  },
  {
   "cell_type": "code",
   "execution_count": null,
   "metadata": {
    "collapsed": true
   },
   "outputs": [],
   "source": []
  }
 ],
 "metadata": {
  "kernelspec": {
   "display_name": "Python 3",
   "language": "python",
   "name": "python3"
  },
  "language_info": {
   "codemirror_mode": {
    "name": "ipython",
    "version": 3
   },
   "file_extension": ".py",
   "mimetype": "text/x-python",
   "name": "python",
   "nbconvert_exporter": "python",
   "pygments_lexer": "ipython3",
   "version": "3.6.2"
  }
 },
 "nbformat": 4,
 "nbformat_minor": 2
}
