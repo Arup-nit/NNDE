{
 "cells": [
  {
   "cell_type": "code",
   "execution_count": 1,
   "metadata": {
    "collapsed": true
   },
   "outputs": [],
   "source": [
    "import numpy as np\n",
    "import matplotlib.pyplot as plt\n",
    "import ShallowNetwork"
   ]
  },
  {
   "cell_type": "markdown",
   "metadata": {},
   "source": [
    "# Test for RMSE\n",
    "\n",
    "Let's test if the written shallow network class works for a simple case of fitting it to the cosine function with the RMSE loss function."
   ]
  },
  {
   "cell_type": "code",
   "execution_count": 2,
   "metadata": {
    "collapsed": true
   },
   "outputs": [],
   "source": [
    "X = np.arange(0, 2 * np.pi, 0.03)\n",
    "X = X.reshape((X.shape[0], 1, 1))\n",
    "Y = np.sin(X)"
   ]
  },
  {
   "cell_type": "markdown",
   "metadata": {},
   "source": [
    "## Definining loss functions"
   ]
  },
  {
   "cell_type": "code",
   "execution_count": 3,
   "metadata": {
    "collapsed": true
   },
   "outputs": [],
   "source": [
    "def loss_function_single_point(self, point, ground_truth):\n",
    "        N = self.forward_pass(point, 0)\n",
    "        loss = np.sqrt(((N - ground_truth) ** 2).sum())\n",
    "        return loss"
   ]
  },
  {
   "cell_type": "code",
   "execution_count": 4,
   "metadata": {
    "collapsed": true
   },
   "outputs": [],
   "source": [
    "def loss_function_all(self, samples, labels):\n",
    "        loss = 0\n",
    "        n_inv = len(samples) ** -1\n",
    "        for i in range(samples.shape[0]):\n",
    "            loss += self.loss_function_single_point(self, samples[i], labels[i]) ** 2\n",
    "        loss *= n_inv\n",
    "        loss = np.sqrt(loss)\n",
    "        return loss"
   ]
  },
  {
   "cell_type": "markdown",
   "metadata": {},
   "source": [
    "## Defining the update rules"
   ]
  },
  {
   "cell_type": "code",
   "execution_count": 5,
   "metadata": {
    "collapsed": true
   },
   "outputs": [],
   "source": [
    "def bias_change_point(self, point, label):\n",
    "  db = np.zeros((self.hidden_dim, 1)).astype(dtype=\"float64\")\n",
    "  change = self.forward_pass(point, 0) - label\n",
    "  loss = self.loss_function_single_point(self, point, label)\n",
    "  db_N = self.network_derivative_bias(point, 0)\n",
    "  for m in range(self.hidden_dim):\n",
    "    for j in range(self.visible_dim):\n",
    "      db[m] += change[j] * db_N[j, 0, m]\n",
    "  db /= loss\n",
    "  return db"
   ]
  },
  {
   "cell_type": "code",
   "execution_count": 6,
   "metadata": {
    "collapsed": true
   },
   "outputs": [],
   "source": [
    "def hidden_weights_change_point(self, point, label):\n",
    "  dH = np.zeros((self.hidden_dim, self.input_dim)).astype(dtype=\"float64\")\n",
    "  change = self.forward_pass(point, 0) - label\n",
    "  loss = self.loss_function_single_point(self, point, label)\n",
    "  dH_N = self.network_derivative_hidden_weights(point, 0)\n",
    "  for m in range(self.hidden_dim):\n",
    "    for p in range(self.input_dim):\n",
    "      for j in range(self.visible_dim):\n",
    "        dH[m, p] += change[j] * dH_N[j, 0, m, p]\n",
    "  dH /= loss\n",
    "  return dH"
   ]
  },
  {
   "cell_type": "code",
   "execution_count": 7,
   "metadata": {
    "collapsed": true
   },
   "outputs": [],
   "source": [
    "def visible_weights_change_point(self, point, label):\n",
    "  dV = np.zeros((self.visible_dim, self.hidden_dim)).astype(dtype=\"float64\")\n",
    "  change = self.forward_pass(point, 0) - label\n",
    "  loss = self.loss_function_single_point(self, point, label)\n",
    "  dV_N = self.network_derivative_visible_weights(point, 0)\n",
    "  for m in range(self.visible_dim):\n",
    "    for p in range(self.hidden_dim):\n",
    "      for j in range(self.visible_dim):\n",
    "        dV[m, p] += change[j] * dV_N[j, 0, m, p]\n",
    "  dV /= loss\n",
    "  return dV"
   ]
  },
  {
   "cell_type": "markdown",
   "metadata": {},
   "source": [
    "## Defining the netowork for the task"
   ]
  },
  {
   "cell_type": "code",
   "execution_count": 8,
   "metadata": {
    "collapsed": true
   },
   "outputs": [],
   "source": [
    "network = ShallowNetwork.ShallowNetwork(loss_function=loss_function_all,\n",
    "                                        loss_function_single_point=loss_function_single_point,\n",
    "                                       bias_change=bias_change_point,\n",
    "                                       hidden_weights_change=hidden_weights_change_point,\n",
    "                                       visible_weights_change=visible_weights_change_point,\n",
    "                                       hidden_dim=50, unsupervised=False, momentum=0, learning_rate=0.1)"
   ]
  },
  {
   "cell_type": "code",
   "execution_count": 9,
   "metadata": {},
   "outputs": [
    {
     "name": "stdout",
     "output_type": "stream",
     "text": [
      "Epoch: 1 Loss function: 1.455663928971233\n",
      "Epoch: 2 Loss function: 0.5188670065789509\n",
      "Epoch: 3 Loss function: 0.48341567094040266\n",
      "Epoch: 4 Loss function: 0.3369823755050468\n",
      "Epoch: 5 Loss function: 0.4616042618537419\n",
      "Epoch: 6 Loss function: 0.7983873995643652\n",
      "Epoch: 7 Loss function: 0.271004329583058\n",
      "Epoch: 8 Loss function: 0.28322646475978314\n",
      "Epoch: 9 Loss function: 0.38866982289359964\n",
      "Epoch: 10 Loss function: 0.36118477245241903\n"
     ]
    }
   ],
   "source": [
    "network.train(samples=X, labels=Y, epochs=10)"
   ]
  },
  {
   "cell_type": "code",
   "execution_count": 10,
   "metadata": {},
   "outputs": [
    {
     "data": {
      "image/png": "[encoded data removed]",
      "text/plain": [
       "<matplotlib.figure.Figure at 0x7ffaf45ab0b8>"
      ]
     },
     "metadata": {},
     "output_type": "display_data"
    }
   ],
   "source": [
    "Y2 = np.array([network.forward_pass(X[i], 0) for i in range(X.shape[0])])\n",
    "Xp = X.reshape((X.shape[0],))\n",
    "Yp = Y.reshape((Y.shape[0],))\n",
    "plt.plot(Xp, Yp, label='Ground truth')\n",
    "plt.scatter(Xp, Y2, label='Predictions')\n",
    "plt.legend()\n",
    "plt.show() "
   ]
  },
  {
   "cell_type": "markdown",
   "metadata": {},
   "source": [
    "## Trial Solution class"
   ]
  },
  {
   "cell_type": "code",
   "execution_count": 11,
   "metadata": {},
   "outputs": [],
   "source": [
    "class Trial_Solution:\n",
    "  def __init__(self, loss_function, loss_function_single_point,\n",
    "               bias_change, hidden_weights_change, visible_weights_change,\n",
    "               boundary_condition_value_function, boundary_vanishing_function,\n",
    "               input_dim=1, hidden_dim=1, output_dim=1, momentum=0, learning_rate=0.1):\n",
    "    # Dimensions of the Shallow Network\n",
    "    self.input_dim = input_dim\n",
    "    self.hidden_dim = hidden_dim\n",
    "    self.output_dim = output_dim\n",
    "    \n",
    "    # Defining all of the three parts of the trial solution f(X)=A(X)+B(X)N(X)\n",
    "    # A(X) is a function fullfiling the boundary or initial conditions\n",
    "    self.boundary_condition_value_function = boundary_condition_value_function\n",
    "    # B(X) is a function vanishing on the boundary or in the initial moment\n",
    "    self.boundary_vanishing_function = boundary_vanishing_function\n",
    "    # N(X) is the Shallow Network\n",
    "    self.network = ShallowNetwork.ShallowNetwork(\n",
    "      input_dim=self.input_dim, hidden_dim=self.hidden_dim, visible_dim=self.output_dim,\n",
    "      momentum=momentum, learning_rate=learning_rate, loss_function=loss_function,\n",
    "      loss_function_single_point=loss_function_single_point, bias_change=bias_change,\n",
    "      hidden_weights_change=hidden_weights_change, visible_weights_change=visible_weights_change,\n",
    "      unsupervised=True)\n",
    "\n",
    "  def predict(self, X):\n",
    "    return self.boundary_condition_value_function(X) + self.boundary_vanishing_function(X) * self.network.forward_pass(X, 0)\n",
    "    \n",
    "  def train(self, samples, epochs):\n",
    "    self.network.train(samples=samples, epochs=epochs, labels=None)"
   ]
  },
  {
   "cell_type": "markdown",
   "metadata": {},
   "source": [
    "## Example 1\n",
    "\n",
    "$\\frac{d}{dx}\\Psi+(x+\\frac{1+3x^2}{1+x+x^3})\\Psi=x^3+2x+x^2\\frac{1+3x^2}{1+x+x^3}$\n",
    "\n",
    "With boundary initial condition $\\Psi(0)=1$ and domain $x\\in[0,1]$"
   ]
  },
  {
   "cell_type": "code",
   "execution_count": 12,
   "metadata": {
    "collapsed": true
   },
   "outputs": [],
   "source": [
    "Xe1 = np.arange(0,1,0.1).reshape((10,1,1)) + 1e-6"
   ]
  },
  {
   "cell_type": "code",
   "execution_count": 14,
   "metadata": {},
   "outputs": [],
   "source": [
    "def example1_initial_value(point):\n",
    "  return 1"
   ]
  },
  {
   "cell_type": "code",
   "execution_count": 15,
   "metadata": {
    "collapsed": true
   },
   "outputs": [],
   "source": [
    "def example1_boundary_vanishing(point):\n",
    "  return point"
   ]
  },
  {
   "cell_type": "code",
   "execution_count": 16,
   "metadata": {
    "collapsed": true
   },
   "outputs": [],
   "source": [
    "def example1_loss_function_single_point(self, point, non_squared=False, *kwargs):\n",
    "  N = self.forward_pass(point, 0)\n",
    "  dN = self.forward_pass(point, 1)\n",
    "  loss = (\n",
    "      point * dN + N + (point + (1 + 3 * point ** 2)/(1 + point + point ** 3)) * (1 + point * N) \n",
    "      - point ** 3 - 2 * point - (1 + 3 * point ** 2)/(1 + point + point ** 3)\n",
    "    )\n",
    "  if not non_squared:\n",
    "    loss = loss ** 2\n",
    "  return loss[0,0]"
   ]
  },
  {
   "cell_type": "code",
   "execution_count": 17,
   "metadata": {
    "collapsed": true
   },
   "outputs": [],
   "source": [
    "def example1_loss_function(self, samples, *kwargs):\n",
    "  loss = 0\n",
    "  for i in range(samples.shape[0]):\n",
    "    loss += self.loss_function_single_point(self, samples[i])\n",
    "  return loss/samples.shape[0]"
   ]
  },
  {
   "cell_type": "code",
   "execution_count": 18,
   "metadata": {},
   "outputs": [],
   "source": [
    "def example1_bias_change(self, point, label, *kwargs):\n",
    "  db = np.zeros((self.hidden_dim, 1)).astype(dtype=\"float64\")\n",
    "  loss_sqrt = self.loss_function_single_point(self, point, non_squared=True)\n",
    "  db_N = self.network_derivative_bias(point, 0)\n",
    "  db_DN = self.network_derivative_bias(point, 1)\n",
    "  point = point.reshape((1,))\n",
    "  for m in range(self.hidden_dim):\n",
    "    db[m] += 2 * loss_sqrt * (\n",
    "      point * db_DN[0, 0, m] + db_N[0, 0, m] + (point + (1 + 3 * point ** 2)/(1 + point + point ** 3)) * point * db_N[0, 0, m])\n",
    "  return db"
   ]
  },
  {
   "cell_type": "code",
   "execution_count": 19,
   "metadata": {
    "collapsed": true
   },
   "outputs": [],
   "source": [
    "def example1_hidden_weights_change(self, point, *kwargs):\n",
    "  dH = np.zeros((self.hidden_dim, self.input_dim)).astype(dtype=\"float64\")\n",
    "  loss_sqrt = self.loss_function_single_point(self, point, non_squared=True)\n",
    "  dH_N = self.network_derivative_hidden_weights(point, 0)\n",
    "  dH_DN = self.network_derivative_hidden_weights(point, 1)\n",
    "  for m in range(self.hidden_dim):\n",
    "    for p in range(self.input_dim):\n",
    "      dH[m, p] += 2 * loss_sqrt * (\n",
    "        point * dH_DN[0, 0, m, p] + dH_N[0, 0, m, p] + (point + (1 + 3 * point ** 2)/(1 + point + point ** 3)) * point * dH_N[0, 0, m, p])\n",
    "  return dH"
   ]
  },
  {
   "cell_type": "code",
   "execution_count": 20,
   "metadata": {
    "collapsed": true
   },
   "outputs": [],
   "source": [
    "def example1_visible_weights_change(self, point, *kwargs):\n",
    "  dV = np.zeros((self.visible_dim, self.hidden_dim)).astype(dtype=\"float64\")\n",
    "  loss_sqrt = self.loss_function_single_point(self, point, non_squared=True)\n",
    "  dV_N = self.network_derivative_visible_weights(point, 0)\n",
    "  dV_DN = self.network_derivative_visible_weights(point, 1)\n",
    "  for m in range(self.visible_dim):\n",
    "    for p in range(self.hidden_dim):\n",
    "      dV[m, p] += 2 * loss_sqrt * (\n",
    "        point * dV_DN[0, 0, m, p] + dV_N[0, 0, m, p] + (point + (1 + 3 * point ** 2)/(1 + point + point ** 3)) * point * dV_N[0, 0, m, p])\n",
    "  return dV"
   ]
  },
  {
   "cell_type": "code",
   "execution_count": null,
   "metadata": {},
   "outputs": [],
   "source": [
    "example1_trial_solution = Trial_Solution(loss_function=example1_loss_function,\n",
    "                                        loss_function_single_point=example1_loss_function_single_point,\n",
    "                                        bias_change=example1_bias_change,\n",
    "                                        hidden_weights_change=example1_hidden_weights_change,\n",
    "                                        visible_weights_change=example1_visible_weights_change,\n",
    "                                        boundary_condition_value_function=example1_initial_value,\n",
    "                                        boundary_vanishing_function=example1_boundary_vanishing,\n",
    "                                        input_dim=1, hidden_dim=10, output_dim=1, learning_rate=1e-4)"
   ]
  },
  {
   "cell_type": "code",
   "execution_count": null,
   "metadata": {},
   "outputs": [
    {
     "name": "stdout",
     "output_type": "stream",
     "text": [
      "Epoch: 1 Loss function: 0.07315006775382604\n",
      "Epoch: 2 Loss function: 0.06969376998696535\n",
      "Epoch: 3 Loss function: 0.06646657910271303\n",
      "Epoch: 4 Loss function: 0.06345393979347101\n",
      "Epoch: 5 Loss function: 0.06063868789608538\n",
      "Epoch: 6 Loss function: 0.05800255027031549\n",
      "Epoch: 7 Loss function: 0.05553544796607011\n",
      "Epoch: 8 Loss function: 0.05322187587054057\n",
      "Epoch: 9 Loss function: 0.05105420518526169\n",
      "Epoch: 10 Loss function: 0.04901940954181729\n",
      "Epoch: 11 Loss function: 0.04710536819247578\n",
      "Epoch: 12 Loss function: 0.04530431288862667\n",
      "Epoch: 13 Loss function: 0.04360921893277202\n",
      "Epoch: 14 Loss function: 0.042013164262687565\n",
      "Epoch: 15 Loss function: 0.04050840174585313\n",
      "Epoch: 16 Loss function: 0.0390889683039259\n",
      "Epoch: 17 Loss function: 0.03774775037957541\n",
      "Epoch: 18 Loss function: 0.036482442031458714\n",
      "Epoch: 19 Loss function: 0.0352844766160883\n",
      "Epoch: 20 Loss function: 0.03415096332617892\n",
      "Epoch: 21 Loss function: 0.0330771500484824\n",
      "Epoch: 22 Loss function: 0.032060141906648035\n",
      "Epoch: 23 Loss function: 0.031096642203621194\n",
      "Epoch: 24 Loss function: 0.03018186773474924\n",
      "Epoch: 25 Loss function: 0.029313388234650094\n",
      "Epoch: 26 Loss function: 0.028488719906758758\n",
      "Epoch: 27 Loss function: 0.02770551108302911\n",
      "Epoch: 28 Loss function: 0.02696029388192881\n",
      "Epoch: 29 Loss function: 0.02625030224770055\n",
      "Epoch: 30 Loss function: 0.025574088937596058\n",
      "Epoch: 31 Loss function: 0.02492994914551646\n",
      "Epoch: 32 Loss function: 0.024316134524581888\n",
      "Epoch: 33 Loss function: 0.023730506117818097\n",
      "Epoch: 34 Loss function: 0.023171547141974124\n",
      "Epoch: 35 Loss function: 0.022637080983716536\n",
      "Epoch: 36 Loss function: 0.022126480525631816\n",
      "Epoch: 37 Loss function: 0.021638315302117038\n",
      "Epoch: 38 Loss function: 0.021171561523599572\n",
      "Epoch: 39 Loss function: 0.02072474565851273\n",
      "Epoch: 40 Loss function: 0.020296497185824575\n",
      "Epoch: 41 Loss function: 0.01988637372740954\n",
      "Epoch: 42 Loss function: 0.019493250795966026\n",
      "Epoch: 43 Loss function: 0.019116498882625708\n",
      "Epoch: 44 Loss function: 0.018754996145436242\n",
      "Epoch: 45 Loss function: 0.01840774193915052\n",
      "Epoch: 46 Loss function: 0.018074661249837053\n",
      "Epoch: 47 Loss function: 0.01775420290717438\n",
      "Epoch: 48 Loss function: 0.017446343832774908\n",
      "Epoch: 49 Loss function: 0.01715022019651002\n",
      "Epoch: 50 Loss function: 0.016865391033799963\n",
      "Epoch: 51 Loss function: 0.01659101755283943\n",
      "Epoch: 52 Loss function: 0.016326988673654667\n",
      "Epoch: 53 Loss function: 0.016072564850036605\n",
      "Epoch: 54 Loss function: 0.015827809970588032\n",
      "Epoch: 55 Loss function: 0.015591708649707405\n",
      "Epoch: 56 Loss function: 0.015363742299482102\n",
      "Epoch: 57 Loss function: 0.015143723212419441\n",
      "Epoch: 58 Loss function: 0.014931592221118192\n",
      "Epoch: 59 Loss function: 0.014726532123103644\n",
      "Epoch: 60 Loss function: 0.014528865611617125\n",
      "Epoch: 61 Loss function: 0.01433759002498979\n",
      "Epoch: 62 Loss function: 0.014152936770444099\n",
      "Epoch: 63 Loss function: 0.013974224577047006\n",
      "Epoch: 64 Loss function: 0.013801454600885115\n",
      "Epoch: 65 Loss function: 0.013634214270167968\n",
      "Epoch: 66 Loss function: 0.013472186389985288\n",
      "Epoch: 67 Loss function: 0.01331526030697614\n",
      "Epoch: 68 Loss function: 0.013163345558542639\n",
      "Epoch: 69 Loss function: 0.013016101870848043\n",
      "Epoch: 70 Loss function: 0.012873365434261949\n",
      "Epoch: 71 Loss function: 0.012735035525847326\n",
      "Epoch: 72 Loss function: 0.012600904860028983\n",
      "Epoch: 73 Loss function: 0.012470832369331875\n",
      "Epoch: 74 Loss function: 0.012344592407833116\n",
      "Epoch: 75 Loss function: 0.012221909892664296\n",
      "Epoch: 76 Loss function: 0.012102815426646278\n",
      "Epoch: 77 Loss function: 0.011987107560865568\n",
      "Epoch: 78 Loss function: 0.011874630115979544\n",
      "Epoch: 79 Loss function: 0.011765394013393746\n",
      "Epoch: 80 Loss function: 0.011659103000790292\n",
      "Epoch: 81 Loss function: 0.011555709185165023\n",
      "Epoch: 82 Loss function: 0.011455067431634137\n",
      "Epoch: 83 Loss function: 0.01135727981315259\n",
      "Epoch: 84 Loss function: 0.011262049351382829\n",
      "Epoch: 85 Loss function: 0.01116929583686065\n",
      "Epoch: 86 Loss function: 0.01107899251790942\n",
      "Epoch: 87 Loss function: 0.01099094450786204\n",
      "Epoch: 88 Loss function: 0.01090523832950463\n",
      "Epoch: 89 Loss function: 0.010821662083324034\n",
      "Epoch: 90 Loss function: 0.010740235457945795\n",
      "Epoch: 91 Loss function: 0.010660821218210482\n",
      "Epoch: 92 Loss function: 0.010583354987193726\n",
      "Epoch: 93 Loss function: 0.010507769589029072\n",
      "Epoch: 94 Loss function: 0.010433955501289106\n",
      "Epoch: 95 Loss function: 0.010361917849530545\n",
      "Epoch: 96 Loss function: 0.010291614565438301\n",
      "Epoch: 97 Loss function: 0.010222909394932568\n",
      "Epoch: 98 Loss function: 0.010155860596583622\n",
      "Epoch: 99 Loss function: 0.010090334966542944\n",
      "Epoch: 100 Loss function: 0.010026285457524707\n",
      "Epoch: 101 Loss function: 0.009963647747390614\n",
      "Epoch: 102 Loss function: 0.009902440289866624\n",
      "Epoch: 103 Loss function: 0.00984257883044318\n",
      "Epoch: 104 Loss function: 0.009783957005140547\n",
      "Epoch: 105 Loss function: 0.009726624024915078\n",
      "Epoch: 106 Loss function: 0.009670516144324872\n",
      "Epoch: 107 Loss function: 0.009615586314132289\n",
      "Epoch: 108 Loss function: 0.009561811800069339\n",
      "Epoch: 109 Loss function: 0.009509155121201563\n",
      "Epoch: 110 Loss function: 0.009457564682435686\n",
      "Epoch: 111 Loss function: 0.00940704898261778\n",
      "Epoch: 112 Loss function: 0.009357542045176996\n",
      "Epoch: 113 Loss function: 0.009309050354539224\n",
      "Epoch: 114 Loss function: 0.009261478815262979\n",
      "Epoch: 115 Loss function: 0.009214885525605\n",
      "Epoch: 116 Loss function: 0.009169148360309671\n",
      "Epoch: 117 Loss function: 0.009124307335056963\n",
      "Epoch: 118 Loss function: 0.009080295423129063\n",
      "Epoch: 119 Loss function: 0.009037155649636693\n",
      "Epoch: 120 Loss function: 0.008994770815319214\n",
      "Epoch: 121 Loss function: 0.008953168913366337\n",
      "Epoch: 122 Loss function: 0.008912331072743666\n",
      "Epoch: 123 Loss function: 0.008872227425136967\n",
      "Epoch: 124 Loss function: 0.008832848958333684\n",
      "Epoch: 125 Loss function: 0.008794171863562213\n",
      "Epoch: 126 Loss function: 0.008756170651853405\n",
      "Epoch: 127 Loss function: 0.00871883594621747\n",
      "Epoch: 128 Loss function: 0.00868214514939653\n",
      "Epoch: 129 Loss function: 0.008646052817818826\n",
      "Epoch: 130 Loss function: 0.008610576560270915\n",
      "Epoch: 131 Loss function: 0.008575691320912996\n",
      "Epoch: 132 Loss function: 0.008541381528039535\n",
      "Epoch: 133 Loss function: 0.00850763410002965\n",
      "Epoch: 134 Loss function: 0.008474441257814857\n",
      "Epoch: 135 Loss function: 0.008441776673610946\n",
      "Epoch: 136 Loss function: 0.008409649734303451\n",
      "Epoch: 137 Loss function: 0.008378021496717191\n",
      "Epoch: 138 Loss function: 0.008346871207616532\n",
      "Epoch: 139 Loss function: 0.008316209093862648\n",
      "Epoch: 140 Loss function: 0.008286002466265267\n",
      "Epoch: 141 Loss function: 0.008256248682420034\n",
      "Epoch: 142 Loss function: 0.008226964466988406\n",
      "Epoch: 143 Loss function: 0.008198098384055335\n",
      "Epoch: 144 Loss function: 0.008169663067723426\n",
      "Epoch: 145 Loss function: 0.008141638547986541\n",
      "Epoch: 146 Loss function: 0.008114019085625968\n",
      "Epoch: 147 Loss function: 0.008086787673236428\n",
      "Epoch: 148 Loss function: 0.008059940658830556\n",
      "Epoch: 149 Loss function: 0.008033469748415062\n",
      "Epoch: 150 Loss function: 0.008007355845001625\n",
      "Epoch: 151 Loss function: 0.007981587907025998\n",
      "Epoch: 152 Loss function: 0.007956192956386483\n",
      "Epoch: 153 Loss function: 0.007931120583703273\n",
      "Epoch: 154 Loss function: 0.007906392544404593\n",
      "Epoch: 155 Loss function: 0.00788199335740613\n",
      "Epoch: 156 Loss function: 0.007857927579817873\n",
      "Epoch: 157 Loss function: 0.007834163674067031\n",
      "Epoch: 158 Loss function: 0.007810699043612151\n",
      "Epoch: 159 Loss function: 0.007787546519089877\n",
      "Epoch: 160 Loss function: 0.0077646697416615075\n",
      "Epoch: 161 Loss function: 0.00774208745750161\n",
      "Epoch: 162 Loss function: 0.0077197910659132256\n",
      "Epoch: 163 Loss function: 0.007697759093456702\n",
      "Epoch: 164 Loss function: 0.007675988810434529\n",
      "Epoch: 165 Loss function: 0.007654474056692316\n",
      "Epoch: 166 Loss function: 0.007633226092228519\n",
      "Epoch: 167 Loss function: 0.00761222142845001\n",
      "Epoch: 168 Loss function: 0.007591474002128573\n",
      "Epoch: 169 Loss function: 0.007570968016942023\n",
      "Epoch: 170 Loss function: 0.007550690092879825\n",
      "Epoch: 171 Loss function: 0.007530643229854106\n",
      "Epoch: 172 Loss function: 0.007510807248396115\n",
      "Epoch: 173 Loss function: 0.007491211988080132\n",
      "Epoch: 174 Loss function: 0.0074718217150414835\n",
      "Epoch: 175 Loss function: 0.007452646443514216\n",
      "Epoch: 176 Loss function: 0.007433676673265281\n",
      "Epoch: 177 Loss function: 0.007414916475564655\n"
     ]
    },
    {
     "name": "stdout",
     "output_type": "stream",
     "text": [
      "Epoch: 178 Loss function: 0.007396360242937031\n",
      "Epoch: 179 Loss function: 0.007377994695193564\n",
      "Epoch: 180 Loss function: 0.007359823419536377\n",
      "Epoch: 181 Loss function: 0.007341842936325674\n",
      "Epoch: 182 Loss function: 0.00732405596144579\n",
      "Epoch: 183 Loss function: 0.007306453984676463\n",
      "Epoch: 184 Loss function: 0.007289025756183849\n",
      "Epoch: 185 Loss function: 0.00727176327089807\n",
      "Epoch: 186 Loss function: 0.007254682096601477\n",
      "Epoch: 187 Loss function: 0.007237770804355154\n",
      "Epoch: 188 Loss function: 0.007221015378513183\n",
      "Epoch: 189 Loss function: 0.007204436930080013\n",
      "Epoch: 190 Loss function: 0.00718801531471752\n",
      "Epoch: 191 Loss function: 0.007171754262903398\n",
      "Epoch: 192 Loss function: 0.00715563446038268\n",
      "Epoch: 193 Loss function: 0.007139670184677349\n",
      "Epoch: 194 Loss function: 0.007123862764683457\n",
      "Epoch: 195 Loss function: 0.007108194632265781\n",
      "Epoch: 196 Loss function: 0.0070926693262485544\n",
      "Epoch: 197 Loss function: 0.00707729809111665\n",
      "Epoch: 198 Loss function: 0.007062056390607358\n",
      "Epoch: 199 Loss function: 0.007046961735616704\n",
      "Epoch: 200 Loss function: 0.007031991063486298\n",
      "Epoch: 201 Loss function: 0.007017156822838121\n",
      "Epoch: 202 Loss function: 0.007002458394363874\n",
      "Epoch: 203 Loss function: 0.006987884069563658\n",
      "Epoch: 204 Loss function: 0.006973429815704044\n",
      "Epoch: 205 Loss function: 0.006959099727358274\n",
      "Epoch: 206 Loss function: 0.006944900021802075\n",
      "Epoch: 207 Loss function: 0.006930818028030132\n",
      "Epoch: 208 Loss function: 0.006916852989637316\n",
      "Epoch: 209 Loss function: 0.006903007713951094\n",
      "Epoch: 210 Loss function: 0.0068892769955294\n",
      "Epoch: 211 Loss function: 0.00687565188642369\n",
      "Epoch: 212 Loss function: 0.00686214395653368\n",
      "Epoch: 213 Loss function: 0.006848749580179227\n",
      "Epoch: 214 Loss function: 0.006835464992492039\n",
      "Epoch: 215 Loss function: 0.006822278021708285\n",
      "Epoch: 216 Loss function: 0.006809205354355784\n",
      "Epoch: 217 Loss function: 0.006796228218988622\n",
      "Epoch: 218 Loss function: 0.006783364836675469\n",
      "Epoch: 219 Loss function: 0.006770595532605915\n",
      "Epoch: 220 Loss function: 0.006757927974765229\n",
      "Epoch: 221 Loss function: 0.0067453572453211345\n",
      "Epoch: 222 Loss function: 0.006732875850453604\n",
      "Epoch: 223 Loss function: 0.0067204976052853745\n",
      "Epoch: 224 Loss function: 0.006708206417860925\n",
      "Epoch: 225 Loss function: 0.0066960200476354256\n",
      "Epoch: 226 Loss function: 0.00668391781641303\n",
      "Epoch: 227 Loss function: 0.0066719032132897885\n",
      "Epoch: 228 Loss function: 0.0066599843007846705\n",
      "Epoch: 229 Loss function: 0.006648148793565805\n",
      "Epoch: 230 Loss function: 0.006636399966817771\n",
      "Epoch: 231 Loss function: 0.006624737646397184\n",
      "Epoch: 232 Loss function: 0.006613158489615886\n",
      "Epoch: 233 Loss function: 0.0066016608987355075\n",
      "Epoch: 234 Loss function: 0.006590252041779476\n",
      "Epoch: 235 Loss function: 0.00657891982501136\n",
      "Epoch: 236 Loss function: 0.0065676684328116\n",
      "Epoch: 237 Loss function: 0.006556500604722763\n",
      "Epoch: 238 Loss function: 0.006545407256293968\n",
      "Epoch: 239 Loss function: 0.0065343922431159345\n",
      "Epoch: 240 Loss function: 0.006523451334382963\n",
      "Epoch: 241 Loss function: 0.00651259346696022\n",
      "Epoch: 242 Loss function: 0.006501805855677775\n",
      "Epoch: 243 Loss function: 0.006491089410127188\n",
      "Epoch: 244 Loss function: 0.006480447059160582\n",
      "Epoch: 245 Loss function: 0.00646987178589732\n",
      "Epoch: 246 Loss function: 0.006459378265836304\n",
      "Epoch: 247 Loss function: 0.006448949364783005\n",
      "Epoch: 248 Loss function: 0.006438588942305373\n",
      "Epoch: 249 Loss function: 0.00642830355446909\n",
      "Epoch: 250 Loss function: 0.006418087672888513\n",
      "Epoch: 251 Loss function: 0.00640794387673317\n",
      "Epoch: 252 Loss function: 0.006397859056657634\n",
      "Epoch: 253 Loss function: 0.006387843828306103\n",
      "Epoch: 254 Loss function: 0.006377892825360774\n",
      "Epoch: 255 Loss function: 0.006367999816997998\n",
      "Epoch: 256 Loss function: 0.006358172904960144\n",
      "Epoch: 257 Loss function: 0.0063484138504967995\n",
      "Epoch: 258 Loss function: 0.006338712991139675\n",
      "Epoch: 259 Loss function: 0.006329074289235273\n",
      "Epoch: 260 Loss function: 0.006319501062822452\n",
      "Epoch: 261 Loss function: 0.006309982845209122\n",
      "Epoch: 262 Loss function: 0.006300531923728538\n",
      "Epoch: 263 Loss function: 0.006291136320724569\n",
      "Epoch: 264 Loss function: 0.006281799925051697\n",
      "Epoch: 265 Loss function: 0.006272520977398231\n",
      "Epoch: 266 Loss function: 0.006263301981525105\n",
      "Epoch: 267 Loss function: 0.006254142576055851\n",
      "Epoch: 268 Loss function: 0.006245042040977628\n",
      "Epoch: 269 Loss function: 0.006235990225388313\n",
      "Epoch: 270 Loss function: 0.006227001515966937\n",
      "Epoch: 271 Loss function: 0.006218063451095611\n",
      "Epoch: 272 Loss function: 0.0062091796186920815\n",
      "Epoch: 273 Loss function: 0.006200346570759923\n",
      "Epoch: 274 Loss function: 0.0061915702756810955\n",
      "Epoch: 275 Loss function: 0.006182845558246417\n",
      "Epoch: 276 Loss function: 0.006174178025518385\n",
      "Epoch: 277 Loss function: 0.006165561982800034\n",
      "Epoch: 278 Loss function: 0.006156995498120188\n",
      "Epoch: 279 Loss function: 0.006148475091105505\n",
      "Epoch: 280 Loss function: 0.0061400138713459\n",
      "Epoch: 281 Loss function: 0.006131596253141607\n",
      "Epoch: 282 Loss function: 0.006123230278166121\n",
      "Epoch: 283 Loss function: 0.0061149141230950515\n",
      "Epoch: 284 Loss function: 0.006106652413572397\n",
      "Epoch: 285 Loss function: 0.006098432326279674\n",
      "Epoch: 286 Loss function: 0.006090269424821545\n",
      "Epoch: 287 Loss function: 0.006082152296052925\n",
      "Epoch: 288 Loss function: 0.006074082037931356\n",
      "Epoch: 289 Loss function: 0.006066057800789297\n",
      "Epoch: 290 Loss function: 0.006058080432929709\n",
      "Epoch: 291 Loss function: 0.006050144537434221\n",
      "Epoch: 292 Loss function: 0.006042257201179225\n",
      "Epoch: 293 Loss function: 0.006034411663536519\n",
      "Epoch: 294 Loss function: 0.006026608736455783\n",
      "Epoch: 295 Loss function: 0.006018858182189862\n",
      "Epoch: 296 Loss function: 0.006011152443755401\n",
      "Epoch: 297 Loss function: 0.006003489674172721\n",
      "Epoch: 298 Loss function: 0.00599587198806798\n",
      "Epoch: 299 Loss function: 0.00598829407945515\n",
      "Epoch: 300 Loss function: 0.005980763578420948\n",
      "Epoch: 301 Loss function: 0.005973268799175092\n",
      "Epoch: 302 Loss function: 0.005965816019680451\n",
      "Epoch: 303 Loss function: 0.005958412644186624\n",
      "Epoch: 304 Loss function: 0.0059510439999996365\n",
      "Epoch: 305 Loss function: 0.0059437204899274124\n",
      "Epoch: 306 Loss function: 0.005936436987677924\n",
      "Epoch: 307 Loss function: 0.005929192898966781\n",
      "Epoch: 308 Loss function: 0.005921985585879109\n",
      "Epoch: 309 Loss function: 0.005914822072204061\n",
      "Epoch: 310 Loss function: 0.005907697706874226\n",
      "Epoch: 311 Loss function: 0.005900614245956334\n",
      "Epoch: 312 Loss function: 0.00589357059706416\n",
      "Epoch: 313 Loss function: 0.005886563071137867\n",
      "Epoch: 314 Loss function: 0.005879601682311596\n",
      "Epoch: 315 Loss function: 0.005872670475921762\n",
      "Epoch: 316 Loss function: 0.005865775765086392\n",
      "Epoch: 317 Loss function: 0.005858926352513716\n",
      "Epoch: 318 Loss function: 0.005852115993138174\n",
      "Epoch: 319 Loss function: 0.0058453382430298595\n",
      "Epoch: 320 Loss function: 0.00583859924632233\n",
      "Epoch: 321 Loss function: 0.0058318927110194005\n",
      "Epoch: 322 Loss function: 0.005825228331864452\n",
      "Epoch: 323 Loss function: 0.0058185970733396365\n",
      "Epoch: 324 Loss function: 0.005812007777656744\n",
      "Epoch: 325 Loss function: 0.005805449862744054\n",
      "Epoch: 326 Loss function: 0.0057989287777102305\n",
      "Epoch: 327 Loss function: 0.005792442959841318\n",
      "Epoch: 328 Loss function: 0.0057859880004700135\n",
      "Epoch: 329 Loss function: 0.005779572431509431\n",
      "Epoch: 330 Loss function: 0.005773190111786904\n",
      "Epoch: 331 Loss function: 0.005766843236724753\n",
      "Epoch: 332 Loss function: 0.005760535786761213\n",
      "Epoch: 333 Loss function: 0.0057542531899469705\n",
      "Epoch: 334 Loss function: 0.005748006443116116\n",
      "Epoch: 335 Loss function: 0.005741794163717662\n",
      "Epoch: 336 Loss function: 0.005735611769216881\n",
      "Epoch: 337 Loss function: 0.005729468000826579\n",
      "Epoch: 338 Loss function: 0.005723351462963226\n",
      "Epoch: 339 Loss function: 0.005717272111411316\n",
      "Epoch: 340 Loss function: 0.005711224545844856\n",
      "Epoch: 341 Loss function: 0.005705209359670166\n",
      "Epoch: 342 Loss function: 0.005699230622585176\n",
      "Epoch: 343 Loss function: 0.005693278834134169\n",
      "Epoch: 344 Loss function: 0.005687357509939413\n",
      "Epoch: 345 Loss function: 0.005681471084604733\n",
      "Epoch: 346 Loss function: 0.005675611613762805\n",
      "Epoch: 347 Loss function: 0.005669787415192476\n",
      "Epoch: 348 Loss function: 0.0056639909911913745\n",
      "Epoch: 349 Loss function: 0.005658227665485895\n",
      "Epoch: 350 Loss function: 0.005652493656709595\n",
      "Epoch: 351 Loss function: 0.005646789213183414\n",
      "Epoch: 352 Loss function: 0.005641116560721383\n",
      "Epoch: 353 Loss function: 0.005635470743240592\n"
     ]
    },
    {
     "name": "stdout",
     "output_type": "stream",
     "text": [
      "Epoch: 354 Loss function: 0.005629858220783561\n",
      "Epoch: 355 Loss function: 0.005624272867169046\n",
      "Epoch: 356 Loss function: 0.005618719917646863\n",
      "Epoch: 357 Loss function: 0.005613189839031361\n",
      "Epoch: 358 Loss function: 0.005607694486955473\n",
      "Epoch: 359 Loss function: 0.005602225541630383\n",
      "Epoch: 360 Loss function: 0.005596788878432166\n",
      "Epoch: 361 Loss function: 0.005591376624677514\n",
      "Epoch: 362 Loss function: 0.005585989688216685\n",
      "Epoch: 363 Loss function: 0.005580632687854378\n",
      "Epoch: 364 Loss function: 0.005575300772323334"
     ]
    }
   ],
   "source": [
    "example1_trial_solution.train(Xe1, 2000)"
   ]
  },
  {
   "cell_type": "code",
   "execution_count": null,
   "metadata": {},
   "outputs": [],
   "source": [
    "Xe1plot = np.arange(0,1.2, 0.01)\n",
    "Xe1plot = Xe1plot.reshape((Xe1plot.shape[0], 1, 1))\n",
    "Ye1 = np.array([example1_trial_solution.predict(Xe1plot[i]) for i in range(Xe1plot.shape[0])]).reshape((Xe1plot.shape[0],))\n",
    "Xe1plot = Xe1plot.reshape((Xe1plot.shape[0],))\n",
    "Ye12 = np.array([np.exp(-0.5*Xe1plot[i]**2)/(1+Xe1plot[i]+Xe1plot[i]**3) + Xe1plot[i]**2 for i in range(Xe1plot.shape[0])])\n",
    "plt.scatter(Xe1plot, Ye1, c='g', label='Numerical')\n",
    "plt.plot(Xe1plot, Ye12, c='r', label='Analytic')\n",
    "plt.legend()\n",
    "plt.show()"
   ]
  },
  {
   "cell_type": "code",
   "execution_count": null,
   "metadata": {
    "collapsed": true
   },
   "outputs": [],
   "source": []
  }
 ],
 "metadata": {
  "kernelspec": {
   "display_name": "Python 3",
   "language": "python",
   "name": "python3"
  },
  "language_info": {
   "codemirror_mode": {
    "name": "ipython",
    "version": 3
   },
   "file_extension": ".py",
   "mimetype": "text/x-python",
   "name": "python",
   "nbconvert_exporter": "python",
   "pygments_lexer": "ipython3",
   "version": "3.6.2"
  }
 },
 "nbformat": 4,
 "nbformat_minor": 2
}
