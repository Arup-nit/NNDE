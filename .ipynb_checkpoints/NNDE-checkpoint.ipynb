{
 "cells": [
  {
   "cell_type": "code",
   "execution_count": 1,
   "metadata": {
    "collapsed": true
   },
   "outputs": [],
   "source": [
    "import numpy as np\n",
    "import matplotlib.pyplot as plt\n",
    "import ShallowNetwork"
   ]
  },
  {
   "cell_type": "markdown",
   "metadata": {},
   "source": [
    "# Test for RMSE\n",
    "\n",
    "Let's test if the written shallow network works for a simple case of fitting it to the cosine function with RMSE loss function."
   ]
  },
  {
   "cell_type": "code",
   "execution_count": 13,
   "metadata": {},
   "outputs": [],
   "source": [
    "X = np.arange(0, 2 * np.pi, 0.03)\n",
    "X = X.reshape((X.shape[0], 1, 1))\n",
    "Y = np.sin(X)"
   ]
  },
  {
   "cell_type": "markdown",
   "metadata": {},
   "source": [
    "## Definining loss functions"
   ]
  },
  {
   "cell_type": "code",
   "execution_count": 3,
   "metadata": {
    "collapsed": true
   },
   "outputs": [],
   "source": [
    "def loss_function_single_point(self, point, ground_truth):\n",
    "        N = self.forward_pass(point, 0)\n",
    "        loss = np.sqrt(((N - ground_truth) ** 2).sum())\n",
    "        return loss"
   ]
  },
  {
   "cell_type": "code",
   "execution_count": 4,
   "metadata": {
    "collapsed": true
   },
   "outputs": [],
   "source": [
    "def loss_function_all(self, samples, labels):\n",
    "        loss = 0\n",
    "        n_inv = len(samples) ** -1\n",
    "        for i in range(samples.shape[0]):\n",
    "            loss += self.loss_function_single_point(self, samples[i], labels[i]) ** 2\n",
    "        loss *= n_inv\n",
    "        loss = np.sqrt(loss)\n",
    "        return loss"
   ]
  },
  {
   "cell_type": "markdown",
   "metadata": {},
   "source": [
    "## Defining the update rules"
   ]
  },
  {
   "cell_type": "code",
   "execution_count": 5,
   "metadata": {
    "collapsed": true
   },
   "outputs": [],
   "source": [
    "def bias_change_point(self, point, label):\n",
    "  db = np.zeros((self.hidden_dim, 1)).astype(dtype=\"float64\")\n",
    "  change = self.forward_pass(point, 0) - label\n",
    "  loss = self.loss_function_single_point(self, point, label)\n",
    "  db_N = self.network_derivative_bias(point, 0)\n",
    "  for m in range(self.hidden_dim):\n",
    "    for j in range(self.visible_dim):\n",
    "      db[m] += change[j] * db_N[j, 0, m]\n",
    "  db /= loss\n",
    "  return db"
   ]
  },
  {
   "cell_type": "code",
   "execution_count": 6,
   "metadata": {
    "collapsed": true
   },
   "outputs": [],
   "source": [
    "def hidden_weights_change_point(self, point, label):\n",
    "  dH = np.zeros((self.hidden_dim, self.input_dim)).astype(dtype=\"float64\")\n",
    "  change = self.forward_pass(point, 0) - label\n",
    "  loss = self.loss_function_single_point(self, point, label)\n",
    "  dH_N = self.network_derivative_hidden_weights(point, 0)\n",
    "  for m in range(self.hidden_dim):\n",
    "    for p in range(self.input_dim):\n",
    "      for j in range(self.visible_dim):\n",
    "        dH[m, p] += change[j] * dH_N[j, 0, m, p]\n",
    "  dH /= loss\n",
    "  return dH"
   ]
  },
  {
   "cell_type": "code",
   "execution_count": 7,
   "metadata": {
    "collapsed": true
   },
   "outputs": [],
   "source": [
    "def visible_weights_change_point(self, point, label):\n",
    "  dV = np.zeros((self.visible_dim, self.hidden_dim)).astype(dtype=\"float64\")\n",
    "  change = self.forward_pass(point, 0) - label\n",
    "  loss = self.loss_function_single_point(self, point, label)\n",
    "  dV_N = self.network_derivative_visible_weights(point, 0)\n",
    "  for m in range(self.visible_dim):\n",
    "    for p in range(self.hidden_dim):\n",
    "      for j in range(self.visible_dim):\n",
    "        dV[m, p] += change[j] * dV_N[j, 0, m, p]\n",
    "  dV /= loss\n",
    "  return dV"
   ]
  },
  {
   "cell_type": "markdown",
   "metadata": {},
   "source": [
    "## Defining the netowork for the task"
   ]
  },
  {
   "cell_type": "code",
   "execution_count": 17,
   "metadata": {},
   "outputs": [],
   "source": [
    "network = ShallowNetwork.ShallowNetwork(loss_function=loss_function_all,\n",
    "                                        loss_function_single_point=loss_function_single_point,\n",
    "                                       bias_change=bias_change_point,\n",
    "                                       hidden_weights_change=hidden_weights_change_point,\n",
    "                                       visible_weights_change=visible_weights_change_point,\n",
    "                                       hidden_dim=50, unsupervised=False, momentum=0, learning_rate=0.1)"
   ]
  },
  {
   "cell_type": "code",
   "execution_count": 18,
   "metadata": {},
   "outputs": [
    {
     "name": "stdout",
     "output_type": "stream",
     "text": [
      "Initial Loss function: 3.371206806068671\n",
      "Epoch: 1 Loss function: 1.9737946374349897\n",
      "Epoch: 2 Loss function: 1.3944960188383806\n",
      "Epoch: 3 Loss function: 0.7512490596926062\n",
      "Epoch: 4 Loss function: 0.4460054718996542\n",
      "Epoch: 5 Loss function: 0.3950683557179546\n",
      "Epoch: 6 Loss function: 0.9025407977928714\n",
      "Epoch: 7 Loss function: 0.6285156974185824\n",
      "Epoch: 8 Loss function: 0.5188534577584227\n",
      "Epoch: 9 Loss function: 0.32738423391016713\n",
      "Epoch: 10 Loss function: 0.5190070189929152\n",
      "Epoch: 11 Loss function: 0.39246756116930476\n",
      "Epoch: 12 Loss function: 0.4099944981761582\n",
      "Epoch: 13 Loss function: 0.7871905737156116\n",
      "Epoch: 14 Loss function: 0.27808945390643447\n",
      "Epoch: 15 Loss function: 0.4516651982430269\n",
      "Epoch: 16 Loss function: 0.3867623113185484\n",
      "Epoch: 17 Loss function: 0.3451825152561233\n",
      "Epoch: 18 Loss function: 0.2969879775503304\n",
      "Epoch: 19 Loss function: 0.28736325177492517\n",
      "Epoch: 20 Loss function: 0.3463781849852341\n",
      "Epoch: 21 Loss function: 0.3062226007349579\n",
      "Epoch: 22 Loss function: 0.3845511094798276\n",
      "Epoch: 23 Loss function: 0.42154417656524407\n",
      "Epoch: 24 Loss function: 0.3343100216605287\n",
      "Epoch: 25 Loss function: 0.279228264002578\n",
      "Epoch: 26 Loss function: 0.37977893041119487\n",
      "Epoch: 27 Loss function: 0.3650184088743168\n",
      "Epoch: 28 Loss function: 0.3387776615702443\n",
      "Epoch: 29 Loss function: 0.3051252533296029\n",
      "Epoch: 30 Loss function: 0.3140507421137261\n",
      "Epoch: 31 Loss function: 0.3060345441788339\n",
      "Epoch: 32 Loss function: 0.28591530560305306\n",
      "Epoch: 33 Loss function: 0.47847952028054125\n",
      "Epoch: 34 Loss function: 0.30510442124269704\n",
      "Epoch: 35 Loss function: 0.28358001583489545\n",
      "Epoch: 36 Loss function: 0.3423751174841739\n",
      "Epoch: 37 Loss function: 0.3716266916254559\n",
      "Epoch: 38 Loss function: 0.2924273835993831\n",
      "Epoch: 39 Loss function: 0.28632077592689337\n",
      "Epoch: 40 Loss function: 0.298875801227508\n",
      "Epoch: 41 Loss function: 0.31934972634708153\n",
      "Epoch: 42 Loss function: 0.3627623586393214\n",
      "Epoch: 43 Loss function: 0.3323638705321079\n",
      "Epoch: 44 Loss function: 0.28163189335018024\n",
      "Epoch: 45 Loss function: 0.2951851325528177\n",
      "Epoch: 46 Loss function: 0.2719164523090852\n",
      "Epoch: 47 Loss function: 0.28006267323973355\n",
      "Epoch: 48 Loss function: 0.27205161344460776\n",
      "Epoch: 49 Loss function: 0.2671228314554805\n",
      "Epoch: 50 Loss function: 0.2918098210744855\n",
      "Epoch: 51 Loss function: 0.27068907260364455\n",
      "Epoch: 52 Loss function: 0.270295186481188\n",
      "Epoch: 53 Loss function: 0.3162841177131604\n",
      "Epoch: 54 Loss function: 0.3125470112236011\n",
      "Epoch: 55 Loss function: 0.2638675224397717\n",
      "Epoch: 56 Loss function: 0.2726357340787975\n",
      "Epoch: 57 Loss function: 0.29477421535629217\n",
      "Epoch: 58 Loss function: 0.27810628448238034\n",
      "Epoch: 59 Loss function: 0.2790159331560971\n",
      "Epoch: 60 Loss function: 0.2681759964401469\n",
      "Epoch: 61 Loss function: 0.28536659810582005\n",
      "Epoch: 62 Loss function: 0.2695899286092704\n",
      "Epoch: 63 Loss function: 0.30190501969869177\n",
      "Epoch: 64 Loss function: 0.26316339424328034\n",
      "Epoch: 65 Loss function: 0.2840535129325958\n",
      "Epoch: 66 Loss function: 0.27431070543248315\n",
      "Epoch: 67 Loss function: 0.28918781672763155\n",
      "Epoch: 68 Loss function: 0.3124117735342739\n",
      "Epoch: 69 Loss function: 0.24886210028936992\n",
      "Epoch: 70 Loss function: 0.287805584587068\n",
      "Epoch: 71 Loss function: 0.26274492138398825\n",
      "Epoch: 72 Loss function: 0.24481687886570289\n",
      "Epoch: 73 Loss function: 0.2700289262857743\n",
      "Epoch: 74 Loss function: 0.2646620040221283\n",
      "Epoch: 75 Loss function: 0.25879678951967283\n",
      "Epoch: 76 Loss function: 0.25946262833587025\n",
      "Epoch: 77 Loss function: 0.25487905179667913\n",
      "Epoch: 78 Loss function: 0.2741476519343052\n",
      "Epoch: 79 Loss function: 0.2686743910960054\n",
      "Epoch: 80 Loss function: 0.24595722648278587\n",
      "Epoch: 81 Loss function: 0.25296717921992073\n",
      "Epoch: 82 Loss function: 0.2428231605092761\n",
      "Epoch: 83 Loss function: 0.2339643098901205\n",
      "Epoch: 84 Loss function: 0.2570073503809891\n",
      "Epoch: 85 Loss function: 0.284699044437248\n",
      "Epoch: 86 Loss function: 0.24089547715849285\n",
      "Epoch: 87 Loss function: 0.25169636818926283\n",
      "Epoch: 88 Loss function: 0.24925658185482893\n",
      "Epoch: 89 Loss function: 0.24677874479790926\n",
      "Epoch: 90 Loss function: 0.24130567223104812\n",
      "Epoch: 91 Loss function: 0.27330168046395337\n",
      "Epoch: 92 Loss function: 0.258630043957885\n",
      "Epoch: 93 Loss function: 0.2559029326471059\n",
      "Epoch: 94 Loss function: 0.2487160817419258\n",
      "Epoch: 95 Loss function: 0.25028865979096954\n",
      "Epoch: 96 Loss function: 0.2704801200387886\n",
      "Epoch: 97 Loss function: 0.26194156353858455\n",
      "Epoch: 98 Loss function: 0.2703743664763648\n",
      "Epoch: 99 Loss function: 0.27082541852804287\n",
      "Epoch: 100 Loss function: 0.2643081525869748\n",
      "Epoch: 101 Loss function: 0.2677855350633283\n",
      "Epoch: 102 Loss function: 0.24168346527237866\n",
      "Epoch: 103 Loss function: 0.2520338420167827\n",
      "Epoch: 104 Loss function: 0.27206499897359926\n",
      "Epoch: 105 Loss function: 0.27253739310406433\n",
      "Epoch: 106 Loss function: 0.29966690746987273\n",
      "Epoch: 107 Loss function: 0.264834265193166\n",
      "Epoch: 108 Loss function: 0.2641385552810273\n",
      "Epoch: 109 Loss function: 0.2576979275176468\n",
      "Epoch: 110 Loss function: 0.2762446877692535\n",
      "Epoch: 111 Loss function: 0.2442730768131583\n",
      "Epoch: 112 Loss function: 0.25420749549245075\n",
      "Epoch: 113 Loss function: 0.2710370674860324\n",
      "Epoch: 114 Loss function: 0.2668688178869791\n",
      "Epoch: 115 Loss function: 0.237185768391124\n",
      "Epoch: 116 Loss function: 0.27189462509446116\n",
      "Epoch: 117 Loss function: 0.28014877847195047\n",
      "Epoch: 118 Loss function: 0.28608315617958224\n",
      "Epoch: 119 Loss function: 0.2522144603777974\n",
      "Epoch: 120 Loss function: 0.24997627207254458\n",
      "Epoch: 121 Loss function: 0.24644010288851242\n",
      "Epoch: 122 Loss function: 0.28068003237362854\n",
      "Epoch: 123 Loss function: 0.2423153964274732\n",
      "Epoch: 124 Loss function: 0.23668405756983169\n",
      "Epoch: 125 Loss function: 0.2482719329784678\n",
      "Epoch: 126 Loss function: 0.2071864848865181\n",
      "Epoch: 127 Loss function: 0.19803884003213487\n",
      "Epoch: 128 Loss function: 0.2412383051199531\n",
      "Epoch: 129 Loss function: 0.20756504466124434\n",
      "Epoch: 130 Loss function: 0.20857868391762882\n",
      "Epoch: 131 Loss function: 0.19905899737239763\n",
      "Epoch: 132 Loss function: 0.1924652361861082\n",
      "Epoch: 133 Loss function: 0.20180231934495152\n",
      "Epoch: 134 Loss function: 0.1947684194677525\n",
      "Epoch: 135 Loss function: 0.20759552428675543\n",
      "Epoch: 136 Loss function: 0.2089210691068646\n",
      "Epoch: 137 Loss function: 0.22122203939166984\n",
      "Epoch: 138 Loss function: 0.17874755013493135\n",
      "Epoch: 139 Loss function: 0.20673972572259916\n",
      "Epoch: 140 Loss function: 0.21304075078460108\n",
      "Epoch: 141 Loss function: 0.20172694350756948\n",
      "Epoch: 142 Loss function: 0.2004485528843806\n",
      "Epoch: 143 Loss function: 0.1943669178745221\n",
      "Epoch: 144 Loss function: 0.1770430400116113\n",
      "Epoch: 145 Loss function: 0.21056042078700113\n",
      "Epoch: 146 Loss function: 0.17660062229481624\n",
      "Epoch: 147 Loss function: 0.1754977674937883\n",
      "Epoch: 148 Loss function: 0.21598007371791716\n",
      "Epoch: 149 Loss function: 0.17615275095314636\n",
      "Epoch: 150 Loss function: 0.17156719975099896\n",
      "Epoch: 151 Loss function: 0.18424038911216944\n",
      "Epoch: 152 Loss function: 0.18877301659952733\n",
      "Epoch: 153 Loss function: 0.18762704441855593\n",
      "Epoch: 154 Loss function: 0.17629190500866027\n",
      "Epoch: 155 Loss function: 0.15881678053531564\n",
      "Epoch: 156 Loss function: 0.17382343595918326\n",
      "Epoch: 157 Loss function: 0.19463157410636536\n",
      "Epoch: 158 Loss function: 0.20306157929231697\n",
      "Epoch: 159 Loss function: 0.1704620296388995\n",
      "Epoch: 160 Loss function: 0.19221415919103974\n",
      "Epoch: 161 Loss function: 0.19272804861708\n",
      "Epoch: 162 Loss function: 0.17472852836912325\n",
      "Epoch: 163 Loss function: 0.18547640347798597\n",
      "Epoch: 164 Loss function: 0.18075702639936514\n",
      "Epoch: 165 Loss function: 0.16327921044179802\n",
      "Epoch: 166 Loss function: 0.16606363462481674\n",
      "Epoch: 167 Loss function: 0.1882483788935581\n",
      "Epoch: 168 Loss function: 0.157793124965038\n",
      "Epoch: 169 Loss function: 0.17993931044872524\n",
      "Epoch: 170 Loss function: 0.16235168207964537\n",
      "Epoch: 171 Loss function: 0.15561649684957654\n",
      "Epoch: 172 Loss function: 0.16473114225015445\n",
      "Epoch: 173 Loss function: 0.1428668980458601\n",
      "Epoch: 174 Loss function: 0.1785802218541818\n",
      "Epoch: 175 Loss function: 0.14682317051726537\n",
      "Epoch: 176 Loss function: 0.15336510231334433\n",
      "Epoch: 177 Loss function: 0.15181969451419178\n",
      "Epoch: 178 Loss function: 0.16997539812226375\n",
      "Epoch: 179 Loss function: 0.17329674544428983\n",
      "Epoch: 180 Loss function: 0.1708044767042372\n",
      "Epoch: 181 Loss function: 0.15011943056501903\n",
      "Epoch: 182 Loss function: 0.16575660186729943\n"
     ]
    },
    {
     "name": "stdout",
     "output_type": "stream",
     "text": [
      "Epoch: 183 Loss function: 0.15469272413790364\n",
      "Epoch: 184 Loss function: 0.14765301038164957\n",
      "Epoch: 185 Loss function: 0.158738551285293\n",
      "Epoch: 186 Loss function: 0.1645302438619996\n",
      "Epoch: 187 Loss function: 0.15385837721726667\n",
      "Epoch: 188 Loss function: 0.16024965762328483\n",
      "Epoch: 189 Loss function: 0.15070885110438206\n",
      "Epoch: 190 Loss function: 0.16531405812098174\n",
      "Epoch: 191 Loss function: 0.1549964247228433\n",
      "Epoch: 192 Loss function: 0.14394393405617445\n",
      "Epoch: 193 Loss function: 0.162564315608311\n",
      "Epoch: 194 Loss function: 0.14620809595714812\n",
      "Epoch: 195 Loss function: 0.1476938626886891\n",
      "Epoch: 196 Loss function: 0.13114275485100838\n",
      "Epoch: 197 Loss function: 0.12869624604989147\n",
      "Epoch: 198 Loss function: 0.15630355929886924\n",
      "Epoch: 199 Loss function: 0.15104938192844652\n",
      "Epoch: 200 Loss function: 0.16030413677314997\n"
     ]
    }
   ],
   "source": [
    "print(f'Initial Loss function: {network.loss_function(samples=X, labels=Y)}')\n",
    "for i in range(200):\n",
    "  network.single_epoch_training(X=X, labels=Y)\n",
    "  print(f'Epoch: {i+1} Loss function: {network.loss_function(samples=X, labels=Y)}')"
   ]
  },
  {
   "cell_type": "code",
   "execution_count": 19,
   "metadata": {},
   "outputs": [
    {
     "data": {
      "image/png": "[encoded data removed]",
      "text/plain": [
       "<matplotlib.figure.Figure at 0x7fb514b2a7b8>"
      ]
     },
     "metadata": {},
     "output_type": "display_data"
    }
   ],
   "source": [
    "Y2 = np.array([network.forward_pass(X[i], 0) for i in range(X.shape[0])])\n",
    "Xp = X.reshape((X.shape[0],))\n",
    "Yp = Y.reshape((Y.shape[0],))\n",
    "plt.plot(Xp, Yp, label='Ground truth')\n",
    "plt.scatter(Xp, Y2, label='Predictions')\n",
    "plt.legend()\n",
    "plt.show() "
   ]
  },
  {
   "cell_type": "code",
   "execution_count": null,
   "metadata": {
    "collapsed": true
   },
   "outputs": [],
   "source": []
  }
 ],
 "metadata": {
  "kernelspec": {
   "display_name": "Python 3",
   "language": "python",
   "name": "python3"
  },
  "language_info": {
   "codemirror_mode": {
    "name": "ipython",
    "version": 3
   },
   "file_extension": ".py",
   "mimetype": "text/x-python",
   "name": "python",
   "nbconvert_exporter": "python",
   "pygments_lexer": "ipython3",
   "version": "3.6.2"
  }
 },
 "nbformat": 4,
 "nbformat_minor": 2
}
