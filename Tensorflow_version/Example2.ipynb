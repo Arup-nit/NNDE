{
 "cells": [
  {
   "cell_type": "code",
   "execution_count": 1,
   "metadata": {},
   "outputs": [
    {
     "name": "stderr",
     "output_type": "stream",
     "text": [
      "/home/raroog/anaconda3/lib/python3.6/site-packages/h5py/__init__.py:34: FutureWarning: Conversion of the second argument of issubdtype from `float` to `np.floating` is deprecated. In future, it will be treated as `np.float64 == np.dtype(float).type`.\n",
      "  from ._conv import register_converters as _register_converters\n"
     ]
    }
   ],
   "source": [
    "import tensorflow as tf\n",
    "import numpy as np\n",
    "import matplotlib.pyplot as plt\n",
    "from TrialSolution import TrialSolution"
   ]
  },
  {
   "cell_type": "markdown",
   "metadata": {},
   "source": [
    "## Example 2\n",
    "\n",
    "$\\frac{d}{dx}\\Psi+\\frac{1}{5}\\Psi=\\exp(-\\frac{x}{5})\\cos(x)$\n",
    "\n",
    "With boundary initial condition $\\Psi(0)=0$ and domain $x\\in[0,2]$"
   ]
  },
  {
   "cell_type": "code",
   "execution_count": 2,
   "metadata": {
    "collapsed": true
   },
   "outputs": [],
   "source": [
    "X_train = np.arange(0, 2., 0.2) + 1e-8\n",
    "X_train = X_train.reshape(-1,1)\n",
    "X_test = np.arange(0, 2., 0.01) + 1e-8\n",
    "X_test = X_test.reshape(-1,1) "
   ]
  },
  {
   "cell_type": "code",
   "execution_count": 3,
   "metadata": {
    "collapsed": true
   },
   "outputs": [],
   "source": [
    "inits = [{'variable':0, 'value':0, 'type':'dirichlet',\n",
    "        'function':lambda X: tf.constant(0., dtype='float64', shape=X.shape)}]"
   ]
  },
  {
   "cell_type": "markdown",
   "metadata": {},
   "source": [
    "The trial solution for this case is $\\Psi(x)=x N(x)$.\n",
    "The first function below is the function $A(x)=0$\n",
    "and the second function is the function $B(x)=x$.\n",
    "Though, in our case, the trial solution is generated automatically from the initial conditions."
   ]
  },
  {
   "cell_type": "code",
   "execution_count": 4,
   "metadata": {
    "collapsed": true
   },
   "outputs": [],
   "source": [
    "ts = TrialSolution(conditions=inits, n_i=1, n_h=10, n_o=1, equation_type='ODE')"
   ]
  },
  {
   "cell_type": "markdown",
   "metadata": {},
   "source": [
    "### Defining the loss function for a single point and a whole set\n",
    "\n",
    "The loss function is based on the formula:\n",
    "$$Loss(N)=\\sum_i \\left(L\\Psi(x_i, N(x_i))-f(x_i,\\Psi(x_i, N(x_i))) \\right)^2$$\n",
    "Where $N(x)$ is the neural network and $L$ is some differential operator."
   ]
  },
  {
   "cell_type": "code",
   "execution_count": 5,
   "metadata": {
    "collapsed": true
   },
   "outputs": [],
   "source": [
    "def diff_loss(network, inputs):\n",
    "  with tf.GradientTape() as tape:\n",
    "    inputs = tf.convert_to_tensor(inputs)\n",
    "    tape.watch(inputs)\n",
    "    response = network(inputs)\n",
    "  grads = tape.gradient(response, inputs)\n",
    "  loss = tf.square(grads + tf.multiply(tf.constant(0.2, dtype='float64'), response)\n",
    "          - tf.multiply(tf.exp( tf.multiply(tf.constant(-0.2, dtype='float64'), inputs)), tf.cos(inputs)))\n",
    "  return loss"
   ]
  },
  {
   "cell_type": "markdown",
   "metadata": {},
   "source": [
    "### Training"
   ]
  },
  {
   "cell_type": "code",
   "execution_count": 6,
   "metadata": {},
   "outputs": [
    {
     "name": "stdout",
     "output_type": "stream",
     "text": [
      "Epoch: 10000 Loss: 0.0009900527074933052\n",
      "Epoch: 20000 Loss: 0.0005876105278730392\n",
      "Epoch: 30000 Loss: 0.0004112307506147772\n",
      "Epoch: 40000 Loss: 0.0003101192705798894\n",
      "Epoch: 50000 Loss: 0.0002482802956365049\n",
      "Epoch: 60000 Loss: 0.00020702739129774272\n",
      "Epoch: 70000 Loss: 0.00017756104352883995\n",
      "Epoch: 80000 Loss: 0.00015546128270216286\n",
      "Epoch: 90000 Loss: 0.00013827257498633116\n",
      "Epoch: 100000 Loss: 0.00012452161172404885\n",
      "Epoch: 110000 Loss: 0.00011327082756906748\n",
      "Epoch: 120000 Loss: 0.00010389516683062539\n",
      "Epoch: 130000 Loss: 9.596192103344947e-05\n",
      "Epoch: 140000 Loss: 8.9161992946174e-05\n",
      "Epoch: 150000 Loss: 8.326872193720192e-05\n",
      "Epoch: 160000 Loss: 7.811211253283545e-05\n",
      "Epoch: 170000 Loss: 7.356215792242438e-05\n",
      "Epoch: 180000 Loss: 6.95177586749196e-05\n",
      "Epoch: 190000 Loss: 6.589908298337832e-05\n",
      "Epoch: 200000 Loss: 6.264227704377845e-05\n",
      "Epoch: 210000 Loss: 5.969564153929241e-05\n",
      "Epoch: 220000 Loss: 5.7016881328308955e-05\n",
      "Epoch: 230000 Loss: 5.4571057262364775e-05\n",
      "Epoch: 240000 Loss: 5.2329054597066715e-05\n",
      "Epoch: 250000 Loss: 5.0266407924937084e-05\n",
      "Epoch: 260000 Loss: 4.836242806049995e-05\n",
      "Epoch: 270000 Loss: 4.659948535845615e-05\n",
      "Epoch: 280000 Loss: 4.496246765484102e-05\n",
      "Epoch: 290000 Loss: 4.343834370956756e-05\n",
      "Epoch: 300000 Loss: 4.201583215035498e-05\n",
      "Epoch: 310000 Loss: 4.06850922445301e-05\n",
      "Epoch: 320000 Loss: 3.943752381019294e-05\n",
      "Epoch: 330000 Loss: 3.826556712738238e-05\n",
      "Epoch: 340000 Loss: 3.716255014296621e-05\n",
      "Epoch: 350000 Loss: 3.61225611413829e-05\n",
      "Epoch: 360000 Loss: 3.5140350519213825e-05\n",
      "Epoch: 370000 Loss: 3.421122892177664e-05\n",
      "Epoch: 380000 Loss: 3.333101267344318e-05\n",
      "Epoch: 390000 Loss: 3.2495932828169316e-05\n",
      "Epoch: 400000 Loss: 3.170260970364325e-05\n",
      "Epoch: 410000 Loss: 3.0947983759688213e-05\n",
      "Epoch: 420000 Loss: 3.0229290132410824e-05\n",
      "Epoch: 430000 Loss: 2.95440258923918e-05\n",
      "Epoch: 440000 Loss: 2.88899118459085e-05\n",
      "Epoch: 450000 Loss: 2.8264867069083266e-05\n",
      "Epoch: 460000 Loss: 2.766699981293641e-05\n",
      "Epoch: 470000 Loss: 2.7094572942587547e-05\n",
      "Epoch: 480000 Loss: 2.6545996661297977e-05\n",
      "Epoch: 490000 Loss: 2.6019812139566056e-05\n",
      "Epoch: 500000 Loss: 2.5514675144222565e-05\n",
      "Epoch: 510000 Loss: 2.5029346943483688e-05\n",
      "Epoch: 520000 Loss: 2.4562685212004e-05\n",
      "Epoch: 530000 Loss: 2.4113633116940036e-05\n",
      "Epoch: 540000 Loss: 2.3681212041992694e-05\n",
      "Epoch: 550000 Loss: 2.3264516130439006e-05\n",
      "Epoch: 560000 Loss: 2.285714253957849e-05\n",
      "Epoch: 570000 Loss: 2.2456140868598595e-05\n",
      "Epoch: 580000 Loss: 2.2068965336075053e-05\n",
      "Epoch: 590000 Loss: 2.1694915631087497e-05\n",
      "Epoch: 600000 Loss: 2.1333333279471844e-05\n",
      "Epoch: 610000 Loss: 2.0983607100788504e-05\n",
      "Epoch: 620000 Loss: 2.064516047539655e-05\n",
      "Epoch: 630000 Loss: 2.0317460439400747e-05\n",
      "Epoch: 640000 Loss: 1.9999999494757503e-05\n",
      "Epoch: 650000 Loss: 1.9692308342200704e-05\n",
      "Epoch: 660000 Loss: 1.9393939510337077e-05\n",
      "Epoch: 670000 Loss: 1.9104478269582614e-05\n",
      "Epoch: 680000 Loss: 1.8823529899236746e-05\n",
      "Epoch: 690000 Loss: 1.8550725144450553e-05\n",
      "Epoch: 700000 Loss: 1.8285714759258553e-05\n",
      "Epoch: 710000 Loss: 1.8028169506578706e-05\n",
      "Epoch: 720000 Loss: 1.7777778339223005e-05\n",
      "Epoch: 730000 Loss: 1.7534246580908075e-05\n",
      "Epoch: 740000 Loss: 1.7297297745244578e-05\n",
      "Epoch: 750000 Loss: 1.7066666259779595e-05\n",
      "Epoch: 760000 Loss: 1.6842104741954245e-05\n",
      "Epoch: 770000 Loss: 1.6623376723146066e-05\n",
      "Epoch: 780000 Loss: 1.641025664866902e-05\n",
      "Epoch: 790000 Loss: 1.620253169676289e-05\n",
      "Epoch: 800000 Loss: 1.5999999959603883e-05\n",
      "Epoch: 810000 Loss: 1.5802468624315225e-05\n",
      "Epoch: 820000 Loss: 1.560975579195656e-05\n",
      "Epoch: 830000 Loss: 1.5421686839545146e-05\n",
      "Epoch: 840000 Loss: 1.523809532955056e-05\n",
      "Epoch: 850000 Loss: 1.5058823919389397e-05\n",
      "Epoch: 860000 Loss: 1.4883720723446459e-05\n",
      "Epoch: 870000 Loss: 1.4712643860548269e-05\n",
      "Epoch: 880000 Loss: 1.4545454178005457e-05\n",
      "Epoch: 890000 Loss: 1.438202252757037e-05\n",
      "Epoch: 900000 Loss: 1.4222222489479464e-05\n",
      "Epoch: 910000 Loss: 1.4065934010432102e-05\n",
      "Epoch: 920000 Loss: 1.3913043403590564e-05\n",
      "Epoch: 930000 Loss: 1.3763440620095935e-05\n",
      "Epoch: 940000 Loss: 1.3617021068057511e-05\n",
      "Epoch: 950000 Loss: 1.3473683793563396e-05\n",
      "Epoch: 960000 Loss: 1.3333333299669903e-05\n",
      "Epoch: 970000 Loss: 1.319587590842275e-05\n",
      "Epoch: 980000 Loss: 1.3061224308330566e-05\n",
      "Epoch: 990000 Loss: 1.2929293006891385e-05\n",
      "Epoch: 1000000 Loss: 1.2800000149582047e-05\n"
     ]
    }
   ],
   "source": [
    "ts.train(X=X_train, diff_loss=diff_loss, epochs=1000000, message_frequency=10000, optimizer_name='SGD', learning_rate=0.01)\n"
   ]
  },
  {
   "cell_type": "markdown",
   "metadata": {},
   "source": [
    "### Plotting the results \n",
    "\n",
    "The numerical solution (training set - red, valdiaiton set - green) along with the analytical solution (blue)."
   ]
  },
  {
   "cell_type": "code",
   "execution_count": 7,
   "metadata": {},
   "outputs": [
    {
     "data": {
      "image/png": "[encoded data removed]",
      "text/plain": [
       "<matplotlib.figure.Figure at 0x7f46ac2511d0>"
      ]
     },
     "metadata": {},
     "output_type": "display_data"
    }
   ],
   "source": [
    "pred_train = ts.call(tf.convert_to_tensor(X_train, dtype='float64')).numpy()\n",
    "pred_test = ts(tf.convert_to_tensor(X_test, dtype='float64')).numpy()\n",
    "plt.scatter(X_train, pred_train, c='r', label='Numerical - Training', marker='+', s=30)\n",
    "plt.plot(X_test, pred_test, c='g', label='Numerical - Test')\n",
    "plt.plot(X_test,  np.exp(-0.2*X_test)*np.sin(X_test), c='b', label='Analytic')\n",
    "plt.legend()\n",
    "plt.show()"
   ]
  },
  {
   "cell_type": "markdown",
   "metadata": {},
   "source": [
    "Let's check the errors on the training set."
   ]
  },
  {
   "cell_type": "code",
   "execution_count": 8,
   "metadata": {},
   "outputs": [
    {
     "data": {
      "image/png": "[encoded data removed]",
      "text/plain": [
       "<matplotlib.figure.Figure at 0x7f46ac2152b0>"
      ]
     },
     "metadata": {},
     "output_type": "display_data"
    }
   ],
   "source": [
    "plt.plot(X_train, pred_train - np.exp(-0.2*X_train)*np.sin(X_train), label='Error - Train')\n",
    "plt.legend()\n",
    "plt.show()"
   ]
  },
  {
   "cell_type": "markdown",
   "metadata": {},
   "source": [
    "Let's check the errors on the test set."
   ]
  },
  {
   "cell_type": "code",
   "execution_count": 9,
   "metadata": {},
   "outputs": [
    {
     "data": {
      "image/png": "[encoded data removed]",
      "text/plain": [
       "<matplotlib.figure.Figure at 0x7f46ac398780>"
      ]
     },
     "metadata": {},
     "output_type": "display_data"
    }
   ],
   "source": [
    "plt.plot(X_test, pred_test - np.exp(-0.2*X_test)*np.sin(X_test), label='Error - Test')\n",
    "plt.legend()\n",
    "plt.show()"
   ]
  },
  {
   "cell_type": "markdown",
   "metadata": {},
   "source": [
    "The mean loss calculated on the test set."
   ]
  },
  {
   "cell_type": "code",
   "execution_count": 10,
   "metadata": {
    "scrolled": true
   },
   "outputs": [
    {
     "data": {
      "text/plain": [
       "1.6528088069823135e-06"
      ]
     },
     "execution_count": 10,
     "metadata": {},
     "output_type": "execute_result"
    }
   ],
   "source": [
    "diff_loss(ts, X_test).numpy().mean()"
   ]
  },
  {
   "cell_type": "markdown",
   "metadata": {},
   "source": [
    "Mean absolute error on the train set."
   ]
  },
  {
   "cell_type": "code",
   "execution_count": 11,
   "metadata": {},
   "outputs": [
    {
     "data": {
      "text/plain": [
       "0.00010707818545194387"
      ]
     },
     "execution_count": 11,
     "metadata": {},
     "output_type": "execute_result"
    }
   ],
   "source": [
    "np.abs(pred_train - np.exp(-0.2*X_train)*np.sin(X_train)).mean()"
   ]
  },
  {
   "cell_type": "markdown",
   "metadata": {},
   "source": [
    "Mean absolute error on the test set - interpolation error."
   ]
  },
  {
   "cell_type": "code",
   "execution_count": 12,
   "metadata": {},
   "outputs": [
    {
     "data": {
      "text/plain": [
       "0.00012495542063509362"
      ]
     },
     "execution_count": 12,
     "metadata": {},
     "output_type": "execute_result"
    }
   ],
   "source": [
    "np.abs(pred_test - np.exp(-0.2*X_test)*np.sin(X_test)).mean()"
   ]
  },
  {
   "cell_type": "code",
   "execution_count": 13,
   "metadata": {},
   "outputs": [
    {
     "data": {
      "text/plain": [
       "0.0005565071627319229"
      ]
     },
     "execution_count": 13,
     "metadata": {},
     "output_type": "execute_result"
    }
   ],
   "source": [
    "np.abs(pred_test - np.exp(-0.2*X_test)*np.sin(X_test)).max()"
   ]
  },
  {
   "cell_type": "code",
   "execution_count": null,
   "metadata": {
    "collapsed": true
   },
   "outputs": [],
   "source": []
  }
 ],
 "metadata": {
  "kernelspec": {
   "display_name": "Python 3",
   "language": "python",
   "name": "python3"
  },
  "language_info": {
   "codemirror_mode": {
    "name": "ipython",
    "version": 3
   },
   "file_extension": ".py",
   "mimetype": "text/x-python",
   "name": "python",
   "nbconvert_exporter": "python",
   "pygments_lexer": "ipython3",
   "version": "3.6.2"
  }
 },
 "nbformat": 4,
 "nbformat_minor": 2
}
