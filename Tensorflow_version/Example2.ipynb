{
 "cells": [
  {
   "cell_type": "code",
   "execution_count": 1,
   "metadata": {},
   "outputs": [
    {
     "name": "stderr",
     "output_type": "stream",
     "text": [
      "/home/raroog/anaconda3/lib/python3.6/site-packages/h5py/__init__.py:34: FutureWarning: Conversion of the second argument of issubdtype from `float` to `np.floating` is deprecated. In future, it will be treated as `np.float64 == np.dtype(float).type`.\n",
      "  from ._conv import register_converters as _register_converters\n"
     ]
    }
   ],
   "source": [
    "import tensorflow as tf\n",
    "import numpy as np\n",
    "import matplotlib.pyplot as plt"
   ]
  },
  {
   "cell_type": "code",
   "execution_count": 2,
   "metadata": {
    "collapsed": true
   },
   "outputs": [],
   "source": [
    "class TrialSolution(tf.keras.models.Model):\n",
    "  def __init__(self, conditions, n_i, n_h, n_o=1, activation='sigmoid'):\n",
    "    super(TrialSolution, self).__init__()\n",
    "    self.n_i = n_i\n",
    "    self.n_h = n_h\n",
    "    self.n_o = n_o\n",
    "    self.conditions = conditions\n",
    "    self.hidden_layer = tf.keras.layers.Dense(units=self.n_h, activation=activation)\n",
    "    self.output_layer = tf.keras.layers.Dense(units=self.n_o, activation='linear')\n",
    "    \n",
    "  def call(self, X):\n",
    "    X = tf.convert_to_tensor(X)\n",
    "    response = self.hidden_layer(X)\n",
    "    response = self.output_layer(response)\n",
    "    \n",
    "    boundary_value = tf.constant(0., dtype='float64', shape=response.get_shape())\n",
    "    \n",
    "    for condition in self.conditions:\n",
    "      vanishing = tf.constant(1., dtype='float64', shape=response.get_shape())\n",
    "      if condition['type'] == 'dirichlet':\n",
    "        temp_bc = tf.reshape(condition['function'](X), shape=boundary_value.shape)\n",
    "        for vanisher in self.conditions:\n",
    "          if vanisher['variable'] != condition['variable'] and vanisher['value'] != condition['value']:\n",
    "            vanishing *= (X[:, vanisher['variable']]\n",
    "                                    - tf.constant(vanisher['value'], dtype='float64', shape=boundary_value.shape))\n",
    "        boundary_value += temp_bc * vanishing\n",
    "        \n",
    "        response *= (tf.constant(condition['value'], dtype='float64', shape=boundary_value.shape)\n",
    "                     - tf.reshape(X[:, condition['variable']], shape=boundary_value.shape))\n",
    "      \n",
    "    response += boundary_value\n",
    "    return response"
   ]
  },
  {
   "cell_type": "code",
   "execution_count": 3,
   "metadata": {
    "collapsed": true
   },
   "outputs": [],
   "source": [
    "inits = [{'variable':0, 'value':0, 'type':'dirichlet',\n",
    "        'function':lambda X: tf.constant(0., dtype='float64', shape=X.shape)}]"
   ]
  },
  {
   "cell_type": "code",
   "execution_count": 4,
   "metadata": {
    "collapsed": true
   },
   "outputs": [],
   "source": [
    "ts = TrialSolution(conditions=inits, n_i=1, n_h=10, n_o=1)"
   ]
  },
  {
   "cell_type": "code",
   "execution_count": 5,
   "metadata": {
    "collapsed": true
   },
   "outputs": [],
   "source": [
    "Xs = np.arange(0, 2, 0.2) + 1e-6\n",
    "Xs = Xs.reshape(-1,1)"
   ]
  },
  {
   "cell_type": "code",
   "execution_count": 6,
   "metadata": {
    "collapsed": true
   },
   "outputs": [],
   "source": [
    "def diff_loss(network, inputs):\n",
    "  with tf.GradientTape() as tape:\n",
    "    inputs = tf.convert_to_tensor(inputs)\n",
    "    tape.watch(inputs)\n",
    "    response = network(inputs)\n",
    "  grads = tape.gradient(response, inputs)\n",
    "  loss = tf.square(grads + tf.multiply(tf.constant(0.2, dtype='float64'), response)\n",
    "          - tf.multiply(tf.exp( tf.multiply(tf.constant(-0.2, dtype='float64'), inputs)), tf.cos(inputs)))\n",
    "  return loss"
   ]
  },
  {
   "cell_type": "code",
   "execution_count": 7,
   "metadata": {
    "collapsed": true
   },
   "outputs": [],
   "source": [
    "optimizer = tf.keras.optimizers.Adam(learning_rate=0.05)\n",
    "train_loss = tf.keras.metrics.Mean('train')"
   ]
  },
  {
   "cell_type": "code",
   "execution_count": 8,
   "metadata": {
    "collapsed": true
   },
   "outputs": [],
   "source": [
    "@tf.function\n",
    "def train_step(X):\n",
    "  with tf.GradientTape() as tape:\n",
    "    loss = diff_loss(ts, X)\n",
    "  gradients = tape.gradient(loss, ts.trainable_variables)\n",
    "  optimizer.apply_gradients(zip(gradients, ts.trainable_variables))\n",
    "  \n",
    "  train_loss(loss)"
   ]
  },
  {
   "cell_type": "code",
   "execution_count": 9,
   "metadata": {
    "scrolled": true
   },
   "outputs": [
    {
     "data": {
      "text/plain": [
       "<tf.Tensor: id=93, shape=(10, 1), dtype=float64, numpy=\n",
       "array([[-3.69717373e-09],\n",
       "       [-5.14185685e-03],\n",
       "       [-1.90618203e-02],\n",
       "       [-4.16807895e-02],\n",
       "       [-7.28699896e-02],\n",
       "       [-1.12455318e-01],\n",
       "       [-1.60222944e-01],\n",
       "       [-2.15925769e-01],\n",
       "       [-2.79290305e-01],\n",
       "       [-3.50023590e-01]])>"
      ]
     },
     "execution_count": 9,
     "metadata": {},
     "output_type": "execute_result"
    }
   ],
   "source": [
    "ts(tf.convert_to_tensor(Xs))"
   ]
  },
  {
   "cell_type": "code",
   "execution_count": 10,
   "metadata": {},
   "outputs": [
    {
     "name": "stdout",
     "output_type": "stream",
     "text": [
      "5.057676e-05\n"
     ]
    }
   ],
   "source": [
    "EPOCHS = 100000\n",
    "for epoch in range(EPOCHS):\n",
    "  train_step(Xs)\n",
    "print(train_loss.result().numpy())\n",
    "#   if (epoch+1) % 2000 == 0:\n",
    "#     pred = ts.call(tf.convert_to_tensor(Xs, dtype='float64')).numpy()\n",
    "#     plt.plot(Xs, pred)\n",
    "#     plt.plot(Xs, np.exp(-0.2*Xs)*np.sin(Xs))\n",
    "#     plt.show()"
   ]
  },
  {
   "cell_type": "code",
   "execution_count": 11,
   "metadata": {},
   "outputs": [
    {
     "data": {
      "image/png": "[encoded data removed]",
      "text/plain": [
       "<matplotlib.figure.Figure at 0x7f5c8049bf28>"
      ]
     },
     "metadata": {},
     "output_type": "display_data"
    }
   ],
   "source": [
    "pred = ts(tf.convert_to_tensor(Xs, dtype='float64')).numpy()\n",
    "plt.plot(Xs, pred)\n",
    "plt.plot(Xs, np.exp(-0.2*Xs)*np.sin(Xs))\n",
    "plt.show()"
   ]
  },
  {
   "cell_type": "code",
   "execution_count": 12,
   "metadata": {},
   "outputs": [
    {
     "data": {
      "image/png": "[encoded data removed]",
      "text/plain": [
       "<matplotlib.figure.Figure at 0x7f5c80661550>"
      ]
     },
     "metadata": {},
     "output_type": "display_data"
    }
   ],
   "source": [
    "plt.plot(Xs, pred - np.exp(-0.2*Xs)*np.sin(Xs))\n",
    "plt.show()"
   ]
  },
  {
   "cell_type": "code",
   "execution_count": null,
   "metadata": {
    "collapsed": true
   },
   "outputs": [],
   "source": []
  }
 ],
 "metadata": {
  "kernelspec": {
   "display_name": "Python 3",
   "language": "python",
   "name": "python3"
  },
  "language_info": {
   "codemirror_mode": {
    "name": "ipython",
    "version": 3
   },
   "file_extension": ".py",
   "mimetype": "text/x-python",
   "name": "python",
   "nbconvert_exporter": "python",
   "pygments_lexer": "ipython3",
   "version": "3.6.2"
  }
 },
 "nbformat": 4,
 "nbformat_minor": 2
}
