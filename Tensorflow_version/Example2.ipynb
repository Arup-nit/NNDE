{
 "cells": [
  {
   "cell_type": "code",
   "execution_count": 1,
   "metadata": {},
   "outputs": [
    {
     "name": "stderr",
     "output_type": "stream",
     "text": [
      "/home/raroog/anaconda3/lib/python3.6/site-packages/h5py/__init__.py:34: FutureWarning: Conversion of the second argument of issubdtype from `float` to `np.floating` is deprecated. In future, it will be treated as `np.float64 == np.dtype(float).type`.\n",
      "  from ._conv import register_converters as _register_converters\n"
     ]
    }
   ],
   "source": [
    "import tensorflow as tf\n",
    "import numpy as np\n",
    "import matplotlib.pyplot as plt\n",
    "from TrialSolution import TrialSolution"
   ]
  },
  {
   "cell_type": "markdown",
   "metadata": {},
   "source": [
    "## Example 2\n",
    "\n",
    "$\\frac{d}{dx}\\Psi+\\frac{1}{5}\\Psi=\\exp(-\\frac{x}{5})\\cos(x)$\n",
    "\n",
    "With boundary initial condition $\\Psi(0)=0$ and domain $x\\in[0,2]$"
   ]
  },
  {
   "cell_type": "code",
   "execution_count": 2,
   "metadata": {
    "collapsed": true
   },
   "outputs": [],
   "source": [
    "X_train = np.arange(0, 2., 0.2) + 1e-8\n",
    "X_train = X_train.reshape(-1,1)\n",
    "X_test = np.arange(0, 2., 0.01) + 1e-8\n",
    "X_test = X_test.reshape(-1,1) "
   ]
  },
  {
   "cell_type": "code",
   "execution_count": 3,
   "metadata": {
    "collapsed": true
   },
   "outputs": [],
   "source": [
    "inits = [{'variable':0, 'value':0, 'type':'dirichlet',\n",
    "        'function':lambda X: tf.constant(0., dtype='float64', shape=X.shape)}]"
   ]
  },
  {
   "cell_type": "markdown",
   "metadata": {},
   "source": [
    "The trial solution for this case is $\\Psi(x)=x N(x)$.\n",
    "The first function below is the function $A(x)=0$\n",
    "and the second function is the function $B(x)=x$.\n",
    "Though, in our case, the trial solution is generated automatically from the initial conditions."
   ]
  },
  {
   "cell_type": "code",
   "execution_count": 4,
   "metadata": {
    "collapsed": true
   },
   "outputs": [],
   "source": [
    "ts = TrialSolution(conditions=inits, n_i=1, n_h=10, n_o=1, equation_type='ODE')"
   ]
  },
  {
   "cell_type": "markdown",
   "metadata": {},
   "source": [
    "### Defining the loss function for a single point and a whole set\n",
    "\n",
    "The loss function is based on the formula:\n",
    "$$Loss(N)=\\sum_i \\left(L\\Psi(x_i, N(x_i))-f(x_i,\\Psi(x_i, N(x_i))) \\right)^2$$\n",
    "Where $N(x)$ is the neural network and $L$ is some differential operator."
   ]
  },
  {
   "cell_type": "code",
   "execution_count": 5,
   "metadata": {
    "collapsed": true
   },
   "outputs": [],
   "source": [
    "def diff_loss(network, inputs):\n",
    "  with tf.GradientTape() as tape:\n",
    "    inputs = tf.convert_to_tensor(inputs)\n",
    "    tape.watch(inputs)\n",
    "    response = network(inputs)\n",
    "  grads = tape.gradient(response, inputs)\n",
    "  loss = tf.square(grads + tf.multiply(tf.constant(0.2, dtype='float64'), response)\n",
    "          - tf.multiply(tf.exp( tf.multiply(tf.constant(-0.2, dtype='float64'), inputs)), tf.cos(inputs)))\n",
    "  return loss"
   ]
  },
  {
   "cell_type": "markdown",
   "metadata": {},
   "source": [
    "### Training"
   ]
  },
  {
   "cell_type": "code",
   "execution_count": 6,
   "metadata": {},
   "outputs": [
    {
     "name": "stdout",
     "output_type": "stream",
     "text": [
      "Epoch: 1000 Loss: 0.006759554147720337\n",
      "Epoch: 2000 Loss: 0.0038371470291167498\n",
      "Epoch: 3000 Loss: 0.002803412964567542\n",
      "Epoch: 4000 Loss: 0.0022645338904112577\n",
      "Epoch: 5000 Loss: 0.0019297762773931026\n",
      "Epoch: 6000 Loss: 0.0016994832549244165\n",
      "Epoch: 7000 Loss: 0.0015300221275538206\n",
      "Epoch: 8000 Loss: 0.001399194705300033\n",
      "Epoch: 9000 Loss: 0.0012944851769134402\n",
      "Epoch: 10000 Loss: 0.0012082895264029503\n",
      "Epoch: 11000 Loss: 0.0011357155162841082\n",
      "Epoch: 12000 Loss: 0.0010734682437032461\n",
      "Epoch: 13000 Loss: 0.0010192476911470294\n",
      "Epoch: 14000 Loss: 0.0009713944746181369\n",
      "Epoch: 15000 Loss: 0.000928681343793869\n",
      "Epoch: 16000 Loss: 0.0008901768014766276\n",
      "Epoch: 17000 Loss: 0.0008551605860702693\n",
      "Epoch: 18000 Loss: 0.0008230593521147966\n",
      "Epoch: 19000 Loss: 0.0007934183231554925\n",
      "Epoch: 20000 Loss: 0.0007658619433641434\n",
      "Epoch: 21000 Loss: 0.0007400873582810163\n",
      "Epoch: 22000 Loss: 0.0007158427615649998\n",
      "Epoch: 23000 Loss: 0.0006929232622496784\n",
      "Epoch: 24000 Loss: 0.0006711635505780578\n",
      "Epoch: 25000 Loss: 0.0006504314369522035\n",
      "Epoch: 26000 Loss: 0.0006306218565441668\n",
      "Epoch: 27000 Loss: 0.0006116571021266282\n",
      "Epoch: 28000 Loss: 0.000593477045185864\n",
      "Epoch: 29000 Loss: 0.0005760390777140856\n",
      "Epoch: 30000 Loss: 0.0005593128735199571\n",
      "Epoch: 31000 Loss: 0.000543272471986711\n",
      "Epoch: 32000 Loss: 0.0005279029137454927\n",
      "Epoch: 33000 Loss: 0.0005131844663992524\n",
      "Epoch: 34000 Loss: 0.0004991043824702501\n",
      "Epoch: 35000 Loss: 0.00048564461758360267\n",
      "Epoch: 36000 Loss: 0.0004727846826426685\n",
      "Epoch: 37000 Loss: 0.000460504466900602\n",
      "Epoch: 38000 Loss: 0.0004487829573918134\n",
      "Epoch: 39000 Loss: 0.0004375979769974947\n",
      "Epoch: 40000 Loss: 0.0004269170749466866\n",
      "Epoch: 41000 Loss: 0.00041672273073345423\n",
      "Epoch: 42000 Loss: 0.00040698243537917733\n",
      "Epoch: 43000 Loss: 0.00039767412818036973\n",
      "Epoch: 44000 Loss: 0.00038877478800714016\n",
      "Epoch: 45000 Loss: 0.00038027099799364805\n",
      "Epoch: 46000 Loss: 0.0003721123794093728\n",
      "Epoch: 47000 Loss: 0.00036429247120395303\n",
      "Epoch: 48000 Loss: 0.0003567984385881573\n",
      "Epoch: 49000 Loss: 0.0003496102581266314\n",
      "Epoch: 50000 Loss: 0.00034270959440618753\n",
      "Epoch: 51000 Loss: 0.00033607956720516086\n",
      "Epoch: 52000 Loss: 0.0003297045186627656\n",
      "Epoch: 53000 Loss: 0.00032357004238292575\n",
      "Epoch: 54000 Loss: 0.0003176627797074616\n",
      "Epoch: 55000 Loss: 0.0003119703324045986\n",
      "Epoch: 56000 Loss: 0.0003064811753574759\n",
      "Epoch: 57000 Loss: 0.0003011846274603158\n",
      "Epoch: 58000 Loss: 0.0002960707060992718\n",
      "Epoch: 59000 Loss: 0.0002911301562562585\n",
      "Epoch: 60000 Loss: 0.0002863542758859694\n",
      "Epoch: 61000 Loss: 0.00028173497412353754\n",
      "Epoch: 62000 Loss: 0.0002772647130768746\n",
      "Epoch: 63000 Loss: 0.00027293633320368826\n",
      "Epoch: 64000 Loss: 0.0002687432279344648\n",
      "Epoch: 65000 Loss: 0.00026467913994565606\n",
      "Epoch: 66000 Loss: 0.0002607382193673402\n",
      "Epoch: 67000 Loss: 0.0002569149073679\n",
      "Epoch: 68000 Loss: 0.0002532040816731751\n",
      "Epoch: 69000 Loss: 0.0002496007946319878\n",
      "Epoch: 70000 Loss: 0.00024610047694295645\n",
      "Epoch: 71000 Loss: 0.00024269873392768204\n",
      "Epoch: 72000 Loss: 0.00023939149104990065\n",
      "Epoch: 73000 Loss: 0.0002361748629482463\n",
      "Epoch: 74000 Loss: 0.00023304518254008144\n",
      "Epoch: 75000 Loss: 0.00022999894281383604\n",
      "Epoch: 76000 Loss: 0.0002270328695885837\n",
      "Epoch: 77000 Loss: 0.00022414384875446558\n",
      "Epoch: 78000 Loss: 0.00022132889716885984\n",
      "Epoch: 79000 Loss: 0.0002185852063121274\n",
      "Epoch: 80000 Loss: 0.0002159101131837815\n",
      "Epoch: 81000 Loss: 0.00021330107119865716\n",
      "Epoch: 82000 Loss: 0.00021075566473882645\n",
      "Epoch: 83000 Loss: 0.00020827159460168332\n",
      "Epoch: 84000 Loss: 0.00020584666344802827\n",
      "Epoch: 85000 Loss: 0.00020347879035398364\n",
      "Epoch: 86000 Loss: 0.00020116598170716316\n",
      "Epoch: 87000 Loss: 0.00019890634575858712\n",
      "Epoch: 88000 Loss: 0.000196698063518852\n",
      "Epoch: 89000 Loss: 0.00019453941786196083\n",
      "Epoch: 90000 Loss: 0.00019242872076574713\n",
      "Epoch: 91000 Loss: 0.0001903644297271967\n",
      "Epoch: 92000 Loss: 0.0001883450022432953\n",
      "Epoch: 93000 Loss: 0.0001863690122263506\n",
      "Epoch: 94000 Loss: 0.00018443506269250065\n",
      "Epoch: 95000 Loss: 0.00018254182941745967\n",
      "Epoch: 96000 Loss: 0.00018068803183268756\n",
      "Epoch: 97000 Loss: 0.00017887246212922037\n",
      "Epoch: 98000 Loss: 0.0001770939416019246\n",
      "Epoch: 99000 Loss: 0.00017535134975332767\n",
      "Epoch: 100000 Loss: 0.00017364360974170268\n"
     ]
    }
   ],
   "source": [
    "ts.train(X=X_train, diff_loss=diff_loss, epochs=100000, message_frequency=1000, optimizer_name='SGD', learning_rate=0.01)\n"
   ]
  },
  {
   "cell_type": "markdown",
   "metadata": {},
   "source": [
    "### Plotting the results \n",
    "\n",
    "The numerical solution (training set - red, valdiaiton set - green) along with the analytical solution (blue)."
   ]
  },
  {
   "cell_type": "code",
   "execution_count": 7,
   "metadata": {},
   "outputs": [
    {
     "data": {
      "image/png": "[encoded data removed]",
      "text/plain": [
       "<matplotlib.figure.Figure at 0x7fe48c45bfd0>"
      ]
     },
     "metadata": {},
     "output_type": "display_data"
    }
   ],
   "source": [
    "pred_train = ts.call(tf.convert_to_tensor(X_train, dtype='float64')).numpy()\n",
    "pred_test = ts(tf.convert_to_tensor(X_test, dtype='float64')).numpy()\n",
    "plt.scatter(X_train, pred_train, c='r', label='Numerical - Training', marker='+', s=30)\n",
    "plt.plot(X_test, pred_test, c='g', label='Numerical - Test')\n",
    "plt.plot(X_test,  np.exp(-0.2*X_test)*np.sin(X_test), c='b', label='Analytic')\n",
    "plt.legend()\n",
    "plt.show()"
   ]
  },
  {
   "cell_type": "markdown",
   "metadata": {},
   "source": [
    "Let's check the errors on the training set."
   ]
  },
  {
   "cell_type": "code",
   "execution_count": 8,
   "metadata": {},
   "outputs": [
    {
     "data": {
      "image/png": "[encoded data removed]",
      "text/plain": [
       "<matplotlib.figure.Figure at 0x7fe48c4a0a58>"
      ]
     },
     "metadata": {},
     "output_type": "display_data"
    }
   ],
   "source": [
    "plt.plot(X_train, pred_train - np.exp(-0.2*X_train)*np.sin(X_train), label='Error - Train')\n",
    "plt.legend()\n",
    "plt.show()"
   ]
  },
  {
   "cell_type": "markdown",
   "metadata": {},
   "source": [
    "Let's check the errors on the test set."
   ]
  },
  {
   "cell_type": "code",
   "execution_count": 9,
   "metadata": {},
   "outputs": [
    {
     "data": {
      "image/png": "[encoded data removed]",
      "text/plain": [
       "<matplotlib.figure.Figure at 0x7fe48c4a0198>"
      ]
     },
     "metadata": {},
     "output_type": "display_data"
    }
   ],
   "source": [
    "plt.plot(X_test, pred_test - np.exp(-0.2*X_test)*np.sin(X_test), label='Error - Test')\n",
    "plt.legend()\n",
    "plt.show()"
   ]
  },
  {
   "cell_type": "markdown",
   "metadata": {},
   "source": [
    "The mean loss calculated on the test set."
   ]
  },
  {
   "cell_type": "code",
   "execution_count": 10,
   "metadata": {
    "scrolled": true
   },
   "outputs": [
    {
     "data": {
      "text/plain": [
       "3.919702717075099e-06"
      ]
     },
     "execution_count": 10,
     "metadata": {},
     "output_type": "execute_result"
    }
   ],
   "source": [
    "diff_loss(ts, X_test).numpy().mean()"
   ]
  },
  {
   "cell_type": "markdown",
   "metadata": {},
   "source": [
    "Mean absolute error on the train set."
   ]
  },
  {
   "cell_type": "code",
   "execution_count": 11,
   "metadata": {},
   "outputs": [
    {
     "data": {
      "text/plain": [
       "0.00039790006968568384"
      ]
     },
     "execution_count": 11,
     "metadata": {},
     "output_type": "execute_result"
    }
   ],
   "source": [
    "np.abs(pred_train - np.exp(-0.2*X_train)*np.sin(X_train)).mean()"
   ]
  },
  {
   "cell_type": "markdown",
   "metadata": {},
   "source": [
    "Mean absolute error on the test set - interpolation error."
   ]
  },
  {
   "cell_type": "code",
   "execution_count": 12,
   "metadata": {},
   "outputs": [
    {
     "data": {
      "text/plain": [
       "0.00040447899961870476"
      ]
     },
     "execution_count": 12,
     "metadata": {},
     "output_type": "execute_result"
    }
   ],
   "source": [
    "np.abs(pred_test - np.exp(-0.2*X_test)*np.sin(X_test)).mean()"
   ]
  },
  {
   "cell_type": "code",
   "execution_count": 13,
   "metadata": {},
   "outputs": [
    {
     "data": {
      "text/plain": [
       "0.0009670263823911007"
      ]
     },
     "execution_count": 13,
     "metadata": {},
     "output_type": "execute_result"
    }
   ],
   "source": [
    "np.abs(pred_test - np.exp(-0.2*X_test)*np.sin(X_test)).max()"
   ]
  },
  {
   "cell_type": "code",
   "execution_count": null,
   "metadata": {
    "collapsed": true
   },
   "outputs": [],
   "source": []
  }
 ],
 "metadata": {
  "kernelspec": {
   "display_name": "Python 3",
   "language": "python",
   "name": "python3"
  },
  "language_info": {
   "codemirror_mode": {
    "name": "ipython",
    "version": 3
   },
   "file_extension": ".py",
   "mimetype": "text/x-python",
   "name": "python",
   "nbconvert_exporter": "python",
   "pygments_lexer": "ipython3",
   "version": "3.6.2"
  }
 },
 "nbformat": 4,
 "nbformat_minor": 2
}
