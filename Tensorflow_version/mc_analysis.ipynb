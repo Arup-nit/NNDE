{
 "cells": [
  {
   "cell_type": "code",
   "execution_count": 4,
   "metadata": {},
   "outputs": [],
   "source": [
    "import pandas as pd\n",
    "import os"
   ]
  },
  {
   "cell_type": "code",
   "execution_count": 5,
   "metadata": {},
   "outputs": [],
   "source": [
    "directory = next(os.walk('.'))"
   ]
  },
  {
   "cell_type": "code",
   "execution_count": 6,
   "metadata": {},
   "outputs": [
    {
     "name": "stdout",
     "output_type": "stream",
     "text": [
      "example1_mc_results\n",
      "              Train Interpolation\n",
      "count  1.000000E+02  1.000000E+02\n",
      "mean   8.611935E-03  9.763672E-03\n",
      "std    6.812106E-03  8.253069E-03\n",
      "min    1.005511E-03  1.118021E-03\n",
      "25%    3.184828E-03  3.459079E-03\n",
      "50%    7.641134E-03  7.961472E-03\n",
      "75%    1.072764E-02  1.231141E-02\n",
      "max    3.517059E-02  4.291990E-02\n",
      "example1_mc_results_e10k\n",
      "              Train Interpolation\n",
      "count  1.000000E+01  1.000000E+01\n",
      "mean   2.389424E-03  2.619404E-03\n",
      "std    1.532944E-03  1.774773E-03\n",
      "min    1.420368E-03  1.481930E-03\n",
      "25%    1.627499E-03  1.756483E-03\n",
      "50%    1.909175E-03  2.077682E-03\n",
      "75%    2.425963E-03  2.600805E-03\n",
      "max    6.599159E-03  7.519296E-03\n",
      "example2_mc_results\n",
      "              Train Interpolation\n",
      "count  1.000000E+02  1.000000E+02\n",
      "mean   3.819309E-03  4.169257E-03\n",
      "std    1.928242E-04  2.527455E-04\n",
      "min    3.381220E-03  3.585038E-03\n",
      "25%    3.694398E-03  4.000621E-03\n",
      "50%    3.809337E-03  4.145566E-03\n",
      "75%    3.940615E-03  4.327428E-03\n",
      "max    4.264069E-03  4.748824E-03\n",
      "example2_mc_results_e10k\n",
      "              Train Interpolation\n",
      "count  1.000000E+01  1.000000E+01\n",
      "mean   4.711018E-04  5.096906E-04\n",
      "std    4.586796E-04  5.055839E-04\n",
      "min    1.225449E-04  1.321941E-04\n",
      "25%    1.598774E-04  1.712653E-04\n",
      "50%    2.648497E-04  2.827653E-04\n",
      "75%    6.048822E-04  6.479434E-04\n",
      "max    1.489874E-03  1.650878E-03\n",
      "example3_mc_results\n",
      "              Train Interpolation\n",
      "count  1.000000E+02  1.000000E+02\n",
      "mean   3.999347E-04  4.379544E-04\n",
      "std    3.763344E-04  4.213920E-04\n",
      "min    2.810440E-05  2.892148E-05\n",
      "25%    2.088197E-04  2.237655E-04\n",
      "50%    3.179479E-04  3.427938E-04\n",
      "75%    4.898634E-04  5.236422E-04\n",
      "max    2.805485E-03  3.200892E-03\n",
      "example3_mc_results_e10k_v2\n",
      "              Train Interpolation\n",
      "count  1.000000E+01  1.000000E+01\n",
      "mean   1.716210E-04  1.837661E-04\n",
      "std    9.369551E-05  1.009095E-04\n",
      "min    2.931098E-05  3.242759E-05\n",
      "25%    9.302139E-05  9.815936E-05\n",
      "50%    1.846261E-04  2.034833E-04\n",
      "75%    2.451709E-04  2.585004E-04\n",
      "max    2.945524E-04  3.210211E-04\n"
     ]
    }
   ],
   "source": [
    "for file in directory[2]:\n",
    "    parts = file.split('.')\n",
    "    if parts[-1] == 'csv':\n",
    "        table = pd.read_csv(file, sep='\\t')\n",
    "        print(parts[0])\n",
    "        print(table.dropna().describe().applymap(lambda x: '%E' % x))"
   ]
  },
  {
   "cell_type": "code",
   "execution_count": null,
   "metadata": {},
   "outputs": [],
   "source": []
  }
 ],
 "metadata": {
  "kernelspec": {
   "display_name": "Python 3",
   "language": "python",
   "name": "python3"
  },
  "language_info": {
   "codemirror_mode": {
    "name": "ipython",
    "version": 3
   },
   "file_extension": ".py",
   "mimetype": "text/x-python",
   "name": "python",
   "nbconvert_exporter": "python",
   "pygments_lexer": "ipython3",
   "version": "3.7.3"
  }
 },
 "nbformat": 4,
 "nbformat_minor": 2
}
