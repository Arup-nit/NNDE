{
 "cells": [
  {
   "cell_type": "code",
   "execution_count": 1,
   "metadata": {},
   "outputs": [
    {
     "name": "stderr",
     "output_type": "stream",
     "text": [
      "/home/raroog/anaconda3/lib/python3.6/site-packages/h5py/__init__.py:34: FutureWarning: Conversion of the second argument of issubdtype from `float` to `np.floating` is deprecated. In future, it will be treated as `np.float64 == np.dtype(float).type`.\n",
      "  from ._conv import register_converters as _register_converters\n"
     ]
    }
   ],
   "source": [
    "import tensorflow as tf\n",
    "import numpy as np\n",
    "import matplotlib.pyplot as plt"
   ]
  },
  {
   "cell_type": "markdown",
   "metadata": {},
   "source": [
    "## Reproduction: Shirvany, et. al., \"Numerical solution of the nonlinear Schrodinger equation by feedforward neural networks.\"\n",
    "\n",
    "We consider the Shroedinger equation in one dimension:\n",
    "$$\\frac{d^2}{dx^2}\\Psi(x)+V(x)\\Psi(x)=E\\Psi(x)$$\n",
    "For the Potential Well problem with $V(x)=0,\\, x\\in[0,L]$ and $V(x)=\\infty,\\, x\\notin(0,L)$ the boundary conditions become $\\Psi(0)=0$ and $\\Psi(L)=0$ with the domain $x\\in[0,L]$."
   ]
  },
  {
   "cell_type": "code",
   "execution_count": 2,
   "metadata": {
    "collapsed": true
   },
   "outputs": [],
   "source": [
    "L = 4.\n",
    "X_train = np.arange(0, L, 0.02) + 1e-8\n",
    "X_train = X_train.reshape(-1,1)\n",
    "X_test = np.arange(0, L, 0.001) + 1e-8\n",
    "X_test = X_test.reshape(-1,1)  "
   ]
  },
  {
   "cell_type": "code",
   "execution_count": 3,
   "metadata": {
    "collapsed": true
   },
   "outputs": [],
   "source": [
    "bcs = [{'variable':0, 'value':0, 'type':'dirichlet',\n",
    "        'function':lambda X: tf.constant(0., dtype='float64', shape=X.shape)},\n",
    "      {'variable':0, 'value':L, 'type':'dirichlet',\n",
    "        'function':lambda X: tf.constant(0., dtype='float64', shape=X.shape)},\n",
    "      {'variable':0, 'value':L, 'type':'dirichlet',\n",
    "        'function':lambda X: tf.constant(0., dtype='float64', shape=X.shape)}]"
   ]
  },
  {
   "cell_type": "markdown",
   "metadata": {},
   "source": [
    "The authors propose the solution of a form of a almost-shallow network where we have a single hidden layer with $n_h$ units with sigmoid activation function. Output of the hidden layer is passed to an output layer with $n_o=2$ linear units which in the end are reduced by multipication."
   ]
  },
  {
   "cell_type": "code",
   "execution_count": 4,
   "metadata": {
    "collapsed": true
   },
   "outputs": [],
   "source": [
    "class Solution(tf.keras.models.Model):\n",
    "  def __init__(self, n_i, n_h, n_o=1, activation='sigmoid'):\n",
    "    super(Solution, self).__init__()\n",
    "    self.n_i = n_i\n",
    "    self.n_h = n_h\n",
    "    self.n_o = n_o\n",
    "    self.hidden_layer = tf.keras.layers.Dense(units=n_h, activation=activation)\n",
    "    self.output_layer = tf.keras.layers.Dense(units=n_o, activation='linear')\n",
    "    \n",
    "  def call(self, X):\n",
    "    X = tf.convert_to_tensor(X)\n",
    "    response = self.hidden_layer(X)\n",
    "    response = self.output_layer(X)\n",
    "    response = tf.math.reduce_prod(response, axis=1)\n",
    "    return response\n",
    "  \n",
    "  def train(self, X, conditions, eigen_value, loss_function, loss_boundary, epochs, verbose=True, message_frequency=1, learning_rate=0.1, optimizer_name='Adam'):\n",
    "    if not isinstance(epochs, int) or epochs < 1:\n",
    "      raise Exception('epochs parameter should be a positive integer.')\n",
    "    if not isinstance(message_frequency, int) or message_frequency < 1:\n",
    "      raise Exception(\n",
    "                'message_frequency parameter should be a positive integer.')\n",
    "    optimizer = 0\n",
    "    if optimizer_name == 'Adam':\n",
    "      optimizer = tf.keras.optimizers.Adam(learning_rate=learning_rate)\n",
    "    elif optimizer_name == 'SGD':\n",
    "      optimizer = tf.keras.optimizers.SGD(learning_rate=learning_rate)\n",
    "    elif optimizer_name == 'Adagrad':\n",
    "      optimizer = tf.keras.optimizers.Adagrad(learning_rate=learning_rate)\n",
    "    train_loss = tf.keras.metrics.Mean('train')\n",
    "    @tf.function\n",
    "    def train_step(X, eigen_value):\n",
    "      with tf.GradientTape() as tape:\n",
    "        loss = loss_function(self, X, eigen_value)\n",
    "      gradients = tape.gradient(loss, self.trainable_variables)\n",
    "      optimizer.apply_gradients(\n",
    "                  zip(gradients, self.trainable_variables))\n",
    "      \n",
    "    @tf.function\n",
    "    def train_boundary(conditions):\n",
    "      with tf.GradientTape() as tape:\n",
    "        loss = loss_boundary(self, conditions)\n",
    "      gradients = tape.gradient(loss, self.trainable_variables)\n",
    "      optimizer.apply_gradients(\n",
    "                  zip(gradients, self.trainable_variables))\n",
    "      \n",
    "    for epoch in range(epochs):\n",
    "      for x in X:\n",
    "        x_tensor = tf.reshape(x, shape=(1, X.shape[1]))\n",
    "        train_step(x_tensor, eigen_value)\n",
    "      train_boundary(conditions)\n",
    "      train_loss(loss_function(self, X, eigen_value) + loss_boundary(self, conditions))\n",
    "      if (epoch+1) % message_frequency == 0:\n",
    "        print(f'Epoch: {epoch+1} Loss: {train_loss.result().numpy()}')"
   ]
  },
  {
   "cell_type": "markdown",
   "metadata": {},
   "source": [
    "Accroding to the paper:\n",
    "\n",
    ">The ANN is trained via the gradient-descent back-propagation method with momentum\n",
    "term for minimizing the non-negative energy function that is formulated from Schrodinger equation Eq. (6)\n",
    "and the available boundary conditions.\n",
    "\n",
    "and\n",
    "\n",
    ">In the train\n",
    "state of the network the adjustable parameters of the networks (weights and biases) are tuned by a proper\n",
    "learning algorithm to minimize the energy function of the network. We train the network via the fast converge\n",
    "gradient-descend back-propagation method with momentum term [7,23,24] for the non-negative energy func-\n",
    "tion.\n",
    "\n",
    "We concluded that it can realised by using the Adam optimizer with online learning."
   ]
  },
  {
   "cell_type": "markdown",
   "metadata": {},
   "source": [
    "The loss is defined by sum of unsupervised minimalization of the equation and by supervised optimization for MSE for the boundary conditions:\n",
    "$$Loss(N)=\\sum_i \\left(\\Delta\\Psi(N(x_i))+E\\Psi(N(x_i))\\right)^2 + \\sum_k (\\Psi(N(x_k))-C_k)^2$$"
   ]
  },
  {
   "cell_type": "code",
   "execution_count": 5,
   "metadata": {
    "collapsed": true
   },
   "outputs": [],
   "source": [
    "def loss(network, X, eigen_value):\n",
    "  X = tf.convert_to_tensor(X)\n",
    "  with tf.GradientTape() as tape1:\n",
    "    with tf.GradientTape() as tape2:\n",
    "      tape1.watch(X)\n",
    "      tape2.watch(X)\n",
    "      response = network(X)\n",
    "    grads = tape2.gradient(response, X)\n",
    "  laplace = tape1.gradient(grads, X)\n",
    "#   half = tf.constant(0.5, shape=(X.shape[0], 1), dtype='float64')\n",
    "  eigen_value_tensor = tf.constant(eigen_value, shape=(X.shape[0], 1), dtype='float64')\n",
    "  loss = tf.square(laplace + eigen_value_tensor * response)\n",
    "  return loss      "
   ]
  },
  {
   "cell_type": "code",
   "execution_count": 6,
   "metadata": {
    "collapsed": true
   },
   "outputs": [],
   "source": [
    "def loss_boundary(network, conditions):\n",
    "  loss = 0\n",
    "  for condition in conditions:\n",
    "    temp_X = tf.convert_to_tensor(np.array([condition['value']]).reshape((1,1)))\n",
    "    loss += tf.square(network(temp_X) - condition['function'](temp_X))\n",
    "  return loss      "
   ]
  },
  {
   "cell_type": "markdown",
   "metadata": {},
   "source": [
    "The optimal size of the network found by the autors is $n_h=105$."
   ]
  },
  {
   "cell_type": "code",
   "execution_count": 7,
   "metadata": {
    "collapsed": true
   },
   "outputs": [],
   "source": [
    "sol = Solution(n_i=1, n_h=40, n_o=2)"
   ]
  },
  {
   "cell_type": "markdown",
   "metadata": {},
   "source": [
    "Let's check if such a solution finds the eigen function corresponidng to the eigen_value $E=0.61$ for $n=1$"
   ]
  },
  {
   "cell_type": "code",
   "execution_count": 8,
   "metadata": {},
   "outputs": [
    {
     "name": "stderr",
     "output_type": "stream",
     "text": [
      "WARNING: Logging before flag parsing goes to stderr.\n",
      "W0425 16:06:29.106647 140163640977152 deprecation.py:323] From /home/raroog/anaconda3/lib/python3.6/site-packages/tensorflow/python/ops/math_grad.py:167: setdiff1d (from tensorflow.python.ops.array_ops) is deprecated and will be removed after 2018-11-30.\n",
      "Instructions for updating:\n",
      "This op will be removed after the deprecation date. Please switch to tf.sets.difference().\n",
      "W0425 16:06:29.421125 140163640977152 optimizer_v2.py:928] Gradients does not exist for variables ['solution/dense/kernel:0', 'solution/dense/bias:0'] when minimizing the loss.\n",
      "W0425 16:06:30.632727 140163640977152 optimizer_v2.py:928] Gradients does not exist for variables ['solution/dense/kernel:0', 'solution/dense/bias:0'] when minimizing the loss.\n",
      "W0425 16:06:31.555563 140163640977152 optimizer_v2.py:928] Gradients does not exist for variables ['solution/dense/kernel:0', 'solution/dense/bias:0'] when minimizing the loss.\n"
     ]
    },
    {
     "name": "stdout",
     "output_type": "stream",
     "text": [
      "Epoch: 1 Loss: 0.08791682869195938\n",
      "Epoch: 2 Loss: 0.12983863055706024\n",
      "Epoch: 3 Loss: 0.16996386647224426\n",
      "Epoch: 4 Loss: 0.19705641269683838\n",
      "Epoch: 5 Loss: 0.209036722779274\n",
      "Epoch: 6 Loss: 0.20900586247444153\n",
      "Epoch: 7 Loss: 0.2016897350549698\n",
      "Epoch: 8 Loss: 0.1909661442041397\n",
      "Epoch: 9 Loss: 0.1791713386774063\n",
      "Epoch: 10 Loss: 0.16746602952480316\n",
      "Epoch: 11 Loss: 0.15635187923908234\n",
      "Epoch: 12 Loss: 0.1460133194923401\n",
      "Epoch: 13 Loss: 0.13649828732013702\n",
      "Epoch: 14 Loss: 0.1278017908334732\n",
      "Epoch: 15 Loss: 0.11988908797502518\n",
      "Epoch: 16 Loss: 0.11272172629833221\n",
      "Epoch: 17 Loss: 0.1062367781996727\n",
      "Epoch: 18 Loss: 0.10040773451328278\n",
      "Epoch: 19 Loss: 0.09515030682086945\n",
      "Epoch: 20 Loss: 0.09040126949548721\n",
      "Epoch: 21 Loss: 0.08609898388385773\n",
      "Epoch: 22 Loss: 0.08218616247177124\n",
      "Epoch: 23 Loss: 0.07861308008432388\n",
      "Epoch: 24 Loss: 0.07533760368824005\n",
      "Epoch: 25 Loss: 0.07232412695884705\n",
      "Epoch: 26 Loss: 0.06954243779182434\n",
      "Epoch: 27 Loss: 0.06696678698062897\n",
      "Epoch: 28 Loss: 0.06457512080669403\n",
      "Epoch: 29 Loss: 0.062348391860723495\n",
      "Epoch: 30 Loss: 0.06027011200785637\n",
      "Epoch: 31 Loss: 0.058325912803411484\n",
      "Epoch: 32 Loss: 0.05650322884321213\n",
      "Epoch: 33 Loss: 0.05479101091623306\n",
      "Epoch: 34 Loss: 0.053179509937763214\n",
      "Epoch: 35 Loss: 0.051660094410181046\n",
      "Epoch: 36 Loss: 0.050225093960762024\n",
      "Epoch: 37 Loss: 0.04886765778064728\n",
      "Epoch: 38 Loss: 0.047581665217876434\n",
      "Epoch: 39 Loss: 0.04636162519454956\n",
      "Epoch: 40 Loss: 0.0452025830745697\n",
      "Epoch: 41 Loss: 0.0441000796854496\n",
      "Epoch: 42 Loss: 0.04305008053779602\n",
      "Epoch: 43 Loss: 0.04204891622066498\n",
      "Epoch: 44 Loss: 0.04109325632452965\n",
      "Epoch: 45 Loss: 0.04018007218837738\n",
      "Epoch: 46 Loss: 0.03930659219622612\n",
      "Epoch: 47 Loss: 0.03847028315067291\n",
      "Epoch: 48 Loss: 0.03766882047057152\n",
      "Epoch: 49 Loss: 0.03690006956458092\n",
      "Epoch: 50 Loss: 0.03616206720471382\n",
      "Epoch: 51 Loss: 0.035453006625175476\n",
      "Epoch: 52 Loss: 0.03477121889591217\n",
      "Epoch: 53 Loss: 0.03411515802145004\n",
      "Epoch: 54 Loss: 0.033483393490314484\n",
      "Epoch: 55 Loss: 0.03287460654973984\n",
      "Epoch: 56 Loss: 0.032287560403347015\n",
      "Epoch: 57 Loss: 0.03172111138701439\n",
      "Epoch: 58 Loss: 0.031174195930361748\n",
      "Epoch: 59 Loss: 0.030645819380879402\n",
      "Epoch: 60 Loss: 0.030135056003928185\n",
      "Epoch: 61 Loss: 0.029641086235642433\n",
      "Epoch: 62 Loss: 0.029164869338274002\n",
      "Epoch: 63 Loss: 0.028827985748648643\n",
      "Epoch: 64 Loss: 0.029142599552869797\n",
      "Epoch: 65 Loss: 0.028808224946260452\n",
      "Epoch: 66 Loss: 0.028372747823596\n",
      "Epoch: 67 Loss: 0.02794940583407879\n",
      "Epoch: 68 Loss: 0.027538402006030083\n",
      "Epoch: 69 Loss: 0.027139296755194664\n",
      "Epoch: 70 Loss: 0.026751592755317688\n",
      "Epoch: 71 Loss: 0.026374809443950653\n",
      "Epoch: 72 Loss: 0.026008494198322296\n",
      "Epoch: 73 Loss: 0.025652213022112846\n",
      "Epoch: 74 Loss: 0.02530556172132492\n",
      "Epoch: 75 Loss: 0.02496815286576748\n",
      "Epoch: 76 Loss: 0.02463962510228157\n",
      "Epoch: 77 Loss: 0.02431963011622429\n",
      "Epoch: 78 Loss: 0.02400784008204937\n",
      "Epoch: 79 Loss: 0.02370394393801689\n",
      "Epoch: 80 Loss: 0.023407643660902977\n",
      "Epoch: 81 Loss: 0.02311865985393524\n",
      "Epoch: 82 Loss: 0.022836726158857346\n",
      "Epoch: 83 Loss: 0.022561585530638695\n",
      "Epoch: 84 Loss: 0.02229299396276474\n",
      "Epoch: 85 Loss: 0.022030724212527275\n",
      "Epoch: 86 Loss: 0.021774552762508392\n",
      "Epoch: 87 Loss: 0.021524270996451378\n",
      "Epoch: 88 Loss: 0.021279675886034966\n",
      "Epoch: 89 Loss: 0.021040579304099083\n",
      "Epoch: 90 Loss: 0.020806794986128807\n",
      "Epoch: 91 Loss: 0.02057814784348011\n",
      "Epoch: 92 Loss: 0.02035447396337986\n",
      "Epoch: 93 Loss: 0.020135607570409775\n",
      "Epoch: 94 Loss: 0.019921399652957916\n",
      "Epoch: 95 Loss: 0.019711699336767197\n",
      "Epoch: 96 Loss: 0.019506370648741722\n",
      "Epoch: 97 Loss: 0.0193052738904953\n",
      "Epoch: 98 Loss: 0.019108280539512634\n",
      "Epoch: 99 Loss: 0.018915267661213875\n",
      "Epoch: 100 Loss: 0.01872611604630947\n"
     ]
    }
   ],
   "source": [
    "sol.train(X=X_train, conditions=bcs, eigen_value=0.61, loss_function=loss, loss_boundary=loss_boundary, epochs=100, message_frequency=1, learning_rate=0.01, optimizer_name='Adam')"
   ]
  },
  {
   "cell_type": "code",
   "execution_count": 9,
   "metadata": {},
   "outputs": [
    {
     "data": {
      "image/png": "[encoded data removed]",
      "text/plain": [
       "<matplotlib.figure.Figure at 0x7f7a0d9502e8>"
      ]
     },
     "metadata": {},
     "output_type": "display_data"
    }
   ],
   "source": [
    "pred_train = sol.call(tf.convert_to_tensor(X_train, dtype='float64')).numpy()\n",
    "pred_test = sol(tf.convert_to_tensor(X_test, dtype='float64')).numpy()\n",
    "plt.scatter(X_train, pred_train, c='r', label='Numerical - Training', marker='+', s=30)\n",
    "plt.plot(X_test, pred_test, c='g', label='Numerical - Test')\n",
    "plt.plot(X_test, np.sin(np.pi/L*X_test), c='b', label='Analytic')\n",
    "plt.legend()\n",
    "plt.show()"
   ]
  },
  {
   "cell_type": "markdown",
   "metadata": {
    "collapsed": true
   },
   "source": [
    "Without much supprise, the network converges to the trivial vanishing solution of the equation."
   ]
  },
  {
   "cell_type": "code",
   "execution_count": null,
   "metadata": {
    "collapsed": true
   },
   "outputs": [],
   "source": []
  }
 ],
 "metadata": {
  "kernelspec": {
   "display_name": "Python 3",
   "language": "python",
   "name": "python3"
  },
  "language_info": {
   "codemirror_mode": {
    "name": "ipython",
    "version": 3
   },
   "file_extension": ".py",
   "mimetype": "text/x-python",
   "name": "python",
   "nbconvert_exporter": "python",
   "pygments_lexer": "ipython3",
   "version": "3.6.2"
  }
 },
 "nbformat": 4,
 "nbformat_minor": 2
}
