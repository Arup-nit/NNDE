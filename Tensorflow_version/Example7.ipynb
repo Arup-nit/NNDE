{
 "cells": [
  {
   "cell_type": "code",
   "execution_count": 1,
   "metadata": {},
   "outputs": [
    {
     "name": "stderr",
     "output_type": "stream",
     "text": [
      "/home/raroog/anaconda3/lib/python3.6/site-packages/h5py/__init__.py:34: FutureWarning: Conversion of the second argument of issubdtype from `float` to `np.floating` is deprecated. In future, it will be treated as `np.float64 == np.dtype(float).type`.\n",
      "  from ._conv import register_converters as _register_converters\n"
     ]
    }
   ],
   "source": [
    "import tensorflow as tf\n",
    "import numpy as np\n",
    "import matplotlib.pyplot as plt\n",
    "from mpl_toolkits.mplot3d import Axes3D\n",
    "from TrialSolution import TrialSolution"
   ]
  },
  {
   "cell_type": "code",
   "execution_count": 2,
   "metadata": {
    "collapsed": true
   },
   "outputs": [],
   "source": [
    "def call(self, X):\n",
    "  with tf.GradientTape() as tape:\n",
    "    X = tf.convert_to_tensor(X)\n",
    "    response = self.hidden_layer(X)\n",
    "    response = self.output_layer(response)\n",
    "    X1 = tf.concat([tf.reshape(X[:,0], shape=(X.shape[0], 1)),\n",
    "                      tf.constant(1.0, dtype='float64', shape=(X.shape[0], 1))], axis=1)\n",
    "    tape.watch(X1)\n",
    "    response1 = self.hidden_layer(X1)\n",
    "    response1 = self.output_layer(response1)\n",
    "  der_resp1 = tape.gradient(response1, X1)\n",
    "  der_resp1 = tf.reshape(der_resp1[:,1], shape=(response.shape[0],1))\n",
    "  x = tf.reshape(X[:,0], shape=(response.shape[0],1))\n",
    "  y = tf.reshape(X[:,1], shape=(response.shape[0],1))\n",
    "  one = tf.constant(1., dtype='float64', shape=(response.shape[0],1))\n",
    "  two = tf.constant(2., dtype='float64', shape=(response.shape[0],1))\n",
    "  pi = tf.constant(np.pi, dtype='float64', shape=(response.shape[0],1))\n",
    "  response -= response1\n",
    "  response -= der_resp1\n",
    "  response *= x*(one-x)*y\n",
    "  response += y * two * tf.sin(pi * x)\n",
    "  return response"
   ]
  },
  {
   "cell_type": "code",
   "execution_count": 3,
   "metadata": {
    "collapsed": true
   },
   "outputs": [],
   "source": [
    "bcs = [{'variable':0, 'value':0, 'type':'dirichlet',\n",
    "        'function':lambda X: X[:,1]**3},\n",
    "        {'variable':0, 'value':0, 'type':'dirichlet',\n",
    "        'function':lambda X: (tf.constant(1., dtype='float64', shape=(X.shape[0],1))+ X[:,1]**3)*tf.exp(tf.constant(-1., dtype='float64', shape=(X.shape[0],1)))},\n",
    "        {'variable':1, 'value':0, 'type':'dirichlet',\n",
    "        'function':lambda X: X[:,0]*tf.exp(-X[:,0])},\n",
    "        {'variable':1, 'value':1, 'type':'dirichlet',\n",
    "        'function':lambda X: (X[:,0]+tf.constant(1., dtype='float64', shape=(X.shape[0],1)))*tf.exp(-X[:,0])}]"
   ]
  },
  {
   "cell_type": "code",
   "execution_count": 4,
   "metadata": {
    "collapsed": true
   },
   "outputs": [],
   "source": [
    "n_samples = 10\n",
    "X_train = np.linspace(0, 1, n_samples)\n",
    "Y_train = np.linspace(0, 1, n_samples)\n",
    "X_train, Y_train = np.meshgrid(X_train, Y_train)\n",
    "X_train = X_train.flatten()\n",
    "Y_train = Y_train.flatten()\n",
    "samples_train = np.array([X_train, Y_train]).T"
   ]
  },
  {
   "cell_type": "code",
   "execution_count": 5,
   "metadata": {
    "collapsed": true
   },
   "outputs": [],
   "source": [
    "n_samples_test = 100\n",
    "X_test = np.linspace(0, 1, n_samples_test)\n",
    "Y_test = np.linspace(0, 1, n_samples_test)\n",
    "X_test, Y_test = np.meshgrid(X_test, Y_test)\n",
    "X_test = X_test.flatten()\n",
    "Y_test = Y_test.flatten()\n",
    "samples_test = np.array([X_test, Y_test]).T"
   ]
  },
  {
   "cell_type": "code",
   "execution_count": 6,
   "metadata": {
    "collapsed": true
   },
   "outputs": [],
   "source": [
    "ts = TrialSolution(conditions=bcs, n_i=2, n_h=10, n_o=1, equation_type='PDE', call_method=call)"
   ]
  },
  {
   "cell_type": "code",
   "execution_count": 7,
   "metadata": {
    "collapsed": true
   },
   "outputs": [],
   "source": [
    "def diff_loss(network, inputs):\n",
    "  with tf.GradientTape() as tape2:\n",
    "    with tf.GradientTape() as tape:\n",
    "      inputs = tf.convert_to_tensor(inputs)\n",
    "      tape.watch(inputs)\n",
    "      tape2.watch(inputs)\n",
    "      response = network(inputs)  \n",
    "    grads = tape.gradient(response, inputs)\n",
    "  laplace = tape2.gradient(grads, inputs)\n",
    "#   print(grads)\n",
    "#   print(laplace)\n",
    "  two = tf.constant(2, dtype='float64')\n",
    "  pi = tf.constant(np.pi, dtype='float64')\n",
    "  loss = tf.square(laplace[:,0] + laplace[:,1] + response * grads[:,1]\n",
    "                   - tf.sin(pi*inputs[:,0])*(two  - pi**2*inputs[:,1]**2 + two * inputs[:,1]**3*tf.sin(pi*inputs[:,0])))\n",
    "  return loss"
   ]
  },
  {
   "cell_type": "markdown",
   "metadata": {},
   "source": [
    "### Training"
   ]
  },
  {
   "cell_type": "code",
   "execution_count": 8,
   "metadata": {
    "scrolled": true
   },
   "outputs": [
    {
     "ename": "NameError",
     "evalue": "name 'samples' is not defined",
     "output_type": "error",
     "traceback": [
      "\u001b[0;31m---------------------------------------------------------------------------\u001b[0m",
      "\u001b[0;31mNameError\u001b[0m                                 Traceback (most recent call last)",
      "\u001b[0;32m<ipython-input-8-30757b8a1b1f>\u001b[0m in \u001b[0;36m<module>\u001b[0;34m()\u001b[0m\n\u001b[0;32m----> 1\u001b[0;31m \u001b[0mts\u001b[0m\u001b[0;34m.\u001b[0m\u001b[0mtrain\u001b[0m\u001b[0;34m(\u001b[0m\u001b[0mX\u001b[0m\u001b[0;34m=\u001b[0m\u001b[0msamples\u001b[0m\u001b[0;34m,\u001b[0m \u001b[0mdiff_loss\u001b[0m\u001b[0;34m=\u001b[0m\u001b[0mdiff_loss\u001b[0m\u001b[0;34m,\u001b[0m \u001b[0mepochs\u001b[0m\u001b[0;34m=\u001b[0m\u001b[0;36m10000\u001b[0m\u001b[0;34m,\u001b[0m \u001b[0mmessage_frequency\u001b[0m\u001b[0;34m=\u001b[0m\u001b[0;36m1000\u001b[0m\u001b[0;34m,\u001b[0m \u001b[0moptimizer_name\u001b[0m\u001b[0;34m=\u001b[0m\u001b[0;34m'SGD'\u001b[0m\u001b[0;34m,\u001b[0m \u001b[0mlearning_rate\u001b[0m\u001b[0;34m=\u001b[0m\u001b[0;36m0.005\u001b[0m\u001b[0;34m)\u001b[0m\u001b[0;34m\u001b[0m\u001b[0m\n\u001b[0m",
      "\u001b[0;31mNameError\u001b[0m: name 'samples' is not defined"
     ]
    }
   ],
   "source": [
    "ts.train(X=samples, diff_loss=diff_loss, epochs=10000, message_frequency=1000, optimizer_name='SGD', learning_rate=0.005)"
   ]
  },
  {
   "cell_type": "markdown",
   "metadata": {},
   "source": [
    "### Plotting the results \n",
    "\n",
    "The numerical solution."
   ]
  },
  {
   "cell_type": "code",
   "execution_count": null,
   "metadata": {
    "collapsed": true
   },
   "outputs": [],
   "source": [
    "fig = plt.figure()\n",
    "ax = fig.add_subplot(111, projection='3d')\n",
    "new_shape = int(np.sqrt(samples.shape[0]))\n",
    "Ze5sol = tf.reshape(ts(samples), shape=(samples.shape[0],)).numpy()\n",
    "ax.plot_surface(X=samples[:,0].reshape((new_shape, new_shape)), Y=samples[:,1].reshape((new_shape, new_shape)), Z=Ze5sol.reshape((new_shape, new_shape)), label='Numerical - Training')\n",
    "plt.show()"
   ]
  },
  {
   "cell_type": "code",
   "execution_count": null,
   "metadata": {
    "collapsed": true
   },
   "outputs": [],
   "source": [
    "fig = plt.figure()\n",
    "ax = fig.add_subplot(111, projection='3d')\n",
    "Ze5anal = np.sin(np.pi*samples[:,0])*samples[:,1]**2\n",
    "Ze5diff = Ze5sol - Ze5anal\n",
    "ax.plot_surface(X=samples[:,0].reshape((new_shape, new_shape)), Y=samples[:,1].reshape((new_shape, new_shape)), Z=Ze5diff.reshape((new_shape, new_shape)), label='Analytic')\n",
    "# plt.legend()\n",
    "plt.show()"
   ]
  },
  {
   "cell_type": "code",
   "execution_count": null,
   "metadata": {
    "collapsed": true
   },
   "outputs": [],
   "source": [
    "np.abs(Ze5diff**2).mean()"
   ]
  },
  {
   "cell_type": "code",
   "execution_count": null,
   "metadata": {
    "collapsed": true
   },
   "outputs": [],
   "source": [
    "np.max(np.abs(Ze5diff))"
   ]
  },
  {
   "cell_type": "code",
   "execution_count": null,
   "metadata": {
    "collapsed": true
   },
   "outputs": [],
   "source": []
  }
 ],
 "metadata": {
  "kernelspec": {
   "display_name": "Python 3",
   "language": "python",
   "name": "python3"
  },
  "language_info": {
   "codemirror_mode": {
    "name": "ipython",
    "version": 3
   },
   "file_extension": ".py",
   "mimetype": "text/x-python",
   "name": "python",
   "nbconvert_exporter": "python",
   "pygments_lexer": "ipython3",
   "version": "3.6.2"
  }
 },
 "nbformat": 4,
 "nbformat_minor": 2
}
