{
 "cells": [
  {
   "cell_type": "code",
   "execution_count": 1,
   "metadata": {},
   "outputs": [],
   "source": [
    "import pandas as pd\n",
    "import os"
   ]
  },
  {
   "cell_type": "code",
   "execution_count": 2,
   "metadata": {},
   "outputs": [],
   "source": [
    "directory = next(os.walk('.'))"
   ]
  },
  {
   "cell_type": "code",
   "execution_count": 3,
   "metadata": {},
   "outputs": [
    {
     "name": "stdout",
     "output_type": "stream",
     "text": [
      "example1_mc_results\n",
      "            Train  Interpolation\n",
      "count  100.000000     100.000000\n",
      "mean     0.008612       0.009764\n",
      "std      0.006812       0.008253\n",
      "min      0.001006       0.001118\n",
      "25%      0.003185       0.003459\n",
      "50%      0.007641       0.007961\n",
      "75%      0.010728       0.012311\n",
      "max      0.035171       0.042920\n",
      "example1_mc_results_e10k\n",
      "           Train  Interpolation\n",
      "count  10.000000      10.000000\n",
      "mean    0.002389       0.002619\n",
      "std     0.001533       0.001775\n",
      "min     0.001420       0.001482\n",
      "25%     0.001627       0.001756\n",
      "50%     0.001909       0.002078\n",
      "75%     0.002426       0.002601\n",
      "max     0.006599       0.007519\n",
      "example2_mc_results\n",
      "            Train  Interpolation\n",
      "count  100.000000     100.000000\n",
      "mean     0.003819       0.004169\n",
      "std      0.000193       0.000253\n",
      "min      0.003381       0.003585\n",
      "25%      0.003694       0.004001\n",
      "50%      0.003809       0.004146\n",
      "75%      0.003941       0.004327\n",
      "max      0.004264       0.004749\n",
      "example3_mc_results\n",
      "            Train  Interpolation\n",
      "count  100.000000     100.000000\n",
      "mean     0.000400       0.000438\n",
      "std      0.000376       0.000421\n",
      "min      0.000028       0.000029\n",
      "25%      0.000209       0.000224\n",
      "50%      0.000318       0.000343\n",
      "75%      0.000490       0.000524\n",
      "max      0.002805       0.003201\n"
     ]
    }
   ],
   "source": [
    "for file in directory[2]:\n",
    "    parts = file.split('.')\n",
    "    if parts[-1] == 'csv':\n",
    "        table = pd.read_csv(file, sep='\\t')\n",
    "        print(parts[0])\n",
    "        print(table.dropna().describe())"
   ]
  },
  {
   "cell_type": "code",
   "execution_count": null,
   "metadata": {},
   "outputs": [],
   "source": []
  }
 ],
 "metadata": {
  "kernelspec": {
   "display_name": "Python 3",
   "language": "python",
   "name": "python3"
  },
  "language_info": {
   "codemirror_mode": {
    "name": "ipython",
    "version": 3
   },
   "file_extension": ".py",
   "mimetype": "text/x-python",
   "name": "python",
   "nbconvert_exporter": "python",
   "pygments_lexer": "ipython3",
   "version": "3.7.3"
  }
 },
 "nbformat": 4,
 "nbformat_minor": 2
}
