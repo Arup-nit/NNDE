{
 "cells": [
  {
   "cell_type": "code",
   "execution_count": 1,
   "metadata": {},
   "outputs": [
    {
     "name": "stderr",
     "output_type": "stream",
     "text": [
      "/home/raroog/anaconda3/lib/python3.6/site-packages/h5py/__init__.py:34: FutureWarning: Conversion of the second argument of issubdtype from `float` to `np.floating` is deprecated. In future, it will be treated as `np.float64 == np.dtype(float).type`.\n",
      "  from ._conv import register_converters as _register_converters\n"
     ]
    }
   ],
   "source": [
    "import tensorflow as tf\n",
    "import numpy as np\n",
    "import matplotlib.pyplot as plt"
   ]
  },
  {
   "cell_type": "markdown",
   "metadata": {},
   "source": [
    "## Example 2\n",
    "\n",
    "$\\frac{d}{dx}\\Psi+\\frac{1}{5}\\Psi=\\exp(-\\frac{x}{5})\\cos(x)$\n",
    "\n",
    "With boundary initial condition $\\Psi(0)=0$ and domain $x\\in[0,2]$"
   ]
  },
  {
   "cell_type": "code",
   "execution_count": 2,
   "metadata": {
    "collapsed": true
   },
   "outputs": [],
   "source": [
    "X_train = np.arange(0, 2., 0.2) + 1e-8\n",
    "X_train = X_train.reshape(-1,1)\n",
    "X_test = np.arange(0, 2., 0.01) + 1e-8\n",
    "X_test = X_test.reshape(-1,1) "
   ]
  },
  {
   "cell_type": "code",
   "execution_count": 3,
   "metadata": {
    "collapsed": true
   },
   "outputs": [],
   "source": [
    "inits = [{'variable':0, 'value':0, 'type':'dirichlet',\n",
    "        'function':lambda X: tf.constant(0., dtype='float64', shape=X.shape)}]"
   ]
  },
  {
   "cell_type": "code",
   "execution_count": 4,
   "metadata": {
    "collapsed": true
   },
   "outputs": [],
   "source": [
    "class TrialSolution(tf.keras.models.Model):\n",
    "  def __init__(self, conditions, n_i, n_h, n_o=1, activation='sigmoid'):\n",
    "    super(TrialSolution, self).__init__()\n",
    "    \n",
    "    # Dimensions of the network\n",
    "    self.n_i = n_i\n",
    "    self.n_h = n_h\n",
    "    self.n_o = n_o\n",
    "    \n",
    "    # Boundary conditions\n",
    "    self.conditions = conditions\n",
    "    \n",
    "    # Shallow network\n",
    "    self.hidden_layer = tf.keras.layers.Dense(units=self.n_h, activation=activation)\n",
    "    self.output_layer = tf.keras.layers.Dense(units=self.n_o, activation='linear')\n",
    "    \n",
    "  def call(self, X):\n",
    "    X = tf.convert_to_tensor(X)\n",
    "    response = self.hidden_layer(X)\n",
    "    response = self.output_layer(response)\n",
    "    \n",
    "    # Automatic conditions incorporation\n",
    "    # It should be used to generate the *call* method instead of calculating it every damned time\n",
    "    \n",
    "    boundary_value = tf.constant(0., dtype='float64', shape=response.get_shape())\n",
    "    \n",
    "    for condition in self.conditions:\n",
    "      vanishing = tf.constant(1., dtype='float64', shape=response.get_shape())\n",
    "      if condition['type'] == 'dirichlet':\n",
    "        temp_bc = tf.reshape(condition['function'](X), shape=boundary_value.shape)\n",
    "        for vanisher in self.conditions:\n",
    "          if vanisher['variable'] != condition['variable'] and vanisher['value'] != condition['value']:\n",
    "            vanishing *= (X[:, vanisher['variable']]\n",
    "                                    - tf.constant(vanisher['value'], dtype='float64', shape=boundary_value.shape))\n",
    "        boundary_value += temp_bc * vanishing\n",
    "        \n",
    "        response *= (tf.constant(condition['value'], dtype='float64', shape=boundary_value.shape)\n",
    "                     - tf.reshape(X[:, condition['variable']], shape=boundary_value.shape))\n",
    "      \n",
    "    response += boundary_value\n",
    "    return response"
   ]
  },
  {
   "cell_type": "markdown",
   "metadata": {},
   "source": [
    "The trial solution for this case is $\\Psi(x)=x N(x)$.\n",
    "The first function below is the function $A(x)=0$\n",
    "and the second function is the function $B(x)=x$."
   ]
  },
  {
   "cell_type": "code",
   "execution_count": 5,
   "metadata": {
    "collapsed": true
   },
   "outputs": [],
   "source": [
    "ts = TrialSolution(conditions=inits, n_i=1, n_h=10, n_o=1)"
   ]
  },
  {
   "cell_type": "markdown",
   "metadata": {},
   "source": [
    "### Defining the loss function for a single point and a whole set\n",
    "\n",
    "The loss function is based on the formula:\n",
    "$$Loss(N)=\\sum_i \\left(L\\Psi(x_i, N(x_i))-f(x_i,\\Psi(x_i, N(x_i))) \\right)^2$$\n",
    "Where $N(x)$ is the neural network and $L$ is some differential operator."
   ]
  },
  {
   "cell_type": "code",
   "execution_count": 6,
   "metadata": {
    "collapsed": true
   },
   "outputs": [],
   "source": [
    "def diff_loss(network, inputs):\n",
    "  with tf.GradientTape() as tape:\n",
    "    inputs = tf.convert_to_tensor(inputs)\n",
    "    tape.watch(inputs)\n",
    "    response = network(inputs)\n",
    "  grads = tape.gradient(response, inputs)\n",
    "  loss = tf.square(grads + tf.multiply(tf.constant(0.2, dtype='float64'), response)\n",
    "          - tf.multiply(tf.exp( tf.multiply(tf.constant(-0.2, dtype='float64'), inputs)), tf.cos(inputs)))\n",
    "  return loss"
   ]
  },
  {
   "cell_type": "code",
   "execution_count": 7,
   "metadata": {
    "collapsed": true
   },
   "outputs": [],
   "source": [
    "optimizer = tf.keras.optimizers.SGD(learning_rate=0.1)\n",
    "train_loss = tf.keras.metrics.Mean('train')"
   ]
  },
  {
   "cell_type": "code",
   "execution_count": 8,
   "metadata": {
    "collapsed": true
   },
   "outputs": [],
   "source": [
    "@tf.function\n",
    "def train_step(X):\n",
    "  # Online learning\n",
    "  for i in X:\n",
    "    with tf.GradientTape() as tape:\n",
    "      loss = diff_loss(ts, tf.reshape(i, shape=(1,1)))\n",
    "    gradients = tape.gradient(loss, ts.trainable_variables)\n",
    "    optimizer.apply_gradients(zip(gradients, ts.trainable_variables))\n",
    "  \n",
    "  train_loss(diff_loss(ts, X))"
   ]
  },
  {
   "cell_type": "markdown",
   "metadata": {},
   "source": [
    "Let's check if everything is fine."
   ]
  },
  {
   "cell_type": "code",
   "execution_count": 9,
   "metadata": {
    "scrolled": true
   },
   "outputs": [
    {
     "data": {
      "text/plain": [
       "<tf.Tensor: id=93, shape=(10, 1), dtype=float64, numpy=\n",
       "array([[-1.42846068e-08],\n",
       "       [-2.92113761e-01],\n",
       "       [-5.96998237e-01],\n",
       "       [-9.14438039e-01],\n",
       "       [-1.24408097e+00],\n",
       "       [-1.58544803e+00],\n",
       "       [-1.93794678e+00],\n",
       "       [-2.30088770e+00],\n",
       "       [-2.67350259e+00],\n",
       "       [-3.05496436e+00]])>"
      ]
     },
     "execution_count": 9,
     "metadata": {},
     "output_type": "execute_result"
    }
   ],
   "source": [
    "ts(tf.convert_to_tensor(X_train))"
   ]
  },
  {
   "cell_type": "markdown",
   "metadata": {},
   "source": [
    "### Training"
   ]
  },
  {
   "cell_type": "code",
   "execution_count": 10,
   "metadata": {},
   "outputs": [
    {
     "name": "stdout",
     "output_type": "stream",
     "text": [
      "0.002423553\n",
      "0.001557485\n",
      "0.0012303238\n",
      "0.0010420097\n",
      "0.00090159307\n",
      "0.00078012346\n",
      "0.000676454\n",
      "0.00059385004\n",
      "0.00052886736\n",
      "0.0004767856\n",
      "0.00043415817\n",
      "0.0003986141\n",
      "0.00036853834\n",
      "0.00034275913\n",
      "0.00032041714\n",
      "0.00030086792\n",
      "0.0002836186\n",
      "0.00026828586\n",
      "0.00025456338\n",
      "0.00024219761\n",
      "0.00023100953\n",
      "0.00022083854\n",
      "0.000211552\n",
      "0.00020303932\n",
      "0.00019520767\n",
      "0.00018797845\n",
      "0.00018128473\n",
      "0.00017506913\n",
      "0.00016927245\n",
      "0.00016385892\n",
      "0.00015879463\n",
      "0.00015404688\n",
      "0.00014958686\n",
      "0.0001453892\n",
      "0.00014143142\n",
      "0.0001376935\n",
      "0.00013415763\n",
      "0.00013080786\n",
      "0.00012762182\n",
      "0.0001245934\n",
      "0.00012171271\n",
      "0.00011896919\n",
      "0.00011635328\n",
      "0.00011385627\n",
      "0.000111470246\n",
      "0.00010918795\n",
      "0.00010700279\n",
      "0.000104908664\n",
      "0.00010289648\n",
      "0.00010096063\n",
      "9.910068e-05\n",
      "9.731227e-05\n",
      "9.559136e-05\n",
      "9.393417e-05\n",
      "9.233725e-05\n",
      "9.0797366e-05\n",
      "8.931151e-05\n",
      "8.7876884e-05\n",
      "8.6490894e-05\n",
      "8.5146865e-05\n",
      "8.384482e-05\n",
      "8.2584775e-05\n",
      "8.1364735e-05\n",
      "8.0182814e-05\n",
      "7.9037265e-05\n",
      "7.792643e-05\n",
      "7.684875e-05\n",
      "7.580277e-05\n",
      "7.478711e-05\n",
      "7.380046e-05\n",
      "7.283889e-05\n",
      "7.190141e-05\n",
      "7.098963e-05\n",
      "7.010248e-05\n",
      "6.923898e-05\n",
      "6.8398214e-05\n",
      "6.757928e-05\n",
      "6.678135e-05\n",
      "6.6003624e-05\n",
      "6.524533e-05\n",
      "6.4505766e-05\n",
      "6.378417e-05\n",
      "6.307544e-05\n",
      "6.238358e-05\n",
      "6.1708e-05\n",
      "6.104813e-05\n",
      "6.0403425e-05\n",
      "5.9773374e-05\n",
      "5.9157486e-05\n",
      "5.855528e-05\n",
      "5.7966314e-05\n",
      "5.7390145e-05\n",
      "5.682637e-05\n",
      "5.627367e-05\n",
      "5.5729502e-05\n",
      "5.519667e-05\n",
      "5.4674823e-05\n",
      "5.416363e-05\n",
      "5.366276e-05\n",
      "5.317191e-05\n"
     ]
    }
   ],
   "source": [
    "EPOCHS = 100000\n",
    "for epoch in range(EPOCHS):\n",
    "  train_step(X_train)\n",
    "  if (epoch+1) % 1000 == 0:\n",
    "    print(train_loss.result().numpy())"
   ]
  },
  {
   "cell_type": "markdown",
   "metadata": {},
   "source": [
    "### Plotting the results \n",
    "\n",
    "The numerical solution (training set - red, valdiaiton set - green) along with the analytical solution (blue)."
   ]
  },
  {
   "cell_type": "code",
   "execution_count": 18,
   "metadata": {},
   "outputs": [
    {
     "data": {
      "image/png": "[encoded data removed]",
      "text/plain": [
       "<matplotlib.figure.Figure at 0x7fa5d8625588>"
      ]
     },
     "metadata": {},
     "output_type": "display_data"
    }
   ],
   "source": [
    "pred_train = ts.call(tf.convert_to_tensor(X_train, dtype='float64')).numpy()\n",
    "pred_test = ts(tf.convert_to_tensor(X_test, dtype='float64')).numpy()\n",
    "plt.scatter(X_train, pred_train, c='r', label='Numerical - Training', marker='+', s=30)\n",
    "plt.plot(X_test, pred_test, c='g', label='Numerical - Test')\n",
    "plt.plot(X_test,  np.exp(-0.2*X_test)*np.sin(X_test), c='b', label='Analytic')\n",
    "plt.legend()\n",
    "plt.show()"
   ]
  },
  {
   "cell_type": "markdown",
   "metadata": {},
   "source": [
    "Let's check the errors on the training set."
   ]
  },
  {
   "cell_type": "code",
   "execution_count": 13,
   "metadata": {},
   "outputs": [
    {
     "data": {
      "image/png": "[encoded data removed]",
      "text/plain": [
       "<matplotlib.figure.Figure at 0x7fa5e004bd30>"
      ]
     },
     "metadata": {},
     "output_type": "display_data"
    }
   ],
   "source": [
    "plt.plot(X_train, pred_train - np.exp(-0.2*X_train)*np.sin(X_train), label='Error - Train')\n",
    "plt.legend()\n",
    "plt.show()"
   ]
  },
  {
   "cell_type": "markdown",
   "metadata": {},
   "source": [
    "Let's check the errors on the test set."
   ]
  },
  {
   "cell_type": "code",
   "execution_count": 14,
   "metadata": {},
   "outputs": [
    {
     "data": {
      "image/png": "[encoded data removed]",
      "text/plain": [
       "<matplotlib.figure.Figure at 0x7fa5d860d198>"
      ]
     },
     "metadata": {},
     "output_type": "display_data"
    }
   ],
   "source": [
    "plt.plot(X_test, pred_test - np.exp(-0.2*X_test)*np.sin(X_test), label='Error - Test')\n",
    "plt.legend()\n",
    "plt.show()"
   ]
  },
  {
   "cell_type": "markdown",
   "metadata": {},
   "source": [
    "The mean loss calculated on the test set."
   ]
  },
  {
   "cell_type": "code",
   "execution_count": 15,
   "metadata": {
    "scrolled": true
   },
   "outputs": [
    {
     "data": {
      "text/plain": [
       "3.2529334671409583e-06"
      ]
     },
     "execution_count": 15,
     "metadata": {},
     "output_type": "execute_result"
    }
   ],
   "source": [
    "diff_loss(ts, X_test).numpy().mean()"
   ]
  },
  {
   "cell_type": "markdown",
   "metadata": {},
   "source": [
    "Mean absolute error on the train set."
   ]
  },
  {
   "cell_type": "code",
   "execution_count": 16,
   "metadata": {},
   "outputs": [
    {
     "data": {
      "text/plain": [
       "0.0003896927985160106"
      ]
     },
     "execution_count": 16,
     "metadata": {},
     "output_type": "execute_result"
    }
   ],
   "source": [
    "np.abs(pred_train - np.exp(-0.2*X_train)*np.sin(X_train)).mean()"
   ]
  },
  {
   "cell_type": "markdown",
   "metadata": {},
   "source": [
    "Mean absolute error on the test set - interpolation error."
   ]
  },
  {
   "cell_type": "code",
   "execution_count": 17,
   "metadata": {},
   "outputs": [
    {
     "data": {
      "text/plain": [
       "0.00041871761700694124"
      ]
     },
     "execution_count": 17,
     "metadata": {},
     "output_type": "execute_result"
    }
   ],
   "source": [
    "np.abs(pred_test - np.exp(-0.2*X_test)*np.sin(X_test)).mean()"
   ]
  },
  {
   "cell_type": "code",
   "execution_count": null,
   "metadata": {
    "collapsed": true
   },
   "outputs": [],
   "source": []
  }
 ],
 "metadata": {
  "kernelspec": {
   "display_name": "Python 3",
   "language": "python",
   "name": "python3"
  },
  "language_info": {
   "codemirror_mode": {
    "name": "ipython",
    "version": 3
   },
   "file_extension": ".py",
   "mimetype": "text/x-python",
   "name": "python",
   "nbconvert_exporter": "python",
   "pygments_lexer": "ipython3",
   "version": "3.6.2"
  }
 },
 "nbformat": 4,
 "nbformat_minor": 2
}
