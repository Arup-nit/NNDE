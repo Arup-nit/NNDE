{
 "cells": [
  {
   "cell_type": "code",
   "execution_count": 1,
   "metadata": {},
   "outputs": [
    {
     "name": "stderr",
     "output_type": "stream",
     "text": [
      "/home/raroog/anaconda3/lib/python3.6/site-packages/h5py/__init__.py:34: FutureWarning: Conversion of the second argument of issubdtype from `float` to `np.floating` is deprecated. In future, it will be treated as `np.float64 == np.dtype(float).type`.\n",
      "  from ._conv import register_converters as _register_converters\n"
     ]
    }
   ],
   "source": [
    "import tensorflow as tf\n",
    "import numpy as np\n",
    "import matplotlib.pyplot as plt"
   ]
  },
  {
   "cell_type": "markdown",
   "metadata": {},
   "source": [
    "## Reproduction: Shirvany, et. al., \"Numerical solution of the nonlinear Schrodinger equation by feedforward neural networks.\"\n",
    "\n",
    "We consider the Shroedinger equation in one dimension:\n",
    "$$-\\frac{d^2}{dx^2}\\Psi(x)+V(x)\\Psi(x)=E\\Psi(x)$$\n",
    "For the Potential Well problem with $V(x)=0,\\, x\\in[0,L]$ and $V(x)=\\infty,\\, x\\notin(0,L)$ the boundary conditions become $\\Psi(0)=0$ and $\\Psi(L)=0$ with the domain $x\\in[0,L]$."
   ]
  },
  {
   "cell_type": "code",
   "execution_count": 2,
   "metadata": {
    "collapsed": true
   },
   "outputs": [],
   "source": [
    "L = 4.\n",
    "X_train = np.arange(0, L, 0.02) + 1e-8\n",
    "X_train = X_train.reshape(-1,1)\n",
    "X_test = np.arange(0, L, 0.001) + 1e-8\n",
    "X_test = X_test.reshape(-1,1)  "
   ]
  },
  {
   "cell_type": "code",
   "execution_count": 3,
   "metadata": {
    "collapsed": true
   },
   "outputs": [],
   "source": [
    "bcs = [{'variable':0, 'value':0, 'type':'dirichlet',\n",
    "        'function':lambda X: tf.constant(0., dtype='float64', shape=X.shape)},\n",
    "      {'variable':0, 'value':L, 'type':'dirichlet',\n",
    "        'function':lambda X: tf.constant(0., dtype='float64', shape=X.shape)}]"
   ]
  },
  {
   "cell_type": "markdown",
   "metadata": {},
   "source": [
    "The authors propose the solution of a form of a almost-shallow network where we have a single hidden layer with $n_h$ units with sigmoid activation function. Output of the hidden layer is passed to an output layer with $n_o=2$ linear units which in the end are reduced by multipication."
   ]
  },
  {
   "cell_type": "code",
   "execution_count": 4,
   "metadata": {
    "collapsed": true
   },
   "outputs": [],
   "source": [
    "class Solution(tf.keras.models.Model):\n",
    "  def __init__(self, n_i, n_h, n_o=1, activation='sigmoid'):\n",
    "    super(Solution, self).__init__()\n",
    "    self.n_i = n_i\n",
    "    self.n_h = n_h\n",
    "    self.n_o = n_o\n",
    "    self.hidden_layer = tf.keras.layers.Dense(units=n_h, activation=activation)\n",
    "    self.output_layer = tf.keras.layers.Dense(units=n_o, activation='linear')\n",
    "    \n",
    "  def call(self, X):\n",
    "    X = tf.convert_to_tensor(X)\n",
    "    response = self.hidden_layer(X)\n",
    "    response = self.output_layer(X)\n",
    "    response = tf.math.reduce_prod(response, axis=1)\n",
    "    return response\n",
    "  \n",
    "  def train(self, X, conditions, eigen_value, loss_function, loss_boundary,\n",
    "            epochs, verbose=True, message_frequency=1, learning_rate=0.1,\n",
    "            optimizer_name='Adam'):\n",
    "    if not isinstance(epochs, int) or epochs < 1:\n",
    "      raise Exception('epochs parameter should be a positive integer.')\n",
    "    if not isinstance(message_frequency, int) or message_frequency < 1:\n",
    "      raise Exception(\n",
    "                'message_frequency parameter should be a positive integer.')\n",
    "    optimizer = 0\n",
    "    if optimizer_name == 'Adam':\n",
    "      optimizer = tf.keras.optimizers.Adam(learning_rate=learning_rate)\n",
    "    elif optimizer_name == 'SGD':\n",
    "      optimizer = tf.keras.optimizers.SGD(learning_rate=learning_rate)\n",
    "    elif optimizer_name == 'Adagrad':\n",
    "      optimizer = tf.keras.optimizers.Adagrad(learning_rate=learning_rate)\n",
    "    train_loss = tf.keras.metrics.Mean('train')\n",
    "    @tf.function\n",
    "    def train_step(X, eigen_value):\n",
    "      with tf.GradientTape() as tape:\n",
    "        loss = loss_function(self, X, eigen_value)\n",
    "      gradients = tape.gradient(loss, self.trainable_variables)\n",
    "      optimizer.apply_gradients(\n",
    "                  zip(gradients, self.trainable_variables))\n",
    "      \n",
    "    @tf.function\n",
    "    def train_boundary(conditions):\n",
    "      with tf.GradientTape() as tape:\n",
    "        loss = loss_boundary(self, conditions)\n",
    "      gradients = tape.gradient(loss, self.trainable_variables)\n",
    "      optimizer.apply_gradients(\n",
    "                  zip(gradients, self.trainable_variables))\n",
    "      \n",
    "    for epoch in range(epochs):\n",
    "      for x in X:\n",
    "        x_tensor = tf.reshape(x, shape=(1, X.shape[1]))\n",
    "        train_step(x_tensor, eigen_value)\n",
    "      train_boundary(conditions)\n",
    "      train_loss(loss_function(self, X, eigen_value) + loss_boundary(self, conditions))\n",
    "      if (epoch+1) % message_frequency == 0:\n",
    "        print(f'Epoch: {epoch+1} Loss: {train_loss.result().numpy()}')"
   ]
  },
  {
   "cell_type": "markdown",
   "metadata": {},
   "source": [
    "Accroding to the paper:\n",
    "\n",
    ">The ANN is trained via the gradient-descent back-propagation method with momentum\n",
    "term for minimizing the non-negative energy function that is formulated from Schrodinger equation Eq. (6)\n",
    "and the available boundary conditions.\n",
    "\n",
    "and\n",
    "\n",
    ">In the train\n",
    "state of the network the adjustable parameters of the networks (weights and biases) are tuned by a proper\n",
    "learning algorithm to minimize the energy function of the network. We train the network via the fast converge\n",
    "gradient-descend back-propagation method with momentum term [7,23,24] for the non-negative energy func-\n",
    "tion.\n",
    "\n",
    "We concluded that it can realised by using the Adam optimizer with online learning."
   ]
  },
  {
   "cell_type": "markdown",
   "metadata": {},
   "source": [
    "The loss is defined by sum of unsupervised minimalization of the equation and by supervised optimization for MSE for the boundary conditions:\n",
    "$$Loss(N)=\\sum_i \\left(\\Delta\\Psi(N(x_i))+E\\Psi(N(x_i))\\right)^2 + \\sum_k (\\Psi(N(x_k))-C_k)^2$$"
   ]
  },
  {
   "cell_type": "code",
   "execution_count": 5,
   "metadata": {
    "collapsed": true
   },
   "outputs": [],
   "source": [
    "def loss(network, X, eigen_value):\n",
    "  X = tf.convert_to_tensor(X)\n",
    "  with tf.GradientTape() as tape1:\n",
    "    with tf.GradientTape() as tape2:\n",
    "      tape1.watch(X)\n",
    "      tape2.watch(X)\n",
    "      response = network(X)\n",
    "    grads = tape2.gradient(response, X)\n",
    "  laplace = tape1.gradient(grads, X)\n",
    "#   half = tf.constant(0.5, shape=(X.shape[0], 1), dtype='float64')\n",
    "  eigen_value_tensor = tf.constant(eigen_value, shape=(X.shape[0], 1), dtype='float64')\n",
    "  loss = tf.square(laplace + eigen_value_tensor * response)\n",
    "  return loss      "
   ]
  },
  {
   "cell_type": "code",
   "execution_count": 6,
   "metadata": {
    "collapsed": true
   },
   "outputs": [],
   "source": [
    "def loss_boundary(network, conditions):\n",
    "  loss = 0\n",
    "  for condition in conditions:\n",
    "    temp_X = tf.convert_to_tensor(np.array([condition['value']]).reshape((1,1)))\n",
    "    loss += tf.square(network(temp_X) - condition['function'](temp_X))\n",
    "  return loss      "
   ]
  },
  {
   "cell_type": "markdown",
   "metadata": {},
   "source": [
    "The working size of the network found by the autors is $n_h=40$."
   ]
  },
  {
   "cell_type": "code",
   "execution_count": 7,
   "metadata": {
    "collapsed": true
   },
   "outputs": [],
   "source": [
    "sol = Solution(n_i=1, n_h=40, n_o=2)"
   ]
  },
  {
   "cell_type": "markdown",
   "metadata": {},
   "source": [
    "Let's check if such a solution finds the eigen function corresponidng to the eigen_value $E=0.61$ for $n=1$"
   ]
  },
  {
   "cell_type": "code",
   "execution_count": 8,
   "metadata": {},
   "outputs": [],
   "source": [
    "# sol.train(X=X_train, conditions=bcs, eigen_value=0.61, loss_function=loss, loss_boundary=loss_boundary, epochs=100, message_frequency=1, learning_rate=0.1, optimizer_name='Adam')"
   ]
  },
  {
   "cell_type": "code",
   "execution_count": 9,
   "metadata": {},
   "outputs": [
    {
     "data": {
      "image/png": "[encoded data removed]",
      "text/plain": [
       "<matplotlib.figure.Figure at 0x7f43d5950390>"
      ]
     },
     "metadata": {},
     "output_type": "display_data"
    }
   ],
   "source": [
    "pred_train = sol.call(tf.convert_to_tensor(X_train, dtype='float64')).numpy()\n",
    "pred_test = sol(tf.convert_to_tensor(X_test, dtype='float64')).numpy()\n",
    "plt.scatter(X_train, pred_train, c='r', label='Numerical - Training', marker='+', s=30)\n",
    "plt.plot(X_test, pred_test, c='g', label='Numerical - Test')\n",
    "plt.plot(X_test, np.sin(np.pi/L*X_test)/np.sqrt(2), c='b', label='Analytic')\n",
    "plt.legend()\n",
    "plt.show()"
   ]
  },
  {
   "cell_type": "markdown",
   "metadata": {
    "collapsed": true
   },
   "source": [
    "Without much supprise, the network converges to the trivial vanishing solution of the equation.\n",
    "\n",
    "### Let's try to fix it by adding an additional point\n",
    "\n",
    "By analytic considerations, we know that for $n=1$ the maximum of the eigenfunction is for $x=L/2$ and is equal to $\\Psi(L/2)=2^{-0.5}$, so let's add it as a boudary point."
   ]
  },
  {
   "cell_type": "code",
   "execution_count": 10,
   "metadata": {
    "collapsed": true
   },
   "outputs": [],
   "source": [
    "bcs2 = [{'variable':0, 'value':0, 'type':'dirichlet',\n",
    "        'function':lambda X: tf.constant(0., dtype='float64', shape=X.shape)},\n",
    "      {'variable':0, 'value':L, 'type':'dirichlet',\n",
    "        'function':lambda X: tf.constant(0., dtype='float64', shape=X.shape)},\n",
    "      {'variable':0, 'value':L*0.5, 'type':'dirichlet',\n",
    "        'function':lambda X: tf.constant(np.power(2,-0.5), dtype='float64', shape=X.shape)}]"
   ]
  },
  {
   "cell_type": "code",
   "execution_count": 11,
   "metadata": {
    "collapsed": true
   },
   "outputs": [],
   "source": [
    "sol2 = Solution(n_i=1, n_h=40, n_o=2)"
   ]
  },
  {
   "cell_type": "code",
   "execution_count": 12,
   "metadata": {},
   "outputs": [],
   "source": [
    "# sol2.train(X=X_train, conditions=bcs2, eigen_value=0.61, loss_function=loss, loss_boundary=loss_boundary, epochs=10000, message_frequency=1, learning_rate=0.01, optimizer_name='Adam')"
   ]
  },
  {
   "cell_type": "code",
   "execution_count": 13,
   "metadata": {},
   "outputs": [
    {
     "data": {
      "image/png": "[encoded data removed]",
      "text/plain": [
       "<matplotlib.figure.Figure at 0x7f43bc67e2b0>"
      ]
     },
     "metadata": {},
     "output_type": "display_data"
    }
   ],
   "source": [
    "pred_train2 = sol2.call(tf.convert_to_tensor(X_train, dtype='float64')).numpy()\n",
    "pred_test2 = sol2(tf.convert_to_tensor(X_test, dtype='float64')).numpy()\n",
    "plt.scatter(X_train, pred_train2, c='r', label='Numerical - Training', marker='+', s=30)\n",
    "plt.plot(X_test, pred_test2, c='g', label='Numerical - Test')\n",
    "plt.plot(X_test, np.sin(np.pi/L*X_test)/np.sqrt(2), c='b', label='Analytic')\n",
    "plt.legend()\n",
    "plt.show()"
   ]
  },
  {
   "cell_type": "markdown",
   "metadata": {
    "collapsed": true
   },
   "source": [
    "### Harmonic oscillator\n",
    "\n",
    "Now, let's try to reproduce the solutions for the harmonic oscillator\n",
    "$$-\\frac{d^2}{dx^2}\\Psi(x)+x^2\\Psi(x)=E\\Psi(x)$$\n",
    "With boundary conditions $\\Psi(0)=0$ and $\\Psi(L)=0$ with the domain $x\\in[0,L]$."
   ]
  },
  {
   "cell_type": "code",
   "execution_count": 14,
   "metadata": {
    "collapsed": true
   },
   "outputs": [],
   "source": [
    "def loss_harmonic(network, X, eigen_value):\n",
    "  X = tf.convert_to_tensor(X)\n",
    "  with tf.GradientTape() as tape1:\n",
    "    with tf.GradientTape() as tape2:\n",
    "      tape1.watch(X)\n",
    "      tape2.watch(X)\n",
    "      response = network(X)\n",
    "    grads = tape2.gradient(response, X)\n",
    "  laplace = tape1.gradient(grads, X)\n",
    "  half = tf.constant(0.5, shape=(X.shape[0], 1), dtype='float64')\n",
    "  eigen_value_tensor = tf.constant(eigen_value, shape=(X.shape[0], 1), dtype='float64')\n",
    "  loss = tf.square(laplace + (eigen_value_tensor - response ** 2) * response)\n",
    "  return loss      "
   ]
  },
  {
   "cell_type": "code",
   "execution_count": 15,
   "metadata": {},
   "outputs": [],
   "source": [
    "sol3 = Solution(n_i=1, n_h=100, n_o=2)"
   ]
  },
  {
   "cell_type": "code",
   "execution_count": 16,
   "metadata": {},
   "outputs": [
    {
     "name": "stderr",
     "output_type": "stream",
     "text": [
      "WARNING: Logging before flag parsing goes to stderr.\n",
      "W0429 21:37:23.858838 139930368308992 deprecation.py:323] From /home/raroog/anaconda3/lib/python3.6/site-packages/tensorflow/python/ops/math_grad.py:167: setdiff1d (from tensorflow.python.ops.array_ops) is deprecated and will be removed after 2018-11-30.\n",
      "Instructions for updating:\n",
      "This op will be removed after the deprecation date. Please switch to tf.sets.difference().\n",
      "W0429 21:37:24.197525 139930368308992 optimizer_v2.py:928] Gradients does not exist for variables ['solution_2/dense_4/kernel:0', 'solution_2/dense_4/bias:0'] when minimizing the loss.\n",
      "W0429 21:37:25.472225 139930368308992 optimizer_v2.py:928] Gradients does not exist for variables ['solution_2/dense_4/kernel:0', 'solution_2/dense_4/bias:0'] when minimizing the loss.\n",
      "W0429 21:37:26.303734 139930368308992 optimizer_v2.py:928] Gradients does not exist for variables ['solution_2/dense_4/kernel:0', 'solution_2/dense_4/bias:0'] when minimizing the loss.\n"
     ]
    },
    {
     "name": "stdout",
     "output_type": "stream",
     "text": [
      "Epoch: 100 Loss: 0.007548786699771881\n",
      "Epoch: 200 Loss: 0.0037743933498859406\n"
     ]
    }
   ],
   "source": [
    "sol3.train(X=X_train, conditions=bcs, eigen_value=0.5, loss_function=loss_harmonic,\n",
    "          loss_boundary=loss_boundary, epochs=200, message_frequency=100, learning_rate=0.01,\n",
    "          optimizer_name='Adam')"
   ]
  },
  {
   "cell_type": "code",
   "execution_count": 17,
   "metadata": {},
   "outputs": [
    {
     "data": {
      "image/png": "[encoded data removed]",
      "text/plain": [
       "<matplotlib.figure.Figure at 0x7f43ac280860>"
      ]
     },
     "metadata": {},
     "output_type": "display_data"
    }
   ],
   "source": [
    "pred_train3 = sol3.call(tf.convert_to_tensor(X_train, dtype='float64')).numpy()\n",
    "# pred_test2 = sol2(tf.convert_to_tensor(X_test, dtype='float64')).numpy()\n",
    "plt.scatter(X_train, pred_train3, c='r', label='Numerical - Training', marker='+', s=30)\n",
    "# plt.plot(X_test, pred_test2, c='g', label='Numerical - Test')\n",
    "# plt.plot(X_test, np.sin(np.pi/L*X_test)/np.sqrt(2), c='b', label='Analytic')\n",
    "plt.legend()\n",
    "plt.show()"
   ]
  },
  {
   "cell_type": "markdown",
   "metadata": {},
   "source": [
    "What is interesting is that it is not even matter of normalization what could be a case, butthe solution simply vanishes."
   ]
  },
  {
   "cell_type": "code",
   "execution_count": null,
   "metadata": {
    "collapsed": true
   },
   "outputs": [],
   "source": []
  }
 ],
 "metadata": {
  "kernelspec": {
   "display_name": "Python 3",
   "language": "python",
   "name": "python3"
  },
  "language_info": {
   "codemirror_mode": {
    "name": "ipython",
    "version": 3
   },
   "file_extension": ".py",
   "mimetype": "text/x-python",
   "name": "python",
   "nbconvert_exporter": "python",
   "pygments_lexer": "ipython3",
   "version": "3.6.2"
  }
 },
 "nbformat": 4,
 "nbformat_minor": 2
}
