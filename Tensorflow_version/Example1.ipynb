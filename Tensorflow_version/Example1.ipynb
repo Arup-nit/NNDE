{
 "cells": [
  {
   "cell_type": "code",
   "execution_count": 1,
   "metadata": {},
   "outputs": [],
   "source": [
    "import tensorflow as tf\n",
    "import numpy as np\n",
    "import matplotlib.pyplot as plt\n",
    "from TrialSolution import TrialSolution"
   ]
  },
  {
   "cell_type": "markdown",
   "metadata": {},
   "source": [
    "## Example 1\n",
    "\n",
    "$\\frac{d}{dx}\\Psi+(x+\\frac{1+3x^2}{1+x+x^3})\\Psi=x^3+2x+x^2\\frac{1+3x^2}{1+x+x^3}$\n",
    "\n",
    "With boundary initial condition $\\Psi(0)=1$ and domain $x\\in[0,1]$"
   ]
  },
  {
   "cell_type": "code",
   "execution_count": 2,
   "metadata": {},
   "outputs": [],
   "source": [
    "X_train = np.arange(0, 1.1, 0.1) + 1e-8\n",
    "X_train = X_train.reshape(-1,1)\n",
    "X_test = np.arange(0, 1.1, 0.01) + 1e-8\n",
    "X_test = X_test.reshape(-1,1) "
   ]
  },
  {
   "cell_type": "code",
   "execution_count": 3,
   "metadata": {},
   "outputs": [],
   "source": [
    "inits = [{'variable':0, 'value':0, 'type':'dirichlet',\n",
    "        'function':lambda X: tf.constant(1., dtype='float64', shape=(X.shape[0],1))}]"
   ]
  },
  {
   "cell_type": "markdown",
   "metadata": {},
   "source": [
    "The trial solution for this case is $\\Psi(x)=1 + x N(x)$.\n",
    "The first function below is the function $A(x)=1$\n",
    "and the second function is the function $B(x)=x$.\n",
    "Though, in our case, the trial solution is generated automatically from the initial conditions."
   ]
  },
  {
   "cell_type": "markdown",
   "metadata": {},
   "source": [
    "### Defining the trial solution with an apropiate network"
   ]
  },
  {
   "cell_type": "code",
   "execution_count": 7,
   "metadata": {},
   "outputs": [],
   "source": [
    "ts = TrialSolution(inits, n_i=1, n_h=10, n_o=1, equation_type='ODE')"
   ]
  },
  {
   "cell_type": "markdown",
   "metadata": {},
   "source": [
    "### Defining the loss function for a single point and a whole set\n",
    "\n",
    "The loss function is based on the formula:\n",
    "$$Loss(N)=\\sum_i \\left(L\\Psi(x_i, N(x_i))-f(x_i,\\Psi(x_i, N(x_i))) \\right)^2$$\n",
    "Where $N(x)$ is the neural network and $L$ is some differential operator."
   ]
  },
  {
   "cell_type": "code",
   "execution_count": 8,
   "metadata": {},
   "outputs": [],
   "source": [
    "def diff_loss(network, inputs):\n",
    "  # Compute the gradients\n",
    "  with tf.GradientTape() as tape:\n",
    "    inputs = tf.convert_to_tensor(inputs)\n",
    "    tape.watch(inputs)\n",
    "    response = network(inputs)\n",
    "  grads = tape.gradient(response, inputs)\n",
    "  X = inputs\n",
    "  \n",
    "  # Compute the loss\n",
    "  loss = tf.square(grads + tf.multiply(X + (1 + 3*X**2)/(1+X+X**3), response)\n",
    "          - X**3 -2*X tardines - X**2*(1 + 3*X**2)/(1+X+X**3))\n",
    "  return loss"
   ]
  },
  {
   "cell_type": "markdown",
   "metadata": {},
   "source": [
    "### Training"
   ]
  },
  {
   "cell_type": "code",
   "execution_count": 9,
   "metadata": {
    "scrolled": true
   },
   "outputs": [
    {
     "name": "stderr",
     "output_type": "stream",
     "text": [
      "WARNING: Logging before flag parsing goes to stderr.\n",
      "W1017 23:17:44.953837  1348 ag_logging.py:145] Entity <function <lambda> at 0x000001C6CBE8D9D8> could not be transformed and will be executed as-is. Please report this to the AutoGraph team. When filing the bug, set the verbosity to 10 (on Linux, `export AUTOGRAPH_VERBOSITY=10`) and attach the full output. Cause: converting <function <lambda> at 0x000001C6CBE8D9D8>: ValueError: Failed to parse source code of <function <lambda> at 0x000001C6CBE8D9D8>, which Python reported as:\n",
      "'function':lambda X: tf.constant(1., dtype='float64', shape=(X.shape[0],1))\n",
      "If this is a lambda function, the error may be avoided by creating the lambda in a standalone statement. Tried to strip down the source to:\n",
      "'function':lambda X: tf.constant(1., dtype='float64', shape=(X.shape[0],1))\n",
      "But that did not work.\n"
     ]
    },
    {
     "name": "stdout",
     "output_type": "stream",
     "text": [
      "WARNING: Entity <function <lambda> at 0x000001C6CBE8D9D8> could not be transformed and will be executed as-is. Please report this to the AutoGraph team. When filing the bug, set the verbosity to 10 (on Linux, `export AUTOGRAPH_VERBOSITY=10`) and attach the full output. Cause: converting <function <lambda> at 0x000001C6CBE8D9D8>: ValueError: Failed to parse source code of <function <lambda> at 0x000001C6CBE8D9D8>, which Python reported as:\n",
      "'function':lambda X: tf.constant(1., dtype='float64', shape=(X.shape[0],1))\n",
      "If this is a lambda function, the error may be avoided by creating the lambda in a standalone statement. Tried to strip down the source to:\n",
      "'function':lambda X: tf.constant(1., dtype='float64', shape=(X.shape[0],1))\n",
      "But that did not work.\n"
     ]
    },
    {
     "name": "stderr",
     "output_type": "stream",
     "text": [
      "W1017 23:17:45.687498  1348 ag_logging.py:145] Entity <function <lambda> at 0x000001C6CBE8D9D8> could not be transformed and will be executed as-is. Please report this to the AutoGraph team. When filing the bug, set the verbosity to 10 (on Linux, `export AUTOGRAPH_VERBOSITY=10`) and attach the full output. Cause: converting <function <lambda> at 0x000001C6CBE8D9D8>: ValueError: Failed to parse source code of <function <lambda> at 0x000001C6CBE8D9D8>, which Python reported as:\n",
      "'function':lambda X: tf.constant(1., dtype='float64', shape=(X.shape[0],1))\n",
      "If this is a lambda function, the error may be avoided by creating the lambda in a standalone statement. Tried to strip down the source to:\n",
      "'function':lambda X: tf.constant(1., dtype='float64', shape=(X.shape[0],1))\n",
      "But that did not work.\n"
     ]
    },
    {
     "name": "stdout",
     "output_type": "stream",
     "text": [
      "WARNING: Entity <function <lambda> at 0x000001C6CBE8D9D8> could not be transformed and will be executed as-is. Please report this to the AutoGraph team. When filing the bug, set the verbosity to 10 (on Linux, `export AUTOGRAPH_VERBOSITY=10`) and attach the full output. Cause: converting <function <lambda> at 0x000001C6CBE8D9D8>: ValueError: Failed to parse source code of <function <lambda> at 0x000001C6CBE8D9D8>, which Python reported as:\n",
      "'function':lambda X: tf.constant(1., dtype='float64', shape=(X.shape[0],1))\n",
      "If this is a lambda function, the error may be avoided by creating the lambda in a standalone statement. Tried to strip down the source to:\n",
      "'function':lambda X: tf.constant(1., dtype='float64', shape=(X.shape[0],1))\n",
      "But that did not work.\n",
      "Epoch: 1000 Loss: 0.07389729470014572\n",
      "Epoch: 2000 Loss: 0.03808184340596199\n",
      "Epoch: 3000 Loss: 0.025743363425135612\n",
      "Epoch: 4000 Loss: 0.01953820139169693\n",
      "Epoch: 5000 Loss: 0.015780627727508545\n",
      "Epoch: 6000 Loss: 0.013297692872583866\n",
      "Epoch: 7000 Loss: 0.022845983505249023\n",
      "Epoch: 8000 Loss: 0.020325904712080956\n",
      "Epoch: 9000 Loss: 0.01815217360854149\n",
      "Epoch: 10000 Loss: 0.016396595165133476\n"
     ]
    }
   ],
   "source": [
    "ts.train(X=X_train, diff_loss=diff_loss, epochs=10000, message_frequency=1000, optimizer_name='SGD', learning_rate=0.1)"
   ]
  },
  {
   "cell_type": "markdown",
   "metadata": {},
   "source": [
    "### Plotting the results \n",
    "\n",
    "The numerical solution (training set - red, valdiaiton set - green) along with the analytical solution (blue)."
   ]
  },
  {
   "cell_type": "code",
   "execution_count": 10,
   "metadata": {},
   "outputs": [
    {
     "data": {
      "image/png": "[encoded data removed]",
      "text/plain": [
       "<Figure size 432x288 with 1 Axes>"
      ]
     },
     "metadata": {
      "needs_background": "light"
     },
     "output_type": "display_data"
    }
   ],
   "source": [
    "pred_train = ts.call(tf.convert_to_tensor(X_train, dtype='float64')).numpy()\n",
    "pred_test = ts(tf.convert_to_tensor(X_test, dtype='float64')).numpy()\n",
    "plt.scatter(X_train, pred_train, c='r', label='Numerical - Training', marker='+', s=30)\n",
    "plt.plot(X_test, pred_test, c='g', label='Numerical - Test')\n",
    "plt.plot(X_test, np.exp(-0.5*X_test**2)/(1+X_test+X_test**3) + X_test**2, c='b', label='Analytic')\n",
    "plt.legend()\n",
    "plt.show()"
   ]
  },
  {
   "cell_type": "markdown",
   "metadata": {},
   "source": [
    "Let's check the errors on the training set."
   ]
  },
  {
   "cell_type": "code",
   "execution_count": null,
   "metadata": {},
   "outputs": [],
   "source": [
    "plt.plot(X_train, pred_train - np.exp(-0.5*X_train**2)/(1+X_train+X_train**3) - X_train**2, label='Error - Train')\n",
    "plt.legend()\n",
    "plt.show()"
   ]
  },
  {
   "cell_type": "markdown",
   "metadata": {},
   "source": [
    "Let's check the errors on the test set."
   ]
  },
  {
   "cell_type": "code",
   "execution_count": null,
   "metadata": {},
   "outputs": [],
   "source": [
    "plt.plot(X_test, pred_test - np.exp(-0.5*X_test**2)/(1+X_test+X_test**3) - X_test**2, label='Error - Test')\n",
    "plt.legend()\n",
    "plt.show()"
   ]
  },
  {
   "cell_type": "markdown",
   "metadata": {},
   "source": [
    "The mean loss calculated on the test set."
   ]
  },
  {
   "cell_type": "code",
   "execution_count": null,
   "metadata": {
    "scrolled": true
   },
   "outputs": [],
   "source": [
    "diff_loss(ts, X_test).numpy().mean()"
   ]
  },
  {
   "cell_type": "markdown",
   "metadata": {},
   "source": [
    "Mean absolute error on the train set."
   ]
  },
  {
   "cell_type": "code",
   "execution_count": null,
   "metadata": {},
   "outputs": [],
   "source": [
    "np.abs(pred_train - np.exp(-0.5*X_train**2)/(1+X_train+X_train**3) - X_train**2).mean()"
   ]
  },
  {
   "cell_type": "markdown",
   "metadata": {},
   "source": [
    "Mean absolute error on the test set - interpolation error."
   ]
  },
  {
   "cell_type": "code",
   "execution_count": null,
   "metadata": {},
   "outputs": [],
   "source": [
    "np.abs(pred_test - np.exp(-0.5*X_test**2)/(1+X_test+X_test**3) - X_test**2).mean()"
   ]
  }
 ],
 "metadata": {
  "kernelspec": {
   "display_name": "Python 3",
   "language": "python",
   "name": "python3"
  },
  "language_info": {
   "codemirror_mode": {
    "name": "ipython",
    "version": 3
   },
   "file_extension": ".py",
   "mimetype": "text/x-python",
   "name": "python",
   "nbconvert_exporter": "python",
   "pygments_lexer": "ipython3",
   "version": "3.7.3"
  }
 },
 "nbformat": 4,
 "nbformat_minor": 2
}
