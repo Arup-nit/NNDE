{
 "cells": [
  {
   "cell_type": "code",
   "execution_count": 1,
   "metadata": {},
   "outputs": [
    {
     "name": "stderr",
     "output_type": "stream",
     "text": [
      "/home/raroog/anaconda3/lib/python3.6/site-packages/h5py/__init__.py:34: FutureWarning: Conversion of the second argument of issubdtype from `float` to `np.floating` is deprecated. In future, it will be treated as `np.float64 == np.dtype(float).type`.\n",
      "  from ._conv import register_converters as _register_converters\n"
     ]
    }
   ],
   "source": [
    "import tensorflow as tf\n",
    "import numpy as np\n",
    "import matplotlib.pyplot as plt\n",
    "from TrialSolution import TrialSolution"
   ]
  },
  {
   "cell_type": "markdown",
   "metadata": {},
   "source": [
    "# Example 4\n",
    "\n",
    "$$\\frac{d}{dx}\\Psi_1=\\cos(x)+\\Psi_1^2+\\Psi_2-(1+x^2+\\sin^2(x))$$\n",
    "$$\\frac{d}{dx}\\Psi_2=2x -(1+x^2)\\sin(x)+\\Psi_1\\Psi_2$$\n",
    "\n",
    "With boundary initial condition $\\Psi_1(0)=0$, $\\Psi_2(0)=1$ and domain $x\\in[0,3]$"
   ]
  },
  {
   "cell_type": "code",
   "execution_count": 2,
   "metadata": {
    "collapsed": true
   },
   "outputs": [],
   "source": [
    "inits = [{'variable':0, 'value':0, 'type':'dirichlet', 'ode_number':1,\n",
    "        'function':lambda X: tf.constant(0., dtype='float64', shape=(X.shape[0],1))},\n",
    "        {'variable':0, 'value':0, 'type':'dirichlet', 'ode_number':2,\n",
    "        'function':lambda X: tf.constant(1., dtype='float64', shape=(X.shape[0],1))}]"
   ]
  },
  {
   "cell_type": "code",
   "execution_count": 3,
   "metadata": {
    "collapsed": true
   },
   "outputs": [],
   "source": [
    "X_train = np.arange(0, 3, 0.2) + 1e-8\n",
    "X_train = X_train.reshape(-1,1)\n",
    "X_test = np.arange(0, 3, 0.01) + 1e-8\n",
    "X_test = X_test.reshape(-1,1)"
   ]
  },
  {
   "cell_type": "markdown",
   "metadata": {},
   "source": [
    "The trial solutions for the case are $\\Psi_1(x)=xN_1(x)$ and $\\Psi_1(x)=1+xN_1(x)$.\n",
    "Though, in our case, the trial solution is generated automatically from the initial conditions."
   ]
  },
  {
   "cell_type": "code",
   "execution_count": 4,
   "metadata": {
    "collapsed": true
   },
   "outputs": [],
   "source": [
    "ts = TrialSolution(conditions=inits, n_i=1, n_h=10, n_o=1, ODE_number=2, equation_type='ODE_system')"
   ]
  },
  {
   "cell_type": "markdown",
   "metadata": {},
   "source": [
    "### Defining the loss function for a single point and a whole set\n",
    "\n",
    "The loss function is based on the formula:\n",
    "$$Loss(N)=\\sum_k\\sum_i \\left(L_k\\Psi_k(x_i, N_k(x_i))-f(x_i,\\Psi_k(x_i, N_k(x_i)),\\Psi_{k'}(x_i, N_{k'}(x_i))) \\right)^2$$\n",
    "Where $N(x)$ is the neural network and $L$ is some differential operator."
   ]
  },
  {
   "cell_type": "code",
   "execution_count": 5,
   "metadata": {
    "collapsed": true
   },
   "outputs": [],
   "source": [
    "def diff_loss(network, inputs):\n",
    "  with tf.GradientTape() as tape1:\n",
    "    inputs = tf.convert_to_tensor(inputs)\n",
    "    tape1.watch(inputs)\n",
    "    response1 = network(inputs)[0]\n",
    "  grads1 = tape1.gradient(response1, inputs)  \n",
    "  with tf.GradientTape() as tape2:\n",
    "    inputs = tf.convert_to_tensor(inputs)\n",
    "    tape2.watch(inputs)\n",
    "    response2 = network(inputs)[1]\n",
    "  grads2 = tape2.gradient(response2, inputs)\n",
    "  loss1 = (grads1 - tf.cos(inputs) - response1**2 - response2 + tf.constant(1, dtype='float64')\n",
    "           + inputs ** 2 + tf.sin(inputs) ** 2)\n",
    "  loss2 = (grads2 - tf.constant(2., dtype='float64') * inputs \n",
    "           + (tf.constant(1., dtype='float64') + inputs**2) * tf.sin(inputs) - response1*response2)\n",
    "  loss = tf.square(loss1) + tf.square(loss2)\n",
    "  return loss"
   ]
  },
  {
   "cell_type": "markdown",
   "metadata": {},
   "source": [
    "### Training"
   ]
  },
  {
   "cell_type": "code",
   "execution_count": 6,
   "metadata": {},
   "outputs": [
    {
     "name": "stdout",
     "output_type": "stream",
     "text": [
      "Epoch: 1000 Loss: 0.3854755461215973\n",
      "Epoch: 2000 Loss: 0.2455875277519226\n",
      "Epoch: 3000 Loss: 0.1939305067062378\n",
      "Epoch: 4000 Loss: 0.16548046469688416\n",
      "Epoch: 5000 Loss: 0.14756456017494202\n",
      "Epoch: 6000 Loss: 0.13510730862617493\n",
      "Epoch: 7000 Loss: 0.12586483359336853\n",
      "Epoch: 8000 Loss: 0.11867336183786392\n",
      "Epoch: 9000 Loss: 0.11283896863460541\n",
      "Epoch: 10000 Loss: 0.10793129354715347\n"
     ]
    }
   ],
   "source": [
    "ts.train(X=X_train, diff_loss=diff_loss, epochs=10000, message_frequency=1000, optimizer_name='Adam', learning_rate=0.01)"
   ]
  },
  {
   "cell_type": "markdown",
   "metadata": {},
   "source": [
    "### Plotting the results \n",
    "\n",
    "The numerical solution (training set - red, valdiaiton set - green) along with the analytical solution (blue)."
   ]
  },
  {
   "cell_type": "code",
   "execution_count": 7,
   "metadata": {},
   "outputs": [
    {
     "data": {
      "image/png": "[encoded data removed]",
      "text/plain": [
       "<matplotlib.figure.Figure at 0x7f73480f4080>"
      ]
     },
     "metadata": {},
     "output_type": "display_data"
    }
   ],
   "source": [
    "pred1 = ts.call(tf.convert_to_tensor(X_train, dtype='float64'))[0].numpy()\n",
    "pred2 = ts.call(tf.convert_to_tensor(X_train, dtype='float64'))[1].numpy()\n",
    "pred1_test = ts.call(tf.convert_to_tensor(X_test, dtype='float64'))[0].numpy()\n",
    "pred2_test = ts.call(tf.convert_to_tensor(X_test, dtype='float64'))[1].numpy()\n",
    "plt.scatter(X_train, pred1, label='Numerical - Train - 1', marker='+', s=50, c='blue')\n",
    "plt.scatter(X_train, pred2, label='Numerical - Train - 2', marker='+', s=50, c='red')\n",
    "plt.plot(X_test, pred1_test, label='Numerical - Test - 1', c='xkcd:sky blue')\n",
    "plt.plot(X_test, pred2_test, label='Numerical - Test - 2', c='xkcd:goldenrod')\n",
    "plt.plot(X_test, np.sin(X_test), label='Analytic - 1', c='black')\n",
    "plt.plot(X_test, 1+X_test**2, label='Analytic - 2', c='yellow')\n",
    "plt.legend()\n",
    "plt.show()"
   ]
  },
  {
   "cell_type": "code",
   "execution_count": 8,
   "metadata": {},
   "outputs": [
    {
     "data": {
      "image/png": "[encoded data removed]",
      "text/plain": [
       "<matplotlib.figure.Figure at 0x7f734805be48>"
      ]
     },
     "metadata": {},
     "output_type": "display_data"
    }
   ],
   "source": [
    "plt.plot(X_test, pred1_test - np.sin(X_test), label='diff 1')\n",
    "plt.plot(X_test, pred2_test - (1+X_test**2), label='diff 2')\n",
    "plt.show()"
   ]
  },
  {
   "cell_type": "code",
   "execution_count": 9,
   "metadata": {
    "collapsed": true
   },
   "outputs": [],
   "source": [
    "diff1 = pred1_test - np.sin(X_test)\n",
    "diff2 = pred2_test - (1+X_test**2)"
   ]
  },
  {
   "cell_type": "code",
   "execution_count": 10,
   "metadata": {},
   "outputs": [
    {
     "name": "stdout",
     "output_type": "stream",
     "text": [
      "0.017631583905327396\n",
      "0.04606032592646688\n"
     ]
    }
   ],
   "source": [
    "print(np.abs(diff1).mean())\n",
    "print(np.abs(diff2).mean())"
   ]
  },
  {
   "cell_type": "code",
   "execution_count": 11,
   "metadata": {},
   "outputs": [
    {
     "name": "stdout",
     "output_type": "stream",
     "text": [
      "0.03818349584309133\n",
      "0.23141368744239088\n"
     ]
    }
   ],
   "source": [
    "print(np.abs(diff1).max())\n",
    "print(np.abs(diff2).max())"
   ]
  },
  {
   "cell_type": "markdown",
   "metadata": {
    "collapsed": true
   },
   "source": [
    "The errors are suprisingly low for such a short training. The problem arising is that the success of the training procedure relys solely on the lucky initialization. It either converges in a short trainig (10k epochs) or it never converges."
   ]
  },
  {
   "cell_type": "code",
   "execution_count": null,
   "metadata": {
    "collapsed": true
   },
   "outputs": [],
   "source": []
  }
 ],
 "metadata": {
  "kernelspec": {
   "display_name": "Python 3",
   "language": "python",
   "name": "python3"
  },
  "language_info": {
   "codemirror_mode": {
    "name": "ipython",
    "version": 3
   },
   "file_extension": ".py",
   "mimetype": "text/x-python",
   "name": "python",
   "nbconvert_exporter": "python",
   "pygments_lexer": "ipython3",
   "version": "3.6.2"
  }
 },
 "nbformat": 4,
 "nbformat_minor": 2
}
