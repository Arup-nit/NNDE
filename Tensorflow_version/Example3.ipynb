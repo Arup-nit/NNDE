{
 "cells": [
  {
   "cell_type": "code",
   "execution_count": 1,
   "metadata": {},
   "outputs": [
    {
     "name": "stderr",
     "output_type": "stream",
     "text": [
      "/home/raroog/anaconda3/lib/python3.6/site-packages/h5py/__init__.py:34: FutureWarning: Conversion of the second argument of issubdtype from `float` to `np.floating` is deprecated. In future, it will be treated as `np.float64 == np.dtype(float).type`.\n",
      "  from ._conv import register_converters as _register_converters\n"
     ]
    }
   ],
   "source": [
    "import tensorflow as tf\n",
    "import numpy as np\n",
    "import matplotlib.pyplot as plt\n",
    "from TrialSolution import TrialSolution"
   ]
  },
  {
   "cell_type": "markdown",
   "metadata": {},
   "source": [
    "## Example 3\n",
    "\n",
    "$\\frac{d^2}{dx^2}\\Psi+\\frac{1}{5}\\frac{d}{dx}\\Psi+\\Psi=-\\frac{1}{5}\\exp(-\\frac{x}{5})\\cos(x)$\n",
    "\n",
    "With boundary initial condition $\\Psi(0)=0$, $\\frac{d}{dx}\\Psi(0)=1$ and domain $x\\in[0,2]$"
   ]
  },
  {
   "cell_type": "code",
   "execution_count": 2,
   "metadata": {
    "collapsed": true
   },
   "outputs": [],
   "source": [
    "X_train = np.arange(0, 2., 0.2) + 1e-8\n",
    "X_train = X_train.reshape(-1,1)\n",
    "X_test = np.arange(0, 2., 0.01) + 1e-8\n",
    "X_test = X_test.reshape(-1,1) "
   ]
  },
  {
   "cell_type": "code",
   "execution_count": 3,
   "metadata": {
    "collapsed": true
   },
   "outputs": [],
   "source": [
    "inits = [{'variable':0, 'value':0, 'type':'dirichlet',\n",
    "        'function':lambda X: tf.constant(0., dtype='float64', shape=(X.shape[0],1))},\n",
    "        {'variable':0, 'value':0, 'type':'neumann',\n",
    "        'function':lambda X: tf.constant(1., dtype='float64', shape=(X.shape[0],1))}]"
   ]
  },
  {
   "cell_type": "markdown",
   "metadata": {},
   "source": [
    "The trial solution for this case is $\\Psi(x)=x + x^2N(x)$.\n",
    "The first function below is the function $A(x)=x$\n",
    "and the second function is the function $B(x)=x^2$.\n",
    "Though, in our case, the trial solution is generated automatically from the initial conditions."
   ]
  },
  {
   "cell_type": "code",
   "execution_count": 4,
   "metadata": {
    "collapsed": true
   },
   "outputs": [],
   "source": [
    "ts = TrialSolution(conditions=inits, n_i=1, n_h=10, n_o=1, equation_type='ODE')"
   ]
  },
  {
   "cell_type": "markdown",
   "metadata": {},
   "source": [
    "### Defining the loss function for a single point and a whole set\n",
    "\n",
    "The loss function is based on the formula:\n",
    "$$Loss(N)=\\sum_i \\left(L\\Psi(x_i, N(x_i))-f(x_i,\\Psi(x_i, N(x_i))) \\right)^2$$\n",
    "Where $N(x)$ is the neural network and $L$ is some differential operator."
   ]
  },
  {
   "cell_type": "code",
   "execution_count": 5,
   "metadata": {
    "collapsed": true
   },
   "outputs": [],
   "source": [
    "def diff_loss(network, inputs):\n",
    "  # Compute the gradients\n",
    "  with tf.GradientTape() as tape2:\n",
    "    with tf.GradientTape() as tape:\n",
    "      inputs = tf.convert_to_tensor(inputs)\n",
    "      tape.watch(inputs)\n",
    "      tape2.watch(inputs)\n",
    "      response = network(inputs)  \n",
    "    grads = tape.gradient(response, inputs)\n",
    "  laplace = tape2.gradient(grads, inputs)\n",
    "  \n",
    "  # Compute the loss\n",
    "  loss = tf.square(laplace + tf.constant(0.2, dtype='float64')*grads + response\n",
    "          + tf.constant(0.2, dtype='float64')*tf.exp( tf.constant(-0.2, dtype='float64') * inputs)\n",
    "                   * tf.cos(inputs))\n",
    "  return loss"
   ]
  },
  {
   "cell_type": "markdown",
   "metadata": {},
   "source": [
    "### Training"
   ]
  },
  {
   "cell_type": "code",
   "execution_count": 6,
   "metadata": {
    "scrolled": true
   },
   "outputs": [
    {
     "name": "stdout",
     "output_type": "stream",
     "text": [
      "Epoch: 100000 Loss: 4.0819104469846934e-05\n",
      "Epoch: 200000 Loss: 2.6302555852453224e-05\n",
      "Epoch: 300000 Loss: 2.0307106751715764e-05\n",
      "Epoch: 400000 Loss: 1.702628105704207e-05\n",
      "Epoch: 500000 Loss: 1.4913402083038818e-05\n",
      "Epoch: 600000 Loss: 1.342827636108268e-05\n",
      "Epoch: 700000 Loss: 1.2325513125688303e-05\n",
      "Epoch: 800000 Loss: 1.1469984201539773e-05\n",
      "Epoch: 900000 Loss: 1.0789046427817084e-05\n",
      "Epoch: 1000000 Loss: 1.0236752132186666e-05\n"
     ]
    }
   ],
   "source": [
    "ts.train(X=X_train, diff_loss=diff_loss, epochs=1000000, message_frequency=100000, optimizer_name='Adam', learning_rate=0.01)"
   ]
  },
  {
   "cell_type": "markdown",
   "metadata": {},
   "source": [
    "### Plotting the results \n",
    "\n",
    "The numerical solution (training set - red, valdiaiton set - green) along with the analytical solution (blue)."
   ]
  },
  {
   "cell_type": "code",
   "execution_count": 7,
   "metadata": {},
   "outputs": [
    {
     "data": {
      "image/png": "[encoded data removed]",
      "text/plain": [
       "<matplotlib.figure.Figure at 0x7f5b3c6cf160>"
      ]
     },
     "metadata": {},
     "output_type": "display_data"
    }
   ],
   "source": [
    "pred_train = ts.call(tf.convert_to_tensor(X_train, dtype='float64')).numpy()\n",
    "pred_test = ts(tf.convert_to_tensor(X_test, dtype='float64')).numpy()\n",
    "plt.scatter(X_train, pred_train, c='r', label='Numerical - Training', marker='+', s=30)\n",
    "plt.plot(X_test, pred_test, c='g', label='Numerical - Test')\n",
    "plt.plot(X_test, np.exp(-0.2*X_test)*np.sin(X_test), c='b', label='Analytic')\n",
    "plt.legend()\n",
    "plt.show()"
   ]
  },
  {
   "cell_type": "markdown",
   "metadata": {},
   "source": [
    "Let's check the errors on the training set."
   ]
  },
  {
   "cell_type": "code",
   "execution_count": 8,
   "metadata": {},
   "outputs": [
    {
     "data": {
      "image/png": "[encoded data removed]",
      "text/plain": [
       "<matplotlib.figure.Figure at 0x7f5b3c6cf940>"
      ]
     },
     "metadata": {},
     "output_type": "display_data"
    }
   ],
   "source": [
    "plt.plot(X_train, pred_train - np.exp(-0.2*X_train)*np.sin(X_train), label='Error - Train')\n",
    "plt.legend()\n",
    "plt.show()"
   ]
  },
  {
   "cell_type": "markdown",
   "metadata": {},
   "source": [
    "Let's check the errors on the test set."
   ]
  },
  {
   "cell_type": "code",
   "execution_count": 9,
   "metadata": {},
   "outputs": [
    {
     "data": {
      "image/png": "[encoded data removed]",
      "text/plain": [
       "<matplotlib.figure.Figure at 0x7f5b3c1096d8>"
      ]
     },
     "metadata": {},
     "output_type": "display_data"
    }
   ],
   "source": [
    "plt.plot(X_test, pred_test - np.exp(-0.2*X_test)*np.sin(X_test), label='Error - Test')\n",
    "plt.legend()\n",
    "plt.show()"
   ]
  },
  {
   "cell_type": "markdown",
   "metadata": {},
   "source": [
    "The mean loss calculated on the test set."
   ]
  },
  {
   "cell_type": "code",
   "execution_count": 10,
   "metadata": {
    "scrolled": true
   },
   "outputs": [
    {
     "data": {
      "text/plain": [
       "7.046213791447192e-06"
      ]
     },
     "execution_count": 10,
     "metadata": {},
     "output_type": "execute_result"
    }
   ],
   "source": [
    "diff_loss(ts, X_test).numpy().mean()"
   ]
  },
  {
   "cell_type": "markdown",
   "metadata": {},
   "source": [
    "Mean absolute error on the train set."
   ]
  },
  {
   "cell_type": "code",
   "execution_count": 11,
   "metadata": {},
   "outputs": [
    {
     "data": {
      "text/plain": [
       "0.0005711857812370546"
      ]
     },
     "execution_count": 11,
     "metadata": {},
     "output_type": "execute_result"
    }
   ],
   "source": [
    "np.abs(pred_train - np.exp(-0.2*X_train)*np.sin(X_train)).mean()"
   ]
  },
  {
   "cell_type": "markdown",
   "metadata": {},
   "source": [
    "Mean absolute error on the test set - interpolation error."
   ]
  },
  {
   "cell_type": "code",
   "execution_count": 12,
   "metadata": {},
   "outputs": [
    {
     "data": {
      "text/plain": [
       "0.0006090050184462408"
      ]
     },
     "execution_count": 12,
     "metadata": {},
     "output_type": "execute_result"
    }
   ],
   "source": [
    "np.abs(pred_test - np.exp(-0.2*X_test)*np.sin(X_test)).mean()"
   ]
  },
  {
   "cell_type": "code",
   "execution_count": 14,
   "metadata": {},
   "outputs": [
    {
     "data": {
      "text/plain": [
       "0.0008654165919658174"
      ]
     },
     "execution_count": 14,
     "metadata": {},
     "output_type": "execute_result"
    }
   ],
   "source": [
    "np.abs(pred_test - np.exp(-0.2*X_test)*np.sin(X_test)).max()"
   ]
  },
  {
   "cell_type": "code",
   "execution_count": null,
   "metadata": {
    "collapsed": true
   },
   "outputs": [],
   "source": []
  }
 ],
 "metadata": {
  "kernelspec": {
   "display_name": "Python 3",
   "language": "python",
   "name": "python3"
  },
  "language_info": {
   "codemirror_mode": {
    "name": "ipython",
    "version": 3
   },
   "file_extension": ".py",
   "mimetype": "text/x-python",
   "name": "python",
   "nbconvert_exporter": "python",
   "pygments_lexer": "ipython3",
   "version": "3.6.2"
  }
 },
 "nbformat": 4,
 "nbformat_minor": 2
}
