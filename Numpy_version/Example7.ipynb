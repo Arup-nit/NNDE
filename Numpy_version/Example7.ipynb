{
 "cells": [
  {
   "cell_type": "code",
   "execution_count": 1,
   "metadata": {},
   "outputs": [
    {
     "name": "stdout",
     "output_type": "stream",
     "text": [
      "Pixiedust database opened successfully\n"
     ]
    },
    {
     "data": {
      "text/html": [
       "\n",
       "        <div style=\"margin:10px\">\n",
       "            <a href=\"https://github.com/ibm-watson-data-lab/pixiedust\" target=\"_new\">\n",
       "                <img src=\"https://github.com/ibm-watson-data-lab/pixiedust/raw/master/docs/_static/pd_icon32.png\" style=\"float:left;margin-right:10px\"/>\n",
       "            </a>\n",
       "            <span>Pixiedust version 1.1.15</span>\n",
       "        </div>\n",
       "        "
      ],
      "text/plain": [
       "<IPython.core.display.HTML object>"
      ]
     },
     "metadata": {},
     "output_type": "display_data"
    }
   ],
   "source": [
    "%load_ext autoreload\n",
    "%autoreload 2\n",
    "import numpy as np\n",
    "import matplotlib.pyplot as plt\n",
    "import nnde\n",
    "from mpl_toolkits.mplot3d import Axes3D\n",
    "np.seterr(all='raise')\n",
    "import pixiedust"
   ]
  },
  {
   "cell_type": "code",
   "execution_count": 2,
   "metadata": {
    "collapsed": true
   },
   "outputs": [],
   "source": [
    "n_samples = 10\n",
    "X_p = np.linspace(0, 1, n_samples)\n",
    "Y_p = np.linspace(0, 1, n_samples)\n",
    "X_p, Y_p = np.meshgrid(X_p, Y_p)\n",
    "X_p = X_p.flatten()\n",
    "Y_p = Y_p.flatten()\n",
    "samples = np.array([X_p, Y_p]).T"
   ]
  },
  {
   "cell_type": "markdown",
   "metadata": {},
   "source": [
    "## Example 7\n",
    "\n",
    "$$\\Delta\\Psi(x, y)=\\sin(\\pi x)\\left(2-\\pi^2y^2\\right)$$\n",
    "\n",
    "With boundary conditions $\\Psi(0,y)=0$, $\\Psi(1, y)=0$, $\\Psi(x, 0)=0$, and $\\frac{\\partial}{\\partial y}\\Psi(x, 1)=2\\sin(\\pi x)$.\n",
    "\n",
    "The trial solution for this case is $\\Psi(x, y)=A(x, y) + B(x, y)[N(x, y) - N(x, 1) - \\frac{\\partial N}{\\partial y}(x, 1)]$ with $B(x)=x(1-x)y$ and $A(x, y)= 2y\\sin(\\pi x).$"
   ]
  },
  {
   "cell_type": "code",
   "execution_count": 3,
   "metadata": {
    "collapsed": true
   },
   "outputs": [],
   "source": [
    "def example7_boundary_value(point):\n",
    "  x = point[0]\n",
    "  y = point[1]\n",
    "  return 2 * y * np.sin(np.pi * x)"
   ]
  },
  {
   "cell_type": "code",
   "execution_count": 4,
   "metadata": {
    "collapsed": true
   },
   "outputs": [],
   "source": [
    "def example7_boundary_vanishing(point):\n",
    "  x = point[0]\n",
    "  y = point[1]\n",
    "  return x * (1 - x) * y"
   ]
  },
  {
   "cell_type": "markdown",
   "metadata": {},
   "source": [
    "### Defining the loss function for a single point and a whole set\n",
    "\n",
    "The loss function is based on the formula:\n",
    "$$Loss(N)=\\sum_i \\left(\\Delta\\Psi(x_i, N(x_i))-\\sin(\\pi x)\\left(2-\\pi^2y^2\\right) \\right)^2$$\n",
    "And the Laplace operator term acting on the trial solution becomes:\n",
    "$$\\Delta\\Psi(x_i, N(x_i))=\\Delta A(x,y) + \\Delta \\left(x(1-x)y\\left[N(x, y) - N(x, 1) - \\frac{\\partial N}{\\partial y}(x, 1)\\right]\\right)$$\n",
    "$$=-2\\pi^2y\\sin(\\pi x) +2x(1-x)\\frac{\\partial N}{\\partial y}(x, y) +x(1-x)y\\frac{\\partial^2 N}{\\partial y^2}(x, y)- 2y \\left[N(x, y) - N(x, 1) - \\frac{\\partial N}{\\partial y}(x, 1)\\right] + 2y(1-2x) \\left[\\frac{\\partial N}{\\partial x}(x, y) - \\frac{\\partial N}{\\partial x}(x, 1) - \\frac{\\partial^2 N}{\\partial x\\partial y}(x, 1)\\right] +x(1-x)y\\left[\\frac{\\partial^2 N}{\\partial x^2}(x, y) - \\frac{\\partial^2 N}{\\partial x^2}(x, 1) - \\frac{\\partial^3 N}{\\partial x^2\\partial y}(x, 1)\\right]$$"
   ]
  },
  {
   "cell_type": "code",
   "execution_count": 5,
   "metadata": {
    "collapsed": true
   },
   "outputs": [],
   "source": [
    "def example7_loss_function(self, samples, *kwargs):\n",
    "  loss = 0\n",
    "  for i in range(samples.shape[0]):\n",
    "    loss += self.loss_function_single_point(self, samples[i])\n",
    "  return loss/samples.shape[0]"
   ]
  },
  {
   "cell_type": "code",
   "execution_count": 6,
   "metadata": {
    "collapsed": true
   },
   "outputs": [],
   "source": [
    "def example7_loss_function_single_point(self, point, non_squared=False, *kwargs):\n",
    "  x = point[0][0] if isinstance(point[0], np.ndarray) else point[0]\n",
    "  y = point[1][0] if isinstance(point[1], np.ndarray) else point[0]\n",
    "  \n",
    "  N = self.forward_pass(point, 0)\n",
    "  dN = self.forward_pass(point, 1)\n",
    "  d2N = self.forward_pass(point, 2)\n",
    "  \n",
    "  N1 = self.forward_pass(np.array([x, 1]), 0)\n",
    "  dN1 = self.forward_pass(np.array([x, 1]), 1)\n",
    "  d2N1 = self.forward_pass(np.array([x, 1]), 2)\n",
    "  \n",
    "  dxdyN1 = self.forward_pass_arbitrary_derivative(np.array([x, 1]), np.array([1, 1]))\n",
    "  dx2dyN1 = self.forward_pass_arbitrary_derivative(np.array([x, 1]), np.array([2, 1]))\n",
    "  \n",
    "  loss = ( -2*np.pi**2*y*np.sin(np.pi*x) + 2*x*(1-x)*dN[0, 1] + y*x*(1-x)*d2N[0, 1]\n",
    "          - 2*y*(N[0]-N1[0]-dN1[0, 1]) + 2*y*(1-2*x)*(dN[0, 0]-dN1[0, 0]-dxdyN1)\n",
    "          + y*x*(1-x)*(d2N[0, 0]-d2N1[0, 0]-dx2dyN1) - np.sin(np.pi*x) * (2 - np.pi**2 * y**2)\n",
    "    )\n",
    "  if non_squared:\n",
    "    return loss[0, 0]\n",
    "  else:\n",
    "    loss = loss ** 2\n",
    "    return loss[0, 0]"
   ]
  },
  {
   "cell_type": "markdown",
   "metadata": {},
   "source": [
    "### Defining the update rules\n",
    "\n",
    "The following functions represent $\\frac{\\partial Loss}{\\partial \\vec{b}}$, $\\frac{\\partial Loss}{\\partial H}$, and $\\frac{\\partial Loss}{\\partial V}$"
   ]
  },
  {
   "cell_type": "code",
   "execution_count": 7,
   "metadata": {
    "collapsed": true
   },
   "outputs": [],
   "source": [
    "def example7_bias_change(self, point, label, *kwargs):\n",
    "  x = point[0][0] if isinstance(point[0], np.ndarray) else point[0]\n",
    "  y = point[1][0] if isinstance(point[1], np.ndarray) else point[0]\n",
    "  db = np.zeros((self.hidden_dim, 1)).astype(dtype=\"float64\")\n",
    "  loss_sqrt = self.loss_function_single_point(self, point, non_squared=True)\n",
    "  \n",
    "  db_N = self.network_derivative_bias(point, 0)\n",
    "  db_DN = self.network_derivative_bias(point, 1)\n",
    "  db_D2N = self.network_derivative_bias(point, 2)\n",
    " \n",
    "  db_N1 = self.network_derivative_bias(np.array([x, 1]), 0)\n",
    "  db_DN1 = self.network_derivative_bias(np.array([x, 1]), 1)\n",
    "  db_D2N1 = self.network_derivative_bias(np.array([x, 1]), 2)\n",
    "  \n",
    "  db_dxdyN1 = self.arbitrary_network_derivative_bias(np.array([x, 1]), np.array([1, 1]))\n",
    "  db_dx2dyN1 = self.arbitrary_network_derivative_bias(np.array([x, 1]), np.array([2, 1]))\n",
    "  \n",
    "  for m in range(self.hidden_dim):\n",
    "    db[m] += 2 * loss_sqrt * (\n",
    "          2*x*(1-x)*db_DN[0, 1, m]\n",
    "          + y*x*(1-x)*db_D2N[0, 1, m]\n",
    "          - 2*y*(db_N[0, 0, m]-db_N1[0, 0, m]-db_DN1[0, 1, m])\n",
    "          + 2*y*(1-2*x)*(db_DN[0, 0, m]-db_DN1[0, 0, m]-db_dxdyN1[0, m])\n",
    "          + y*x*(1-x)*(db_D2N[0, 0, m]-db_D2N1[0, 0, m]-db_dx2dyN1[0, m])\n",
    "      ) \n",
    "  return db"
   ]
  },
  {
   "cell_type": "code",
   "execution_count": 8,
   "metadata": {
    "collapsed": true
   },
   "outputs": [],
   "source": [
    "def example7_hidden_weights_change(self, point, *kwargs):\n",
    "  x = point[0][0] if isinstance(point[0], np.ndarray) else point[0]\n",
    "  y = point[1][0] if isinstance(point[1], np.ndarray) else point[0]\n",
    "  dH = np.zeros((self.hidden_dim, self.input_dim)).astype(dtype=\"float64\")\n",
    "  loss_sqrt = self.loss_function_single_point(self, point, non_squared=True)\n",
    "  \n",
    "  dH_N = self.network_derivative_hidden_weights(point, 0)\n",
    "  dH_DN = self.network_derivative_hidden_weights(point, 1)\n",
    "  dH_D2N = self.network_derivative_hidden_weights(point, 2)\n",
    " \n",
    "  dH_N1 = self.network_derivative_hidden_weights(np.array([x, 1]), 0)\n",
    "  dH_DN1 = self.network_derivative_hidden_weights(np.array([x, 1]), 1)\n",
    "  dH_D2N1 = self.network_derivative_hidden_weights(np.array([x, 1]), 2)\n",
    "  \n",
    "  dH_dxdyN1 = self.arbitrary_network_derivative_hidden_weights(np.array([x, 1]), np.array([1, 1]))\n",
    "  dH_dx2dyN1 = self.arbitrary_network_derivative_hidden_weights(np.array([x, 1]), np.array([2, 1]))\n",
    "  \n",
    "  for m in range(self.hidden_dim):\n",
    "    for p in range(self.input_dim):\n",
    "      dH[m, p] += 2 * loss_sqrt * (\n",
    "          2*x*(1-x)*dH_DN[0, 1, m, p]\n",
    "          + y*x*(1-x)*dH_D2N[0, 1, m, p]\n",
    "          - 2*y*(dH_N[0, 0, m, p]-dH_N1[0, 0, m, p]-dH_DN1[0, 1, m, p])\n",
    "          + 2*y*(1-2*x)*(dH_DN[0, 0, m, p]-dH_DN1[0, 0, m, p]-dH_dxdyN1[0, m, p])\n",
    "          + y*x*(1-x)*(dH_D2N[0, 0, m, p]-dH_D2N1[0, 0, m, p]-dH_dx2dyN1[0, m, p])\n",
    "      )\n",
    "  return dH"
   ]
  },
  {
   "cell_type": "code",
   "execution_count": 9,
   "metadata": {
    "collapsed": true
   },
   "outputs": [],
   "source": [
    "def example7_visible_weights_change(self, point, *kwargs):\n",
    "  x = point[0][0] if isinstance(point[0], np.ndarray) else point[0]\n",
    "  y = point[1][0] if isinstance(point[1], np.ndarray) else point[0]\n",
    "  dV = np.zeros((self.visible_dim, self.hidden_dim)).astype(dtype=\"float64\")\n",
    "  loss_sqrt = self.loss_function_single_point(self, point, non_squared=True)\n",
    "  \n",
    "  dV_N = self.network_derivative_visible_weights(point, 0)\n",
    "  dV_DN = self.network_derivative_visible_weights(point, 1)\n",
    "  dV_D2N = self.network_derivative_visible_weights(point, 2)\n",
    "  \n",
    "  dV_N1 = self.network_derivative_visible_weights(np.array([x, 1]), 0)\n",
    "  dV_DN1 = self.network_derivative_visible_weights(np.array([x, 1]), 1)\n",
    "  dV_D2N1 = self.network_derivative_visible_weights(np.array([x, 1]), 2)\n",
    "  dV_D3N1 = self.network_derivative_visible_weights(np.array([x, 1]), 3)\n",
    "  \n",
    "  dV_dxdyN1 = self.arbitrary_network_derivative_visible_weights(np.array([x, 1]), np.array([1, 1]))\n",
    "  dV_dx2dyN1 = self.arbitrary_network_derivative_visible_weights(np.array([x, 1]), np.array([2, 1]))\n",
    "\n",
    "  for m in range(self.visible_dim):\n",
    "    for p in range(self.hidden_dim):\n",
    "      dV[m, p] += 2 * loss_sqrt * (2*x*(1-x)*dV_DN[0, 1, m, p] + y*x*(1-x)*dV_D2N[0, 1, m, p]\n",
    "          - 2*y*(dV_N[0, 0, m, p]-dV_N1[0, 0, m, p]-dV_DN1[0, 1, m, p])\n",
    "          + 2*y*(1-2*x)*(dV_DN[0, 0, m, p]-dV_DN1[0, 0, m, p]-dV_dxdyN1[0, m, p])\n",
    "          + y*x*(1-x)*(dV_D2N[0, 0, m, p]-dV_D2N1[0, 0, m, p]-dV_dx2dyN1[0, m, p])  \n",
    "      )\n",
    "  return dV"
   ]
  },
  {
   "cell_type": "markdown",
   "metadata": {},
   "source": [
    "### Defining the trial solution with an apropiate network"
   ]
  },
  {
   "cell_type": "code",
   "execution_count": 10,
   "metadata": {
    "collapsed": true
   },
   "outputs": [],
   "source": [
    "example7_trial_solution = nnde.TrialSolution(loss_function=example7_loss_function,\n",
    "                                        loss_function_single_point=example7_loss_function_single_point,\n",
    "                                        bias_change=example7_bias_change,\n",
    "                                        hidden_weights_change=example7_hidden_weights_change,\n",
    "                                        visible_weights_change=example7_visible_weights_change,\n",
    "                                        boundary_condition_value_function=example7_boundary_value,\n",
    "                                        boundary_vanishing_function=example7_boundary_vanishing,\n",
    "                                        input_dim=2, hidden_dim=20, output_dim=1,\n",
    "                                        learning_rate=0.005, momentum=0)"
   ]
  },
  {
   "cell_type": "markdown",
   "metadata": {},
   "source": [
    "### Training for 5000 epochs"
   ]
  },
  {
   "cell_type": "code",
   "execution_count": 11,
   "metadata": {
    "pixiedust": {
     "displayParams": {}
    },
    "scrolled": false
   },
   "outputs": [
    {
     "name": "stdout",
     "output_type": "stream",
     "text": [
      "Epoch: 1 Loss function: 11.939561864112559\n",
      "Epoch: 2 Loss function: 12.54186750933537\n",
      "Epoch: 3 Loss function: 11.326346774972825\n",
      "Epoch: 4 Loss function: 7.043151990255349\n",
      "Epoch: 5 Loss function: 2.48141256752352\n",
      "Epoch: 6 Loss function: 1.5332423155084516\n",
      "Epoch: 7 Loss function: 1.4513693681898892\n",
      "Epoch: 8 Loss function: 1.416256607433486\n",
      "Epoch: 9 Loss function: 1.4094804650905384\n",
      "Epoch: 10 Loss function: 1.2690882661644147\n",
      "Epoch: 11 Loss function: 1.358976568210112\n",
      "Epoch: 12 Loss function: 1.273595509567382\n",
      "Epoch: 13 Loss function: 1.2170455139230167\n",
      "Epoch: 14 Loss function: 1.149354229641645\n",
      "Epoch: 15 Loss function: 1.612999617504213\n",
      "Epoch: 16 Loss function: 1.2161180646869458\n",
      "Epoch: 17 Loss function: 1.0851035397113626\n",
      "Epoch: 18 Loss function: 1.130006257833861\n",
      "Epoch: 19 Loss function: 1.1660857381420249\n",
      "Epoch: 20 Loss function: 1.0775401789727506\n",
      "Epoch: 21 Loss function: 0.9706283665961636\n",
      "Epoch: 22 Loss function: 1.1043332960503014\n",
      "Epoch: 23 Loss function: 0.9111556822060469\n",
      "Epoch: 24 Loss function: 0.9127130722743804\n",
      "Epoch: 25 Loss function: 0.9897990030639382\n",
      "Epoch: 26 Loss function: 1.085275098183865\n",
      "Epoch: 27 Loss function: 1.131862839278389\n",
      "Epoch: 28 Loss function: 1.191961845037158\n",
      "Epoch: 29 Loss function: 1.0513988544809603\n",
      "Epoch: 30 Loss function: 0.8693495928261162\n",
      "Epoch: 31 Loss function: 1.0194285828163951\n",
      "Epoch: 32 Loss function: 0.8223151511027158\n",
      "Epoch: 33 Loss function: 0.9333607604747014\n",
      "Epoch: 34 Loss function: 0.9425747483854392\n",
      "Epoch: 35 Loss function: 1.0154001815396556\n",
      "Epoch: 36 Loss function: 0.9236402467609344\n",
      "Epoch: 37 Loss function: 0.8868271374957265\n",
      "Epoch: 38 Loss function: 0.9588886857111231\n",
      "Epoch: 39 Loss function: 0.8103758448726673\n",
      "Epoch: 40 Loss function: 0.8147891548950016\n",
      "Epoch: 41 Loss function: 0.9141898415846422\n",
      "Epoch: 42 Loss function: 0.8416155793637805\n",
      "Epoch: 43 Loss function: 0.8915487980950186\n",
      "Epoch: 44 Loss function: 0.9143265057252559\n",
      "Epoch: 45 Loss function: 0.9139483664044847\n",
      "Epoch: 46 Loss function: 1.0237519469656504\n",
      "Epoch: 47 Loss function: 1.2446952672744562\n",
      "Epoch: 48 Loss function: 0.8953843215013984\n",
      "Epoch: 49 Loss function: 0.8774395932823853\n",
      "Epoch: 50 Loss function: 0.9993893049601834\n",
      "Epoch: 51 Loss function: 0.8919529384750745\n",
      "Epoch: 52 Loss function: 0.9170352650025284\n",
      "Epoch: 53 Loss function: 0.8233383415529497\n",
      "Epoch: 54 Loss function: 0.9028121529953267\n",
      "Epoch: 55 Loss function: 0.8226968499785414\n",
      "Epoch: 56 Loss function: 0.9147745810844756\n",
      "Epoch: 57 Loss function: 0.8724577129821952\n",
      "Epoch: 58 Loss function: 0.8687281596311514\n",
      "Epoch: 59 Loss function: 0.9899642104720571\n",
      "Epoch: 60 Loss function: 0.858962111460013\n",
      "Epoch: 61 Loss function: 0.9289090888559607\n",
      "Epoch: 62 Loss function: 0.8839804754217967\n",
      "Epoch: 63 Loss function: 0.8796673182933079\n",
      "Epoch: 64 Loss function: 0.910461859779485\n",
      "Epoch: 65 Loss function: 0.8436976635875385\n",
      "Epoch: 66 Loss function: 0.8866622224996058\n",
      "Epoch: 67 Loss function: 0.9479219767692508\n",
      "Epoch: 68 Loss function: 0.9263772565721682\n",
      "Epoch: 69 Loss function: 0.952865891259354\n",
      "Epoch: 70 Loss function: 1.0466674155256146\n",
      "Epoch: 71 Loss function: 0.8443263156709748\n",
      "Epoch: 72 Loss function: 0.8757267728292025\n",
      "Epoch: 73 Loss function: 0.9031738710154642\n",
      "Epoch: 74 Loss function: 0.9102635643607774\n",
      "Epoch: 75 Loss function: 0.8316659113904633\n",
      "Epoch: 76 Loss function: 0.8519654011044528\n",
      "Epoch: 77 Loss function: 1.0392377037259328\n",
      "Epoch: 78 Loss function: 0.9895878548576152\n",
      "Epoch: 79 Loss function: 0.9287686040192814\n",
      "Epoch: 80 Loss function: 0.9711026435738673\n",
      "Epoch: 81 Loss function: 0.9726060152737386\n",
      "Epoch: 82 Loss function: 0.9135441833558526\n",
      "Epoch: 83 Loss function: 1.00258478151856\n",
      "Epoch: 84 Loss function: 0.9746152135484861\n",
      "Epoch: 85 Loss function: 0.9078267558862693\n",
      "Epoch: 86 Loss function: 0.8467801253912489\n",
      "Epoch: 87 Loss function: 0.935857261075656\n",
      "Epoch: 88 Loss function: 0.9191540065171901\n",
      "Epoch: 89 Loss function: 0.8741283818130064\n",
      "Epoch: 90 Loss function: 0.9246099807133255\n",
      "Epoch: 91 Loss function: 0.883269064065283\n",
      "Epoch: 92 Loss function: 0.9294293091473299\n",
      "Epoch: 93 Loss function: 0.9101234634225527\n",
      "Epoch: 94 Loss function: 0.8841325498846778\n",
      "Epoch: 95 Loss function: 1.0604541965055327\n",
      "Epoch: 96 Loss function: 0.9108279565622217\n",
      "Epoch: 97 Loss function: 0.8826513455887912\n",
      "Epoch: 98 Loss function: 0.942759848231519\n",
      "Epoch: 99 Loss function: 1.006024529737987\n",
      "Epoch: 100 Loss function: 0.9328567815243928\n",
      "Epoch: 101 Loss function: 0.8726920815665771\n",
      "Epoch: 102 Loss function: 0.9312523198174844\n",
      "Epoch: 103 Loss function: 1.0058380374286542\n",
      "Epoch: 104 Loss function: 0.9534893422163112\n",
      "Epoch: 105 Loss function: 0.948656419064383\n",
      "Epoch: 106 Loss function: 0.9270188657867116\n",
      "Epoch: 107 Loss function: 1.001153252954746\n",
      "Epoch: 108 Loss function: 0.9796284940268503\n",
      "Epoch: 109 Loss function: 0.9817265388596221\n",
      "Epoch: 110 Loss function: 0.972981653363767\n",
      "Epoch: 111 Loss function: 1.018528671912806\n",
      "Epoch: 112 Loss function: 0.9924833193558953\n",
      "Epoch: 113 Loss function: 0.934020916079152\n",
      "Epoch: 114 Loss function: 0.9600480930723722\n",
      "Epoch: 115 Loss function: 1.0026120654827926\n",
      "Epoch: 116 Loss function: 0.8998978735373855\n",
      "Epoch: 117 Loss function: 0.965886045900824\n",
      "Epoch: 118 Loss function: 0.9394653626344139\n",
      "Epoch: 119 Loss function: 0.8618634683177743\n",
      "Epoch: 120 Loss function: 0.8907355635946559\n",
      "Epoch: 121 Loss function: 0.9096306701049721\n",
      "Epoch: 122 Loss function: 1.008692087107197\n",
      "Epoch: 123 Loss function: 0.9218234177208599\n",
      "Epoch: 124 Loss function: 0.9530141892072329\n",
      "Epoch: 125 Loss function: 0.998974868164184\n",
      "Epoch: 126 Loss function: 0.9907634165612978\n",
      "Epoch: 127 Loss function: 1.0867263304639363\n",
      "Epoch: 128 Loss function: 0.9453636157744936\n",
      "Epoch: 129 Loss function: 0.8964121910481607\n",
      "Epoch: 130 Loss function: 0.9448850346912347\n",
      "Epoch: 131 Loss function: 0.9187589172838742\n",
      "Epoch: 132 Loss function: 0.8870961259190664\n",
      "Epoch: 133 Loss function: 0.8931826223364123\n",
      "Epoch: 134 Loss function: 0.9124356656481121\n",
      "Epoch: 135 Loss function: 0.9358412631217711\n",
      "Epoch: 136 Loss function: 0.9118180765829191\n",
      "Epoch: 137 Loss function: 0.883567500522127\n",
      "Epoch: 138 Loss function: 0.9046420362534194\n",
      "Epoch: 139 Loss function: 0.9955030638936965\n",
      "Epoch: 140 Loss function: 0.878665775867538\n",
      "Epoch: 141 Loss function: 1.108690060831088\n",
      "Epoch: 142 Loss function: 0.9480048306053199\n",
      "Epoch: 143 Loss function: 0.9767473816442037\n",
      "Epoch: 144 Loss function: 1.004898586849043\n",
      "Epoch: 145 Loss function: 0.9512900744553243\n",
      "Epoch: 146 Loss function: 1.0704495635995013\n",
      "Epoch: 147 Loss function: 0.8819053401070999\n",
      "Epoch: 148 Loss function: 0.9098659965376423\n",
      "Epoch: 149 Loss function: 0.862494454626628\n",
      "Epoch: 150 Loss function: 0.984082074321728\n",
      "Epoch: 151 Loss function: 1.0458248138586115\n",
      "Epoch: 152 Loss function: 0.9497430439251136\n",
      "Epoch: 153 Loss function: 0.8921883718531236\n",
      "Epoch: 154 Loss function: 0.927120415565252\n",
      "Epoch: 155 Loss function: 0.9518668849643245\n",
      "Epoch: 156 Loss function: 0.8925902713348978\n",
      "Epoch: 157 Loss function: 0.9077042461560454\n",
      "Epoch: 158 Loss function: 0.9382839638679091\n",
      "Epoch: 159 Loss function: 0.9991923680956037\n",
      "Epoch: 160 Loss function: 0.9733783084521896\n",
      "Epoch: 161 Loss function: 0.9361531684545414\n",
      "Epoch: 162 Loss function: 0.9090840459774933\n",
      "Epoch: 163 Loss function: 1.0209481131870646\n",
      "Epoch: 164 Loss function: 0.9016241457277181\n",
      "Epoch: 165 Loss function: 0.9992560150257319\n",
      "Epoch: 166 Loss function: 0.9084777574431202\n",
      "Epoch: 167 Loss function: 0.9842547637036011\n",
      "Epoch: 168 Loss function: 0.9389019468526446\n",
      "Epoch: 169 Loss function: 0.9083965591391818\n",
      "Epoch: 170 Loss function: 0.9374140662104371\n",
      "Epoch: 171 Loss function: 0.9903809135406529\n",
      "Epoch: 172 Loss function: 0.9155543761939833\n",
      "Epoch: 173 Loss function: 0.9481267272762447\n",
      "Epoch: 174 Loss function: 0.9448268393923224\n",
      "Epoch: 175 Loss function: 0.9015046799741149\n",
      "Epoch: 176 Loss function: 0.953897393708558\n",
      "Epoch: 177 Loss function: 0.9972373919499753\n",
      "Epoch: 178 Loss function: 1.0263913025074807\n",
      "Epoch: 179 Loss function: 0.9338132656739876\n",
      "Epoch: 180 Loss function: 0.9003128464605833\n",
      "Epoch: 181 Loss function: 0.8852884694163501\n",
      "Epoch: 182 Loss function: 0.9271219621132631\n",
      "Epoch: 183 Loss function: 0.987582022750518\n",
      "Epoch: 184 Loss function: 0.8994473943692595\n",
      "Epoch: 185 Loss function: 0.9865441849912155\n",
      "Epoch: 186 Loss function: 0.9745287106097997\n"
     ]
    },
    {
     "name": "stdout",
     "output_type": "stream",
     "text": [
      "Epoch: 187 Loss function: 0.9823088627067249\n",
      "Epoch: 188 Loss function: 0.9934127423476748\n",
      "Epoch: 189 Loss function: 0.883922273510198\n",
      "Epoch: 190 Loss function: 0.9323852709206862\n",
      "Epoch: 191 Loss function: 0.8513492863324446\n",
      "Epoch: 192 Loss function: 0.9561469971063222\n",
      "Epoch: 193 Loss function: 0.9190248810036753\n",
      "Epoch: 194 Loss function: 0.9833741412265304\n",
      "Epoch: 195 Loss function: 0.9428409884313219\n",
      "Epoch: 196 Loss function: 0.9338533355699068\n",
      "Epoch: 197 Loss function: 1.0122966000092415\n",
      "Epoch: 198 Loss function: 0.9052921299561846\n",
      "Epoch: 199 Loss function: 0.9014965151928429\n",
      "Epoch: 200 Loss function: 0.9457759056907749\n",
      "Epoch: 201 Loss function: 0.9840010438529987\n",
      "Epoch: 202 Loss function: 0.9244057884813589\n",
      "Epoch: 203 Loss function: 0.9855905615095238\n",
      "Epoch: 204 Loss function: 0.9317547118594595\n",
      "Epoch: 205 Loss function: 0.9158219160687509\n",
      "Epoch: 206 Loss function: 0.9086680141478269\n",
      "Epoch: 207 Loss function: 0.9636115035542687\n",
      "Epoch: 208 Loss function: 0.9270642073432814\n",
      "Epoch: 209 Loss function: 0.909389012493989\n",
      "Epoch: 210 Loss function: 0.9208014343386685\n",
      "Epoch: 211 Loss function: 0.9820258890011205\n",
      "Epoch: 212 Loss function: 0.9833096491669937\n",
      "Epoch: 213 Loss function: 0.9422797475845754\n",
      "Epoch: 214 Loss function: 0.928712955727969\n",
      "Epoch: 215 Loss function: 0.9600380484687584\n",
      "Epoch: 216 Loss function: 0.9408216818160199\n",
      "Epoch: 217 Loss function: 0.9112053617537574\n",
      "Epoch: 218 Loss function: 0.9371224946892105\n",
      "Epoch: 219 Loss function: 0.9096830726694586\n",
      "Epoch: 220 Loss function: 0.9619425887490235\n",
      "Epoch: 221 Loss function: 0.9661971830749861\n",
      "Epoch: 222 Loss function: 0.9956939768038149\n",
      "Epoch: 223 Loss function: 0.9478870727878305\n",
      "Epoch: 224 Loss function: 1.0098857771989256\n",
      "Epoch: 225 Loss function: 0.937210169949436\n",
      "Epoch: 226 Loss function: 0.924437665500114\n",
      "Epoch: 227 Loss function: 0.9614220606805446\n",
      "Epoch: 228 Loss function: 0.9478705266499874\n",
      "Epoch: 229 Loss function: 0.9430540651207442\n",
      "Epoch: 230 Loss function: 0.9645543045636111\n",
      "Epoch: 231 Loss function: 0.9282165237873319\n",
      "Epoch: 232 Loss function: 0.9219390906989791\n",
      "Epoch: 233 Loss function: 0.960848266661781\n",
      "Epoch: 234 Loss function: 0.9509888246680168\n",
      "Epoch: 235 Loss function: 0.9095851301689015\n",
      "Epoch: 236 Loss function: 0.9245670776483633\n",
      "Epoch: 237 Loss function: 1.0405956402719267\n",
      "Epoch: 238 Loss function: 1.0037213691955698\n",
      "Epoch: 239 Loss function: 0.9848245826410857\n",
      "Epoch: 240 Loss function: 0.9729146501317714\n",
      "Epoch: 241 Loss function: 0.9490257326493602\n",
      "Epoch: 242 Loss function: 0.9852890505858563\n",
      "Epoch: 243 Loss function: 0.9647835128545996\n",
      "Epoch: 244 Loss function: 0.9124733482672008\n",
      "Epoch: 245 Loss function: 0.9539804823705546\n",
      "Epoch: 246 Loss function: 0.9204771188176293\n",
      "Epoch: 247 Loss function: 0.959366042325799\n",
      "Epoch: 248 Loss function: 0.9846923422088594\n",
      "Epoch: 249 Loss function: 0.9472173721099086\n",
      "Epoch: 250 Loss function: 0.9698928082979414\n",
      "Epoch: 251 Loss function: 0.9739256530024977\n",
      "Epoch: 252 Loss function: 0.9426170300531378\n",
      "Epoch: 253 Loss function: 1.0078384277495238\n",
      "Epoch: 254 Loss function: 0.9674339608556316\n",
      "Epoch: 255 Loss function: 0.9924009295406813\n",
      "Epoch: 256 Loss function: 0.9807003422235718\n",
      "Epoch: 257 Loss function: 0.9312171774454278\n",
      "Epoch: 258 Loss function: 0.9870200299962915\n",
      "Epoch: 259 Loss function: 0.9118813716316257\n",
      "Epoch: 260 Loss function: 0.9505672471089378\n",
      "Epoch: 261 Loss function: 0.9359147293954698\n",
      "Epoch: 262 Loss function: 0.954184206305795\n",
      "Epoch: 263 Loss function: 0.9580674205815698\n",
      "Epoch: 264 Loss function: 0.958724932448188\n",
      "Epoch: 265 Loss function: 0.9586933499574725\n",
      "Epoch: 266 Loss function: 0.9705459043133957\n",
      "Epoch: 267 Loss function: 0.9725133886834658\n",
      "Epoch: 268 Loss function: 0.9356083804275431\n",
      "Epoch: 269 Loss function: 1.011623396551379\n",
      "Epoch: 270 Loss function: 0.9442429196742084\n",
      "Epoch: 271 Loss function: 0.9488854721581118\n",
      "Epoch: 272 Loss function: 0.9823657027469194\n",
      "Epoch: 273 Loss function: 1.0040261453180621\n",
      "Epoch: 274 Loss function: 0.9663081780969102\n",
      "Epoch: 275 Loss function: 0.9440044249464843\n",
      "Epoch: 276 Loss function: 0.9724875468140199\n",
      "Epoch: 277 Loss function: 1.0023141465846848\n",
      "Epoch: 278 Loss function: 0.9724496602940016\n",
      "Epoch: 279 Loss function: 1.0383336087206965\n",
      "Epoch: 280 Loss function: 0.986975915576695\n",
      "Epoch: 281 Loss function: 0.9877999282068926\n",
      "Epoch: 282 Loss function: 0.9971543963265815\n",
      "Epoch: 283 Loss function: 0.9678824471527812\n",
      "Epoch: 284 Loss function: 0.9597648148058512\n",
      "Epoch: 285 Loss function: 0.9488058357914698\n",
      "Epoch: 286 Loss function: 0.9627081887176911\n",
      "Epoch: 287 Loss function: 1.0044756962819041\n",
      "Epoch: 288 Loss function: 1.0246778907068925\n",
      "Epoch: 289 Loss function: 0.9868058529176854\n",
      "Epoch: 290 Loss function: 0.9921146977236527\n",
      "Epoch: 291 Loss function: 0.9781582396026277\n",
      "Epoch: 292 Loss function: 0.959900247948168\n",
      "Epoch: 293 Loss function: 0.9817740559946102\n",
      "Epoch: 294 Loss function: 0.961769898785458\n",
      "Epoch: 295 Loss function: 0.9781096009724491\n",
      "Epoch: 296 Loss function: 0.9495582578513152\n",
      "Epoch: 297 Loss function: 1.0011095159542787\n",
      "Epoch: 298 Loss function: 0.9522089717496\n",
      "Epoch: 299 Loss function: 0.97753046398949\n",
      "Epoch: 300 Loss function: 0.9986631301191305\n",
      "Epoch: 301 Loss function: 1.0007536433180682\n",
      "Epoch: 302 Loss function: 0.9617669768427053\n",
      "Epoch: 303 Loss function: 0.9816332763719589\n",
      "Epoch: 304 Loss function: 0.9595894851138744\n",
      "Epoch: 305 Loss function: 0.9724195492364406\n",
      "Epoch: 306 Loss function: 0.9557943412779673\n",
      "Epoch: 307 Loss function: 0.9374409992049698\n",
      "Epoch: 308 Loss function: 0.9909310211564498\n",
      "Epoch: 309 Loss function: 0.9756256668912724\n",
      "Epoch: 310 Loss function: 0.9746484881547198\n",
      "Epoch: 311 Loss function: 0.9992952300013582\n",
      "Epoch: 312 Loss function: 0.9653186263468458\n",
      "Epoch: 313 Loss function: 0.9493595657380313\n",
      "Epoch: 314 Loss function: 1.0092752369035156\n",
      "Epoch: 315 Loss function: 0.9699986218291726\n",
      "Epoch: 316 Loss function: 0.9435706698731906\n",
      "Epoch: 317 Loss function: 0.982351319568014\n",
      "Epoch: 318 Loss function: 0.9841092257530332\n",
      "Epoch: 319 Loss function: 0.9705267225983861\n",
      "Epoch: 320 Loss function: 0.9807525985242606\n",
      "Epoch: 321 Loss function: 0.966592037924683\n",
      "Epoch: 322 Loss function: 0.9657582386871348\n",
      "Epoch: 323 Loss function: 0.985902152739885\n",
      "Epoch: 324 Loss function: 0.9825895142766367\n",
      "Epoch: 325 Loss function: 0.9821437325233545\n",
      "Epoch: 326 Loss function: 1.0042927475477341\n",
      "Epoch: 327 Loss function: 0.9494907193061711\n",
      "Epoch: 328 Loss function: 1.0051771763384343\n",
      "Epoch: 329 Loss function: 0.9861092331548638\n",
      "Epoch: 330 Loss function: 1.0273192073393869\n",
      "Epoch: 331 Loss function: 0.9632996354138601\n",
      "Epoch: 332 Loss function: 0.9690439078962728\n",
      "Epoch: 333 Loss function: 0.946123791136403\n",
      "Epoch: 334 Loss function: 0.949835347451936\n",
      "Epoch: 335 Loss function: 0.9747387028174029\n",
      "Epoch: 336 Loss function: 0.9856857210943483\n",
      "Epoch: 337 Loss function: 0.9936980020812269\n",
      "Epoch: 338 Loss function: 0.9818474372632445\n",
      "Epoch: 339 Loss function: 0.9702958512466806\n",
      "Epoch: 340 Loss function: 1.0231720800233284\n",
      "Epoch: 341 Loss function: 0.9790927910621356\n",
      "Epoch: 342 Loss function: 0.9771132797011367\n",
      "Epoch: 343 Loss function: 0.9492958582380299\n",
      "Epoch: 344 Loss function: 0.964386581261092\n",
      "Epoch: 345 Loss function: 0.9560440947527259\n",
      "Epoch: 346 Loss function: 0.9372802191520628\n",
      "Epoch: 347 Loss function: 0.9632312241349402\n",
      "Epoch: 348 Loss function: 0.953841914209655\n",
      "Epoch: 349 Loss function: 0.9747401038250324\n",
      "Epoch: 350 Loss function: 0.9699492633067015\n",
      "Epoch: 351 Loss function: 0.9925025962383069\n",
      "Epoch: 352 Loss function: 0.9723241105746395\n",
      "Epoch: 353 Loss function: 0.9887077465831724\n",
      "Epoch: 354 Loss function: 1.0101926903679537\n",
      "Epoch: 355 Loss function: 1.001400414846633\n",
      "Epoch: 356 Loss function: 0.9870910931745338\n",
      "Epoch: 357 Loss function: 0.9852812622884007\n",
      "Epoch: 358 Loss function: 0.9904121136526955\n",
      "Epoch: 359 Loss function: 0.9759760597066641\n",
      "Epoch: 360 Loss function: 0.9705916384727823\n",
      "Epoch: 361 Loss function: 0.9664046898600973\n",
      "Epoch: 362 Loss function: 0.9832168022303855\n",
      "Epoch: 363 Loss function: 0.9530397366050121\n",
      "Epoch: 364 Loss function: 0.9673794976523904\n",
      "Epoch: 365 Loss function: 0.9924491074665465\n",
      "Epoch: 366 Loss function: 0.9813773450120874\n",
      "Epoch: 367 Loss function: 0.9670413783031598\n",
      "Epoch: 368 Loss function: 0.9587313538089284\n",
      "Epoch: 369 Loss function: 0.9493165707295511\n"
     ]
    },
    {
     "name": "stdout",
     "output_type": "stream",
     "text": [
      "Epoch: 370 Loss function: 0.9640164178666241\n",
      "Epoch: 371 Loss function: 0.99231326328089\n",
      "Epoch: 372 Loss function: 0.9709444386973181\n",
      "Epoch: 373 Loss function: 0.9552905397725306\n",
      "Epoch: 374 Loss function: 0.9557484129966447\n",
      "Epoch: 375 Loss function: 0.9792999920164899\n",
      "Epoch: 376 Loss function: 0.9523908562771144\n",
      "Epoch: 377 Loss function: 0.9870069089424935\n",
      "Epoch: 378 Loss function: 0.9662511685690947\n",
      "Epoch: 379 Loss function: 1.0258705597969837\n",
      "Epoch: 380 Loss function: 1.0240717633329217\n",
      "Epoch: 381 Loss function: 0.9802678589895514\n",
      "Epoch: 382 Loss function: 0.9906694631213833\n",
      "Epoch: 383 Loss function: 1.0117474264173572\n",
      "Epoch: 384 Loss function: 0.9823872463361407\n",
      "Epoch: 385 Loss function: 0.9976763246626265\n",
      "Epoch: 386 Loss function: 0.9673481431553196\n",
      "Epoch: 387 Loss function: 0.9666973360074824\n",
      "Epoch: 388 Loss function: 0.9583797034938177\n",
      "Epoch: 389 Loss function: 0.9725390458538746\n",
      "Epoch: 390 Loss function: 0.9508464309505849\n",
      "Epoch: 391 Loss function: 0.9651449516407211\n",
      "Epoch: 392 Loss function: 0.9901178281931015\n",
      "Epoch: 393 Loss function: 0.960861684408886\n",
      "Epoch: 394 Loss function: 0.9999550152154608\n",
      "Epoch: 395 Loss function: 0.9948626633148677\n",
      "Epoch: 396 Loss function: 0.9770217777005017\n",
      "Epoch: 397 Loss function: 0.9829938784495642\n",
      "Epoch: 398 Loss function: 0.9564806036532005\n",
      "Epoch: 399 Loss function: 0.9790143933244129\n",
      "Epoch: 400 Loss function: 0.9746862101927155\n",
      "Epoch: 401 Loss function: 0.9850862361937205\n",
      "Epoch: 402 Loss function: 0.9913387800275665\n",
      "Epoch: 403 Loss function: 0.9598635013903395\n",
      "Epoch: 404 Loss function: 0.9462261083450968\n",
      "Epoch: 405 Loss function: 0.9889605131865551\n",
      "Epoch: 406 Loss function: 0.960238964225877\n",
      "Epoch: 407 Loss function: 0.9925806143067215\n",
      "Epoch: 408 Loss function: 1.0010353736317157\n",
      "Epoch: 409 Loss function: 0.9693778167807019\n",
      "Epoch: 410 Loss function: 0.9698926607998044\n",
      "Epoch: 411 Loss function: 0.9831403580944809\n",
      "Epoch: 412 Loss function: 1.0242260216045185\n",
      "Epoch: 413 Loss function: 0.9668136334271132\n",
      "Epoch: 414 Loss function: 0.9788317819356567\n",
      "Epoch: 415 Loss function: 1.0110260035216732\n",
      "Epoch: 416 Loss function: 1.0168780268022368\n",
      "Epoch: 417 Loss function: 0.9743043200898301\n",
      "Epoch: 418 Loss function: 0.9846255770631228\n",
      "Epoch: 419 Loss function: 0.9653204824851642\n",
      "Epoch: 420 Loss function: 0.9925401899005406\n",
      "Epoch: 421 Loss function: 1.0140315594848726\n",
      "Epoch: 422 Loss function: 0.9705562120056691\n",
      "Epoch: 423 Loss function: 0.949430067385166\n",
      "Epoch: 424 Loss function: 0.9795647410186248\n",
      "Epoch: 425 Loss function: 0.9842184716765933\n",
      "Epoch: 426 Loss function: 0.9632769502907359\n",
      "Epoch: 427 Loss function: 0.975922580492686\n",
      "Epoch: 428 Loss function: 0.9877663713896057\n",
      "Epoch: 429 Loss function: 0.9721743917075095\n",
      "Epoch: 430 Loss function: 0.9694283182080924\n",
      "Epoch: 431 Loss function: 0.9879139235301069\n",
      "Epoch: 432 Loss function: 0.9770391324719425\n",
      "Epoch: 433 Loss function: 0.9941317497120673\n",
      "Epoch: 434 Loss function: 0.9922090216918058\n",
      "Epoch: 435 Loss function: 1.0151718337284343\n",
      "Epoch: 436 Loss function: 1.0024392473358539\n",
      "Epoch: 437 Loss function: 0.9847381470976383\n",
      "Epoch: 438 Loss function: 1.0163390415097882\n",
      "Epoch: 439 Loss function: 1.0013322740544686\n",
      "Epoch: 440 Loss function: 0.969699936678362\n",
      "Epoch: 441 Loss function: 1.0164752814352187\n",
      "Epoch: 442 Loss function: 0.9880641119420007\n",
      "Epoch: 443 Loss function: 0.9932408411828092\n",
      "Epoch: 444 Loss function: 0.9865698139529969\n",
      "Epoch: 445 Loss function: 0.9777955311021879\n",
      "Epoch: 446 Loss function: 0.9809157648395519\n",
      "Epoch: 447 Loss function: 0.9664690697433481\n",
      "Epoch: 448 Loss function: 0.9967792421328778\n",
      "Epoch: 449 Loss function: 0.982711577935015\n",
      "Epoch: 450 Loss function: 0.9821076300532164\n",
      "Epoch: 451 Loss function: 0.999577432186796\n",
      "Epoch: 452 Loss function: 0.9954601788220339\n",
      "Epoch: 453 Loss function: 1.0097935164050906\n",
      "Epoch: 454 Loss function: 1.0001035546222254\n",
      "Epoch: 455 Loss function: 0.9962691088348159\n",
      "Epoch: 456 Loss function: 0.9953128693982385\n",
      "Epoch: 457 Loss function: 0.9974461656920113\n",
      "Epoch: 458 Loss function: 0.9745422917959\n",
      "Epoch: 459 Loss function: 0.990013976041617\n",
      "Epoch: 460 Loss function: 1.012476749192118\n",
      "Epoch: 461 Loss function: 1.0114268990037196\n",
      "Epoch: 462 Loss function: 0.982213707561605\n",
      "Epoch: 463 Loss function: 1.015425067295816\n",
      "Epoch: 464 Loss function: 1.004755932485912\n",
      "Epoch: 465 Loss function: 1.0086389127459747\n",
      "Epoch: 466 Loss function: 0.9687875780095702\n",
      "Epoch: 467 Loss function: 1.0091280231219908\n",
      "Epoch: 468 Loss function: 0.9975373178166483\n",
      "Epoch: 469 Loss function: 0.9779387301638944\n",
      "Epoch: 470 Loss function: 1.0131920349921126\n",
      "Epoch: 471 Loss function: 0.9671658515933116\n",
      "Epoch: 472 Loss function: 0.9774099985719857\n",
      "Epoch: 473 Loss function: 0.9799738104316223\n",
      "Epoch: 474 Loss function: 0.9736715997289934\n",
      "Epoch: 475 Loss function: 0.9864354341164879\n",
      "Epoch: 476 Loss function: 0.9922960038650074\n",
      "Epoch: 477 Loss function: 0.9472559367071535\n",
      "Epoch: 478 Loss function: 0.9858027250310075\n",
      "Epoch: 479 Loss function: 1.0081078828672942\n",
      "Epoch: 480 Loss function: 1.0089043295868878\n",
      "Epoch: 481 Loss function: 0.9922224094195036\n",
      "Epoch: 482 Loss function: 0.9607970655723059\n",
      "Epoch: 483 Loss function: 0.9888265660955774\n",
      "Epoch: 484 Loss function: 1.0011518002613071\n",
      "Epoch: 485 Loss function: 1.0046247136470055\n",
      "Epoch: 486 Loss function: 1.0159011332580008\n",
      "Epoch: 487 Loss function: 1.0065013820538171\n",
      "Epoch: 488 Loss function: 1.0078060975761993\n",
      "Epoch: 489 Loss function: 0.9792673129157621\n",
      "Epoch: 490 Loss function: 0.9629875996474894\n",
      "Epoch: 491 Loss function: 0.9904767439922031\n",
      "Epoch: 492 Loss function: 1.013445980387679\n",
      "Epoch: 493 Loss function: 1.021062471751876\n",
      "Epoch: 494 Loss function: 1.0231822923897216\n",
      "Epoch: 495 Loss function: 1.005810891435051\n",
      "Epoch: 496 Loss function: 0.9830299999090086\n",
      "Epoch: 497 Loss function: 0.9888327036927569\n",
      "Epoch: 498 Loss function: 0.9718681220402295\n",
      "Epoch: 499 Loss function: 1.005412964420237\n",
      "Epoch: 500 Loss function: 0.9829173951377422\n"
     ]
    }
   ],
   "source": [
    "# %%pixie_debugger\n",
    "example7_trial_solution.train(samples, 500)"
   ]
  },
  {
   "cell_type": "markdown",
   "metadata": {},
   "source": [
    "### Plotting the results \n",
    "\n",
    "The numerical solution (training set - red, valdiaiton set - green) along with the analytical solution (blue)."
   ]
  },
  {
   "cell_type": "code",
   "execution_count": 12,
   "metadata": {
    "scrolled": true
   },
   "outputs": [
    {
     "data": {
      "image/png": "[encoded data removed]",
      "text/plain": [
       "<matplotlib.figure.Figure at 0x7f7e551120b8>"
      ]
     },
     "metadata": {},
     "output_type": "display_data"
    }
   ],
   "source": [
    "fig = plt.figure()\n",
    "ax = fig.add_subplot(111, projection='3d')\n",
    "new_shape = int(np.sqrt(samples.shape[0]))\n",
    "Ze7sol = np.array([example7_trial_solution.predict(samples[i]) for i in range(samples.shape[0])]).reshape((samples.shape[0],))\n",
    "ax.plot_surface(X=samples[:,0].reshape((new_shape, new_shape)), Y=samples[:,1].reshape((new_shape, new_shape)), Z=Ze7sol.reshape((new_shape, new_shape)), label='Numerical - Training')\n",
    "# ax.scatter3D(xs=samples[:,0], ys=samples[:,1], zs=Ze7sol, label='Numerical - Training')\n",
    "# plt.legend()\n",
    "plt.show()"
   ]
  },
  {
   "cell_type": "code",
   "execution_count": 13,
   "metadata": {},
   "outputs": [
    {
     "data": {
      "image/png": "[encoded data removed]",
      "text/plain": [
       "<matplotlib.figure.Figure at 0x7f7e55104518>"
      ]
     },
     "metadata": {},
     "output_type": "display_data"
    }
   ],
   "source": [
    "fig = plt.figure()\n",
    "ax = fig.add_subplot(111, projection='3d')\n",
    "Ze7anal = samples[:,1]**2 * np.sin(np.pi*samples[:, 0])\n",
    "Ze7diff = Ze7sol - Ze7anal\n",
    "ax.plot_surface(X=samples[:,0].reshape((new_shape, new_shape)), Y=samples[:,1].reshape((new_shape, new_shape)), Z=Ze7anal.reshape((new_shape, new_shape)), label='Analytic')\n",
    "# plt.legend()\n",
    "plt.show()"
   ]
  },
  {
   "cell_type": "code",
   "execution_count": 14,
   "metadata": {},
   "outputs": [
    {
     "data": {
      "text/plain": [
       "1.1646393268223143836"
      ]
     },
     "execution_count": 14,
     "metadata": {},
     "output_type": "execute_result"
    }
   ],
   "source": [
    "np.abs(Ze7diff).max()"
   ]
  },
  {
   "cell_type": "code",
   "execution_count": 15,
   "metadata": {},
   "outputs": [
    {
     "data": {
      "text/plain": [
       "0.31668888055259101743"
      ]
     },
     "execution_count": 15,
     "metadata": {},
     "output_type": "execute_result"
    }
   ],
   "source": [
    "np.abs(Ze7diff).mean()"
   ]
  },
  {
   "cell_type": "code",
   "execution_count": 16,
   "metadata": {},
   "outputs": [
    {
     "data": {
      "image/png": "[encoded data removed]",
      "text/plain": [
       "<matplotlib.figure.Figure at 0x7f7e4d2ebb38>"
      ]
     },
     "metadata": {},
     "output_type": "display_data"
    }
   ],
   "source": [
    "fig = plt.figure()\n",
    "ax = fig.add_subplot(111, projection='3d')\n",
    "Ze7B = 2* samples[:,1] * np.sin(np.pi*samples[:, 0])\n",
    "Ze7diff = Ze7sol - Ze7anal\n",
    "ax.plot_surface(X=samples[:,0].reshape((new_shape, new_shape)), Y=samples[:,1].reshape((new_shape, new_shape)), Z=Ze7B.reshape((new_shape, new_shape)), label='Analytic')\n",
    "# plt.legend()\n",
    "plt.show()"
   ]
  },
  {
   "cell_type": "code",
   "execution_count": 17,
   "metadata": {},
   "outputs": [
    {
     "ename": "SyntaxError",
     "evalue": "invalid syntax (<ipython-input-17-b60723bd7d95>, line 5)",
     "output_type": "error",
     "traceback": [
      "\u001b[0;36m  File \u001b[0;32m\"<ipython-input-17-b60723bd7d95>\"\u001b[0;36m, line \u001b[0;32m5\u001b[0m\n\u001b[0;31m    example7_trial_solution.network.forward_pass(samples[i], )\u001b[0m\n\u001b[0m                          ^\u001b[0m\n\u001b[0;31mSyntaxError\u001b[0m\u001b[0;31m:\u001b[0m invalid syntax\n"
     ]
    }
   ],
   "source": [
    "fig = plt.figure()\n",
    "ax = fig.add_subplot(111, projection='3d')\n",
    "new_shape = int(np.sqrt(samples.shape[0]))\n",
    "Ze7n = np.array([(example7_trial_solution.network.forward_pass(samples[i], 0)\n",
    "                 example7_trial_solution.network.forward_pass(samples[i], )\n",
    "                 ) for i in range(samples.shape[0])]).reshape((samples.shape[0],))\n",
    "ax.plot_surface(X=samples[:,0].reshape((new_shape, new_shape)), Y=samples[:,1].reshape((new_shape, new_shape)), Z=Ze7n.reshape((new_shape, new_shape)), label='Numerical - Training')\n",
    "# ax.scatter3D(xs=samples[:,0], ys=samples[:,1], zs=Ze7sol, label='Numerical - Training')\n",
    "# plt.legend()\n",
    "plt.show()"
   ]
  },
  {
   "cell_type": "code",
   "execution_count": null,
   "metadata": {},
   "outputs": [],
   "source": [
    "fig = plt.figure()\n",
    "ax = fig.add_subplot(111, projection='3d')\n",
    "new_shape = int(np.sqrt(samples.shape[0]))\n",
    "Ze7n = np.array([example7_trial_solution.network.forward_pass(samples[i], 0) for i in range(samples.shape[0])]).reshape((samples.shape[0],))\n",
    "ax.plot_surface(X=samples[:,0].reshape((new_shape, new_shape)), Y=samples[:,1].reshape((new_shape, new_shape)), Z=Ze7n.reshape((new_shape, new_shape)), label='Numerical - Training')\n",
    "# ax.scatter3D(xs=samples[:,0], ys=samples[:,1], zs=Ze7sol, label='Numerical - Training')\n",
    "# plt.legend()\n",
    "plt.show()"
   ]
  },
  {
   "cell_type": "code",
   "execution_count": null,
   "metadata": {
    "collapsed": true
   },
   "outputs": [],
   "source": []
  },
  {
   "cell_type": "code",
   "execution_count": null,
   "metadata": {
    "collapsed": true
   },
   "outputs": [],
   "source": []
  }
 ],
 "metadata": {
  "kernelspec": {
   "display_name": "Python 3",
   "language": "python",
   "name": "python3"
  },
  "language_info": {
   "codemirror_mode": {
    "name": "ipython",
    "version": 3
   },
   "file_extension": ".py",
   "mimetype": "text/x-python",
   "name": "python",
   "nbconvert_exporter": "python",
   "pygments_lexer": "ipython3",
   "version": "3.6.2"
  }
 },
 "nbformat": 4,
 "nbformat_minor": 2
}
