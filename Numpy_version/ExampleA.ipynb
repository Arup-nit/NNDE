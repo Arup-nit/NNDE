{
 "cells": [
  {
   "cell_type": "code",
   "execution_count": 1,
   "metadata": {},
   "outputs": [
    {
     "name": "stdout",
     "output_type": "stream",
     "text": [
      "Pixiedust database opened successfully\n"
     ]
    },
    {
     "data": {
      "text/html": [
       "\n",
       "        <div style=\"margin:10px\">\n",
       "            <a href=\"https://github.com/ibm-watson-data-lab/pixiedust\" target=\"_new\">\n",
       "                <img src=\"https://github.com/ibm-watson-data-lab/pixiedust/raw/master/docs/_static/pd_icon32.png\" style=\"float:left;margin-right:10px\"/>\n",
       "            </a>\n",
       "            <span>Pixiedust version 1.1.15</span>\n",
       "        </div>\n",
       "        "
      ],
      "text/plain": [
       "<IPython.core.display.HTML object>"
      ]
     },
     "metadata": {},
     "output_type": "display_data"
    }
   ],
   "source": [
    "%load_ext autoreload\n",
    "%autoreload 2\n",
    "import numpy as np\n",
    "import matplotlib.pyplot as plt\n",
    "import nnde\n",
    "from mpl_toolkits.mplot3d import Axes3D\n",
    "np.seterr(all='raise')\n",
    "import pixiedust"
   ]
  },
  {
   "cell_type": "code",
   "execution_count": 2,
   "metadata": {
    "collapsed": true
   },
   "outputs": [],
   "source": [
    "n_samples = 25\n",
    "X_p = np.linspace(0, 1, n_samples)\n",
    "Y_p = np.linspace(0, 1, n_samples)\n",
    "X_p, Y_p = np.meshgrid(X_p, Y_p)\n",
    "X_p = X_p.flatten()\n",
    "Y_p = Y_p.flatten()\n",
    "samples = np.array([X_p, Y_p]).T"
   ]
  },
  {
   "cell_type": "markdown",
   "metadata": {},
   "source": [
    "## Example A: 1d string with fixed ends\n",
    "\n",
    "$$\\frac{\\partial^2 u}{\\partial t^2}=c^2\\frac{\\partial^2 u}{\\partial x^2}$$\n",
    "\n",
    "With boundary conditions $u(0,t)=0$, $u(1, t)=0$, $u(x, 0)=\\sin(\\pi x)$, and $\\frac{\\partial u}{\\partial t}(x, 0)=0$.\n",
    "\n",
    "The trial solution for this case is $u(x, y)=A(x, y) + B(x, y)(N(x, y)-N(x,0)-\\frac{\\partial N}{\\partial t}(x, 0))$ with $B(x)=x(1-x)t$ and $$A(x, y)=\\sin(\\pi x).$$"
   ]
  },
  {
   "cell_type": "code",
   "execution_count": 3,
   "metadata": {
    "collapsed": true
   },
   "outputs": [],
   "source": [
    "c = 1.0"
   ]
  },
  {
   "cell_type": "code",
   "execution_count": 4,
   "metadata": {
    "collapsed": true
   },
   "outputs": [],
   "source": [
    "def exampleA_boundary_value(point):\n",
    "  return np.sin(np.pi * point[0])"
   ]
  },
  {
   "cell_type": "code",
   "execution_count": 5,
   "metadata": {
    "collapsed": true
   },
   "outputs": [],
   "source": [
    "def exampleA_boundary_vanishing(point):\n",
    "  x = point[0]\n",
    "  t = point[1]\n",
    "  return x * (1 - x) * t"
   ]
  },
  {
   "cell_type": "markdown",
   "metadata": {},
   "source": [
    "### Defining the loss function for a single point and a whole set\n",
    "\n",
    "The loss function is based on the formula:\n",
    "$$Loss(N)=\\sum_i \\left(\\frac{\\partial^2 u}{\\partial t^2}-c^2\\frac{\\partial^2 u}{\\partial x^2}\\right)^2$$\n",
    "And the Laplace operator term acting on the trial solution becomes:\n",
    "$$\\frac{\\partial^2 u}{\\partial t^2}-c^2\\frac{\\partial^2 u}{\\partial x^2}=\\frac{\\partial^2 A(x,y)}{\\partial t^2} -c^2 \\frac{\\partial^2 A(x,y)}{\\partial x^2}  + \\left(\\frac{\\partial^2}{\\partial t^2}-c^2 \\frac{\\partial^2}{\\partial x^2}\\right)(x(1-x)t\\left[N(x,t)-N(x,1)-\\dot{N}(x,1)\\right])$$\n",
    "$$=c^2\\pi^2\\sin(\\pi x) + 2x(1-x)\\dot{N}(x,t) + x(1-x)t\\ddot{N}(x,t) +2c^2t\\left[N(x,t)-N(x,1)-\\dot{N}(x,1)\\right]$$\n",
    "$$-2c^2(1-2x)t\\left[N'(x,t)-N'(x,1)-\\dot{N}'(x,1)\\right]  -c^2x(1-x)t\\left[N''(x,t)-N''(x,1)-\\dot{N}''(x,1)\\right]$$"
   ]
  },
  {
   "cell_type": "code",
   "execution_count": 6,
   "metadata": {
    "collapsed": true
   },
   "outputs": [],
   "source": [
    "def exampleA_loss_function_single_point(self, point, non_squared=False, *kwargs):\n",
    "  x = point[0][0] if isinstance(point[0], np.ndarray) else point[0]\n",
    "  t = point[1][0] if isinstance(point[1], np.ndarray) else point[0]\n",
    "  \n",
    "  N = self.forward_pass(point, 0)\n",
    "  dN = self.forward_pass(point, 1)\n",
    "  d2N = self.forward_pass(point, 2)\n",
    "  \n",
    "  N1 = self.forward_pass(np.array([x, 1]), 0)\n",
    "  dN1 = self.forward_pass(np.array([x, 1]), 1)\n",
    "  d2N1 = self.forward_pass(np.array([x, 1]), 2)\n",
    "  \n",
    "  dxdtN1 = self.forward_pass_arbitrary_derivative(np.array([x, 1]), np.array([1, 1]))\n",
    "  dx2dtN1 = self.forward_pass_arbitrary_derivative(np.array([x, 1]), np.array([2, 1]))\n",
    "  \n",
    "  loss = ( c**2*np.pi**2 *np.sin(np.pi * x) +2*x*(1-x)*dN[0, 1] + x*(1-x)*t*d2N[0, 1] +2*c**2*t*(N[0]-N1[0]-dN1[0, 1])\n",
    "          -2*c**2*t*(1-2*x)*(dN[0, 0] - dN1[0, 0] - dxdtN1[0]) -c**2*x*(1-x)*t*(d2N[0, 0] - d2N1[0, 0] - dx2dtN1[0])\n",
    "    )\n",
    "  if not non_squared:\n",
    "    loss = loss ** 2\n",
    "  return loss[0]"
   ]
  },
  {
   "cell_type": "code",
   "execution_count": 7,
   "metadata": {
    "collapsed": true
   },
   "outputs": [],
   "source": [
    "def exampleA_loss_function(self, samples, *kwargs):\n",
    "  loss = 0\n",
    "  for i in range(samples.shape[0]):\n",
    "    loss += self.loss_function_single_point(self, samples[i])\n",
    "  return loss/samples.shape[0]"
   ]
  },
  {
   "cell_type": "markdown",
   "metadata": {},
   "source": [
    "### Defining the update rules\n",
    "\n",
    "The following functions represent $\\frac{\\partial Loss}{\\partial \\vec{b}}$, $\\frac{\\partial Loss}{\\partial H}$, and $\\frac{\\partial Loss}{\\partial V}$"
   ]
  },
  {
   "cell_type": "code",
   "execution_count": 8,
   "metadata": {
    "collapsed": true
   },
   "outputs": [],
   "source": [
    "def exampleA_bias_change(self, point, label, *kwargs):\n",
    "  x = point[0][0] if isinstance(point[0], np.ndarray) else point[0]\n",
    "  t = point[1][0] if isinstance(point[1], np.ndarray) else point[0]\n",
    "  \n",
    "  db_N = self.network_derivative_bias(point, 0)\n",
    "  db_DN = self.network_derivative_bias(point, 1)\n",
    "  db_D2N = self.network_derivative_bias(point, 2)\n",
    "  \n",
    "  db_N1 = self.network_derivative_bias(np.array([x, 1]), 0)\n",
    "  db_DN1 = self.network_derivative_bias(np.array([x, 1]), 1)\n",
    "  db_D2N1 = self.network_derivative_bias(np.array([x, 1]), 2)\n",
    "  \n",
    "  db_dxdtN1 = self.arbitrary_network_derivative_bias(np.array([x, 1]), np.array([1, 1]))\n",
    "  db_dx2dtN1 = self.arbitrary_network_derivative_bias(np.array([x, 1]), np.array([2, 1]))\n",
    "\n",
    "  db = np.zeros((self.hidden_dim, 1)).astype(dtype=\"float64\")\n",
    "  loss_sqrt = self.loss_function_single_point(self, point, non_squared=True)\n",
    "  \n",
    "  for m in range(self.hidden_dim):\n",
    "    db[m] += 2 * loss_sqrt * ( \n",
    "      2*x*(1-x)*db_DN[0, 1, m] + x*(1-x)*t*db_D2N[0, 1, m] +2*c**2*t*(db_N[0, 0, m]-db_N1[0, 0, m]-db_DN1[0, 1, m])\n",
    "          -2*c**2*t*(1-2*x)*(db_DN[0, 0, m] - db_DN1[0, 0, m] - db_dxdtN1[0, m]) -c**2*x*(1-x)*t*(db_D2N[0, 0, m]\n",
    "          - db_D2N1[0, 0, m] - db_dx2dtN1[0, m])\n",
    "      )\n",
    "  return db"
   ]
  },
  {
   "cell_type": "code",
   "execution_count": 9,
   "metadata": {
    "collapsed": true
   },
   "outputs": [],
   "source": [
    "def exampleA_hidden_weights_change(self, point, *kwargs):\n",
    "  x = point[0][0] if isinstance(point[0], np.ndarray) else point[0]\n",
    "  t = point[1][0] if isinstance(point[1], np.ndarray) else point[0]\n",
    "  \n",
    "  dH_N = self.network_derivative_hidden_weights(point, 0)\n",
    "  dH_DN = self.network_derivative_hidden_weights(point, 1)\n",
    "  dH_D2N = self.network_derivative_hidden_weights(point, 2)\n",
    "  \n",
    "  dH_N1 = self.network_derivative_hidden_weights(np.array([x, 1]), 0)\n",
    "  dH_DN1 = self.network_derivative_hidden_weights(np.array([x, 1]), 1)\n",
    "  dH_D2N1 = self.network_derivative_hidden_weights(np.array([x, 1]), 2)\n",
    "  \n",
    "  dH_dxdtN1 = self.arbitrary_network_derivative_hidden_weights(np.array([x, 1]), np.array([1, 1]))\n",
    "  dH_dx2dtN1 = self.arbitrary_network_derivative_hidden_weights(np.array([x, 1]), np.array([2, 1]))\n",
    "\n",
    "  dH = np.zeros((self.hidden_dim, self.input_dim)).astype(dtype=\"float64\")\n",
    "  loss_sqrt = self.loss_function_single_point(self, point, non_squared=True)\n",
    "  for m in range(self.hidden_dim):\n",
    "    for p in range(self.input_dim):\n",
    "      dH[m, p] += 2 * loss_sqrt * ( \n",
    "      2*x*(1-x)*dH_DN[0, 1, m, p] + x*(1-x)*t*dH_D2N[0, 1, m, p] +2*c**2*t*(dH_N[0, 0, m, p]-dH_N1[0, 0, m, p]-dH_DN1[0, 1, m, p])\n",
    "          -2*c**2*t*(1-2*x)*(dH_DN[0, 0, m, p] - dH_DN1[0, 0, m, p] - dH_dxdtN1[0, m, p]) -c**2*x*(1-x)*t*(dH_D2N[0, 0, m, p]\n",
    "          - dH_D2N1[0, 0, m, p] - dH_dx2dtN1[0, m, p])\n",
    "      )\n",
    "  return dH"
   ]
  },
  {
   "cell_type": "code",
   "execution_count": 10,
   "metadata": {
    "collapsed": true
   },
   "outputs": [],
   "source": [
    "def exampleA_visible_weights_change(self, point, *kwargs):\n",
    "  x = point[0][0] if isinstance(point[0], np.ndarray) else point[0]\n",
    "  t = point[1][0] if isinstance(point[1], np.ndarray) else point[0]\n",
    "  \n",
    "  dV_N = self.network_derivative_visible_weights(point, 0)\n",
    "  dV_DN = self.network_derivative_visible_weights(point, 1)\n",
    "  dV_D2N = self.network_derivative_visible_weights(point, 2)\n",
    "  \n",
    "  dV_N1 = self.network_derivative_visible_weights(np.array([x, 1]), 0)\n",
    "  dV_DN1 = self.network_derivative_visible_weights(np.array([x, 1]), 1)\n",
    "  dV_D2N1 = self.network_derivative_visible_weights(np.array([x, 1]), 2)\n",
    "  \n",
    "  dV_dxdtN1 = self.arbitrary_network_derivative_visible_weights(np.array([x, 1]), np.array([1, 1]))\n",
    "  dV_dx2dtN1 = self.arbitrary_network_derivative_visible_weights(np.array([x, 1]), np.array([2, 1]))\n",
    "\n",
    "  dV = np.zeros((self.visible_dim, self.hidden_dim)).astype(dtype=\"float64\")\n",
    "  loss_sqrt = self.loss_function_single_point(self, point, non_squared=True)\n",
    "  for m in range(self.visible_dim):\n",
    "    for p in range(self.hidden_dim):\n",
    "      dV[m, p] += 2 * loss_sqrt * ( \n",
    "      2*x*(1-x)*dV_DN[0, 1, m, p] + x*(1-x)*t*dV_D2N[0, 1, m, p] +2*c**2*t*(dV_N[0, 0, m, p]-dV_N1[0, 0, m, p]-dV_DN1[0, 1, m, p])\n",
    "          -2*c**2*t*(1-2*x)*(dV_DN[0, 0, m, p] - dV_DN1[0, 0, m, p] - dV_dxdtN1[0, m, p]) -c**2*x*(1-x)*t*(dV_D2N[0, 0, m, p]\n",
    "          - dV_D2N1[0, 0, m, p] - dV_dx2dtN1[0, m, p])\n",
    "      )\n",
    "  return dV"
   ]
  },
  {
   "cell_type": "markdown",
   "metadata": {},
   "source": [
    "### Defining the trial solution with an apropiate network"
   ]
  },
  {
   "cell_type": "code",
   "execution_count": 11,
   "metadata": {
    "collapsed": true
   },
   "outputs": [],
   "source": [
    "exampleA_trial_solution = nnde.TrialSolution(loss_function=exampleA_loss_function,\n",
    "                                        loss_function_single_point=exampleA_loss_function_single_point,\n",
    "                                        bias_change=exampleA_bias_change,\n",
    "                                        hidden_weights_change=exampleA_hidden_weights_change,\n",
    "                                        visible_weights_change=exampleA_visible_weights_change,\n",
    "                                        boundary_condition_value_function=exampleA_boundary_value,\n",
    "                                        boundary_vanishing_function=exampleA_boundary_vanishing,\n",
    "                                        input_dim=2, hidden_dim=10, output_dim=1, learning_rate=0.01, momentum=0)"
   ]
  },
  {
   "cell_type": "markdown",
   "metadata": {},
   "source": [
    "### Training for 5000 epochs"
   ]
  },
  {
   "cell_type": "code",
   "execution_count": 12,
   "metadata": {
    "scrolled": false
   },
   "outputs": [
    {
     "name": "stdout",
     "output_type": "stream",
     "text": [
      "Epoch: 1 Loss function: 8.185180376846688\n",
      "Epoch: 2 Loss function: 9.159340766541508\n",
      "Epoch: 3 Loss function: 9.22511561397247\n",
      "Epoch: 4 Loss function: 9.971721322642532\n",
      "Epoch: 5 Loss function: 8.248130257759447\n",
      "Epoch: 6 Loss function: 8.418490834017518\n",
      "Epoch: 7 Loss function: 8.879768045408587\n",
      "Epoch: 8 Loss function: 8.246351636664972\n",
      "Epoch: 9 Loss function: 7.645381401093584\n",
      "Epoch: 10 Loss function: 7.164368514585753\n",
      "Epoch: 11 Loss function: 7.041808946995444\n",
      "Epoch: 12 Loss function: 6.945885992269815\n",
      "Epoch: 13 Loss function: 6.956653175402468\n",
      "Epoch: 14 Loss function: 6.917157192756431\n",
      "Epoch: 15 Loss function: 6.8465476931624965\n",
      "Epoch: 16 Loss function: 6.634998003673597\n",
      "Epoch: 17 Loss function: 6.656008128401045\n",
      "Epoch: 18 Loss function: 6.682401095175422\n",
      "Epoch: 19 Loss function: 6.616389890627443\n",
      "Epoch: 20 Loss function: 7.736085524265662\n",
      "Epoch: 21 Loss function: 6.719889810699502\n",
      "Epoch: 22 Loss function: 7.546663905252585\n",
      "Epoch: 23 Loss function: 10.478387211943277\n",
      "Epoch: 24 Loss function: 8.231448242066312\n",
      "Epoch: 25 Loss function: 9.508564105034322\n",
      "Epoch: 26 Loss function: 8.990478078447303\n",
      "Epoch: 27 Loss function: 7.991604609711642\n",
      "Epoch: 28 Loss function: 7.737356023147683\n",
      "Epoch: 29 Loss function: 7.6988524249175265\n",
      "Epoch: 30 Loss function: 7.703235002228407\n",
      "Epoch: 31 Loss function: 7.279615209946469\n",
      "Epoch: 32 Loss function: 7.131722468778554\n",
      "Epoch: 33 Loss function: 6.897840162680524\n",
      "Epoch: 34 Loss function: 6.879675300779951\n",
      "Epoch: 35 Loss function: 6.672394918119884\n",
      "Epoch: 36 Loss function: 6.56396672464524\n",
      "Epoch: 37 Loss function: 6.596321404026323\n",
      "Epoch: 38 Loss function: 6.296801654070272\n",
      "Epoch: 39 Loss function: 6.397057439622737\n",
      "Epoch: 40 Loss function: 6.372232154807561\n",
      "Epoch: 41 Loss function: 6.390573404933612\n",
      "Epoch: 42 Loss function: 6.527340102955799\n",
      "Epoch: 43 Loss function: 6.411390532995975\n",
      "Epoch: 44 Loss function: 6.407484884489371\n",
      "Epoch: 45 Loss function: 6.585519987895559\n",
      "Epoch: 46 Loss function: 6.5391140595442705\n",
      "Epoch: 47 Loss function: 6.567782541055117\n",
      "Epoch: 48 Loss function: 6.612250417874123\n",
      "Epoch: 49 Loss function: 6.626424115456187\n",
      "Epoch: 50 Loss function: 6.624726781337988\n",
      "Epoch: 51 Loss function: 6.664686628688251\n",
      "Epoch: 52 Loss function: 6.5794595554465145\n",
      "Epoch: 53 Loss function: 6.639094725059437\n",
      "Epoch: 54 Loss function: 6.598803762839915\n",
      "Epoch: 55 Loss function: 6.587535183897379\n",
      "Epoch: 56 Loss function: 6.616156061982451\n",
      "Epoch: 57 Loss function: 6.506518899959647\n",
      "Epoch: 58 Loss function: 6.509147205619063\n",
      "Epoch: 59 Loss function: 6.513242703592012\n",
      "Epoch: 60 Loss function: 6.538942927210752\n",
      "Epoch: 61 Loss function: 6.552642882038559\n",
      "Epoch: 62 Loss function: 6.479237355796994\n",
      "Epoch: 63 Loss function: 6.492572085026907\n",
      "Epoch: 64 Loss function: 6.52739348853507\n",
      "Epoch: 65 Loss function: 6.516174071689856\n",
      "Epoch: 66 Loss function: 6.523582107182143\n",
      "Epoch: 67 Loss function: 6.4941552414085875\n",
      "Epoch: 68 Loss function: 6.435113147670208\n",
      "Epoch: 69 Loss function: 6.480156363389665\n",
      "Epoch: 70 Loss function: 6.493566623898686\n",
      "Epoch: 71 Loss function: 6.484691366942616\n",
      "Epoch: 72 Loss function: 6.548081062759962\n",
      "Epoch: 73 Loss function: 6.506225315608079\n",
      "Epoch: 74 Loss function: 6.4840011180574155\n",
      "Epoch: 75 Loss function: 6.492427308532265\n",
      "Epoch: 76 Loss function: 6.492769142983156\n",
      "Epoch: 77 Loss function: 6.499113930514968\n",
      "Epoch: 78 Loss function: 6.544869080161954\n",
      "Epoch: 79 Loss function: 6.505797252261705\n",
      "Epoch: 80 Loss function: 6.473287743545571\n",
      "Epoch: 81 Loss function: 6.42885556590117\n",
      "Epoch: 82 Loss function: 6.482293937259542\n",
      "Epoch: 83 Loss function: 6.502997798995201\n",
      "Epoch: 84 Loss function: 6.54439477024969\n",
      "Epoch: 85 Loss function: 6.4871354513208646\n",
      "Epoch: 86 Loss function: 6.457509709662184\n",
      "Epoch: 87 Loss function: 6.483367401030293\n",
      "Epoch: 88 Loss function: 6.501999885432525\n",
      "Epoch: 89 Loss function: 6.476951774671509\n",
      "Epoch: 90 Loss function: 6.46762958988961\n",
      "Epoch: 91 Loss function: 6.511252424746519\n",
      "Epoch: 92 Loss function: 6.535080500165897\n",
      "Epoch: 93 Loss function: 6.4809107721343455\n",
      "Epoch: 94 Loss function: 6.507609763837521\n",
      "Epoch: 95 Loss function: 6.532228513726824\n",
      "Epoch: 96 Loss function: 6.488128373017737\n",
      "Epoch: 97 Loss function: 6.48572253396885\n",
      "Epoch: 98 Loss function: 6.510241769871349\n",
      "Epoch: 99 Loss function: 6.501696781747258\n",
      "Epoch: 100 Loss function: 6.479108736430661\n"
     ]
    }
   ],
   "source": [
    "exampleA_trial_solution.train(samples, int(100))"
   ]
  },
  {
   "cell_type": "markdown",
   "metadata": {},
   "source": [
    "### Plotting the results \n",
    "\n",
    "The numerical solution (training set - red, valdiaiton set - green) along with the analytical solution (blue)."
   ]
  },
  {
   "cell_type": "code",
   "execution_count": 13,
   "metadata": {
    "scrolled": true
   },
   "outputs": [
    {
     "data": {
      "image/png": "[encoded data removed]",
      "text/plain": [
       "<matplotlib.figure.Figure at 0x7f5ffdf8d0f0>"
      ]
     },
     "metadata": {},
     "output_type": "display_data"
    }
   ],
   "source": [
    "fig = plt.figure()\n",
    "ax = fig.add_subplot(111, projection='3d')\n",
    "new_shape = int(np.sqrt(samples.shape[0]))\n",
    "ZeAsol = np.array([exampleA_trial_solution.predict(samples[i]) for i in range(samples.shape[0])]).reshape((samples.shape[0],))\n",
    "ax.plot_surface(X=samples[:,0].reshape((new_shape, new_shape)), Y=samples[:,1].reshape((new_shape, new_shape)), Z=ZeAsol.reshape((new_shape, new_shape)), label='Numerical - Training')\n",
    "# ax.scatter3D(xs=samples[:,0], ys=samples[:,1], zs=ZeAsol, label='Numerical - Training')\n",
    "# plt.legend()\n",
    "plt.show()"
   ]
  },
  {
   "cell_type": "code",
   "execution_count": 18,
   "metadata": {
    "collapsed": true
   },
   "outputs": [],
   "source": [
    "ZeAdiff = ZeAsol.reshape((new_shape, new_shape))"
   ]
  },
  {
   "cell_type": "code",
   "execution_count": 15,
   "metadata": {},
   "outputs": [
    {
     "data": {
      "text/plain": [
       "array([ 0.0,  0.5576153,  1.0843915,  1.5771681,  2.0329161,  2.4487526,\n",
       "        2.8219406,  3.1499045,  3.4302116,  3.6605892,  3.8389032,\n",
       "        3.9631659,  4.031521,  4.0422606,  3.9937901,  3.884662,\n",
       "        3.7135422,  3.4792493,  3.1807186,  2.8170399,  2.3874416,\n",
       "        1.8913076,  1.3281822,  0.69778071,  0.0], dtype=float128)"
      ]
     },
     "execution_count": 15,
     "metadata": {},
     "output_type": "execute_result"
    }
   ],
   "source": [
    "ZeAdiff[0, :] - ZeAdiff[-1, :]"
   ]
  },
  {
   "cell_type": "code",
   "execution_count": 17,
   "metadata": {},
   "outputs": [
    {
     "data": {
      "text/plain": [
       "(625,)"
      ]
     },
     "execution_count": 17,
     "metadata": {},
     "output_type": "execute_result"
    }
   ],
   "source": [
    "ZeAdiff.shape"
   ]
  },
  {
   "cell_type": "code",
   "execution_count": null,
   "metadata": {
    "collapsed": true
   },
   "outputs": [],
   "source": []
  }
 ],
 "metadata": {
  "kernelspec": {
   "display_name": "Python 3",
   "language": "python",
   "name": "python3"
  },
  "language_info": {
   "codemirror_mode": {
    "name": "ipython",
    "version": 3
   },
   "file_extension": ".py",
   "mimetype": "text/x-python",
   "name": "python",
   "nbconvert_exporter": "python",
   "pygments_lexer": "ipython3",
   "version": "3.6.2"
  }
 },
 "nbformat": 4,
 "nbformat_minor": 2
}
