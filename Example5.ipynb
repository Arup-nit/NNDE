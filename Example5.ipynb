{
 "cells": [
  {
   "cell_type": "code",
   "execution_count": 1,
   "metadata": {},
   "outputs": [
    {
     "data": {
      "text/plain": [
       "{'divide': 'warn', 'invalid': 'warn', 'over': 'warn', 'under': 'ignore'}"
      ]
     },
     "execution_count": 1,
     "metadata": {},
     "output_type": "execute_result"
    }
   ],
   "source": [
    "%load_ext autoreload\n",
    "%autoreload 2\n",
    "import numpy as np\n",
    "import matplotlib.pyplot as plt\n",
    "import nnde\n",
    "from mpl_toolkits.mplot3d import Axes3D\n",
    "np.seterr(all='raise')"
   ]
  },
  {
   "cell_type": "markdown",
   "metadata": {},
   "source": [
    "# Solving PDEs\n",
    "\n",
    "All the PDEs will be considered on the domain $(x,y)\\in[0,1]^2$"
   ]
  },
  {
   "cell_type": "code",
   "execution_count": 2,
   "metadata": {
    "collapsed": true
   },
   "outputs": [],
   "source": [
    "n_samples = 10\n",
    "X_p = np.linspace(0, 1, n_samples)\n",
    "Y_p = np.linspace(0, 1, n_samples)\n",
    "X_p, Y_p = np.meshgrid(X_p, Y_p)\n",
    "X_p = X_p.flatten()\n",
    "Y_p = Y_p.flatten()\n",
    "samples = np.array([X_p, Y_p]).T"
   ]
  },
  {
   "cell_type": "markdown",
   "metadata": {},
   "source": [
    "## Example 5\n",
    "\n",
    "$\\Delta\\Psi(x, y)=\\exp(-x)\\left(x-2+y^3+6y\\right)$\n",
    "\n",
    "With boundary conditions $\\Psi(0,y)=y^3$, $\\Psi(1, y)=(1+y^3)e^{-1}$, $\\Psi(x, 0)=xe^{-x}$, and $\\Psi(x, 1)=(1+x)e^{-x}$.\n",
    "\n",
    "The trial solution for this case is $\\Psi(x, y)=A(x, y) + B(x, y)N(x, y)$ with $B(x)=x(1-x)y(1-y)$ and $$A(x, y)= (1-x)y^3+x(1+y^3)e^{-1}+(1-y)x(e^{-x}-e^{-1})+y[(1+x)e^{-x} - (1-x+2xe^{-1})].$$"
   ]
  },
  {
   "cell_type": "code",
   "execution_count": 3,
   "metadata": {
    "collapsed": true
   },
   "outputs": [],
   "source": [
    "def example5_boundary_value(point):\n",
    "  x = point[0]\n",
    "  y = point[1]\n",
    "  expmx = np.exp(-x)\n",
    "  y3 = y ** 3\n",
    "  return ((1-x) * y3 + x * (1 + y3) * np.exp(-1)\n",
    "          + (1-y) * x * (expmx - np.exp(-1))\n",
    "          + y * ((1 + x) * expmx - (1 - x + 2 * x * np.exp(-1)))\n",
    "         )"
   ]
  },
  {
   "cell_type": "code",
   "execution_count": 4,
   "metadata": {
    "collapsed": true
   },
   "outputs": [],
   "source": [
    "def example5_boundary_vanishing(point):\n",
    "  x = point[0]\n",
    "  y = point[1]\n",
    "  return x * (1 - x) * y * (1 - y)"
   ]
  },
  {
   "cell_type": "markdown",
   "metadata": {},
   "source": [
    "### Defining the loss function for a single point and a whole set\n",
    "\n",
    "The loss function is based on the formula:\n",
    "$$Loss(N)=\\sum_i \\left(\\Delta\\Psi(x_i, N(x_i))-\\exp(-x)\\left(x-2+y^3+6y\\right) \\right)^2$$\n",
    "And the Laplace operator term acting on the trial solution becomes:\n",
    "$$\\Delta\\Psi(x_i, N(x_i))=\\Delta A(x,y) + \\Delta (x(1-x)y(1-y)N(x,y))$$\n",
    "$$=e^{-x}(x+y-2)+6y(1-x+xe^{-1}) - 2N(x,y)(y(1-y)+x(1-x))+2\\frac{\\partial N}{\\partial x}(x,y)(1-2x)y(1-y)+2\\frac{\\partial N}{\\partial y}(x,y)(1-2y)x(1-x)+x(1-x)y(1-y)(\\frac{\\partial^2 N}{\\partial x^2}(x,y)+\\frac{\\partial^2 N}{\\partial y^2}(x,y))$$"
   ]
  },
  {
   "cell_type": "code",
   "execution_count": 5,
   "metadata": {
    "collapsed": true
   },
   "outputs": [],
   "source": [
    "def example5_loss_function_single_point(self, point, non_squared=False, *kwargs):\n",
    "  x = point[0]\n",
    "  y = point[1]\n",
    "  N = self.forward_pass(point, 0)\n",
    "  dN = self.forward_pass(point, 1)\n",
    "  d2N = self.forward_pass(point, 2)\n",
    "  loss = ( np.exp(-x) * (x+y-2)+6*y*(1-x+x*np.exp(-1)) - 2 * N * (y*(1-y)+x*(1-x)) + 2 * dN[0, 0] * (1-2*x)*y*(1-y)\n",
    "          + 2 * dN[0, 1] * (1-2*y)*x*(1-x) + x*(1-x)*y*(1-y)*(d2N[0, 0]+d2N[0, 1]) - np.exp(-x) * (x - 2 + y ** 3 + 6 *y)\n",
    "    )\n",
    "  if not non_squared:\n",
    "    loss = loss ** 2\n",
    "  return loss[0,0]"
   ]
  },
  {
   "cell_type": "code",
   "execution_count": 6,
   "metadata": {
    "collapsed": true
   },
   "outputs": [],
   "source": [
    "def example5_loss_function(self, samples, *kwargs):\n",
    "  loss = 0\n",
    "  for i in range(samples.shape[0]):\n",
    "    loss += self.loss_function_single_point(self, samples[i])\n",
    "  return loss/samples.shape[0]"
   ]
  },
  {
   "cell_type": "markdown",
   "metadata": {},
   "source": [
    "### Defining the update rules\n",
    "\n",
    "The following functions represent $\\frac{\\partial Loss}{\\partial \\vec{b}}$, $\\frac{\\partial Loss}{\\partial H}$, and $\\frac{\\partial Loss}{\\partial V}$"
   ]
  },
  {
   "cell_type": "code",
   "execution_count": 7,
   "metadata": {
    "collapsed": true
   },
   "outputs": [],
   "source": [
    "def example5_bias_change(self, point, label, *kwargs):\n",
    "  x = point[0]\n",
    "  y = point[1]\n",
    "  db = np.zeros((self.hidden_dim, 1)).astype(dtype=\"float64\")\n",
    "  loss_sqrt = self.loss_function_single_point(self, point, non_squared=True)\n",
    "  db_N = self.network_derivative_bias(point, 0)\n",
    "  db_DN = self.network_derivative_bias(point, 1)\n",
    "  db_D2N = self.network_derivative_bias(point, 2)\n",
    "  for m in range(self.hidden_dim):\n",
    "    db[m] += 2 * loss_sqrt * ( - 2 * db_N[0, 0, m] * (y*(1-y)+x*(1-x)) + 2 * db_DN[0, 0, m] * (1-2*x)*y*(1-y)\n",
    "          + 2 * db_DN[0, 1, m] * (1-2*y)*x*(1-x) + x*(1-x)*y*(1-y)*(db_D2N[0, 0, m]+db_D2N[0, 1, m])\n",
    "      )\n",
    "  return db"
   ]
  },
  {
   "cell_type": "code",
   "execution_count": 8,
   "metadata": {
    "collapsed": true
   },
   "outputs": [],
   "source": [
    "def example5_hidden_weights_change(self, point, *kwargs):\n",
    "  x = point[0]\n",
    "  y = point[1]\n",
    "  dH = np.zeros((self.hidden_dim, self.input_dim)).astype(dtype=\"float64\")\n",
    "  loss_sqrt = self.loss_function_single_point(self, point, non_squared=True)\n",
    "  dH_N = self.network_derivative_hidden_weights(point, 0)\n",
    "  dH_DN = self.network_derivative_hidden_weights(point, 1)\n",
    "  dH_D2N = self.network_derivative_hidden_weights(point, 2)\n",
    "  for m in range(self.hidden_dim):\n",
    "    for p in range(self.input_dim):\n",
    "      dH[m, p] += 2 * loss_sqrt * (- 2 * dH_N[0, 0, m, p] * (y*(1-y)+x*(1-x)) + 2 * dH_DN[0, 0, m, p] * (1-2*x)*y*(1-y)\n",
    "          + 2 * dH_DN[0, 1, m, p] * (1-2*y)*x*(1-x) + x*(1-x)*y*(1-y)*(dH_D2N[0, 0, m, p]+dH_D2N[0, 1, m, p])\n",
    "      )\n",
    "  return dH"
   ]
  },
  {
   "cell_type": "code",
   "execution_count": 9,
   "metadata": {
    "collapsed": true
   },
   "outputs": [],
   "source": [
    "def example5_visible_weights_change(self, point, *kwargs):\n",
    "  x = point[0]\n",
    "  y = point[1]\n",
    "  dV = np.zeros((self.visible_dim, self.hidden_dim)).astype(dtype=\"float64\")\n",
    "  loss_sqrt = self.loss_function_single_point(self, point, non_squared=True)\n",
    "  dV_N = self.network_derivative_visible_weights(point, 0)\n",
    "  dV_DN = self.network_derivative_visible_weights(point, 1)\n",
    "  dV_D2N = self.network_derivative_visible_weights(point, 2)\n",
    "  for m in range(self.visible_dim):\n",
    "    for p in range(self.hidden_dim):\n",
    "      dV[m, p] += 2 * loss_sqrt * (- 2 * dV_N[0, 0, m, p] * (y*(1-y)+x*(1-x)) + 2 * dV_DN[0, 0, m, p] * (1-2*x)*y*(1-y)\n",
    "          + 2 * dV_DN[0, 1, m, p] * (1-2*y)*x*(1-x) + x*(1-x)*y*(1-y)*(dV_D2N[0, 0, m, p]+dV_D2N[0, 1, m, p])   \n",
    "      )\n",
    "  return dV"
   ]
  },
  {
   "cell_type": "markdown",
   "metadata": {},
   "source": [
    "### Defining the trial solution with an apropiate network"
   ]
  },
  {
   "cell_type": "code",
   "execution_count": 10,
   "metadata": {
    "collapsed": true
   },
   "outputs": [],
   "source": [
    "example5_trial_solution = nnde.TrialSolution(loss_function=example5_loss_function,\n",
    "                                        loss_function_single_point=example5_loss_function_single_point,\n",
    "                                        bias_change=example5_bias_change,\n",
    "                                        hidden_weights_change=example5_hidden_weights_change,\n",
    "                                        visible_weights_change=example5_visible_weights_change,\n",
    "                                        boundary_condition_value_function=example5_boundary_value,\n",
    "                                        boundary_vanishing_function=example5_boundary_vanishing,\n",
    "                                        input_dim=2, hidden_dim=10, output_dim=1, learning_rate=0.1, momentum=0)"
   ]
  },
  {
   "cell_type": "markdown",
   "metadata": {},
   "source": [
    "### Training for 5000 epochs"
   ]
  },
  {
   "cell_type": "code",
   "execution_count": 11,
   "metadata": {},
   "outputs": [
    {
     "name": "stdout",
     "output_type": "stream",
     "text": [
      "Epoch: 1 Loss function: 0.01093153752640883\n",
      "Epoch: 2 Loss function: 0.002355925244360101\n",
      "Epoch: 3 Loss function: 0.0007149526870161725\n",
      "Epoch: 4 Loss function: 0.0004997473262840531\n",
      "Epoch: 5 Loss function: 0.000440335086726995\n",
      "Epoch: 6 Loss function: 0.0004340666191388969\n",
      "Epoch: 7 Loss function: 0.00042937343423704734\n",
      "Epoch: 8 Loss function: 0.0004273075508078971\n",
      "Epoch: 9 Loss function: 0.0003704811468185425\n",
      "Epoch: 10 Loss function: 0.000371848318733582\n",
      "Epoch: 11 Loss function: 0.0003588042239716536\n",
      "Epoch: 12 Loss function: 0.0003563030578479543\n",
      "Epoch: 13 Loss function: 0.0003591456922538984\n",
      "Epoch: 14 Loss function: 0.0003501903252272154\n",
      "Epoch: 15 Loss function: 0.0003526658697687789\n",
      "Epoch: 16 Loss function: 0.00035054462689300425\n",
      "Epoch: 17 Loss function: 0.0003649583949078527\n",
      "Epoch: 18 Loss function: 0.000335882045844819\n",
      "Epoch: 19 Loss function: 0.0003254566902388181\n",
      "Epoch: 20 Loss function: 0.00036085330848927336\n",
      "Epoch: 21 Loss function: 0.0003192950760756827\n",
      "Epoch: 22 Loss function: 0.0003222961981899046\n",
      "Epoch: 23 Loss function: 0.0003159948908562065\n",
      "Epoch: 24 Loss function: 0.0003386350149045291\n",
      "Epoch: 25 Loss function: 0.0003159205389446335\n",
      "Epoch: 26 Loss function: 0.00030774077094342236\n",
      "Epoch: 27 Loss function: 0.00030557452821793535\n",
      "Epoch: 28 Loss function: 0.0003099486042486515\n",
      "Epoch: 29 Loss function: 0.00030966876396204486\n",
      "Epoch: 30 Loss function: 0.00030298250934454796\n",
      "Epoch: 31 Loss function: 0.0003025224735778644\n",
      "Epoch: 32 Loss function: 0.00030727398501490845\n",
      "Epoch: 33 Loss function: 0.0002955195960639344\n",
      "Epoch: 34 Loss function: 0.00029504713932487184\n",
      "Epoch: 35 Loss function: 0.0003039956852109185\n",
      "Epoch: 36 Loss function: 0.0002943595352496154\n",
      "Epoch: 37 Loss function: 0.00029267381343774264\n",
      "Epoch: 38 Loss function: 0.00029396724316786037\n",
      "Epoch: 39 Loss function: 0.00029520414393309876\n",
      "Epoch: 40 Loss function: 0.0002884637205213737\n",
      "Epoch: 41 Loss function: 0.00028477559759036974\n",
      "Epoch: 42 Loss function: 0.0002836163684755534\n",
      "Epoch: 43 Loss function: 0.00028260496813553403\n",
      "Epoch: 44 Loss function: 0.00028182671122092205\n",
      "Epoch: 45 Loss function: 0.00028355459288764554\n",
      "Epoch: 46 Loss function: 0.0002826045753709385\n",
      "Epoch: 47 Loss function: 0.00027972439330347455\n",
      "Epoch: 48 Loss function: 0.00028686481936278173\n",
      "Epoch: 49 Loss function: 0.0002793617265837069\n",
      "Epoch: 50 Loss function: 0.00028100021650211983\n",
      "Epoch: 51 Loss function: 0.0002756929526260976\n",
      "Epoch: 52 Loss function: 0.00027643852388743766\n",
      "Epoch: 53 Loss function: 0.00027542990551628126\n",
      "Epoch: 54 Loss function: 0.00027339777355849703\n",
      "Epoch: 55 Loss function: 0.0002729812155397184\n",
      "Epoch: 56 Loss function: 0.00027948967932718685\n",
      "Epoch: 57 Loss function: 0.0002734191653847742\n",
      "Epoch: 58 Loss function: 0.00027076282832114184\n",
      "Epoch: 59 Loss function: 0.00027284366092648074\n",
      "Epoch: 60 Loss function: 0.0002694509300733711\n",
      "Epoch: 61 Loss function: 0.00027345454563315223\n",
      "Epoch: 62 Loss function: 0.0002686654340687039\n",
      "Epoch: 63 Loss function: 0.0002695396772929197\n",
      "Epoch: 64 Loss function: 0.00026936749311946877\n",
      "Epoch: 65 Loss function: 0.0002688022490239611\n",
      "Epoch: 66 Loss function: 0.00026784845323110597\n",
      "Epoch: 67 Loss function: 0.000265658327867162\n",
      "Epoch: 68 Loss function: 0.00026648009827291187\n",
      "Epoch: 69 Loss function: 0.00026551338438237846\n",
      "Epoch: 70 Loss function: 0.0002643151734908349\n",
      "Epoch: 71 Loss function: 0.00026345068882167047\n",
      "Epoch: 72 Loss function: 0.0002659064671919631\n",
      "Epoch: 73 Loss function: 0.00026331568315212306\n",
      "Epoch: 74 Loss function: 0.0002645493760290136\n",
      "Epoch: 75 Loss function: 0.0002615431949409294\n",
      "Epoch: 76 Loss function: 0.00026107498831549837\n",
      "Epoch: 77 Loss function: 0.0002606194794626092\n",
      "Epoch: 78 Loss function: 0.0002630004978946584\n",
      "Epoch: 79 Loss function: 0.00025975420729896847\n",
      "Epoch: 80 Loss function: 0.00026019286664183216\n",
      "Epoch: 81 Loss function: 0.00025951594412392394\n",
      "Epoch: 82 Loss function: 0.00025891213590415705\n",
      "Epoch: 83 Loss function: 0.00025828955926214856\n",
      "Epoch: 84 Loss function: 0.0002576214658762051\n",
      "Epoch: 85 Loss function: 0.00025777463885020505\n",
      "Epoch: 86 Loss function: 0.0002567629855674631\n",
      "Epoch: 87 Loss function: 0.0002597038048921055\n",
      "Epoch: 88 Loss function: 0.0002573297028686842\n",
      "Epoch: 89 Loss function: 0.00025578450667485935\n",
      "Epoch: 90 Loss function: 0.00025679801489437054\n",
      "Epoch: 91 Loss function: 0.0002566632976184978\n",
      "Epoch: 92 Loss function: 0.00025436458083993364\n",
      "Epoch: 93 Loss function: 0.00025414762313604925\n",
      "Epoch: 94 Loss function: 0.00025359890615096417\n",
      "Epoch: 95 Loss function: 0.0002533872094700169\n",
      "Epoch: 96 Loss function: 0.00025352346110761364\n",
      "Epoch: 97 Loss function: 0.0002545527303066711\n",
      "Epoch: 98 Loss function: 0.0002523071967638624\n",
      "Epoch: 99 Loss function: 0.00025177648599186594\n",
      "Epoch: 100 Loss function: 0.00025264435249381317\n"
     ]
    }
   ],
   "source": [
    "example5_trial_solution.train(samples, 100)"
   ]
  },
  {
   "cell_type": "markdown",
   "metadata": {},
   "source": [
    "### Plotting the results \n",
    "\n",
    "The numerical solution (training set - red, valdiaiton set - green) along with the analytical solution (blue)."
   ]
  },
  {
   "cell_type": "code",
   "execution_count": 12,
   "metadata": {
    "scrolled": true
   },
   "outputs": [
    {
     "data": {
      "image/png": "[encoded data removed]",
      "text/plain": [
       "<matplotlib.figure.Figure at 0x7fb224bcaef0>"
      ]
     },
     "metadata": {},
     "output_type": "display_data"
    }
   ],
   "source": [
    "fig = plt.figure()\n",
    "ax = fig.add_subplot(111, projection='3d')\n",
    "new_shape = int(np.sqrt(samples.shape[0]))\n",
    "Ze5sol = np.array([example5_trial_solution.predict(samples[i]) for i in range(samples.shape[0])]).reshape((samples.shape[0],))\n",
    "ax.plot_surface(X=samples[:,0].reshape((new_shape, new_shape)), Y=samples[:,1].reshape((new_shape, new_shape)), Z=Ze5sol.reshape((new_shape, new_shape)), label='Numerical - Training')\n",
    "# ax.scatter3D(xs=samples[:,0], ys=samples[:,1], zs=Ze5sol, label='Numerical - Training')\n",
    "# plt.legend()\n",
    "plt.show()"
   ]
  },
  {
   "cell_type": "code",
   "execution_count": 13,
   "metadata": {},
   "outputs": [
    {
     "data": {
      "image/png": "[encoded data removed]",
      "text/plain": [
       "<matplotlib.figure.Figure at 0x7fb224b29390>"
      ]
     },
     "metadata": {},
     "output_type": "display_data"
    }
   ],
   "source": [
    "fig = plt.figure()\n",
    "ax = fig.add_subplot(111, projection='3d')\n",
    "Ze5anal = (samples[:,0] + samples[:,1]**3) * np.exp(-samples[:, 0])\n",
    "Ze5diff = Ze5sol - Ze5anal\n",
    "ax.plot_surface(X=samples[:,0].reshape((new_shape, new_shape)), Y=samples[:,1].reshape((new_shape, new_shape)), Z=Ze5anal.reshape((new_shape, new_shape)), label='Analytic')\n",
    "# plt.legend()\n",
    "plt.show()"
   ]
  },
  {
   "cell_type": "code",
   "execution_count": 14,
   "metadata": {},
   "outputs": [
    {
     "data": {
      "text/plain": [
       "0.00071115091217337629515"
      ]
     },
     "execution_count": 14,
     "metadata": {},
     "output_type": "execute_result"
    }
   ],
   "source": [
    "Ze5diff.max()"
   ]
  },
  {
   "cell_type": "markdown",
   "metadata": {},
   "source": [
    "### Checking if the mixed parials work"
   ]
  },
  {
   "cell_type": "code",
   "execution_count": 15,
   "metadata": {
    "scrolled": true
   },
   "outputs": [
    {
     "data": {
      "text/plain": [
       "array([[-0.59156903]], dtype=float128)"
      ]
     },
     "execution_count": 15,
     "metadata": {},
     "output_type": "execute_result"
    }
   ],
   "source": [
    "example5_trial_solution.network.forward_pass_arbitrary_derivative(np.array([0.5, 0.5]), np.array([2, 1]))"
   ]
  },
  {
   "cell_type": "code",
   "execution_count": 16,
   "metadata": {},
   "outputs": [
    {
     "data": {
      "text/plain": [
       "array([[ 0.6317394 ,  0.5305962 ],\n",
       "       [-0.89797549, -0.51717685],\n",
       "       [ 0.27213375, -0.45112731],\n",
       "       [ 0.13941497, -0.58855877],\n",
       "       [-0.52298335,  0.04804507],\n",
       "       [ 0.72332257,  0.82498413],\n",
       "       [ 0.19938095, -1.20917665],\n",
       "       [ 0.03622569, -0.27285264],\n",
       "       [-0.89650269,  0.0015307 ],\n",
       "       [ 0.76724336, -0.68649737]])"
      ]
     },
     "execution_count": 16,
     "metadata": {},
     "output_type": "execute_result"
    }
   ],
   "source": [
    "example5_trial_solution.network.hidden_layer.weights"
   ]
  },
  {
   "cell_type": "code",
   "execution_count": 17,
   "metadata": {},
   "outputs": [
    {
     "data": {
      "text/plain": [
       "array([[  2.11758111e-01],\n",
       "       [ -4.17030712e-01],\n",
       "       [ -3.34090360e-02],\n",
       "       [ -1.14395417e-02],\n",
       "       [  1.31408832e-02],\n",
       "       [  4.31628011e-01],\n",
       "       [ -4.80681143e-02],\n",
       "       [ -3.58064602e-04],\n",
       "       [  1.23024969e-03],\n",
       "       [ -4.04115176e-01]])"
      ]
     },
     "execution_count": 17,
     "metadata": {},
     "output_type": "execute_result"
    }
   ],
   "source": [
    "p_test = example5_trial_solution.network.hidden_layer.weights[:, 0] ** 2 * example5_trial_solution.network.hidden_layer.weights[:, 1]\n",
    "p_test = p_test.reshape((p_test.shape[0],1))\n",
    "p_test"
   ]
  },
  {
   "cell_type": "code",
   "execution_count": 18,
   "metadata": {},
   "outputs": [
    {
     "data": {
      "text/plain": [
       "array([[ 0.],\n",
       "       [ 0.],\n",
       "       [ 0.],\n",
       "       [ 0.],\n",
       "       [ 0.],\n",
       "       [ 0.],\n",
       "       [ 0.],\n",
       "       [ 0.],\n",
       "       [ 0.],\n",
       "       [ 0.]])"
      ]
     },
     "execution_count": 18,
     "metadata": {},
     "output_type": "execute_result"
    }
   ],
   "source": [
    "p_test - example5_trial_solution.network.derivative_P_vector(degrees=np.array([2, 1]))"
   ]
  },
  {
   "cell_type": "code",
   "execution_count": 19,
   "metadata": {},
   "outputs": [
    {
     "data": {
      "text/plain": [
       "array([[-0.59156903]], dtype=float128)"
      ]
     },
     "execution_count": 19,
     "metadata": {},
     "output_type": "execute_result"
    }
   ],
   "source": [
    "dx2dyN = example5_trial_solution.network.visible_layer.weights @ (\n",
    "  p_test * example5_trial_solution.network.hidden_layer.activation_function(\n",
    "    example5_trial_solution.network.hidden_layer.linear_response(np.array([0.5, 0.5])), 3 ))\n",
    "dx2dyN"
   ]
  },
  {
   "cell_type": "code",
   "execution_count": 20,
   "metadata": {},
   "outputs": [
    {
     "data": {
      "text/plain": [
       "array([[ 0.0]], dtype=float128)"
      ]
     },
     "execution_count": 20,
     "metadata": {},
     "output_type": "execute_result"
    }
   ],
   "source": [
    "dx2dyN - example5_trial_solution.network.forward_pass_arbitrary_derivative(np.array([0.5, 0.5]), degrees=np.array([2, 1]))"
   ]
  },
  {
   "cell_type": "code",
   "execution_count": 21,
   "metadata": {},
   "outputs": [
    {
     "data": {
      "text/plain": [
       "array([[ 1.7821989, -0.19549486,  0.012371028, -0.029999473,  0.048050138,\n",
       "         2.0171501,  0.19606545,  0.0001091935,  0.0010065822,  0.36007147]], dtype=float128)"
      ]
     },
     "execution_count": 21,
     "metadata": {},
     "output_type": "execute_result"
    }
   ],
   "source": [
    "db_dx2dyN = example5_trial_solution.network.visible_layer.weights * (p_test * example5_trial_solution.network.hidden_layer.activation_function(\n",
    "    example5_trial_solution.network.hidden_layer.linear_response(np.array([0.5, 0.5])), 4 )).T\n",
    "db_dx2dyN"
   ]
  },
  {
   "cell_type": "code",
   "execution_count": 22,
   "metadata": {},
   "outputs": [
    {
     "data": {
      "text/plain": [
       "array([[ 1.5373987e-16, -6.6271858e-18,  1.6517142e-19, -4.1335208e-19,\n",
       "         1.0774259e-18, -1.5027042e-16, -6.3561352e-18,  2.3491929e-21,\n",
       "        -2.1387582e-20,  2.4259024e-17]], dtype=float128)"
      ]
     },
     "execution_count": 22,
     "metadata": {},
     "output_type": "execute_result"
    }
   ],
   "source": [
    "db_dx2dyN - example5_trial_solution.network.arbitrary_network_derivative_bias(np.array([0.5, 0.5]), degrees=np.array([2, 1]) )"
   ]
  },
  {
   "cell_type": "code",
   "execution_count": 23,
   "metadata": {},
   "outputs": [
    {
     "data": {
      "text/plain": [
       "array([[[  1.36161395e-01,   4.41676605e-01],\n",
       "        [ -2.19404487e-01,  -2.03364159e-01],\n",
       "        [ -1.42650976e-02,   1.23537303e-02],\n",
       "        [  9.01055292e-02,  -2.74481509e-02],\n",
       "        [  6.37314910e-02,  -1.92082401e-01],\n",
       "        [  2.25699437e-01,   6.65373532e-01],\n",
       "        [ -3.81679680e-01,   1.37582580e-01],\n",
       "        [ -1.33118890e-03,   1.46589694e-04],\n",
       "        [  9.98458275e-04,  -1.44501843e-01],\n",
       "        [ -4.22121496e-03,   2.83000381e-01]]])"
      ]
     },
     "execution_count": 23,
     "metadata": {},
     "output_type": "execute_result"
    }
   ],
   "source": [
    "dH_dx2dyN = np.zeros((1, 10, 2))\n",
    "V = example5_trial_solution.network.visible_layer.weights\n",
    "hanp1 = example5_trial_solution.network.hidden_layer.activation_function(\n",
    "    example5_trial_solution.network.hidden_layer.linear_response(np.array([0.5, 0.5])), 4 )\n",
    "han = example5_trial_solution.network.hidden_layer.activation_function(\n",
    "    example5_trial_solution.network.hidden_layer.linear_response(np.array([0.5, 0.5])), 3 )\n",
    "point_test = np.array([0.5, 0.5])\n",
    "degrees = np.array([2, 1])\n",
    "H = example5_trial_solution.network.hidden_layer.weights\n",
    "for j in range(1):\n",
    "  for m in range(10):\n",
    "    for p in range(2):\n",
    "      dH_dx2dyN[j, m, p] = V[j, m] * p_test[m] * han[m] * degrees[p] / H[m, p]+V[j, m] * p_test[m] * hanp1[m] * point_test[p] \n",
    "dH_dx2dyN"
   ]
  },
  {
   "cell_type": "code",
   "execution_count": 24,
   "metadata": {},
   "outputs": [
    {
     "data": {
      "text/plain": [
       "array([[[ -2.78013949e-01,   0.00000000e+00],\n",
       "        [ -2.30902114e-01,   0.00000000e+00],\n",
       "        [ -1.48853099e-02,   0.00000000e+00],\n",
       "        [  9.04520189e-02,   3.46944695e-18],\n",
       "        [  6.04722192e-02,   0.00000000e+00],\n",
       "        [ -2.16604012e-01,  -1.11022302e-16],\n",
       "        [ -3.84066891e-01,   0.00000000e+00],\n",
       "        [ -1.33558461e-03,   0.00000000e+00],\n",
       "        [  9.39085889e-04,   0.00000000e+00],\n",
       "        [ -4.28870274e-02,   0.00000000e+00]]])"
      ]
     },
     "execution_count": 24,
     "metadata": {},
     "output_type": "execute_result"
    }
   ],
   "source": [
    "dH_dx2dyN - example5_trial_solution.network.arbitrary_network_derivative_hidden_weights(np.array([0.5, 0.5]), degrees=np.array([2, 1]) )"
   ]
  },
  {
   "cell_type": "code",
   "execution_count": 25,
   "metadata": {},
   "outputs": [
    {
     "data": {
      "text/plain": [
       "array([[[-0.84098143,  0.25684803,  0.03478703,  0.009733274, -0.015116111,\n",
       "         -1.5091372,  0.041026358,  0.00035337213, -0.0013456301,\n",
       "          0.59159956]]], dtype=float128)"
      ]
     },
     "execution_count": 25,
     "metadata": {},
     "output_type": "execute_result"
    }
   ],
   "source": [
    "dV_dx2dyN = (p_test * example5_trial_solution.network.hidden_layer.activation_function(\n",
    "    example5_trial_solution.network.hidden_layer.linear_response(np.array([0.5, 0.5])), 3 )).reshape((1,1,p_test.shape[0]))\n",
    "dV_dx2dyN"
   ]
  },
  {
   "cell_type": "code",
   "execution_count": 26,
   "metadata": {},
   "outputs": [
    {
     "data": {
      "text/plain": [
       "array([[[ 2.6779794e-17,  2.7430315e-17,  1.5788694e-18, -8.5126811e-19,\n",
       "          1.2874901e-19, -9.3458227e-17, -1.9346233e-18,  2.52257e-20,\n",
       "          6.7974394e-20,  4.5970172e-17]]], dtype=float128)"
      ]
     },
     "execution_count": 26,
     "metadata": {},
     "output_type": "execute_result"
    }
   ],
   "source": [
    "dV_dx2dyN - example5_trial_solution.network.arbitrary_network_derivative_visible_weights(np.array([0.5, 0.5]), degrees=np.array([2, 1]) )"
   ]
  }
 ],
 "metadata": {
  "kernelspec": {
   "display_name": "Python 3",
   "language": "python",
   "name": "python3"
  },
  "language_info": {
   "codemirror_mode": {
    "name": "ipython",
    "version": 3
   },
   "file_extension": ".py",
   "mimetype": "text/x-python",
   "name": "python",
   "nbconvert_exporter": "python",
   "pygments_lexer": "ipython3",
   "version": "3.6.2"
  }
 },
 "nbformat": 4,
 "nbformat_minor": 2
}
